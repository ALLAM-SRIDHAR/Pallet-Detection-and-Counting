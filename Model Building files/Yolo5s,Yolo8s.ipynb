{
  "nbformat": 4,
  "nbformat_minor": 0,
  "metadata": {
    "colab": {
      "provenance": [],
      "gpuType": "T4"
    },
    "kernelspec": {
      "name": "python3",
      "display_name": "Python 3"
    },
    "language_info": {
      "name": "python"
    },
    "accelerator": "GPU"
  },
  "cells": [
    {
      "cell_type": "code",
      "execution_count": null,
      "metadata": {
        "colab": {
          "base_uri": "https://localhost:8080/"
        },
        "id": "j0E_sAlAqG-i",
        "outputId": "0562f05a-fb6b-4ae0-bb15-d8a6f0005527"
      },
      "outputs": [
        {
          "output_type": "stream",
          "name": "stdout",
          "text": [
            "Collecting Roboflow\n",
            "  Downloading roboflow-1.1.63-py3-none-any.whl.metadata (9.7 kB)\n",
            "Requirement already satisfied: certifi in /usr/local/lib/python3.11/dist-packages (from Roboflow) (2025.4.26)\n",
            "Collecting idna==3.7 (from Roboflow)\n",
            "  Downloading idna-3.7-py3-none-any.whl.metadata (9.9 kB)\n",
            "Requirement already satisfied: cycler in /usr/local/lib/python3.11/dist-packages (from Roboflow) (0.12.1)\n",
            "Requirement already satisfied: kiwisolver>=1.3.1 in /usr/local/lib/python3.11/dist-packages (from Roboflow) (1.4.8)\n",
            "Requirement already satisfied: matplotlib in /usr/local/lib/python3.11/dist-packages (from Roboflow) (3.10.0)\n",
            "Requirement already satisfied: numpy>=1.18.5 in /usr/local/lib/python3.11/dist-packages (from Roboflow) (2.0.2)\n",
            "Collecting opencv-python-headless==4.10.0.84 (from Roboflow)\n",
            "  Downloading opencv_python_headless-4.10.0.84-cp37-abi3-manylinux_2_17_x86_64.manylinux2014_x86_64.whl.metadata (20 kB)\n",
            "Requirement already satisfied: Pillow>=7.1.2 in /usr/local/lib/python3.11/dist-packages (from Roboflow) (11.2.1)\n",
            "Collecting pillow-heif>=0.18.0 (from Roboflow)\n",
            "  Downloading pillow_heif-0.22.0-cp311-cp311-manylinux_2_17_x86_64.manylinux2014_x86_64.whl.metadata (9.6 kB)\n",
            "Requirement already satisfied: python-dateutil in /usr/local/lib/python3.11/dist-packages (from Roboflow) (2.9.0.post0)\n",
            "Collecting python-dotenv (from Roboflow)\n",
            "  Downloading python_dotenv-1.1.0-py3-none-any.whl.metadata (24 kB)\n",
            "Requirement already satisfied: requests in /usr/local/lib/python3.11/dist-packages (from Roboflow) (2.32.3)\n",
            "Requirement already satisfied: six in /usr/local/lib/python3.11/dist-packages (from Roboflow) (1.17.0)\n",
            "Requirement already satisfied: urllib3>=1.26.6 in /usr/local/lib/python3.11/dist-packages (from Roboflow) (2.4.0)\n",
            "Requirement already satisfied: tqdm>=4.41.0 in /usr/local/lib/python3.11/dist-packages (from Roboflow) (4.67.1)\n",
            "Requirement already satisfied: PyYAML>=5.3.1 in /usr/local/lib/python3.11/dist-packages (from Roboflow) (6.0.2)\n",
            "Requirement already satisfied: requests-toolbelt in /usr/local/lib/python3.11/dist-packages (from Roboflow) (1.0.0)\n",
            "Collecting filetype (from Roboflow)\n",
            "  Downloading filetype-1.2.0-py2.py3-none-any.whl.metadata (6.5 kB)\n",
            "Requirement already satisfied: contourpy>=1.0.1 in /usr/local/lib/python3.11/dist-packages (from matplotlib->Roboflow) (1.3.2)\n",
            "Requirement already satisfied: fonttools>=4.22.0 in /usr/local/lib/python3.11/dist-packages (from matplotlib->Roboflow) (4.57.0)\n",
            "Requirement already satisfied: packaging>=20.0 in /usr/local/lib/python3.11/dist-packages (from matplotlib->Roboflow) (24.2)\n",
            "Requirement already satisfied: pyparsing>=2.3.1 in /usr/local/lib/python3.11/dist-packages (from matplotlib->Roboflow) (3.2.3)\n",
            "Requirement already satisfied: charset-normalizer<4,>=2 in /usr/local/lib/python3.11/dist-packages (from requests->Roboflow) (3.4.1)\n",
            "Downloading roboflow-1.1.63-py3-none-any.whl (85 kB)\n",
            "\u001b[2K   \u001b[90m━━━━━━━━━━━━━━━━━━━━━━━━━━━━━━━━━━━━━━━━\u001b[0m \u001b[32m85.3/85.3 kB\u001b[0m \u001b[31m5.3 MB/s\u001b[0m eta \u001b[36m0:00:00\u001b[0m\n",
            "\u001b[?25hDownloading idna-3.7-py3-none-any.whl (66 kB)\n",
            "\u001b[2K   \u001b[90m━━━━━━━━━━━━━━━━━━━━━━━━━━━━━━━━━━━━━━━━\u001b[0m \u001b[32m66.8/66.8 kB\u001b[0m \u001b[31m6.5 MB/s\u001b[0m eta \u001b[36m0:00:00\u001b[0m\n",
            "\u001b[?25hDownloading opencv_python_headless-4.10.0.84-cp37-abi3-manylinux_2_17_x86_64.manylinux2014_x86_64.whl (49.9 MB)\n",
            "\u001b[2K   \u001b[90m━━━━━━━━━━━━━━━━━━━━━━━━━━━━━━━━━━━━━━━━\u001b[0m \u001b[32m49.9/49.9 MB\u001b[0m \u001b[31m20.1 MB/s\u001b[0m eta \u001b[36m0:00:00\u001b[0m\n",
            "\u001b[?25hDownloading pillow_heif-0.22.0-cp311-cp311-manylinux_2_17_x86_64.manylinux2014_x86_64.whl (7.8 MB)\n",
            "\u001b[2K   \u001b[90m━━━━━━━━━━━━━━━━━━━━━━━━━━━━━━━━━━━━━━━━\u001b[0m \u001b[32m7.8/7.8 MB\u001b[0m \u001b[31m85.6 MB/s\u001b[0m eta \u001b[36m0:00:00\u001b[0m\n",
            "\u001b[?25hDownloading filetype-1.2.0-py2.py3-none-any.whl (19 kB)\n",
            "Downloading python_dotenv-1.1.0-py3-none-any.whl (20 kB)\n",
            "Installing collected packages: filetype, python-dotenv, pillow-heif, opencv-python-headless, idna, Roboflow\n",
            "  Attempting uninstall: opencv-python-headless\n",
            "    Found existing installation: opencv-python-headless 4.11.0.86\n",
            "    Uninstalling opencv-python-headless-4.11.0.86:\n",
            "      Successfully uninstalled opencv-python-headless-4.11.0.86\n",
            "  Attempting uninstall: idna\n",
            "    Found existing installation: idna 3.10\n",
            "    Uninstalling idna-3.10:\n",
            "      Successfully uninstalled idna-3.10\n",
            "Successfully installed Roboflow-1.1.63 filetype-1.2.0 idna-3.7 opencv-python-headless-4.10.0.84 pillow-heif-0.22.0 python-dotenv-1.1.0\n"
          ]
        }
      ],
      "source": [
        "pip install Roboflow"
      ]
    },
    {
      "cell_type": "code",
      "source": [
        "pip install ultralytics"
      ],
      "metadata": {
        "colab": {
          "base_uri": "https://localhost:8080/"
        },
        "id": "wvhpWLaLqi7a",
        "outputId": "127af3e9-9cce-415e-ea28-e82e57e90bf3"
      },
      "execution_count": null,
      "outputs": [
        {
          "output_type": "stream",
          "name": "stdout",
          "text": [
            "Collecting ultralytics\n",
            "  Downloading ultralytics-8.3.127-py3-none-any.whl.metadata (37 kB)\n",
            "Requirement already satisfied: numpy>=1.23.0 in /usr/local/lib/python3.11/dist-packages (from ultralytics) (2.0.2)\n",
            "Requirement already satisfied: matplotlib>=3.3.0 in /usr/local/lib/python3.11/dist-packages (from ultralytics) (3.10.0)\n",
            "Requirement already satisfied: opencv-python>=4.6.0 in /usr/local/lib/python3.11/dist-packages (from ultralytics) (4.11.0.86)\n",
            "Requirement already satisfied: pillow>=7.1.2 in /usr/local/lib/python3.11/dist-packages (from ultralytics) (11.2.1)\n",
            "Requirement already satisfied: pyyaml>=5.3.1 in /usr/local/lib/python3.11/dist-packages (from ultralytics) (6.0.2)\n",
            "Requirement already satisfied: requests>=2.23.0 in /usr/local/lib/python3.11/dist-packages (from ultralytics) (2.32.3)\n",
            "Requirement already satisfied: scipy>=1.4.1 in /usr/local/lib/python3.11/dist-packages (from ultralytics) (1.15.2)\n",
            "Requirement already satisfied: torch>=1.8.0 in /usr/local/lib/python3.11/dist-packages (from ultralytics) (2.6.0+cu124)\n",
            "Requirement already satisfied: torchvision>=0.9.0 in /usr/local/lib/python3.11/dist-packages (from ultralytics) (0.21.0+cu124)\n",
            "Requirement already satisfied: tqdm>=4.64.0 in /usr/local/lib/python3.11/dist-packages (from ultralytics) (4.67.1)\n",
            "Requirement already satisfied: psutil in /usr/local/lib/python3.11/dist-packages (from ultralytics) (5.9.5)\n",
            "Requirement already satisfied: py-cpuinfo in /usr/local/lib/python3.11/dist-packages (from ultralytics) (9.0.0)\n",
            "Requirement already satisfied: pandas>=1.1.4 in /usr/local/lib/python3.11/dist-packages (from ultralytics) (2.2.2)\n",
            "Requirement already satisfied: seaborn>=0.11.0 in /usr/local/lib/python3.11/dist-packages (from ultralytics) (0.13.2)\n",
            "Collecting ultralytics-thop>=2.0.0 (from ultralytics)\n",
            "  Downloading ultralytics_thop-2.0.14-py3-none-any.whl.metadata (9.4 kB)\n",
            "Requirement already satisfied: contourpy>=1.0.1 in /usr/local/lib/python3.11/dist-packages (from matplotlib>=3.3.0->ultralytics) (1.3.2)\n",
            "Requirement already satisfied: cycler>=0.10 in /usr/local/lib/python3.11/dist-packages (from matplotlib>=3.3.0->ultralytics) (0.12.1)\n",
            "Requirement already satisfied: fonttools>=4.22.0 in /usr/local/lib/python3.11/dist-packages (from matplotlib>=3.3.0->ultralytics) (4.57.0)\n",
            "Requirement already satisfied: kiwisolver>=1.3.1 in /usr/local/lib/python3.11/dist-packages (from matplotlib>=3.3.0->ultralytics) (1.4.8)\n",
            "Requirement already satisfied: packaging>=20.0 in /usr/local/lib/python3.11/dist-packages (from matplotlib>=3.3.0->ultralytics) (24.2)\n",
            "Requirement already satisfied: pyparsing>=2.3.1 in /usr/local/lib/python3.11/dist-packages (from matplotlib>=3.3.0->ultralytics) (3.2.3)\n",
            "Requirement already satisfied: python-dateutil>=2.7 in /usr/local/lib/python3.11/dist-packages (from matplotlib>=3.3.0->ultralytics) (2.9.0.post0)\n",
            "Requirement already satisfied: pytz>=2020.1 in /usr/local/lib/python3.11/dist-packages (from pandas>=1.1.4->ultralytics) (2025.2)\n",
            "Requirement already satisfied: tzdata>=2022.7 in /usr/local/lib/python3.11/dist-packages (from pandas>=1.1.4->ultralytics) (2025.2)\n",
            "Requirement already satisfied: charset-normalizer<4,>=2 in /usr/local/lib/python3.11/dist-packages (from requests>=2.23.0->ultralytics) (3.4.1)\n",
            "Requirement already satisfied: idna<4,>=2.5 in /usr/local/lib/python3.11/dist-packages (from requests>=2.23.0->ultralytics) (3.7)\n",
            "Requirement already satisfied: urllib3<3,>=1.21.1 in /usr/local/lib/python3.11/dist-packages (from requests>=2.23.0->ultralytics) (2.4.0)\n",
            "Requirement already satisfied: certifi>=2017.4.17 in /usr/local/lib/python3.11/dist-packages (from requests>=2.23.0->ultralytics) (2025.4.26)\n",
            "Requirement already satisfied: filelock in /usr/local/lib/python3.11/dist-packages (from torch>=1.8.0->ultralytics) (3.18.0)\n",
            "Requirement already satisfied: typing-extensions>=4.10.0 in /usr/local/lib/python3.11/dist-packages (from torch>=1.8.0->ultralytics) (4.13.2)\n",
            "Requirement already satisfied: networkx in /usr/local/lib/python3.11/dist-packages (from torch>=1.8.0->ultralytics) (3.4.2)\n",
            "Requirement already satisfied: jinja2 in /usr/local/lib/python3.11/dist-packages (from torch>=1.8.0->ultralytics) (3.1.6)\n",
            "Requirement already satisfied: fsspec in /usr/local/lib/python3.11/dist-packages (from torch>=1.8.0->ultralytics) (2025.3.2)\n",
            "Collecting nvidia-cuda-nvrtc-cu12==12.4.127 (from torch>=1.8.0->ultralytics)\n",
            "  Downloading nvidia_cuda_nvrtc_cu12-12.4.127-py3-none-manylinux2014_x86_64.whl.metadata (1.5 kB)\n",
            "Collecting nvidia-cuda-runtime-cu12==12.4.127 (from torch>=1.8.0->ultralytics)\n",
            "  Downloading nvidia_cuda_runtime_cu12-12.4.127-py3-none-manylinux2014_x86_64.whl.metadata (1.5 kB)\n",
            "Collecting nvidia-cuda-cupti-cu12==12.4.127 (from torch>=1.8.0->ultralytics)\n",
            "  Downloading nvidia_cuda_cupti_cu12-12.4.127-py3-none-manylinux2014_x86_64.whl.metadata (1.6 kB)\n",
            "Collecting nvidia-cudnn-cu12==9.1.0.70 (from torch>=1.8.0->ultralytics)\n",
            "  Downloading nvidia_cudnn_cu12-9.1.0.70-py3-none-manylinux2014_x86_64.whl.metadata (1.6 kB)\n",
            "Collecting nvidia-cublas-cu12==12.4.5.8 (from torch>=1.8.0->ultralytics)\n",
            "  Downloading nvidia_cublas_cu12-12.4.5.8-py3-none-manylinux2014_x86_64.whl.metadata (1.5 kB)\n",
            "Collecting nvidia-cufft-cu12==11.2.1.3 (from torch>=1.8.0->ultralytics)\n",
            "  Downloading nvidia_cufft_cu12-11.2.1.3-py3-none-manylinux2014_x86_64.whl.metadata (1.5 kB)\n",
            "Collecting nvidia-curand-cu12==10.3.5.147 (from torch>=1.8.0->ultralytics)\n",
            "  Downloading nvidia_curand_cu12-10.3.5.147-py3-none-manylinux2014_x86_64.whl.metadata (1.5 kB)\n",
            "Collecting nvidia-cusolver-cu12==11.6.1.9 (from torch>=1.8.0->ultralytics)\n",
            "  Downloading nvidia_cusolver_cu12-11.6.1.9-py3-none-manylinux2014_x86_64.whl.metadata (1.6 kB)\n",
            "Collecting nvidia-cusparse-cu12==12.3.1.170 (from torch>=1.8.0->ultralytics)\n",
            "  Downloading nvidia_cusparse_cu12-12.3.1.170-py3-none-manylinux2014_x86_64.whl.metadata (1.6 kB)\n",
            "Requirement already satisfied: nvidia-cusparselt-cu12==0.6.2 in /usr/local/lib/python3.11/dist-packages (from torch>=1.8.0->ultralytics) (0.6.2)\n",
            "Requirement already satisfied: nvidia-nccl-cu12==2.21.5 in /usr/local/lib/python3.11/dist-packages (from torch>=1.8.0->ultralytics) (2.21.5)\n",
            "Requirement already satisfied: nvidia-nvtx-cu12==12.4.127 in /usr/local/lib/python3.11/dist-packages (from torch>=1.8.0->ultralytics) (12.4.127)\n",
            "Collecting nvidia-nvjitlink-cu12==12.4.127 (from torch>=1.8.0->ultralytics)\n",
            "  Downloading nvidia_nvjitlink_cu12-12.4.127-py3-none-manylinux2014_x86_64.whl.metadata (1.5 kB)\n",
            "Requirement already satisfied: triton==3.2.0 in /usr/local/lib/python3.11/dist-packages (from torch>=1.8.0->ultralytics) (3.2.0)\n",
            "Requirement already satisfied: sympy==1.13.1 in /usr/local/lib/python3.11/dist-packages (from torch>=1.8.0->ultralytics) (1.13.1)\n",
            "Requirement already satisfied: mpmath<1.4,>=1.1.0 in /usr/local/lib/python3.11/dist-packages (from sympy==1.13.1->torch>=1.8.0->ultralytics) (1.3.0)\n",
            "Requirement already satisfied: six>=1.5 in /usr/local/lib/python3.11/dist-packages (from python-dateutil>=2.7->matplotlib>=3.3.0->ultralytics) (1.17.0)\n",
            "Requirement already satisfied: MarkupSafe>=2.0 in /usr/local/lib/python3.11/dist-packages (from jinja2->torch>=1.8.0->ultralytics) (3.0.2)\n",
            "Downloading ultralytics-8.3.127-py3-none-any.whl (1.0 MB)\n",
            "\u001b[2K   \u001b[90m━━━━━━━━━━━━━━━━━━━━━━━━━━━━━━━━━━━━━━━━\u001b[0m \u001b[32m1.0/1.0 MB\u001b[0m \u001b[31m30.6 MB/s\u001b[0m eta \u001b[36m0:00:00\u001b[0m\n",
            "\u001b[?25hDownloading nvidia_cublas_cu12-12.4.5.8-py3-none-manylinux2014_x86_64.whl (363.4 MB)\n",
            "\u001b[2K   \u001b[90m━━━━━━━━━━━━━━━━━━━━━━━━━━━━━━━━━━━━━━━━\u001b[0m \u001b[32m363.4/363.4 MB\u001b[0m \u001b[31m2.7 MB/s\u001b[0m eta \u001b[36m0:00:00\u001b[0m\n",
            "\u001b[?25hDownloading nvidia_cuda_cupti_cu12-12.4.127-py3-none-manylinux2014_x86_64.whl (13.8 MB)\n",
            "\u001b[2K   \u001b[90m━━━━━━━━━━━━━━━━━━━━━━━━━━━━━━━━━━━━━━━━\u001b[0m \u001b[32m13.8/13.8 MB\u001b[0m \u001b[31m80.9 MB/s\u001b[0m eta \u001b[36m0:00:00\u001b[0m\n",
            "\u001b[?25hDownloading nvidia_cuda_nvrtc_cu12-12.4.127-py3-none-manylinux2014_x86_64.whl (24.6 MB)\n",
            "\u001b[2K   \u001b[90m━━━━━━━━━━━━━━━━━━━━━━━━━━━━━━━━━━━━━━━━\u001b[0m \u001b[32m24.6/24.6 MB\u001b[0m \u001b[31m72.0 MB/s\u001b[0m eta \u001b[36m0:00:00\u001b[0m\n",
            "\u001b[?25hDownloading nvidia_cuda_runtime_cu12-12.4.127-py3-none-manylinux2014_x86_64.whl (883 kB)\n",
            "\u001b[2K   \u001b[90m━━━━━━━━━━━━━━━━━━━━━━━━━━━━━━━━━━━━━━━━\u001b[0m \u001b[32m883.7/883.7 kB\u001b[0m \u001b[31m52.9 MB/s\u001b[0m eta \u001b[36m0:00:00\u001b[0m\n",
            "\u001b[?25hDownloading nvidia_cudnn_cu12-9.1.0.70-py3-none-manylinux2014_x86_64.whl (664.8 MB)\n",
            "\u001b[2K   \u001b[90m━━━━━━━━━━━━━━━━━━━━━━━━━━━━━━━━━━━━━━━━\u001b[0m \u001b[32m664.8/664.8 MB\u001b[0m \u001b[31m2.7 MB/s\u001b[0m eta \u001b[36m0:00:00\u001b[0m\n",
            "\u001b[?25hDownloading nvidia_cufft_cu12-11.2.1.3-py3-none-manylinux2014_x86_64.whl (211.5 MB)\n",
            "\u001b[2K   \u001b[90m━━━━━━━━━━━━━━━━━━━━━━━━━━━━━━━━━━━━━━━━\u001b[0m \u001b[32m211.5/211.5 MB\u001b[0m \u001b[31m5.5 MB/s\u001b[0m eta \u001b[36m0:00:00\u001b[0m\n",
            "\u001b[?25hDownloading nvidia_curand_cu12-10.3.5.147-py3-none-manylinux2014_x86_64.whl (56.3 MB)\n",
            "\u001b[2K   \u001b[90m━━━━━━━━━━━━━━━━━━━━━━━━━━━━━━━━━━━━━━━━\u001b[0m \u001b[32m56.3/56.3 MB\u001b[0m \u001b[31m12.0 MB/s\u001b[0m eta \u001b[36m0:00:00\u001b[0m\n",
            "\u001b[?25hDownloading nvidia_cusolver_cu12-11.6.1.9-py3-none-manylinux2014_x86_64.whl (127.9 MB)\n",
            "\u001b[2K   \u001b[90m━━━━━━━━━━━━━━━━━━━━━━━━━━━━━━━━━━━━━━━━\u001b[0m \u001b[32m127.9/127.9 MB\u001b[0m \u001b[31m7.5 MB/s\u001b[0m eta \u001b[36m0:00:00\u001b[0m\n",
            "\u001b[?25hDownloading nvidia_cusparse_cu12-12.3.1.170-py3-none-manylinux2014_x86_64.whl (207.5 MB)\n",
            "\u001b[2K   \u001b[90m━━━━━━━━━━━━━━━━━━━━━━━━━━━━━━━━━━━━━━━━\u001b[0m \u001b[32m207.5/207.5 MB\u001b[0m \u001b[31m5.7 MB/s\u001b[0m eta \u001b[36m0:00:00\u001b[0m\n",
            "\u001b[?25hDownloading nvidia_nvjitlink_cu12-12.4.127-py3-none-manylinux2014_x86_64.whl (21.1 MB)\n",
            "\u001b[2K   \u001b[90m━━━━━━━━━━━━━━━━━━━━━━━━━━━━━━━━━━━━━━━━\u001b[0m \u001b[32m21.1/21.1 MB\u001b[0m \u001b[31m107.6 MB/s\u001b[0m eta \u001b[36m0:00:00\u001b[0m\n",
            "\u001b[?25hDownloading ultralytics_thop-2.0.14-py3-none-any.whl (26 kB)\n",
            "Installing collected packages: nvidia-nvjitlink-cu12, nvidia-curand-cu12, nvidia-cufft-cu12, nvidia-cuda-runtime-cu12, nvidia-cuda-nvrtc-cu12, nvidia-cuda-cupti-cu12, nvidia-cublas-cu12, nvidia-cusparse-cu12, nvidia-cudnn-cu12, nvidia-cusolver-cu12, ultralytics-thop, ultralytics\n",
            "  Attempting uninstall: nvidia-nvjitlink-cu12\n",
            "    Found existing installation: nvidia-nvjitlink-cu12 12.5.82\n",
            "    Uninstalling nvidia-nvjitlink-cu12-12.5.82:\n",
            "      Successfully uninstalled nvidia-nvjitlink-cu12-12.5.82\n",
            "  Attempting uninstall: nvidia-curand-cu12\n",
            "    Found existing installation: nvidia-curand-cu12 10.3.6.82\n",
            "    Uninstalling nvidia-curand-cu12-10.3.6.82:\n",
            "      Successfully uninstalled nvidia-curand-cu12-10.3.6.82\n",
            "  Attempting uninstall: nvidia-cufft-cu12\n",
            "    Found existing installation: nvidia-cufft-cu12 11.2.3.61\n",
            "    Uninstalling nvidia-cufft-cu12-11.2.3.61:\n",
            "      Successfully uninstalled nvidia-cufft-cu12-11.2.3.61\n",
            "  Attempting uninstall: nvidia-cuda-runtime-cu12\n",
            "    Found existing installation: nvidia-cuda-runtime-cu12 12.5.82\n",
            "    Uninstalling nvidia-cuda-runtime-cu12-12.5.82:\n",
            "      Successfully uninstalled nvidia-cuda-runtime-cu12-12.5.82\n",
            "  Attempting uninstall: nvidia-cuda-nvrtc-cu12\n",
            "    Found existing installation: nvidia-cuda-nvrtc-cu12 12.5.82\n",
            "    Uninstalling nvidia-cuda-nvrtc-cu12-12.5.82:\n",
            "      Successfully uninstalled nvidia-cuda-nvrtc-cu12-12.5.82\n",
            "  Attempting uninstall: nvidia-cuda-cupti-cu12\n",
            "    Found existing installation: nvidia-cuda-cupti-cu12 12.5.82\n",
            "    Uninstalling nvidia-cuda-cupti-cu12-12.5.82:\n",
            "      Successfully uninstalled nvidia-cuda-cupti-cu12-12.5.82\n",
            "  Attempting uninstall: nvidia-cublas-cu12\n",
            "    Found existing installation: nvidia-cublas-cu12 12.5.3.2\n",
            "    Uninstalling nvidia-cublas-cu12-12.5.3.2:\n",
            "      Successfully uninstalled nvidia-cublas-cu12-12.5.3.2\n",
            "  Attempting uninstall: nvidia-cusparse-cu12\n",
            "    Found existing installation: nvidia-cusparse-cu12 12.5.1.3\n",
            "    Uninstalling nvidia-cusparse-cu12-12.5.1.3:\n",
            "      Successfully uninstalled nvidia-cusparse-cu12-12.5.1.3\n",
            "  Attempting uninstall: nvidia-cudnn-cu12\n",
            "    Found existing installation: nvidia-cudnn-cu12 9.3.0.75\n",
            "    Uninstalling nvidia-cudnn-cu12-9.3.0.75:\n",
            "      Successfully uninstalled nvidia-cudnn-cu12-9.3.0.75\n",
            "  Attempting uninstall: nvidia-cusolver-cu12\n",
            "    Found existing installation: nvidia-cusolver-cu12 11.6.3.83\n",
            "    Uninstalling nvidia-cusolver-cu12-11.6.3.83:\n",
            "      Successfully uninstalled nvidia-cusolver-cu12-11.6.3.83\n",
            "Successfully installed nvidia-cublas-cu12-12.4.5.8 nvidia-cuda-cupti-cu12-12.4.127 nvidia-cuda-nvrtc-cu12-12.4.127 nvidia-cuda-runtime-cu12-12.4.127 nvidia-cudnn-cu12-9.1.0.70 nvidia-cufft-cu12-11.2.1.3 nvidia-curand-cu12-10.3.5.147 nvidia-cusolver-cu12-11.6.1.9 nvidia-cusparse-cu12-12.3.1.170 nvidia-nvjitlink-cu12-12.4.127 ultralytics-8.3.127 ultralytics-thop-2.0.14\n"
          ]
        }
      ]
    },
    {
      "cell_type": "code",
      "source": [
        "from roboflow import Roboflow\n",
        "rf = Roboflow(api_key=\"xwNMMitGeumaxudSdwWk\")\n",
        "project = rf.workspace(\"palette-detection\").project(\"pallet-detection-and-counting-vpyyj\")\n",
        "for i in range(3,5):\n",
        "  version = project.version(i)\n",
        "  dataset = version.download(\"yolov8\")\n"
      ],
      "metadata": {
        "colab": {
          "base_uri": "https://localhost:8080/"
        },
        "id": "eo8Xm6Bvqi9y",
        "outputId": "039c22b6-4001-472f-a170-f0393723a336"
      },
      "execution_count": null,
      "outputs": [
        {
          "output_type": "stream",
          "name": "stdout",
          "text": [
            "loading Roboflow workspace...\n",
            "loading Roboflow project...\n"
          ]
        },
        {
          "output_type": "stream",
          "name": "stderr",
          "text": [
            "Downloading Dataset Version Zip in Pallet-Detection-and-Counting-3 to yolov8:: 100%|██████████| 48057/48057 [00:01<00:00, 37637.83it/s]"
          ]
        },
        {
          "output_type": "stream",
          "name": "stdout",
          "text": [
            "\n"
          ]
        },
        {
          "output_type": "stream",
          "name": "stderr",
          "text": [
            "\n",
            "Extracting Dataset Version Zip to Pallet-Detection-and-Counting-3 in yolov8:: 100%|██████████| 1008/1008 [00:00<00:00, 2990.53it/s]\n"
          ]
        },
        {
          "output_type": "stream",
          "name": "stdout",
          "text": [
            "Creating new Ultralytics Settings v0.0.6 file ✅ \n",
            "View Ultralytics Settings with 'yolo settings' or at '/root/.config/Ultralytics/settings.json'\n",
            "Update Settings with 'yolo settings key=value', i.e. 'yolo settings runs_dir=path/to/dir'. For help see https://docs.ultralytics.com/quickstart/#ultralytics-settings.\n"
          ]
        },
        {
          "output_type": "stream",
          "name": "stderr",
          "text": [
            "Downloading Dataset Version Zip in Pallet-Detection-and-Counting-4 to yolov8:: 100%|██████████| 47258/47258 [00:01<00:00, 35596.94it/s]"
          ]
        },
        {
          "output_type": "stream",
          "name": "stdout",
          "text": [
            "\n"
          ]
        },
        {
          "output_type": "stream",
          "name": "stderr",
          "text": [
            "\n",
            "Extracting Dataset Version Zip to Pallet-Detection-and-Counting-4 in yolov8:: 100%|██████████| 1012/1012 [00:00<00:00, 3561.97it/s]\n"
          ]
        }
      ]
    },
    {
      "cell_type": "code",
      "source": [
        "#defining the model\n",
        "from ultralytics import YOLO\n",
        "model=YOLO(\"yolov8s.pt\")\n",
        "#running the model\n",
        "resuls=model.train(data='/content/Pallet-Detection-and-Counting-3/data.yaml',epochs = 50,imgsz=640)\n"
      ],
      "metadata": {
        "colab": {
          "base_uri": "https://localhost:8080/"
        },
        "id": "sPIkZnuoqjBs",
        "outputId": "7ed23da4-e84e-41f1-ca80-ba7c0e776c8a"
      },
      "execution_count": null,
      "outputs": [
        {
          "output_type": "stream",
          "name": "stdout",
          "text": [
            "Downloading https://github.com/ultralytics/assets/releases/download/v8.3.0/yolov8s.pt to 'yolov8s.pt'...\n"
          ]
        },
        {
          "output_type": "stream",
          "name": "stderr",
          "text": [
            "100%|██████████| 21.5M/21.5M [00:00<00:00, 263MB/s]\n"
          ]
        },
        {
          "output_type": "stream",
          "name": "stdout",
          "text": [
            "Ultralytics 8.3.127 🚀 Python-3.11.12 torch-2.6.0+cu124 CUDA:0 (Tesla T4, 15095MiB)\n",
            "\u001b[34m\u001b[1mengine/trainer: \u001b[0magnostic_nms=False, amp=True, augment=False, auto_augment=randaugment, batch=16, bgr=0.0, box=7.5, cache=False, cfg=None, classes=None, close_mosaic=10, cls=0.5, conf=None, copy_paste=0.0, copy_paste_mode=flip, cos_lr=False, cutmix=0.0, data=/content/Pallet-Detection-and-Counting-3/data.yaml, degrees=0.0, deterministic=True, device=cuda:0, dfl=1.5, dnn=False, dropout=0.0, dynamic=False, embed=None, epochs=50, erasing=0.4, exist_ok=False, fliplr=0.5, flipud=0.0, format=torchscript, fraction=1.0, freeze=None, half=False, hsv_h=0.015, hsv_s=0.7, hsv_v=0.4, imgsz=640, int8=False, iou=0.7, keras=False, kobj=1.0, line_width=None, lr0=0.01, lrf=0.01, mask_ratio=4, max_det=300, mixup=0.0, mode=train, model=yolov8s.pt, momentum=0.937, mosaic=1.0, multi_scale=False, name=train, nbs=64, nms=False, opset=None, optimize=False, optimizer=auto, overlap_mask=True, patience=100, perspective=0.0, plots=True, pose=12.0, pretrained=True, profile=False, project=None, rect=False, resume=False, retina_masks=False, save=True, save_conf=False, save_crop=False, save_dir=runs/detect/train, save_frames=False, save_json=False, save_period=-1, save_txt=False, scale=0.5, seed=0, shear=0.0, show=False, show_boxes=True, show_conf=True, show_labels=True, simplify=True, single_cls=False, source=None, split=val, stream_buffer=False, task=detect, time=None, tracker=botsort.yaml, translate=0.1, val=True, verbose=True, vid_stride=1, visualize=False, warmup_bias_lr=0.1, warmup_epochs=3.0, warmup_momentum=0.8, weight_decay=0.0005, workers=8, workspace=None\n",
            "Downloading https://ultralytics.com/assets/Arial.ttf to '/root/.config/Ultralytics/Arial.ttf'...\n"
          ]
        },
        {
          "output_type": "stream",
          "name": "stderr",
          "text": [
            "100%|██████████| 755k/755k [00:00<00:00, 21.3MB/s]"
          ]
        },
        {
          "output_type": "stream",
          "name": "stdout",
          "text": [
            "Overriding model.yaml nc=80 with nc=2\n",
            "\n",
            "                   from  n    params  module                                       arguments                     \n",
            "  0                  -1  1       928  ultralytics.nn.modules.conv.Conv             [3, 32, 3, 2]                 \n",
            "  1                  -1  1     18560  ultralytics.nn.modules.conv.Conv             [32, 64, 3, 2]                \n",
            "  2                  -1  1     29056  ultralytics.nn.modules.block.C2f             [64, 64, 1, True]             \n",
            "  3                  -1  1     73984  ultralytics.nn.modules.conv.Conv             [64, 128, 3, 2]               \n",
            "  4                  -1  2    197632  ultralytics.nn.modules.block.C2f             [128, 128, 2, True]           \n",
            "  5                  -1  1    295424  ultralytics.nn.modules.conv.Conv             [128, 256, 3, 2]              \n",
            "  6                  -1  2    788480  ultralytics.nn.modules.block.C2f             [256, 256, 2, True]           \n",
            "  7                  -1  1   1180672  ultralytics.nn.modules.conv.Conv             [256, 512, 3, 2]              \n",
            "  8                  -1  1   1838080  ultralytics.nn.modules.block.C2f             [512, 512, 1, True]           \n",
            "  9                  -1  1    656896  ultralytics.nn.modules.block.SPPF            [512, 512, 5]                 \n",
            " 10                  -1  1         0  torch.nn.modules.upsampling.Upsample         [None, 2, 'nearest']          \n",
            " 11             [-1, 6]  1         0  ultralytics.nn.modules.conv.Concat           [1]                           \n",
            " 12                  -1  1    591360  ultralytics.nn.modules.block.C2f             [768, 256, 1]                 \n",
            " 13                  -1  1         0  torch.nn.modules.upsampling.Upsample         [None, 2, 'nearest']          \n",
            " 14             [-1, 4]  1         0  ultralytics.nn.modules.conv.Concat           [1]                           \n",
            " 15                  -1  1    148224  ultralytics.nn.modules.block.C2f             [384, 128, 1]                 \n",
            " 16                  -1  1    147712  ultralytics.nn.modules.conv.Conv             [128, 128, 3, 2]              \n",
            " 17            [-1, 12]  1         0  ultralytics.nn.modules.conv.Concat           [1]                           \n",
            " 18                  -1  1    493056  ultralytics.nn.modules.block.C2f             [384, 256, 1]                 \n",
            " 19                  -1  1    590336  ultralytics.nn.modules.conv.Conv             [256, 256, 3, 2]              \n",
            " 20             [-1, 9]  1         0  ultralytics.nn.modules.conv.Concat           [1]                           \n",
            " 21                  -1  1   1969152  ultralytics.nn.modules.block.C2f             [768, 512, 1]                 \n"
          ]
        },
        {
          "output_type": "stream",
          "name": "stderr",
          "text": [
            "\n"
          ]
        },
        {
          "output_type": "stream",
          "name": "stdout",
          "text": [
            " 22        [15, 18, 21]  1   2116822  ultralytics.nn.modules.head.Detect           [2, [128, 256, 512]]          \n",
            "Model summary: 129 layers, 11,136,374 parameters, 11,136,358 gradients, 28.6 GFLOPs\n",
            "\n",
            "Transferred 349/355 items from pretrained weights\n",
            "Freezing layer 'model.22.dfl.conv.weight'\n",
            "\u001b[34m\u001b[1mAMP: \u001b[0mrunning Automatic Mixed Precision (AMP) checks...\n",
            "Downloading https://github.com/ultralytics/assets/releases/download/v8.3.0/yolo11n.pt to 'yolo11n.pt'...\n"
          ]
        },
        {
          "output_type": "stream",
          "name": "stderr",
          "text": [
            "100%|██████████| 5.35M/5.35M [00:00<00:00, 105MB/s]\n"
          ]
        },
        {
          "output_type": "stream",
          "name": "stdout",
          "text": [
            "\u001b[34m\u001b[1mAMP: \u001b[0mchecks passed ✅\n",
            "\u001b[34m\u001b[1mtrain: \u001b[0mFast image access ✅ (ping: 0.0±0.0 ms, read: 1437.8±686.6 MB/s, size: 89.9 KB)\n"
          ]
        },
        {
          "output_type": "stream",
          "name": "stderr",
          "text": [
            "\u001b[34m\u001b[1mtrain: \u001b[0mScanning /content/Pallet-Detection-and-Counting-3/train/labels... 436 images, 0 backgrounds, 0 corrupt: 100%|██████████| 436/436 [00:00<00:00, 731.18it/s]"
          ]
        },
        {
          "output_type": "stream",
          "name": "stdout",
          "text": [
            "\u001b[34m\u001b[1mtrain: \u001b[0m/content/Pallet-Detection-and-Counting-3/train/images/Pallet-reconditioning-1_jpg.rf.13bedaa14ae4a67aee6bc155f3547c09.jpg: 3 duplicate labels removed\n",
            "\u001b[34m\u001b[1mtrain: \u001b[0m/content/Pallet-Detection-and-Counting-3/train/images/Pallet-reconditioning-1_jpg.rf.3d379d0c6455beb10f7d31f9e2e29e01.jpg: 3 duplicate labels removed\n",
            "\u001b[34m\u001b[1mtrain: \u001b[0m/content/Pallet-Detection-and-Counting-3/train/images/Pallet-reconditioning-1_jpg.rf.91f8471c1091023eddaaf82a3461a7cd.jpg: 3 duplicate labels removed\n",
            "\u001b[34m\u001b[1mtrain: \u001b[0m/content/Pallet-Detection-and-Counting-3/train/images/Pallet-reconditioning-1_jpg.rf.aaebfa790c53b3245269ee7e14f5127a.jpg: 3 duplicate labels removed\n",
            "\u001b[34m\u001b[1mtrain: \u001b[0m/content/Pallet-Detection-and-Counting-3/train/images/Pallet-reconditioning-1_jpg.rf.d15b5e9afcdbcd418962c4f3f1c53d53.jpg: 3 duplicate labels removed\n",
            "\u001b[34m\u001b[1mtrain: \u001b[0m/content/Pallet-Detection-and-Counting-3/train/images/Pallet-reconditioning-1_jpg.rf.e8460dfa28980da329de900b6b1dbb2c.jpg: 3 duplicate labels removed\n",
            "\u001b[34m\u001b[1mtrain: \u001b[0m/content/Pallet-Detection-and-Counting-3/train/images/Screenshot-2025-02-11-100602_png.rf.2857754205e3ccab84129ef2be096e7a.jpg: 4 duplicate labels removed\n",
            "\u001b[34m\u001b[1mtrain: \u001b[0m/content/Pallet-Detection-and-Counting-3/train/images/Screenshot-2025-02-11-100602_png.rf.b8b40c1f7351727afd6a3ccb9fececd1.jpg: 4 duplicate labels removed\n",
            "\u001b[34m\u001b[1mtrain: \u001b[0m/content/Pallet-Detection-and-Counting-3/train/images/Screenshot-2025-02-11-100602_png.rf.e5ac38474fa2b0512b0c3592b69ea568.jpg: 4 duplicate labels removed\n",
            "\u001b[34m\u001b[1mtrain: \u001b[0m/content/Pallet-Detection-and-Counting-3/train/images/Screenshot-2025-02-11-100820_png.rf.4cdcebd5afc7d92df5768f57496a059e.jpg: 1 duplicate labels removed\n",
            "\u001b[34m\u001b[1mtrain: \u001b[0m/content/Pallet-Detection-and-Counting-3/train/images/Screenshot-2025-02-11-100820_png.rf.5147f6418f3b38d581b00f8b7ab33efd.jpg: 1 duplicate labels removed\n",
            "\u001b[34m\u001b[1mtrain: \u001b[0m/content/Pallet-Detection-and-Counting-3/train/images/Screenshot-2025-02-11-100820_png.rf.78a8b5d4d25300dd99956c694917a603.jpg: 1 duplicate labels removed\n",
            "\u001b[34m\u001b[1mtrain: \u001b[0m/content/Pallet-Detection-and-Counting-3/train/images/blue-pallets-stacked-stack_721969-263_jpg.rf.47f94a5c540f22afb4a074c92c7f955a.jpg: 1 duplicate labels removed\n",
            "\u001b[34m\u001b[1mtrain: \u001b[0m/content/Pallet-Detection-and-Counting-3/train/images/blue-pallets-stacked-stack_721969-263_jpg.rf.7e163bc17a36ec385021a79fab40b773.jpg: 1 duplicate labels removed\n",
            "\u001b[34m\u001b[1mtrain: \u001b[0m/content/Pallet-Detection-and-Counting-3/train/images/blue-pallets-stacked-stack_721969-263_jpg.rf.8a43990fa8c020d2ee62b763c824299b.jpg: 1 duplicate labels removed\n",
            "\u001b[34m\u001b[1mtrain: \u001b[0m/content/Pallet-Detection-and-Counting-3/train/images/chep-wooden-pallet-BJ229W_jpg.rf.5292e3ec1453f43b3b73d8e7e0aafeb6.jpg: 3 duplicate labels removed\n",
            "\u001b[34m\u001b[1mtrain: \u001b[0m/content/Pallet-Detection-and-Counting-3/train/images/chep-wooden-pallet-BJ229W_jpg.rf.b198f82468dbf60c71866c1391acc06d.jpg: 3 duplicate labels removed\n",
            "\u001b[34m\u001b[1mtrain: \u001b[0m/content/Pallet-Detection-and-Counting-3/train/images/chep-wooden-pallet-BJ229W_jpg.rf.f62cff032a252ba1060242162ca93e45.jpg: 3 duplicate labels removed\n"
          ]
        },
        {
          "output_type": "stream",
          "name": "stderr",
          "text": [
            "\n"
          ]
        },
        {
          "output_type": "stream",
          "name": "stdout",
          "text": [
            "\u001b[34m\u001b[1mtrain: \u001b[0mNew cache created: /content/Pallet-Detection-and-Counting-3/train/labels.cache\n",
            "\u001b[34m\u001b[1malbumentations: \u001b[0mBlur(p=0.01, blur_limit=(3, 7)), MedianBlur(p=0.01, blur_limit=(3, 7)), ToGray(p=0.01, method='weighted_average', num_output_channels=3), CLAHE(p=0.01, clip_limit=(1.0, 4.0), tile_grid_size=(8, 8))\n",
            "\u001b[34m\u001b[1mval: \u001b[0mFast image access ✅ (ping: 0.0±0.0 ms, read: 1157.4±658.3 MB/s, size: 87.9 KB)\n"
          ]
        },
        {
          "output_type": "stream",
          "name": "stderr",
          "text": [
            "\u001b[34m\u001b[1mval: \u001b[0mScanning /content/Pallet-Detection-and-Counting-3/valid/labels... 41 images, 0 backgrounds, 0 corrupt: 100%|██████████| 41/41 [00:00<00:00, 440.22it/s]"
          ]
        },
        {
          "output_type": "stream",
          "name": "stdout",
          "text": [
            "\u001b[34m\u001b[1mval: \u001b[0m/content/Pallet-Detection-and-Counting-3/valid/images/Screenshot-2025-02-11-095114_png.rf.3e9d9fa90e6843e34ce3787d1b3535e1.jpg: 3 duplicate labels removed\n",
            "\u001b[34m\u001b[1mval: \u001b[0m/content/Pallet-Detection-and-Counting-3/valid/images/Screenshot-2025-02-11-095114_png.rf.9fe7fa20534f1af1798d3333314bc9ef.jpg: 3 duplicate labels removed\n",
            "\u001b[34m\u001b[1mval: \u001b[0m/content/Pallet-Detection-and-Counting-3/valid/images/Screenshot-2025-02-11-100602_png.rf.2739cbecba955841fd901a784e013f9a.jpg: 4 duplicate labels removed\n",
            "\u001b[34m\u001b[1mval: \u001b[0m/content/Pallet-Detection-and-Counting-3/valid/images/b6fb487f47b8b7f236177a11b650_jpg.rf.0a19d086b4b8d351f2010663f849e996.jpg: 1 duplicate labels removed\n",
            "\u001b[34m\u001b[1mval: \u001b[0m/content/Pallet-Detection-and-Counting-3/valid/images/chep-wooden-pallet-BJ229W_jpg.rf.168149f5a6df3fd8799590b4e4b8cf47.jpg: 3 duplicate labels removed\n",
            "\u001b[34m\u001b[1mval: \u001b[0m/content/Pallet-Detection-and-Counting-3/valid/images/chep-wooden-pallet-BJ229W_jpg.rf.c25fe6844e4b348a6a84ab6a681a9238.jpg: 3 duplicate labels removed\n",
            "\u001b[34m\u001b[1mval: \u001b[0mNew cache created: /content/Pallet-Detection-and-Counting-3/valid/labels.cache\n"
          ]
        },
        {
          "output_type": "stream",
          "name": "stderr",
          "text": [
            "\n"
          ]
        },
        {
          "output_type": "stream",
          "name": "stdout",
          "text": [
            "Plotting labels to runs/detect/train/labels.jpg... \n",
            "\u001b[34m\u001b[1moptimizer:\u001b[0m 'optimizer=auto' found, ignoring 'lr0=0.01' and 'momentum=0.937' and determining best 'optimizer', 'lr0' and 'momentum' automatically... \n",
            "\u001b[34m\u001b[1moptimizer:\u001b[0m AdamW(lr=0.001667, momentum=0.9) with parameter groups 57 weight(decay=0.0), 64 weight(decay=0.0005), 63 bias(decay=0.0)\n",
            "Image sizes 640 train, 640 val\n",
            "Using 2 dataloader workers\n",
            "Logging results to \u001b[1mruns/detect/train\u001b[0m\n",
            "Starting training for 50 epochs...\n",
            "\n",
            "      Epoch    GPU_mem   box_loss   cls_loss   dfl_loss  Instances       Size\n"
          ]
        },
        {
          "output_type": "stream",
          "name": "stderr",
          "text": [
            "       1/50       5.5G      2.053      2.002      1.673        447        640: 100%|██████████| 28/28 [00:36<00:00,  1.31s/it]\n",
            "                 Class     Images  Instances      Box(P          R      mAP50  mAP50-95): 100%|██████████| 2/2 [00:04<00:00,  2.48s/it]"
          ]
        },
        {
          "output_type": "stream",
          "name": "stdout",
          "text": [
            "                   all         41       2017      0.727      0.653      0.696      0.382\n"
          ]
        },
        {
          "output_type": "stream",
          "name": "stderr",
          "text": [
            "\n"
          ]
        },
        {
          "output_type": "stream",
          "name": "stdout",
          "text": [
            "\n",
            "      Epoch    GPU_mem   box_loss   cls_loss   dfl_loss  Instances       Size\n"
          ]
        },
        {
          "output_type": "stream",
          "name": "stderr",
          "text": [
            "       2/50      5.56G      1.209     0.8517      1.141        317        640: 100%|██████████| 28/28 [00:38<00:00,  1.36s/it]\n",
            "                 Class     Images  Instances      Box(P          R      mAP50  mAP50-95): 100%|██████████| 2/2 [00:01<00:00,  1.78it/s]"
          ]
        },
        {
          "output_type": "stream",
          "name": "stdout",
          "text": [
            "                   all         41       2017      0.744      0.746      0.737      0.418\n"
          ]
        },
        {
          "output_type": "stream",
          "name": "stderr",
          "text": [
            "\n"
          ]
        },
        {
          "output_type": "stream",
          "name": "stdout",
          "text": [
            "\n",
            "      Epoch    GPU_mem   box_loss   cls_loss   dfl_loss  Instances       Size\n"
          ]
        },
        {
          "output_type": "stream",
          "name": "stderr",
          "text": [
            "       3/50      5.59G      1.126     0.7608      1.091        191        640: 100%|██████████| 28/28 [00:38<00:00,  1.36s/it]\n",
            "                 Class     Images  Instances      Box(P          R      mAP50  mAP50-95): 100%|██████████| 2/2 [00:01<00:00,  1.72it/s]"
          ]
        },
        {
          "output_type": "stream",
          "name": "stdout",
          "text": [
            "                   all         41       2017      0.776      0.752      0.797      0.419\n"
          ]
        },
        {
          "output_type": "stream",
          "name": "stderr",
          "text": [
            "\n"
          ]
        },
        {
          "output_type": "stream",
          "name": "stdout",
          "text": [
            "\n",
            "      Epoch    GPU_mem   box_loss   cls_loss   dfl_loss  Instances       Size\n"
          ]
        },
        {
          "output_type": "stream",
          "name": "stderr",
          "text": [
            "       4/50      5.63G      1.058     0.7142      1.052        260        640: 100%|██████████| 28/28 [00:33<00:00,  1.19s/it]\n",
            "                 Class     Images  Instances      Box(P          R      mAP50  mAP50-95): 100%|██████████| 2/2 [00:01<00:00,  1.65it/s]"
          ]
        },
        {
          "output_type": "stream",
          "name": "stdout",
          "text": [
            "                   all         41       2017      0.827      0.844      0.886      0.564\n"
          ]
        },
        {
          "output_type": "stream",
          "name": "stderr",
          "text": [
            "\n"
          ]
        },
        {
          "output_type": "stream",
          "name": "stdout",
          "text": [
            "\n",
            "      Epoch    GPU_mem   box_loss   cls_loss   dfl_loss  Instances       Size\n"
          ]
        },
        {
          "output_type": "stream",
          "name": "stderr",
          "text": [
            "       5/50      5.66G      1.022     0.6853      1.029        222        640: 100%|██████████| 28/28 [00:34<00:00,  1.23s/it]\n",
            "                 Class     Images  Instances      Box(P          R      mAP50  mAP50-95): 100%|██████████| 2/2 [00:01<00:00,  1.38it/s]"
          ]
        },
        {
          "output_type": "stream",
          "name": "stdout",
          "text": [
            "                   all         41       2017      0.838      0.811      0.864      0.573\n"
          ]
        },
        {
          "output_type": "stream",
          "name": "stderr",
          "text": [
            "\n"
          ]
        },
        {
          "output_type": "stream",
          "name": "stdout",
          "text": [
            "\n",
            "      Epoch    GPU_mem   box_loss   cls_loss   dfl_loss  Instances       Size\n"
          ]
        },
        {
          "output_type": "stream",
          "name": "stderr",
          "text": [
            "       6/50       5.7G     0.9952     0.6586       1.02        200        640: 100%|██████████| 28/28 [00:33<00:00,  1.21s/it]\n",
            "                 Class     Images  Instances      Box(P          R      mAP50  mAP50-95): 100%|██████████| 2/2 [00:01<00:00,  1.57it/s]"
          ]
        },
        {
          "output_type": "stream",
          "name": "stdout",
          "text": [
            "                   all         41       2017      0.887      0.896      0.934       0.61\n"
          ]
        },
        {
          "output_type": "stream",
          "name": "stderr",
          "text": [
            "\n"
          ]
        },
        {
          "output_type": "stream",
          "name": "stdout",
          "text": [
            "\n",
            "      Epoch    GPU_mem   box_loss   cls_loss   dfl_loss  Instances       Size\n"
          ]
        },
        {
          "output_type": "stream",
          "name": "stderr",
          "text": [
            "       7/50      5.74G      0.955     0.6158      1.001        233        640: 100%|██████████| 28/28 [00:34<00:00,  1.23s/it]\n",
            "                 Class     Images  Instances      Box(P          R      mAP50  mAP50-95): 100%|██████████| 2/2 [00:01<00:00,  1.87it/s]"
          ]
        },
        {
          "output_type": "stream",
          "name": "stdout",
          "text": [
            "                   all         41       2017      0.896      0.893       0.94      0.669\n"
          ]
        },
        {
          "output_type": "stream",
          "name": "stderr",
          "text": [
            "\n"
          ]
        },
        {
          "output_type": "stream",
          "name": "stdout",
          "text": [
            "\n",
            "      Epoch    GPU_mem   box_loss   cls_loss   dfl_loss  Instances       Size\n"
          ]
        },
        {
          "output_type": "stream",
          "name": "stderr",
          "text": [
            "       8/50      5.77G     0.9414     0.5962      0.989        347        640: 100%|██████████| 28/28 [00:34<00:00,  1.23s/it]\n",
            "                 Class     Images  Instances      Box(P          R      mAP50  mAP50-95): 100%|██████████| 2/2 [00:01<00:00,  1.63it/s]"
          ]
        },
        {
          "output_type": "stream",
          "name": "stdout",
          "text": [
            "                   all         41       2017      0.876      0.872      0.923      0.631\n"
          ]
        },
        {
          "output_type": "stream",
          "name": "stderr",
          "text": [
            "\n"
          ]
        },
        {
          "output_type": "stream",
          "name": "stdout",
          "text": [
            "\n",
            "      Epoch    GPU_mem   box_loss   cls_loss   dfl_loss  Instances       Size\n"
          ]
        },
        {
          "output_type": "stream",
          "name": "stderr",
          "text": [
            "       9/50      5.81G     0.9535     0.6062     0.9873        254        640: 100%|██████████| 28/28 [00:37<00:00,  1.33s/it]\n",
            "                 Class     Images  Instances      Box(P          R      mAP50  mAP50-95): 100%|██████████| 2/2 [00:01<00:00,  1.70it/s]"
          ]
        },
        {
          "output_type": "stream",
          "name": "stdout",
          "text": [
            "                   all         41       2017      0.902       0.89      0.939      0.655\n"
          ]
        },
        {
          "output_type": "stream",
          "name": "stderr",
          "text": [
            "\n"
          ]
        },
        {
          "output_type": "stream",
          "name": "stdout",
          "text": [
            "\n",
            "      Epoch    GPU_mem   box_loss   cls_loss   dfl_loss  Instances       Size\n"
          ]
        },
        {
          "output_type": "stream",
          "name": "stderr",
          "text": [
            "      10/50      5.85G     0.9501     0.5924     0.9804        302        640: 100%|██████████| 28/28 [00:34<00:00,  1.23s/it]\n",
            "                 Class     Images  Instances      Box(P          R      mAP50  mAP50-95): 100%|██████████| 2/2 [00:01<00:00,  1.86it/s]"
          ]
        },
        {
          "output_type": "stream",
          "name": "stdout",
          "text": [
            "                   all         41       2017      0.875      0.881      0.933      0.656\n"
          ]
        },
        {
          "output_type": "stream",
          "name": "stderr",
          "text": [
            "\n"
          ]
        },
        {
          "output_type": "stream",
          "name": "stdout",
          "text": [
            "\n",
            "      Epoch    GPU_mem   box_loss   cls_loss   dfl_loss  Instances       Size\n"
          ]
        },
        {
          "output_type": "stream",
          "name": "stderr",
          "text": [
            "      11/50      5.88G     0.8979     0.5648     0.9637        335        640: 100%|██████████| 28/28 [00:35<00:00,  1.27s/it]\n",
            "                 Class     Images  Instances      Box(P          R      mAP50  mAP50-95): 100%|██████████| 2/2 [00:01<00:00,  1.57it/s]"
          ]
        },
        {
          "output_type": "stream",
          "name": "stdout",
          "text": [
            "                   all         41       2017      0.883      0.902      0.941      0.701\n"
          ]
        },
        {
          "output_type": "stream",
          "name": "stderr",
          "text": [
            "\n"
          ]
        },
        {
          "output_type": "stream",
          "name": "stdout",
          "text": [
            "\n",
            "      Epoch    GPU_mem   box_loss   cls_loss   dfl_loss  Instances       Size\n"
          ]
        },
        {
          "output_type": "stream",
          "name": "stderr",
          "text": [
            "      12/50      5.92G     0.8856     0.5799     0.9646        275        640: 100%|██████████| 28/28 [00:34<00:00,  1.22s/it]\n",
            "                 Class     Images  Instances      Box(P          R      mAP50  mAP50-95): 100%|██████████| 2/2 [00:01<00:00,  1.73it/s]"
          ]
        },
        {
          "output_type": "stream",
          "name": "stdout",
          "text": [
            "                   all         41       2017      0.879      0.909      0.934       0.69\n"
          ]
        },
        {
          "output_type": "stream",
          "name": "stderr",
          "text": [
            "\n"
          ]
        },
        {
          "output_type": "stream",
          "name": "stdout",
          "text": [
            "\n",
            "      Epoch    GPU_mem   box_loss   cls_loss   dfl_loss  Instances       Size\n"
          ]
        },
        {
          "output_type": "stream",
          "name": "stderr",
          "text": [
            "      13/50      5.95G     0.8786     0.5629     0.9585        234        640: 100%|██████████| 28/28 [00:35<00:00,  1.26s/it]\n",
            "                 Class     Images  Instances      Box(P          R      mAP50  mAP50-95): 100%|██████████| 2/2 [00:00<00:00,  2.28it/s]"
          ]
        },
        {
          "output_type": "stream",
          "name": "stdout",
          "text": [
            "                   all         41       2017      0.845       0.92      0.914      0.667\n"
          ]
        },
        {
          "output_type": "stream",
          "name": "stderr",
          "text": [
            "\n"
          ]
        },
        {
          "output_type": "stream",
          "name": "stdout",
          "text": [
            "\n",
            "      Epoch    GPU_mem   box_loss   cls_loss   dfl_loss  Instances       Size\n"
          ]
        },
        {
          "output_type": "stream",
          "name": "stderr",
          "text": [
            "      14/50      5.99G     0.8634     0.5508     0.9565        228        640: 100%|██████████| 28/28 [00:34<00:00,  1.25s/it]\n",
            "                 Class     Images  Instances      Box(P          R      mAP50  mAP50-95): 100%|██████████| 2/2 [00:01<00:00,  1.13it/s]"
          ]
        },
        {
          "output_type": "stream",
          "name": "stdout",
          "text": [
            "                   all         41       2017       0.84      0.916       0.92      0.691\n"
          ]
        },
        {
          "output_type": "stream",
          "name": "stderr",
          "text": [
            "\n"
          ]
        },
        {
          "output_type": "stream",
          "name": "stdout",
          "text": [
            "\n",
            "      Epoch    GPU_mem   box_loss   cls_loss   dfl_loss  Instances       Size\n"
          ]
        },
        {
          "output_type": "stream",
          "name": "stderr",
          "text": [
            "      15/50      6.03G     0.8338     0.5306     0.9476        270        640: 100%|██████████| 28/28 [00:35<00:00,  1.25s/it]\n",
            "                 Class     Images  Instances      Box(P          R      mAP50  mAP50-95): 100%|██████████| 2/2 [00:01<00:00,  1.18it/s]"
          ]
        },
        {
          "output_type": "stream",
          "name": "stdout",
          "text": [
            "                   all         41       2017      0.875      0.868      0.932        0.7\n"
          ]
        },
        {
          "output_type": "stream",
          "name": "stderr",
          "text": [
            "\n"
          ]
        },
        {
          "output_type": "stream",
          "name": "stdout",
          "text": [
            "\n",
            "      Epoch    GPU_mem   box_loss   cls_loss   dfl_loss  Instances       Size\n"
          ]
        },
        {
          "output_type": "stream",
          "name": "stderr",
          "text": [
            "      16/50      6.06G     0.8494     0.5234     0.9421        386        640: 100%|██████████| 28/28 [00:33<00:00,  1.18s/it]\n",
            "                 Class     Images  Instances      Box(P          R      mAP50  mAP50-95): 100%|██████████| 2/2 [00:01<00:00,  1.78it/s]"
          ]
        },
        {
          "output_type": "stream",
          "name": "stdout",
          "text": [
            "                   all         41       2017      0.919      0.899      0.938      0.695\n"
          ]
        },
        {
          "output_type": "stream",
          "name": "stderr",
          "text": [
            "\n"
          ]
        },
        {
          "output_type": "stream",
          "name": "stdout",
          "text": [
            "\n",
            "      Epoch    GPU_mem   box_loss   cls_loss   dfl_loss  Instances       Size\n"
          ]
        },
        {
          "output_type": "stream",
          "name": "stderr",
          "text": [
            "      17/50       6.1G     0.8181     0.5083     0.9341        376        640: 100%|██████████| 28/28 [00:35<00:00,  1.26s/it]\n",
            "                 Class     Images  Instances      Box(P          R      mAP50  mAP50-95): 100%|██████████| 2/2 [00:00<00:00,  2.01it/s]"
          ]
        },
        {
          "output_type": "stream",
          "name": "stdout",
          "text": [
            "                   all         41       2017      0.891      0.907      0.958      0.714\n"
          ]
        },
        {
          "output_type": "stream",
          "name": "stderr",
          "text": [
            "\n"
          ]
        },
        {
          "output_type": "stream",
          "name": "stdout",
          "text": [
            "\n",
            "      Epoch    GPU_mem   box_loss   cls_loss   dfl_loss  Instances       Size\n"
          ]
        },
        {
          "output_type": "stream",
          "name": "stderr",
          "text": [
            "      18/50      6.13G     0.8068     0.5005     0.9308        286        640: 100%|██████████| 28/28 [00:36<00:00,  1.29s/it]\n",
            "                 Class     Images  Instances      Box(P          R      mAP50  mAP50-95): 100%|██████████| 2/2 [00:01<00:00,  1.92it/s]"
          ]
        },
        {
          "output_type": "stream",
          "name": "stdout",
          "text": [
            "                   all         41       2017      0.918      0.889      0.943       0.71\n"
          ]
        },
        {
          "output_type": "stream",
          "name": "stderr",
          "text": [
            "\n"
          ]
        },
        {
          "output_type": "stream",
          "name": "stdout",
          "text": [
            "\n",
            "      Epoch    GPU_mem   box_loss   cls_loss   dfl_loss  Instances       Size\n"
          ]
        },
        {
          "output_type": "stream",
          "name": "stderr",
          "text": [
            "      19/50      6.17G     0.8048     0.4997     0.9342        105        640: 100%|██████████| 28/28 [00:35<00:00,  1.27s/it]\n",
            "                 Class     Images  Instances      Box(P          R      mAP50  mAP50-95): 100%|██████████| 2/2 [00:01<00:00,  1.79it/s]"
          ]
        },
        {
          "output_type": "stream",
          "name": "stdout",
          "text": [
            "                   all         41       2017      0.948      0.883      0.959      0.714\n"
          ]
        },
        {
          "output_type": "stream",
          "name": "stderr",
          "text": [
            "\n"
          ]
        },
        {
          "output_type": "stream",
          "name": "stdout",
          "text": [
            "\n",
            "      Epoch    GPU_mem   box_loss   cls_loss   dfl_loss  Instances       Size\n"
          ]
        },
        {
          "output_type": "stream",
          "name": "stderr",
          "text": [
            "      20/50      6.21G     0.7874     0.4901     0.9283        403        640: 100%|██████████| 28/28 [00:35<00:00,  1.25s/it]\n",
            "                 Class     Images  Instances      Box(P          R      mAP50  mAP50-95): 100%|██████████| 2/2 [00:01<00:00,  1.91it/s]"
          ]
        },
        {
          "output_type": "stream",
          "name": "stdout",
          "text": [
            "                   all         41       2017      0.941      0.893      0.961      0.716\n"
          ]
        },
        {
          "output_type": "stream",
          "name": "stderr",
          "text": [
            "\n"
          ]
        },
        {
          "output_type": "stream",
          "name": "stdout",
          "text": [
            "\n",
            "      Epoch    GPU_mem   box_loss   cls_loss   dfl_loss  Instances       Size\n"
          ]
        },
        {
          "output_type": "stream",
          "name": "stderr",
          "text": [
            "      21/50      6.24G     0.7919     0.4866     0.9292        187        640: 100%|██████████| 28/28 [00:34<00:00,  1.25s/it]\n",
            "                 Class     Images  Instances      Box(P          R      mAP50  mAP50-95): 100%|██████████| 2/2 [00:01<00:00,  1.86it/s]"
          ]
        },
        {
          "output_type": "stream",
          "name": "stdout",
          "text": [
            "                   all         41       2017      0.952      0.914      0.965      0.699\n"
          ]
        },
        {
          "output_type": "stream",
          "name": "stderr",
          "text": [
            "\n"
          ]
        },
        {
          "output_type": "stream",
          "name": "stdout",
          "text": [
            "\n",
            "      Epoch    GPU_mem   box_loss   cls_loss   dfl_loss  Instances       Size\n"
          ]
        },
        {
          "output_type": "stream",
          "name": "stderr",
          "text": [
            "      22/50      6.28G     0.7853     0.4762     0.9208        325        640: 100%|██████████| 28/28 [00:37<00:00,  1.33s/it]\n",
            "                 Class     Images  Instances      Box(P          R      mAP50  mAP50-95): 100%|██████████| 2/2 [00:01<00:00,  1.80it/s]"
          ]
        },
        {
          "output_type": "stream",
          "name": "stdout",
          "text": [
            "                   all         41       2017      0.935      0.919       0.96      0.725\n"
          ]
        },
        {
          "output_type": "stream",
          "name": "stderr",
          "text": [
            "\n"
          ]
        },
        {
          "output_type": "stream",
          "name": "stdout",
          "text": [
            "\n",
            "      Epoch    GPU_mem   box_loss   cls_loss   dfl_loss  Instances       Size\n"
          ]
        },
        {
          "output_type": "stream",
          "name": "stderr",
          "text": [
            "      23/50      6.32G      0.792     0.4895     0.9331        112        640: 100%|██████████| 28/28 [00:36<00:00,  1.29s/it]\n",
            "                 Class     Images  Instances      Box(P          R      mAP50  mAP50-95): 100%|██████████| 2/2 [00:01<00:00,  1.88it/s]"
          ]
        },
        {
          "output_type": "stream",
          "name": "stdout",
          "text": [
            "                   all         41       2017      0.917      0.909      0.961      0.708\n"
          ]
        },
        {
          "output_type": "stream",
          "name": "stderr",
          "text": [
            "\n"
          ]
        },
        {
          "output_type": "stream",
          "name": "stdout",
          "text": [
            "\n",
            "      Epoch    GPU_mem   box_loss   cls_loss   dfl_loss  Instances       Size\n"
          ]
        },
        {
          "output_type": "stream",
          "name": "stderr",
          "text": [
            "      24/50      6.35G     0.7757     0.4663     0.9229        205        640: 100%|██████████| 28/28 [00:35<00:00,  1.27s/it]\n",
            "                 Class     Images  Instances      Box(P          R      mAP50  mAP50-95): 100%|██████████| 2/2 [00:00<00:00,  2.02it/s]"
          ]
        },
        {
          "output_type": "stream",
          "name": "stdout",
          "text": [
            "                   all         41       2017      0.891      0.906      0.934      0.712\n"
          ]
        },
        {
          "output_type": "stream",
          "name": "stderr",
          "text": [
            "\n"
          ]
        },
        {
          "output_type": "stream",
          "name": "stdout",
          "text": [
            "\n",
            "      Epoch    GPU_mem   box_loss   cls_loss   dfl_loss  Instances       Size\n"
          ]
        },
        {
          "output_type": "stream",
          "name": "stderr",
          "text": [
            "      25/50      6.39G      0.775     0.4736      0.927        117        640: 100%|██████████| 28/28 [00:35<00:00,  1.28s/it]\n",
            "                 Class     Images  Instances      Box(P          R      mAP50  mAP50-95): 100%|██████████| 2/2 [00:00<00:00,  2.15it/s]"
          ]
        },
        {
          "output_type": "stream",
          "name": "stdout",
          "text": [
            "                   all         41       2017      0.909      0.933      0.954       0.72\n"
          ]
        },
        {
          "output_type": "stream",
          "name": "stderr",
          "text": [
            "\n"
          ]
        },
        {
          "output_type": "stream",
          "name": "stdout",
          "text": [
            "\n",
            "      Epoch    GPU_mem   box_loss   cls_loss   dfl_loss  Instances       Size\n"
          ]
        },
        {
          "output_type": "stream",
          "name": "stderr",
          "text": [
            "      26/50      6.43G     0.7534     0.4594     0.9122        311        640: 100%|██████████| 28/28 [00:35<00:00,  1.26s/it]\n",
            "                 Class     Images  Instances      Box(P          R      mAP50  mAP50-95): 100%|██████████| 2/2 [00:01<00:00,  1.54it/s]"
          ]
        },
        {
          "output_type": "stream",
          "name": "stdout",
          "text": [
            "                   all         41       2017        0.9      0.911      0.952      0.725\n"
          ]
        },
        {
          "output_type": "stream",
          "name": "stderr",
          "text": [
            "\n"
          ]
        },
        {
          "output_type": "stream",
          "name": "stdout",
          "text": [
            "\n",
            "      Epoch    GPU_mem   box_loss   cls_loss   dfl_loss  Instances       Size\n"
          ]
        },
        {
          "output_type": "stream",
          "name": "stderr",
          "text": [
            "      27/50      6.46G     0.7465     0.4463     0.9055        511        640: 100%|██████████| 28/28 [00:34<00:00,  1.25s/it]\n",
            "                 Class     Images  Instances      Box(P          R      mAP50  mAP50-95): 100%|██████████| 2/2 [00:01<00:00,  1.19it/s]"
          ]
        },
        {
          "output_type": "stream",
          "name": "stdout",
          "text": [
            "                   all         41       2017      0.917      0.932      0.952      0.722\n"
          ]
        },
        {
          "output_type": "stream",
          "name": "stderr",
          "text": [
            "\n"
          ]
        },
        {
          "output_type": "stream",
          "name": "stdout",
          "text": [
            "\n",
            "      Epoch    GPU_mem   box_loss   cls_loss   dfl_loss  Instances       Size\n"
          ]
        },
        {
          "output_type": "stream",
          "name": "stderr",
          "text": [
            "      28/50      7.22G     0.7308     0.4455     0.9003        330        640: 100%|██████████| 28/28 [00:34<00:00,  1.25s/it]\n",
            "                 Class     Images  Instances      Box(P          R      mAP50  mAP50-95): 100%|██████████| 2/2 [00:01<00:00,  1.30it/s]"
          ]
        },
        {
          "output_type": "stream",
          "name": "stdout",
          "text": [
            "                   all         41       2017      0.941      0.926      0.967      0.738\n"
          ]
        },
        {
          "output_type": "stream",
          "name": "stderr",
          "text": [
            "\n"
          ]
        },
        {
          "output_type": "stream",
          "name": "stdout",
          "text": [
            "\n",
            "      Epoch    GPU_mem   box_loss   cls_loss   dfl_loss  Instances       Size\n"
          ]
        },
        {
          "output_type": "stream",
          "name": "stderr",
          "text": [
            "      29/50      7.26G     0.7311     0.4329     0.8981        254        640: 100%|██████████| 28/28 [00:37<00:00,  1.34s/it]\n",
            "                 Class     Images  Instances      Box(P          R      mAP50  mAP50-95): 100%|██████████| 2/2 [00:01<00:00,  1.55it/s]"
          ]
        },
        {
          "output_type": "stream",
          "name": "stdout",
          "text": [
            "                   all         41       2017      0.919      0.917      0.958      0.732\n"
          ]
        },
        {
          "output_type": "stream",
          "name": "stderr",
          "text": [
            "\n"
          ]
        },
        {
          "output_type": "stream",
          "name": "stdout",
          "text": [
            "\n",
            "      Epoch    GPU_mem   box_loss   cls_loss   dfl_loss  Instances       Size\n"
          ]
        },
        {
          "output_type": "stream",
          "name": "stderr",
          "text": [
            "      30/50      7.29G     0.7333     0.4284     0.8937        163        640: 100%|██████████| 28/28 [00:33<00:00,  1.20s/it]\n",
            "                 Class     Images  Instances      Box(P          R      mAP50  mAP50-95): 100%|██████████| 2/2 [00:01<00:00,  1.84it/s]"
          ]
        },
        {
          "output_type": "stream",
          "name": "stdout",
          "text": [
            "                   all         41       2017      0.938      0.915      0.963       0.74\n"
          ]
        },
        {
          "output_type": "stream",
          "name": "stderr",
          "text": [
            "\n"
          ]
        },
        {
          "output_type": "stream",
          "name": "stdout",
          "text": [
            "\n",
            "      Epoch    GPU_mem   box_loss   cls_loss   dfl_loss  Instances       Size\n"
          ]
        },
        {
          "output_type": "stream",
          "name": "stderr",
          "text": [
            "      31/50      7.33G      0.732     0.4241     0.8979        278        640: 100%|██████████| 28/28 [00:35<00:00,  1.26s/it]\n",
            "                 Class     Images  Instances      Box(P          R      mAP50  mAP50-95): 100%|██████████| 2/2 [00:01<00:00,  1.74it/s]"
          ]
        },
        {
          "output_type": "stream",
          "name": "stdout",
          "text": [
            "                   all         41       2017      0.926      0.896       0.96      0.738\n"
          ]
        },
        {
          "output_type": "stream",
          "name": "stderr",
          "text": [
            "\n"
          ]
        },
        {
          "output_type": "stream",
          "name": "stdout",
          "text": [
            "\n",
            "      Epoch    GPU_mem   box_loss   cls_loss   dfl_loss  Instances       Size\n"
          ]
        },
        {
          "output_type": "stream",
          "name": "stderr",
          "text": [
            "      32/50       8.1G     0.6969      0.407     0.8939        258        640: 100%|██████████| 28/28 [00:35<00:00,  1.26s/it]\n",
            "                 Class     Images  Instances      Box(P          R      mAP50  mAP50-95): 100%|██████████| 2/2 [00:00<00:00,  2.06it/s]"
          ]
        },
        {
          "output_type": "stream",
          "name": "stdout",
          "text": [
            "                   all         41       2017      0.917      0.903       0.96       0.73\n"
          ]
        },
        {
          "output_type": "stream",
          "name": "stderr",
          "text": [
            "\n"
          ]
        },
        {
          "output_type": "stream",
          "name": "stdout",
          "text": [
            "\n",
            "      Epoch    GPU_mem   box_loss   cls_loss   dfl_loss  Instances       Size\n"
          ]
        },
        {
          "output_type": "stream",
          "name": "stderr",
          "text": [
            "      33/50      5.78G     0.6842     0.4059     0.8892        316        640: 100%|██████████| 28/28 [00:32<00:00,  1.16s/it]\n",
            "                 Class     Images  Instances      Box(P          R      mAP50  mAP50-95): 100%|██████████| 2/2 [00:00<00:00,  2.08it/s]"
          ]
        },
        {
          "output_type": "stream",
          "name": "stdout",
          "text": [
            "                   all         41       2017      0.933      0.929      0.971      0.749\n"
          ]
        },
        {
          "output_type": "stream",
          "name": "stderr",
          "text": [
            "\n"
          ]
        },
        {
          "output_type": "stream",
          "name": "stdout",
          "text": [
            "\n",
            "      Epoch    GPU_mem   box_loss   cls_loss   dfl_loss  Instances       Size\n"
          ]
        },
        {
          "output_type": "stream",
          "name": "stderr",
          "text": [
            "      34/50      5.78G     0.6799     0.4187     0.8896         67        640: 100%|██████████| 28/28 [00:34<00:00,  1.23s/it]\n",
            "                 Class     Images  Instances      Box(P          R      mAP50  mAP50-95): 100%|██████████| 2/2 [00:01<00:00,  1.82it/s]"
          ]
        },
        {
          "output_type": "stream",
          "name": "stdout",
          "text": [
            "                   all         41       2017      0.949      0.881      0.962      0.746\n"
          ]
        },
        {
          "output_type": "stream",
          "name": "stderr",
          "text": [
            "\n"
          ]
        },
        {
          "output_type": "stream",
          "name": "stdout",
          "text": [
            "\n",
            "      Epoch    GPU_mem   box_loss   cls_loss   dfl_loss  Instances       Size\n"
          ]
        },
        {
          "output_type": "stream",
          "name": "stderr",
          "text": [
            "      35/50      5.78G     0.6881     0.4067     0.8867        273        640: 100%|██████████| 28/28 [00:34<00:00,  1.22s/it]\n",
            "                 Class     Images  Instances      Box(P          R      mAP50  mAP50-95): 100%|██████████| 2/2 [00:01<00:00,  1.95it/s]"
          ]
        },
        {
          "output_type": "stream",
          "name": "stdout",
          "text": [
            "                   all         41       2017      0.946      0.909      0.958      0.741\n"
          ]
        },
        {
          "output_type": "stream",
          "name": "stderr",
          "text": [
            "\n"
          ]
        },
        {
          "output_type": "stream",
          "name": "stdout",
          "text": [
            "\n",
            "      Epoch    GPU_mem   box_loss   cls_loss   dfl_loss  Instances       Size\n"
          ]
        },
        {
          "output_type": "stream",
          "name": "stderr",
          "text": [
            "      36/50      5.78G     0.6836     0.4099     0.8872        195        640: 100%|██████████| 28/28 [00:34<00:00,  1.23s/it]\n",
            "                 Class     Images  Instances      Box(P          R      mAP50  mAP50-95): 100%|██████████| 2/2 [00:01<00:00,  1.87it/s]"
          ]
        },
        {
          "output_type": "stream",
          "name": "stdout",
          "text": [
            "                   all         41       2017      0.937      0.923      0.961      0.713\n"
          ]
        },
        {
          "output_type": "stream",
          "name": "stderr",
          "text": [
            "\n"
          ]
        },
        {
          "output_type": "stream",
          "name": "stdout",
          "text": [
            "\n",
            "      Epoch    GPU_mem   box_loss   cls_loss   dfl_loss  Instances       Size\n"
          ]
        },
        {
          "output_type": "stream",
          "name": "stderr",
          "text": [
            "      37/50      6.43G     0.6849     0.4052     0.8802        419        640: 100%|██████████| 28/28 [00:36<00:00,  1.31s/it]\n",
            "                 Class     Images  Instances      Box(P          R      mAP50  mAP50-95): 100%|██████████| 2/2 [00:01<00:00,  1.73it/s]"
          ]
        },
        {
          "output_type": "stream",
          "name": "stdout",
          "text": [
            "                   all         41       2017      0.939      0.927      0.967      0.754\n"
          ]
        },
        {
          "output_type": "stream",
          "name": "stderr",
          "text": [
            "\n"
          ]
        },
        {
          "output_type": "stream",
          "name": "stdout",
          "text": [
            "\n",
            "      Epoch    GPU_mem   box_loss   cls_loss   dfl_loss  Instances       Size\n"
          ]
        },
        {
          "output_type": "stream",
          "name": "stderr",
          "text": [
            "      38/50      6.43G     0.6727     0.3968      0.883        248        640: 100%|██████████| 28/28 [00:35<00:00,  1.27s/it]\n",
            "                 Class     Images  Instances      Box(P          R      mAP50  mAP50-95): 100%|██████████| 2/2 [00:01<00:00,  1.78it/s]"
          ]
        },
        {
          "output_type": "stream",
          "name": "stdout",
          "text": [
            "                   all         41       2017      0.953      0.923      0.966       0.76\n"
          ]
        },
        {
          "output_type": "stream",
          "name": "stderr",
          "text": [
            "\n"
          ]
        },
        {
          "output_type": "stream",
          "name": "stdout",
          "text": [
            "\n",
            "      Epoch    GPU_mem   box_loss   cls_loss   dfl_loss  Instances       Size\n"
          ]
        },
        {
          "output_type": "stream",
          "name": "stderr",
          "text": [
            "      39/50      6.43G     0.6595     0.3858     0.8785        209        640: 100%|██████████| 28/28 [00:35<00:00,  1.28s/it]\n",
            "                 Class     Images  Instances      Box(P          R      mAP50  mAP50-95): 100%|██████████| 2/2 [00:00<00:00,  2.15it/s]"
          ]
        },
        {
          "output_type": "stream",
          "name": "stdout",
          "text": [
            "                   all         41       2017      0.956      0.909      0.964      0.757\n"
          ]
        },
        {
          "output_type": "stream",
          "name": "stderr",
          "text": [
            "\n"
          ]
        },
        {
          "output_type": "stream",
          "name": "stdout",
          "text": [
            "\n",
            "      Epoch    GPU_mem   box_loss   cls_loss   dfl_loss  Instances       Size\n"
          ]
        },
        {
          "output_type": "stream",
          "name": "stderr",
          "text": [
            "      40/50      6.43G     0.6399     0.3804     0.8747        161        640: 100%|██████████| 28/28 [00:37<00:00,  1.33s/it]\n",
            "                 Class     Images  Instances      Box(P          R      mAP50  mAP50-95): 100%|██████████| 2/2 [00:01<00:00,  1.95it/s]"
          ]
        },
        {
          "output_type": "stream",
          "name": "stdout",
          "text": [
            "                   all         41       2017      0.931      0.906       0.96      0.756\n"
          ]
        },
        {
          "output_type": "stream",
          "name": "stderr",
          "text": [
            "\n"
          ]
        },
        {
          "output_type": "stream",
          "name": "stdout",
          "text": [
            "Closing dataloader mosaic\n",
            "\u001b[34m\u001b[1malbumentations: \u001b[0mBlur(p=0.01, blur_limit=(3, 7)), MedianBlur(p=0.01, blur_limit=(3, 7)), ToGray(p=0.01, method='weighted_average', num_output_channels=3), CLAHE(p=0.01, clip_limit=(1.0, 4.0), tile_grid_size=(8, 8))\n",
            "\n",
            "      Epoch    GPU_mem   box_loss   cls_loss   dfl_loss  Instances       Size\n"
          ]
        },
        {
          "output_type": "stream",
          "name": "stderr",
          "text": [
            "      41/50      6.43G      0.623     0.3814     0.8702        160        640: 100%|██████████| 28/28 [00:16<00:00,  1.66it/s]\n",
            "                 Class     Images  Instances      Box(P          R      mAP50  mAP50-95): 100%|██████████| 2/2 [00:01<00:00,  1.84it/s]"
          ]
        },
        {
          "output_type": "stream",
          "name": "stdout",
          "text": [
            "                   all         41       2017      0.941      0.918      0.966      0.737\n"
          ]
        },
        {
          "output_type": "stream",
          "name": "stderr",
          "text": [
            "\n"
          ]
        },
        {
          "output_type": "stream",
          "name": "stdout",
          "text": [
            "\n",
            "      Epoch    GPU_mem   box_loss   cls_loss   dfl_loss  Instances       Size\n"
          ]
        },
        {
          "output_type": "stream",
          "name": "stderr",
          "text": [
            "      42/50      6.46G     0.6187     0.3742     0.8647        189        640: 100%|██████████| 28/28 [00:15<00:00,  1.86it/s]\n",
            "                 Class     Images  Instances      Box(P          R      mAP50  mAP50-95): 100%|██████████| 2/2 [00:01<00:00,  1.73it/s]"
          ]
        },
        {
          "output_type": "stream",
          "name": "stdout",
          "text": [
            "                   all         41       2017      0.952      0.927      0.968       0.76\n"
          ]
        },
        {
          "output_type": "stream",
          "name": "stderr",
          "text": [
            "\n"
          ]
        },
        {
          "output_type": "stream",
          "name": "stdout",
          "text": [
            "\n",
            "      Epoch    GPU_mem   box_loss   cls_loss   dfl_loss  Instances       Size\n"
          ]
        },
        {
          "output_type": "stream",
          "name": "stderr",
          "text": [
            "      43/50       6.5G     0.6179      0.369     0.8596        313        640: 100%|██████████| 28/28 [00:15<00:00,  1.85it/s]\n",
            "                 Class     Images  Instances      Box(P          R      mAP50  mAP50-95): 100%|██████████| 2/2 [00:00<00:00,  2.08it/s]"
          ]
        },
        {
          "output_type": "stream",
          "name": "stdout",
          "text": [
            "                   all         41       2017      0.939      0.916      0.965      0.756\n"
          ]
        },
        {
          "output_type": "stream",
          "name": "stderr",
          "text": [
            "\n"
          ]
        },
        {
          "output_type": "stream",
          "name": "stdout",
          "text": [
            "\n",
            "      Epoch    GPU_mem   box_loss   cls_loss   dfl_loss  Instances       Size\n"
          ]
        },
        {
          "output_type": "stream",
          "name": "stderr",
          "text": [
            "      44/50      6.54G     0.6098     0.3671     0.8591        293        640: 100%|██████████| 28/28 [00:14<00:00,  1.93it/s]\n",
            "                 Class     Images  Instances      Box(P          R      mAP50  mAP50-95): 100%|██████████| 2/2 [00:00<00:00,  2.07it/s]"
          ]
        },
        {
          "output_type": "stream",
          "name": "stdout",
          "text": [
            "                   all         41       2017      0.944      0.931      0.965      0.751\n"
          ]
        },
        {
          "output_type": "stream",
          "name": "stderr",
          "text": [
            "\n"
          ]
        },
        {
          "output_type": "stream",
          "name": "stdout",
          "text": [
            "\n",
            "      Epoch    GPU_mem   box_loss   cls_loss   dfl_loss  Instances       Size\n"
          ]
        },
        {
          "output_type": "stream",
          "name": "stderr",
          "text": [
            "      45/50      6.57G     0.6059     0.3609     0.8601        154        640: 100%|██████████| 28/28 [00:14<00:00,  1.93it/s]\n",
            "                 Class     Images  Instances      Box(P          R      mAP50  mAP50-95): 100%|██████████| 2/2 [00:01<00:00,  1.34it/s]"
          ]
        },
        {
          "output_type": "stream",
          "name": "stdout",
          "text": [
            "                   all         41       2017      0.954      0.918      0.966      0.752\n"
          ]
        },
        {
          "output_type": "stream",
          "name": "stderr",
          "text": [
            "\n"
          ]
        },
        {
          "output_type": "stream",
          "name": "stdout",
          "text": [
            "\n",
            "      Epoch    GPU_mem   box_loss   cls_loss   dfl_loss  Instances       Size\n"
          ]
        },
        {
          "output_type": "stream",
          "name": "stderr",
          "text": [
            "      46/50      6.61G     0.5994     0.3537     0.8593        186        640: 100%|██████████| 28/28 [00:14<00:00,  1.89it/s]\n",
            "                 Class     Images  Instances      Box(P          R      mAP50  mAP50-95): 100%|██████████| 2/2 [00:00<00:00,  2.24it/s]"
          ]
        },
        {
          "output_type": "stream",
          "name": "stdout",
          "text": [
            "                   all         41       2017      0.944      0.931      0.969      0.772\n"
          ]
        },
        {
          "output_type": "stream",
          "name": "stderr",
          "text": [
            "\n"
          ]
        },
        {
          "output_type": "stream",
          "name": "stdout",
          "text": [
            "\n",
            "      Epoch    GPU_mem   box_loss   cls_loss   dfl_loss  Instances       Size\n"
          ]
        },
        {
          "output_type": "stream",
          "name": "stderr",
          "text": [
            "      47/50      6.64G     0.5857     0.3522     0.8525        161        640: 100%|██████████| 28/28 [00:14<00:00,  1.96it/s]\n",
            "                 Class     Images  Instances      Box(P          R      mAP50  mAP50-95): 100%|██████████| 2/2 [00:01<00:00,  1.80it/s]"
          ]
        },
        {
          "output_type": "stream",
          "name": "stdout",
          "text": [
            "                   all         41       2017      0.941      0.937      0.968      0.765\n"
          ]
        },
        {
          "output_type": "stream",
          "name": "stderr",
          "text": [
            "\n"
          ]
        },
        {
          "output_type": "stream",
          "name": "stdout",
          "text": [
            "\n",
            "      Epoch    GPU_mem   box_loss   cls_loss   dfl_loss  Instances       Size\n"
          ]
        },
        {
          "output_type": "stream",
          "name": "stderr",
          "text": [
            "      48/50      6.68G     0.5779     0.3464      0.858        248        640: 100%|██████████| 28/28 [00:14<00:00,  1.89it/s]\n",
            "                 Class     Images  Instances      Box(P          R      mAP50  mAP50-95): 100%|██████████| 2/2 [00:01<00:00,  1.86it/s]"
          ]
        },
        {
          "output_type": "stream",
          "name": "stdout",
          "text": [
            "                   all         41       2017      0.951       0.93      0.969      0.772\n"
          ]
        },
        {
          "output_type": "stream",
          "name": "stderr",
          "text": [
            "\n"
          ]
        },
        {
          "output_type": "stream",
          "name": "stdout",
          "text": [
            "\n",
            "      Epoch    GPU_mem   box_loss   cls_loss   dfl_loss  Instances       Size\n"
          ]
        },
        {
          "output_type": "stream",
          "name": "stderr",
          "text": [
            "      49/50      6.72G     0.5735     0.3346     0.8537        291        640: 100%|██████████| 28/28 [00:14<00:00,  1.90it/s]\n",
            "                 Class     Images  Instances      Box(P          R      mAP50  mAP50-95): 100%|██████████| 2/2 [00:01<00:00,  1.84it/s]"
          ]
        },
        {
          "output_type": "stream",
          "name": "stdout",
          "text": [
            "                   all         41       2017      0.956      0.921       0.97      0.773\n"
          ]
        },
        {
          "output_type": "stream",
          "name": "stderr",
          "text": [
            "\n"
          ]
        },
        {
          "output_type": "stream",
          "name": "stdout",
          "text": [
            "\n",
            "      Epoch    GPU_mem   box_loss   cls_loss   dfl_loss  Instances       Size\n"
          ]
        },
        {
          "output_type": "stream",
          "name": "stderr",
          "text": [
            "      50/50      6.75G     0.5639     0.3413     0.8549         86        640: 100%|██████████| 28/28 [00:14<00:00,  1.88it/s]\n",
            "                 Class     Images  Instances      Box(P          R      mAP50  mAP50-95): 100%|██████████| 2/2 [00:00<00:00,  2.08it/s]"
          ]
        },
        {
          "output_type": "stream",
          "name": "stdout",
          "text": [
            "                   all         41       2017      0.948      0.934      0.971      0.769\n"
          ]
        },
        {
          "output_type": "stream",
          "name": "stderr",
          "text": [
            "\n"
          ]
        },
        {
          "output_type": "stream",
          "name": "stdout",
          "text": [
            "\n",
            "50 epochs completed in 0.472 hours.\n",
            "Optimizer stripped from runs/detect/train/weights/last.pt, 22.5MB\n",
            "Optimizer stripped from runs/detect/train/weights/best.pt, 22.5MB\n",
            "\n",
            "Validating runs/detect/train/weights/best.pt...\n",
            "Ultralytics 8.3.127 🚀 Python-3.11.12 torch-2.6.0+cu124 CUDA:0 (Tesla T4, 15095MiB)\n",
            "Model summary (fused): 72 layers, 11,126,358 parameters, 0 gradients, 28.4 GFLOPs\n"
          ]
        },
        {
          "output_type": "stream",
          "name": "stderr",
          "text": [
            "                 Class     Images  Instances      Box(P          R      mAP50  mAP50-95): 100%|██████████| 2/2 [00:01<00:00,  1.82it/s]\n"
          ]
        },
        {
          "output_type": "stream",
          "name": "stdout",
          "text": [
            "                   all         41       2017      0.957      0.921       0.97      0.772\n",
            "                Pallet         41       2017      0.957      0.921       0.97      0.772\n",
            "Speed: 0.2ms preprocess, 5.8ms inference, 0.0ms loss, 3.6ms postprocess per image\n",
            "Results saved to \u001b[1mruns/detect/train\u001b[0m\n"
          ]
        }
      ]
    },
    {
      "cell_type": "code",
      "source": [
        "model.val()"
      ],
      "metadata": {
        "colab": {
          "base_uri": "https://localhost:8080/"
        },
        "id": "WOud4qnYqjGR",
        "outputId": "c81dac3e-cb41-43c5-ea76-705ac3fd95dd"
      },
      "execution_count": null,
      "outputs": [
        {
          "output_type": "stream",
          "name": "stdout",
          "text": [
            "Ultralytics 8.3.127 🚀 Python-3.11.12 torch-2.6.0+cu124 CUDA:0 (Tesla T4, 15095MiB)\n",
            "Model summary (fused): 72 layers, 11,126,358 parameters, 0 gradients, 28.4 GFLOPs\n",
            "\u001b[34m\u001b[1mval: \u001b[0mFast image access ✅ (ping: 0.0±0.0 ms, read: 1593.0±589.7 MB/s, size: 95.6 KB)\n"
          ]
        },
        {
          "output_type": "stream",
          "name": "stderr",
          "text": [
            "\u001b[34m\u001b[1mval: \u001b[0mScanning /content/Pallet-Detection-and-Counting-3/valid/labels.cache... 41 images, 0 backgrounds, 0 corrupt: 100%|██████████| 41/41 [00:00<?, ?it/s]"
          ]
        },
        {
          "output_type": "stream",
          "name": "stdout",
          "text": [
            "\u001b[34m\u001b[1mval: \u001b[0m/content/Pallet-Detection-and-Counting-3/valid/images/Screenshot-2025-02-11-095114_png.rf.3e9d9fa90e6843e34ce3787d1b3535e1.jpg: 3 duplicate labels removed\n",
            "\u001b[34m\u001b[1mval: \u001b[0m/content/Pallet-Detection-and-Counting-3/valid/images/Screenshot-2025-02-11-095114_png.rf.9fe7fa20534f1af1798d3333314bc9ef.jpg: 3 duplicate labels removed\n",
            "\u001b[34m\u001b[1mval: \u001b[0m/content/Pallet-Detection-and-Counting-3/valid/images/Screenshot-2025-02-11-100602_png.rf.2739cbecba955841fd901a784e013f9a.jpg: 4 duplicate labels removed\n",
            "\u001b[34m\u001b[1mval: \u001b[0m/content/Pallet-Detection-and-Counting-3/valid/images/b6fb487f47b8b7f236177a11b650_jpg.rf.0a19d086b4b8d351f2010663f849e996.jpg: 1 duplicate labels removed\n",
            "\u001b[34m\u001b[1mval: \u001b[0m/content/Pallet-Detection-and-Counting-3/valid/images/chep-wooden-pallet-BJ229W_jpg.rf.168149f5a6df3fd8799590b4e4b8cf47.jpg: 3 duplicate labels removed\n",
            "\u001b[34m\u001b[1mval: \u001b[0m/content/Pallet-Detection-and-Counting-3/valid/images/chep-wooden-pallet-BJ229W_jpg.rf.c25fe6844e4b348a6a84ab6a681a9238.jpg: 3 duplicate labels removed\n"
          ]
        },
        {
          "output_type": "stream",
          "name": "stderr",
          "text": [
            "\n",
            "                 Class     Images  Instances      Box(P          R      mAP50  mAP50-95): 100%|██████████| 3/3 [00:04<00:00,  1.56s/it]\n"
          ]
        },
        {
          "output_type": "stream",
          "name": "stdout",
          "text": [
            "                   all         41       2017      0.956       0.92      0.969      0.772\n",
            "                Pallet         41       2017      0.956       0.92      0.969      0.772\n",
            "Speed: 6.4ms preprocess, 15.3ms inference, 0.0ms loss, 3.6ms postprocess per image\n",
            "Results saved to \u001b[1mruns/detect/train2\u001b[0m\n"
          ]
        },
        {
          "output_type": "execute_result",
          "data": {
            "text/plain": [
              "ultralytics.utils.metrics.DetMetrics object with attributes:\n",
              "\n",
              "ap_class_index: array([0])\n",
              "box: ultralytics.utils.metrics.Metric object\n",
              "confusion_matrix: <ultralytics.utils.metrics.ConfusionMatrix object at 0x7ae3ee444d90>\n",
              "curves: ['Precision-Recall(B)', 'F1-Confidence(B)', 'Precision-Confidence(B)', 'Recall-Confidence(B)']\n",
              "curves_results: [[array([          0,    0.001001,    0.002002,    0.003003,    0.004004,    0.005005,    0.006006,    0.007007,    0.008008,    0.009009,     0.01001,    0.011011,    0.012012,    0.013013,    0.014014,    0.015015,    0.016016,    0.017017,    0.018018,    0.019019,     0.02002,    0.021021,    0.022022,    0.023023,\n",
              "          0.024024,    0.025025,    0.026026,    0.027027,    0.028028,    0.029029,     0.03003,    0.031031,    0.032032,    0.033033,    0.034034,    0.035035,    0.036036,    0.037037,    0.038038,    0.039039,     0.04004,    0.041041,    0.042042,    0.043043,    0.044044,    0.045045,    0.046046,    0.047047,\n",
              "          0.048048,    0.049049,     0.05005,    0.051051,    0.052052,    0.053053,    0.054054,    0.055055,    0.056056,    0.057057,    0.058058,    0.059059,     0.06006,    0.061061,    0.062062,    0.063063,    0.064064,    0.065065,    0.066066,    0.067067,    0.068068,    0.069069,     0.07007,    0.071071,\n",
              "          0.072072,    0.073073,    0.074074,    0.075075,    0.076076,    0.077077,    0.078078,    0.079079,     0.08008,    0.081081,    0.082082,    0.083083,    0.084084,    0.085085,    0.086086,    0.087087,    0.088088,    0.089089,     0.09009,    0.091091,    0.092092,    0.093093,    0.094094,    0.095095,\n",
              "          0.096096,    0.097097,    0.098098,    0.099099,      0.1001,      0.1011,      0.1021,      0.1031,      0.1041,     0.10511,     0.10611,     0.10711,     0.10811,     0.10911,     0.11011,     0.11111,     0.11211,     0.11311,     0.11411,     0.11512,     0.11612,     0.11712,     0.11812,     0.11912,\n",
              "           0.12012,     0.12112,     0.12212,     0.12312,     0.12412,     0.12513,     0.12613,     0.12713,     0.12813,     0.12913,     0.13013,     0.13113,     0.13213,     0.13313,     0.13413,     0.13514,     0.13614,     0.13714,     0.13814,     0.13914,     0.14014,     0.14114,     0.14214,     0.14314,\n",
              "           0.14414,     0.14515,     0.14615,     0.14715,     0.14815,     0.14915,     0.15015,     0.15115,     0.15215,     0.15315,     0.15415,     0.15516,     0.15616,     0.15716,     0.15816,     0.15916,     0.16016,     0.16116,     0.16216,     0.16316,     0.16416,     0.16517,     0.16617,     0.16717,\n",
              "           0.16817,     0.16917,     0.17017,     0.17117,     0.17217,     0.17317,     0.17417,     0.17518,     0.17618,     0.17718,     0.17818,     0.17918,     0.18018,     0.18118,     0.18218,     0.18318,     0.18418,     0.18519,     0.18619,     0.18719,     0.18819,     0.18919,     0.19019,     0.19119,\n",
              "           0.19219,     0.19319,     0.19419,      0.1952,      0.1962,      0.1972,      0.1982,      0.1992,      0.2002,      0.2012,      0.2022,      0.2032,      0.2042,     0.20521,     0.20621,     0.20721,     0.20821,     0.20921,     0.21021,     0.21121,     0.21221,     0.21321,     0.21421,     0.21522,\n",
              "           0.21622,     0.21722,     0.21822,     0.21922,     0.22022,     0.22122,     0.22222,     0.22322,     0.22422,     0.22523,     0.22623,     0.22723,     0.22823,     0.22923,     0.23023,     0.23123,     0.23223,     0.23323,     0.23423,     0.23524,     0.23624,     0.23724,     0.23824,     0.23924,\n",
              "           0.24024,     0.24124,     0.24224,     0.24324,     0.24424,     0.24525,     0.24625,     0.24725,     0.24825,     0.24925,     0.25025,     0.25125,     0.25225,     0.25325,     0.25425,     0.25526,     0.25626,     0.25726,     0.25826,     0.25926,     0.26026,     0.26126,     0.26226,     0.26326,\n",
              "           0.26426,     0.26527,     0.26627,     0.26727,     0.26827,     0.26927,     0.27027,     0.27127,     0.27227,     0.27327,     0.27427,     0.27528,     0.27628,     0.27728,     0.27828,     0.27928,     0.28028,     0.28128,     0.28228,     0.28328,     0.28428,     0.28529,     0.28629,     0.28729,\n",
              "           0.28829,     0.28929,     0.29029,     0.29129,     0.29229,     0.29329,     0.29429,      0.2953,      0.2963,      0.2973,      0.2983,      0.2993,      0.3003,      0.3013,      0.3023,      0.3033,      0.3043,     0.30531,     0.30631,     0.30731,     0.30831,     0.30931,     0.31031,     0.31131,\n",
              "           0.31231,     0.31331,     0.31431,     0.31532,     0.31632,     0.31732,     0.31832,     0.31932,     0.32032,     0.32132,     0.32232,     0.32332,     0.32432,     0.32533,     0.32633,     0.32733,     0.32833,     0.32933,     0.33033,     0.33133,     0.33233,     0.33333,     0.33433,     0.33534,\n",
              "           0.33634,     0.33734,     0.33834,     0.33934,     0.34034,     0.34134,     0.34234,     0.34334,     0.34434,     0.34535,     0.34635,     0.34735,     0.34835,     0.34935,     0.35035,     0.35135,     0.35235,     0.35335,     0.35435,     0.35536,     0.35636,     0.35736,     0.35836,     0.35936,\n",
              "           0.36036,     0.36136,     0.36236,     0.36336,     0.36436,     0.36537,     0.36637,     0.36737,     0.36837,     0.36937,     0.37037,     0.37137,     0.37237,     0.37337,     0.37437,     0.37538,     0.37638,     0.37738,     0.37838,     0.37938,     0.38038,     0.38138,     0.38238,     0.38338,\n",
              "           0.38438,     0.38539,     0.38639,     0.38739,     0.38839,     0.38939,     0.39039,     0.39139,     0.39239,     0.39339,     0.39439,      0.3954,      0.3964,      0.3974,      0.3984,      0.3994,      0.4004,      0.4014,      0.4024,      0.4034,      0.4044,     0.40541,     0.40641,     0.40741,\n",
              "           0.40841,     0.40941,     0.41041,     0.41141,     0.41241,     0.41341,     0.41441,     0.41542,     0.41642,     0.41742,     0.41842,     0.41942,     0.42042,     0.42142,     0.42242,     0.42342,     0.42442,     0.42543,     0.42643,     0.42743,     0.42843,     0.42943,     0.43043,     0.43143,\n",
              "           0.43243,     0.43343,     0.43443,     0.43544,     0.43644,     0.43744,     0.43844,     0.43944,     0.44044,     0.44144,     0.44244,     0.44344,     0.44444,     0.44545,     0.44645,     0.44745,     0.44845,     0.44945,     0.45045,     0.45145,     0.45245,     0.45345,     0.45445,     0.45546,\n",
              "           0.45646,     0.45746,     0.45846,     0.45946,     0.46046,     0.46146,     0.46246,     0.46346,     0.46446,     0.46547,     0.46647,     0.46747,     0.46847,     0.46947,     0.47047,     0.47147,     0.47247,     0.47347,     0.47447,     0.47548,     0.47648,     0.47748,     0.47848,     0.47948,\n",
              "           0.48048,     0.48148,     0.48248,     0.48348,     0.48448,     0.48549,     0.48649,     0.48749,     0.48849,     0.48949,     0.49049,     0.49149,     0.49249,     0.49349,     0.49449,      0.4955,      0.4965,      0.4975,      0.4985,      0.4995,      0.5005,      0.5015,      0.5025,      0.5035,\n",
              "            0.5045,     0.50551,     0.50651,     0.50751,     0.50851,     0.50951,     0.51051,     0.51151,     0.51251,     0.51351,     0.51451,     0.51552,     0.51652,     0.51752,     0.51852,     0.51952,     0.52052,     0.52152,     0.52252,     0.52352,     0.52452,     0.52553,     0.52653,     0.52753,\n",
              "           0.52853,     0.52953,     0.53053,     0.53153,     0.53253,     0.53353,     0.53453,     0.53554,     0.53654,     0.53754,     0.53854,     0.53954,     0.54054,     0.54154,     0.54254,     0.54354,     0.54454,     0.54555,     0.54655,     0.54755,     0.54855,     0.54955,     0.55055,     0.55155,\n",
              "           0.55255,     0.55355,     0.55455,     0.55556,     0.55656,     0.55756,     0.55856,     0.55956,     0.56056,     0.56156,     0.56256,     0.56356,     0.56456,     0.56557,     0.56657,     0.56757,     0.56857,     0.56957,     0.57057,     0.57157,     0.57257,     0.57357,     0.57457,     0.57558,\n",
              "           0.57658,     0.57758,     0.57858,     0.57958,     0.58058,     0.58158,     0.58258,     0.58358,     0.58458,     0.58559,     0.58659,     0.58759,     0.58859,     0.58959,     0.59059,     0.59159,     0.59259,     0.59359,     0.59459,      0.5956,      0.5966,      0.5976,      0.5986,      0.5996,\n",
              "            0.6006,      0.6016,      0.6026,      0.6036,      0.6046,     0.60561,     0.60661,     0.60761,     0.60861,     0.60961,     0.61061,     0.61161,     0.61261,     0.61361,     0.61461,     0.61562,     0.61662,     0.61762,     0.61862,     0.61962,     0.62062,     0.62162,     0.62262,     0.62362,\n",
              "           0.62462,     0.62563,     0.62663,     0.62763,     0.62863,     0.62963,     0.63063,     0.63163,     0.63263,     0.63363,     0.63463,     0.63564,     0.63664,     0.63764,     0.63864,     0.63964,     0.64064,     0.64164,     0.64264,     0.64364,     0.64464,     0.64565,     0.64665,     0.64765,\n",
              "           0.64865,     0.64965,     0.65065,     0.65165,     0.65265,     0.65365,     0.65465,     0.65566,     0.65666,     0.65766,     0.65866,     0.65966,     0.66066,     0.66166,     0.66266,     0.66366,     0.66466,     0.66567,     0.66667,     0.66767,     0.66867,     0.66967,     0.67067,     0.67167,\n",
              "           0.67267,     0.67367,     0.67467,     0.67568,     0.67668,     0.67768,     0.67868,     0.67968,     0.68068,     0.68168,     0.68268,     0.68368,     0.68468,     0.68569,     0.68669,     0.68769,     0.68869,     0.68969,     0.69069,     0.69169,     0.69269,     0.69369,     0.69469,      0.6957,\n",
              "            0.6967,      0.6977,      0.6987,      0.6997,      0.7007,      0.7017,      0.7027,      0.7037,      0.7047,     0.70571,     0.70671,     0.70771,     0.70871,     0.70971,     0.71071,     0.71171,     0.71271,     0.71371,     0.71471,     0.71572,     0.71672,     0.71772,     0.71872,     0.71972,\n",
              "           0.72072,     0.72172,     0.72272,     0.72372,     0.72472,     0.72573,     0.72673,     0.72773,     0.72873,     0.72973,     0.73073,     0.73173,     0.73273,     0.73373,     0.73473,     0.73574,     0.73674,     0.73774,     0.73874,     0.73974,     0.74074,     0.74174,     0.74274,     0.74374,\n",
              "           0.74474,     0.74575,     0.74675,     0.74775,     0.74875,     0.74975,     0.75075,     0.75175,     0.75275,     0.75375,     0.75475,     0.75576,     0.75676,     0.75776,     0.75876,     0.75976,     0.76076,     0.76176,     0.76276,     0.76376,     0.76476,     0.76577,     0.76677,     0.76777,\n",
              "           0.76877,     0.76977,     0.77077,     0.77177,     0.77277,     0.77377,     0.77477,     0.77578,     0.77678,     0.77778,     0.77878,     0.77978,     0.78078,     0.78178,     0.78278,     0.78378,     0.78478,     0.78579,     0.78679,     0.78779,     0.78879,     0.78979,     0.79079,     0.79179,\n",
              "           0.79279,     0.79379,     0.79479,      0.7958,      0.7968,      0.7978,      0.7988,      0.7998,      0.8008,      0.8018,      0.8028,      0.8038,      0.8048,     0.80581,     0.80681,     0.80781,     0.80881,     0.80981,     0.81081,     0.81181,     0.81281,     0.81381,     0.81481,     0.81582,\n",
              "           0.81682,     0.81782,     0.81882,     0.81982,     0.82082,     0.82182,     0.82282,     0.82382,     0.82482,     0.82583,     0.82683,     0.82783,     0.82883,     0.82983,     0.83083,     0.83183,     0.83283,     0.83383,     0.83483,     0.83584,     0.83684,     0.83784,     0.83884,     0.83984,\n",
              "           0.84084,     0.84184,     0.84284,     0.84384,     0.84484,     0.84585,     0.84685,     0.84785,     0.84885,     0.84985,     0.85085,     0.85185,     0.85285,     0.85385,     0.85485,     0.85586,     0.85686,     0.85786,     0.85886,     0.85986,     0.86086,     0.86186,     0.86286,     0.86386,\n",
              "           0.86486,     0.86587,     0.86687,     0.86787,     0.86887,     0.86987,     0.87087,     0.87187,     0.87287,     0.87387,     0.87487,     0.87588,     0.87688,     0.87788,     0.87888,     0.87988,     0.88088,     0.88188,     0.88288,     0.88388,     0.88488,     0.88589,     0.88689,     0.88789,\n",
              "           0.88889,     0.88989,     0.89089,     0.89189,     0.89289,     0.89389,     0.89489,      0.8959,      0.8969,      0.8979,      0.8989,      0.8999,      0.9009,      0.9019,      0.9029,      0.9039,      0.9049,     0.90591,     0.90691,     0.90791,     0.90891,     0.90991,     0.91091,     0.91191,\n",
              "           0.91291,     0.91391,     0.91491,     0.91592,     0.91692,     0.91792,     0.91892,     0.91992,     0.92092,     0.92192,     0.92292,     0.92392,     0.92492,     0.92593,     0.92693,     0.92793,     0.92893,     0.92993,     0.93093,     0.93193,     0.93293,     0.93393,     0.93493,     0.93594,\n",
              "           0.93694,     0.93794,     0.93894,     0.93994,     0.94094,     0.94194,     0.94294,     0.94394,     0.94494,     0.94595,     0.94695,     0.94795,     0.94895,     0.94995,     0.95095,     0.95195,     0.95295,     0.95395,     0.95495,     0.95596,     0.95696,     0.95796,     0.95896,     0.95996,\n",
              "           0.96096,     0.96196,     0.96296,     0.96396,     0.96496,     0.96597,     0.96697,     0.96797,     0.96897,     0.96997,     0.97097,     0.97197,     0.97297,     0.97397,     0.97497,     0.97598,     0.97698,     0.97798,     0.97898,     0.97998,     0.98098,     0.98198,     0.98298,     0.98398,\n",
              "           0.98498,     0.98599,     0.98699,     0.98799,     0.98899,     0.98999,     0.99099,     0.99199,     0.99299,     0.99399,     0.99499,       0.996,       0.997,       0.998,       0.999,           1]), array([[          1,           1,           1,           1,           1,           1,           1,           1,           1,           1,           1,           1,           1,           1,           1,           1,           1,           1,           1,           1,           1,           1,           1,\n",
              "                  1,           1,           1,           1,           1,           1,           1,           1,           1,           1,           1,           1,           1,           1,           1,           1,           1,           1,           1,           1,           1,           1,           1,\n",
              "                  1,           1,           1,           1,           1,           1,           1,           1,           1,           1,           1,           1,           1,           1,           1,           1,           1,           1,           1,           1,           1,           1,           1,\n",
              "                  1,           1,           1,           1,           1,           1,           1,           1,           1,           1,           1,           1,           1,           1,           1,           1,           1,           1,           1,           1,           1,           1,           1,\n",
              "                  1,           1,           1,           1,           1,           1,           1,           1,           1,           1,           1,           1,           1,           1,           1,           1,           1,           1,           1,           1,           1,           1,           1,\n",
              "                  1,           1,           1,           1,           1,           1,           1,           1,           1,           1,           1,           1,           1,           1,           1,           1,           1,           1,           1,           1,           1,           1,           1,\n",
              "                  1,           1,           1,           1,           1,           1,           1,           1,           1,           1,           1,           1,           1,           1,           1,           1,           1,           1,           1,           1,           1,           1,           1,\n",
              "                  1,           1,           1,     0.99805,     0.99805,     0.99805,     0.99805,     0.99805,     0.99805,     0.99805,     0.99805,     0.99805,     0.99805,     0.99805,     0.99805,     0.99805,     0.99805,     0.99805,     0.99805,     0.99805,     0.99805,     0.99805,     0.99805,\n",
              "            0.99805,     0.99805,     0.99805,     0.99805,     0.99805,     0.99805,     0.99805,     0.99805,     0.99805,     0.99805,     0.99805,     0.99805,     0.99805,     0.99805,     0.99805,     0.99805,     0.99805,     0.99805,     0.99805,     0.99805,     0.99805,     0.99805,     0.99805,\n",
              "            0.99805,     0.99805,     0.99805,     0.99805,     0.99805,     0.99805,     0.99805,     0.99805,     0.99805,     0.99805,     0.99805,     0.99805,     0.99805,     0.99805,     0.99805,     0.99805,     0.99805,     0.99805,     0.99805,     0.99805,     0.99805,     0.99805,     0.99805,\n",
              "            0.99805,     0.99805,     0.99805,     0.99805,     0.99805,     0.99805,     0.99805,     0.99805,     0.99805,     0.99805,     0.99805,     0.99805,     0.99805,     0.99805,     0.99805,     0.99805,     0.99805,     0.99805,     0.99805,     0.99805,     0.99805,     0.99805,     0.99805,\n",
              "            0.99805,     0.99805,      0.9965,      0.9965,      0.9965,      0.9965,      0.9965,      0.9965,      0.9965,      0.9965,      0.9965,      0.9965,      0.9965,      0.9965,      0.9965,      0.9965,      0.9965,      0.9965,      0.9965,      0.9965,      0.9965,      0.9965,      0.9965,\n",
              "             0.9965,      0.9965,      0.9965,      0.9965,      0.9965,      0.9965,      0.9965,     0.99588,     0.99588,     0.99588,     0.99588,     0.99588,     0.99588,     0.99588,     0.99588,     0.99588,     0.99588,     0.99588,     0.99588,     0.99588,     0.99588,     0.99588,     0.99588,\n",
              "            0.99588,     0.99588,     0.99588,     0.99588,     0.99588,     0.99588,     0.99588,     0.99588,     0.99588,     0.99588,     0.99588,     0.99588,     0.99588,     0.99588,     0.99588,     0.99588,     0.99588,     0.99588,     0.99588,     0.99588,     0.99588,     0.99588,     0.99588,\n",
              "            0.99588,     0.99588,     0.99588,     0.99588,     0.99588,     0.99588,     0.99588,     0.99588,     0.99588,     0.99588,     0.99588,     0.99588,     0.99588,     0.99588,     0.99588,     0.99588,     0.99588,     0.99588,     0.99588,     0.99588,     0.99588,     0.99588,     0.99588,\n",
              "            0.99588,     0.99588,     0.99588,     0.99588,     0.99588,     0.99588,     0.99588,     0.99588,     0.99588,     0.99588,     0.99588,     0.99588,     0.99588,     0.99588,     0.99588,     0.99588,     0.99588,     0.99588,     0.99588,     0.99588,     0.99588,     0.99588,     0.99588,\n",
              "            0.99588,     0.99588,     0.99588,     0.99588,     0.99588,     0.99588,     0.99588,     0.99588,     0.99588,     0.99588,     0.99588,     0.99588,     0.99588,     0.99588,     0.99588,     0.99588,     0.99588,     0.99588,     0.99588,     0.99588,     0.99588,     0.99588,     0.99588,\n",
              "            0.99588,     0.99588,     0.99588,     0.99588,     0.99588,     0.99588,     0.99588,     0.99588,     0.99588,     0.99588,     0.99588,     0.99588,     0.99588,     0.99588,     0.99588,     0.99588,     0.99588,     0.99588,     0.99588,     0.99588,     0.99588,     0.99588,     0.99588,\n",
              "            0.99588,     0.99588,     0.99588,     0.99588,     0.99588,     0.99588,     0.99588,     0.99588,     0.99588,     0.99588,     0.99588,     0.99588,     0.99588,     0.99588,     0.99588,     0.99588,     0.99588,     0.99588,     0.99588,     0.99588,     0.99588,     0.99588,     0.99588,\n",
              "            0.99588,     0.99588,     0.99588,     0.99588,     0.99588,     0.99588,     0.99588,     0.99588,     0.99588,     0.99588,     0.99588,     0.99588,     0.99588,     0.99588,     0.99588,     0.99588,     0.99588,     0.99588,     0.99588,     0.99588,     0.99588,     0.99588,     0.99588,\n",
              "            0.99588,     0.99588,     0.99588,     0.99588,     0.99588,     0.99588,     0.99588,     0.99588,     0.99588,     0.99588,     0.99588,     0.99588,     0.99588,     0.99588,     0.99588,     0.99588,     0.99588,     0.99588,     0.99588,     0.99588,     0.99588,     0.99588,     0.99588,\n",
              "            0.99588,     0.99588,     0.99588,     0.99588,     0.99588,     0.99588,     0.99588,     0.99588,     0.99588,     0.99588,     0.99588,     0.99588,     0.99588,     0.99588,     0.99588,     0.99588,     0.99588,     0.99588,     0.99588,     0.99588,     0.99588,     0.99588,     0.99588,\n",
              "            0.99588,     0.99588,     0.99588,     0.99588,     0.99588,     0.99588,     0.99588,     0.99588,     0.99588,     0.99588,     0.99588,     0.99588,     0.99588,     0.99588,     0.99588,     0.99588,     0.99588,     0.99588,     0.99588,     0.99588,     0.99588,     0.99588,     0.99588,\n",
              "            0.99588,     0.99588,     0.99588,     0.99588,     0.99588,     0.99588,     0.99588,     0.99588,     0.99588,     0.99588,     0.99588,     0.99588,     0.99588,     0.99588,     0.99588,     0.99588,     0.99588,     0.99588,     0.99588,     0.99588,     0.99588,     0.99588,     0.99588,\n",
              "            0.99588,     0.99588,     0.99588,     0.99588,     0.99588,     0.99588,     0.99588,     0.99588,     0.99588,     0.99588,     0.99588,     0.99588,     0.99588,     0.99588,     0.99588,     0.99588,     0.99588,     0.99588,     0.99588,     0.99588,     0.99588,     0.99588,     0.99588,\n",
              "            0.99588,     0.99588,     0.99588,     0.99588,     0.99588,     0.99588,     0.99588,     0.99588,     0.99588,     0.99588,     0.99588,     0.99588,     0.99588,     0.99588,     0.99588,     0.99588,     0.99588,     0.99588,     0.99588,     0.99588,     0.99588,     0.99588,     0.99588,\n",
              "            0.99588,     0.99588,     0.99511,     0.99511,     0.99511,     0.99511,     0.99511,     0.99459,     0.99459,     0.99459,     0.99459,     0.99459,     0.99459,     0.99459,     0.99459,     0.99459,     0.99459,     0.99459,     0.99459,     0.99459,     0.99459,     0.99459,     0.99459,\n",
              "            0.99459,     0.99459,     0.99459,     0.99459,     0.99459,     0.99459,     0.99459,     0.99459,     0.99459,     0.99459,     0.99459,     0.99459,     0.99459,     0.99459,     0.99459,     0.99459,     0.99459,     0.99427,     0.99427,     0.99427,     0.99427,     0.99427,     0.99427,\n",
              "            0.99427,     0.99427,     0.99427,     0.99427,     0.99427,     0.99427,     0.99427,     0.99427,     0.99427,     0.99427,     0.99427,     0.99427,     0.99427,     0.99427,     0.99427,     0.99427,     0.99427,     0.99427,     0.99427,     0.99427,     0.99427,     0.99427,     0.99427,\n",
              "            0.99427,     0.99427,     0.99427,     0.99427,     0.99427,     0.99427,     0.99427,     0.99427,     0.99427,     0.99427,     0.99427,     0.99427,     0.99427,     0.99427,     0.99427,     0.99427,     0.99427,     0.99427,     0.99427,     0.99427,     0.99383,     0.99383,     0.99383,\n",
              "            0.99383,     0.99383,     0.99383,     0.99383,     0.99383,     0.99383,     0.99383,     0.99383,     0.99383,     0.99383,     0.99383,     0.99383,     0.99383,     0.99383,     0.99383,     0.99383,     0.99383,     0.99383,     0.99383,     0.99383,     0.99383,     0.99383,     0.99383,\n",
              "            0.99383,     0.99383,     0.99383,     0.99383,     0.99383,      0.9935,      0.9935,      0.9935,      0.9935,      0.9935,      0.9935,      0.9935,      0.9935,      0.9935,      0.9935,      0.9935,      0.9935,      0.9935,      0.9935,      0.9935,      0.9935,      0.9935,      0.9935,\n",
              "             0.9935,      0.9935,      0.9935,      0.9935,      0.9935,      0.9935,      0.9935,      0.9935,      0.9935,      0.9935,      0.9935,      0.9935,      0.9935,      0.9935,      0.9935,      0.9935,      0.9935,      0.9935,      0.9935,      0.9935,      0.9935,     0.99309,     0.99309,\n",
              "            0.99309,     0.99309,     0.99309,     0.99309,     0.99309,     0.99309,     0.99309,     0.99309,     0.99309,     0.99309,     0.99309,     0.99309,     0.99309,     0.99309,     0.99309,     0.99309,     0.99309,     0.99309,     0.99309,     0.99309,     0.99309,     0.99309,     0.99309,\n",
              "            0.99309,     0.99309,     0.99259,     0.99259,     0.99259,     0.99259,     0.99259,     0.99259,     0.99259,     0.99259,     0.99259,     0.99259,     0.99259,     0.99259,     0.99199,     0.99148,     0.99148,     0.99148,     0.99148,     0.99148,     0.99148,     0.99148,     0.99148,\n",
              "            0.99148,     0.99148,     0.99148,     0.99117,     0.99117,     0.99117,     0.99117,     0.99117,     0.99117,     0.99117,     0.99117,     0.99117,     0.99117,     0.99117,     0.99117,     0.99117,     0.99117,     0.99117,     0.99117,     0.99117,     0.99117,     0.99117,     0.99117,\n",
              "            0.99117,     0.99117,     0.99117,     0.99117,     0.99117,     0.99117,     0.99064,     0.99064,     0.99064,     0.99064,     0.99064,     0.99008,     0.99008,     0.98952,     0.98897,     0.98897,      0.9879,      0.9879,      0.9879,      0.9879,      0.9879,      0.9879,     0.98632,\n",
              "            0.98632,     0.98632,     0.98632,     0.98632,     0.98632,     0.98632,     0.98576,     0.98469,     0.98469,     0.98469,      0.9836,     0.98254,     0.98254,     0.98201,     0.98201,     0.98156,     0.98156,     0.98156,     0.98156,     0.98156,     0.98104,     0.97998,     0.97947,\n",
              "            0.97947,     0.97895,      0.9779,     0.97687,     0.97687,     0.97635,       0.976,       0.976,       0.976,       0.976,       0.976,       0.976,       0.976,     0.97549,       0.975,     0.97457,     0.97457,     0.97457,     0.97457,     0.97363,     0.97363,     0.97363,     0.97157,\n",
              "            0.97054,      0.9691,      0.9691,      0.9691,     0.96814,     0.96814,     0.96716,     0.96716,     0.96672,     0.96672,     0.96574,     0.96429,     0.96429,     0.96387,     0.96387,     0.96347,     0.96347,     0.96347,       0.963,     0.96058,     0.96058,     0.95913,     0.95621,\n",
              "            0.95578,     0.95385,     0.95341,     0.95299,     0.95211,     0.95211,     0.94972,     0.94355,     0.94313,     0.94227,     0.94138,     0.94047,     0.94009,     0.93968,     0.93831,     0.93651,     0.93611,     0.93478,     0.93117,     0.92263,     0.92047,     0.91703,     0.91663,\n",
              "            0.91022,     0.91022,     0.89704,     0.89629,      0.8906,     0.88046,     0.87614,     0.87346,     0.87279,      0.8698,     0.86907,     0.86646,     0.86309,     0.85373,      0.8493,     0.83875,     0.83571,     0.82934,     0.82107,     0.80656,     0.80505,     0.79082,     0.77433,\n",
              "            0.75096,     0.73449,      0.7265,     0.70421,     0.68103,     0.67621,      0.6625,     0.65544,     0.64492,     0.59433,     0.51637,     0.48404,     0.46204,     0.44003,     0.41803,     0.39603,     0.37403,     0.35203,     0.33003,     0.30802,     0.28602,     0.26402,     0.24202,\n",
              "            0.22002,     0.19802,     0.17601,     0.15401,     0.13201,     0.11001,    0.088007,    0.066005,    0.044003,    0.022002,           0]]), 'Recall', 'Precision'], [array([          0,    0.001001,    0.002002,    0.003003,    0.004004,    0.005005,    0.006006,    0.007007,    0.008008,    0.009009,     0.01001,    0.011011,    0.012012,    0.013013,    0.014014,    0.015015,    0.016016,    0.017017,    0.018018,    0.019019,     0.02002,    0.021021,    0.022022,    0.023023,\n",
              "          0.024024,    0.025025,    0.026026,    0.027027,    0.028028,    0.029029,     0.03003,    0.031031,    0.032032,    0.033033,    0.034034,    0.035035,    0.036036,    0.037037,    0.038038,    0.039039,     0.04004,    0.041041,    0.042042,    0.043043,    0.044044,    0.045045,    0.046046,    0.047047,\n",
              "          0.048048,    0.049049,     0.05005,    0.051051,    0.052052,    0.053053,    0.054054,    0.055055,    0.056056,    0.057057,    0.058058,    0.059059,     0.06006,    0.061061,    0.062062,    0.063063,    0.064064,    0.065065,    0.066066,    0.067067,    0.068068,    0.069069,     0.07007,    0.071071,\n",
              "          0.072072,    0.073073,    0.074074,    0.075075,    0.076076,    0.077077,    0.078078,    0.079079,     0.08008,    0.081081,    0.082082,    0.083083,    0.084084,    0.085085,    0.086086,    0.087087,    0.088088,    0.089089,     0.09009,    0.091091,    0.092092,    0.093093,    0.094094,    0.095095,\n",
              "          0.096096,    0.097097,    0.098098,    0.099099,      0.1001,      0.1011,      0.1021,      0.1031,      0.1041,     0.10511,     0.10611,     0.10711,     0.10811,     0.10911,     0.11011,     0.11111,     0.11211,     0.11311,     0.11411,     0.11512,     0.11612,     0.11712,     0.11812,     0.11912,\n",
              "           0.12012,     0.12112,     0.12212,     0.12312,     0.12412,     0.12513,     0.12613,     0.12713,     0.12813,     0.12913,     0.13013,     0.13113,     0.13213,     0.13313,     0.13413,     0.13514,     0.13614,     0.13714,     0.13814,     0.13914,     0.14014,     0.14114,     0.14214,     0.14314,\n",
              "           0.14414,     0.14515,     0.14615,     0.14715,     0.14815,     0.14915,     0.15015,     0.15115,     0.15215,     0.15315,     0.15415,     0.15516,     0.15616,     0.15716,     0.15816,     0.15916,     0.16016,     0.16116,     0.16216,     0.16316,     0.16416,     0.16517,     0.16617,     0.16717,\n",
              "           0.16817,     0.16917,     0.17017,     0.17117,     0.17217,     0.17317,     0.17417,     0.17518,     0.17618,     0.17718,     0.17818,     0.17918,     0.18018,     0.18118,     0.18218,     0.18318,     0.18418,     0.18519,     0.18619,     0.18719,     0.18819,     0.18919,     0.19019,     0.19119,\n",
              "           0.19219,     0.19319,     0.19419,      0.1952,      0.1962,      0.1972,      0.1982,      0.1992,      0.2002,      0.2012,      0.2022,      0.2032,      0.2042,     0.20521,     0.20621,     0.20721,     0.20821,     0.20921,     0.21021,     0.21121,     0.21221,     0.21321,     0.21421,     0.21522,\n",
              "           0.21622,     0.21722,     0.21822,     0.21922,     0.22022,     0.22122,     0.22222,     0.22322,     0.22422,     0.22523,     0.22623,     0.22723,     0.22823,     0.22923,     0.23023,     0.23123,     0.23223,     0.23323,     0.23423,     0.23524,     0.23624,     0.23724,     0.23824,     0.23924,\n",
              "           0.24024,     0.24124,     0.24224,     0.24324,     0.24424,     0.24525,     0.24625,     0.24725,     0.24825,     0.24925,     0.25025,     0.25125,     0.25225,     0.25325,     0.25425,     0.25526,     0.25626,     0.25726,     0.25826,     0.25926,     0.26026,     0.26126,     0.26226,     0.26326,\n",
              "           0.26426,     0.26527,     0.26627,     0.26727,     0.26827,     0.26927,     0.27027,     0.27127,     0.27227,     0.27327,     0.27427,     0.27528,     0.27628,     0.27728,     0.27828,     0.27928,     0.28028,     0.28128,     0.28228,     0.28328,     0.28428,     0.28529,     0.28629,     0.28729,\n",
              "           0.28829,     0.28929,     0.29029,     0.29129,     0.29229,     0.29329,     0.29429,      0.2953,      0.2963,      0.2973,      0.2983,      0.2993,      0.3003,      0.3013,      0.3023,      0.3033,      0.3043,     0.30531,     0.30631,     0.30731,     0.30831,     0.30931,     0.31031,     0.31131,\n",
              "           0.31231,     0.31331,     0.31431,     0.31532,     0.31632,     0.31732,     0.31832,     0.31932,     0.32032,     0.32132,     0.32232,     0.32332,     0.32432,     0.32533,     0.32633,     0.32733,     0.32833,     0.32933,     0.33033,     0.33133,     0.33233,     0.33333,     0.33433,     0.33534,\n",
              "           0.33634,     0.33734,     0.33834,     0.33934,     0.34034,     0.34134,     0.34234,     0.34334,     0.34434,     0.34535,     0.34635,     0.34735,     0.34835,     0.34935,     0.35035,     0.35135,     0.35235,     0.35335,     0.35435,     0.35536,     0.35636,     0.35736,     0.35836,     0.35936,\n",
              "           0.36036,     0.36136,     0.36236,     0.36336,     0.36436,     0.36537,     0.36637,     0.36737,     0.36837,     0.36937,     0.37037,     0.37137,     0.37237,     0.37337,     0.37437,     0.37538,     0.37638,     0.37738,     0.37838,     0.37938,     0.38038,     0.38138,     0.38238,     0.38338,\n",
              "           0.38438,     0.38539,     0.38639,     0.38739,     0.38839,     0.38939,     0.39039,     0.39139,     0.39239,     0.39339,     0.39439,      0.3954,      0.3964,      0.3974,      0.3984,      0.3994,      0.4004,      0.4014,      0.4024,      0.4034,      0.4044,     0.40541,     0.40641,     0.40741,\n",
              "           0.40841,     0.40941,     0.41041,     0.41141,     0.41241,     0.41341,     0.41441,     0.41542,     0.41642,     0.41742,     0.41842,     0.41942,     0.42042,     0.42142,     0.42242,     0.42342,     0.42442,     0.42543,     0.42643,     0.42743,     0.42843,     0.42943,     0.43043,     0.43143,\n",
              "           0.43243,     0.43343,     0.43443,     0.43544,     0.43644,     0.43744,     0.43844,     0.43944,     0.44044,     0.44144,     0.44244,     0.44344,     0.44444,     0.44545,     0.44645,     0.44745,     0.44845,     0.44945,     0.45045,     0.45145,     0.45245,     0.45345,     0.45445,     0.45546,\n",
              "           0.45646,     0.45746,     0.45846,     0.45946,     0.46046,     0.46146,     0.46246,     0.46346,     0.46446,     0.46547,     0.46647,     0.46747,     0.46847,     0.46947,     0.47047,     0.47147,     0.47247,     0.47347,     0.47447,     0.47548,     0.47648,     0.47748,     0.47848,     0.47948,\n",
              "           0.48048,     0.48148,     0.48248,     0.48348,     0.48448,     0.48549,     0.48649,     0.48749,     0.48849,     0.48949,     0.49049,     0.49149,     0.49249,     0.49349,     0.49449,      0.4955,      0.4965,      0.4975,      0.4985,      0.4995,      0.5005,      0.5015,      0.5025,      0.5035,\n",
              "            0.5045,     0.50551,     0.50651,     0.50751,     0.50851,     0.50951,     0.51051,     0.51151,     0.51251,     0.51351,     0.51451,     0.51552,     0.51652,     0.51752,     0.51852,     0.51952,     0.52052,     0.52152,     0.52252,     0.52352,     0.52452,     0.52553,     0.52653,     0.52753,\n",
              "           0.52853,     0.52953,     0.53053,     0.53153,     0.53253,     0.53353,     0.53453,     0.53554,     0.53654,     0.53754,     0.53854,     0.53954,     0.54054,     0.54154,     0.54254,     0.54354,     0.54454,     0.54555,     0.54655,     0.54755,     0.54855,     0.54955,     0.55055,     0.55155,\n",
              "           0.55255,     0.55355,     0.55455,     0.55556,     0.55656,     0.55756,     0.55856,     0.55956,     0.56056,     0.56156,     0.56256,     0.56356,     0.56456,     0.56557,     0.56657,     0.56757,     0.56857,     0.56957,     0.57057,     0.57157,     0.57257,     0.57357,     0.57457,     0.57558,\n",
              "           0.57658,     0.57758,     0.57858,     0.57958,     0.58058,     0.58158,     0.58258,     0.58358,     0.58458,     0.58559,     0.58659,     0.58759,     0.58859,     0.58959,     0.59059,     0.59159,     0.59259,     0.59359,     0.59459,      0.5956,      0.5966,      0.5976,      0.5986,      0.5996,\n",
              "            0.6006,      0.6016,      0.6026,      0.6036,      0.6046,     0.60561,     0.60661,     0.60761,     0.60861,     0.60961,     0.61061,     0.61161,     0.61261,     0.61361,     0.61461,     0.61562,     0.61662,     0.61762,     0.61862,     0.61962,     0.62062,     0.62162,     0.62262,     0.62362,\n",
              "           0.62462,     0.62563,     0.62663,     0.62763,     0.62863,     0.62963,     0.63063,     0.63163,     0.63263,     0.63363,     0.63463,     0.63564,     0.63664,     0.63764,     0.63864,     0.63964,     0.64064,     0.64164,     0.64264,     0.64364,     0.64464,     0.64565,     0.64665,     0.64765,\n",
              "           0.64865,     0.64965,     0.65065,     0.65165,     0.65265,     0.65365,     0.65465,     0.65566,     0.65666,     0.65766,     0.65866,     0.65966,     0.66066,     0.66166,     0.66266,     0.66366,     0.66466,     0.66567,     0.66667,     0.66767,     0.66867,     0.66967,     0.67067,     0.67167,\n",
              "           0.67267,     0.67367,     0.67467,     0.67568,     0.67668,     0.67768,     0.67868,     0.67968,     0.68068,     0.68168,     0.68268,     0.68368,     0.68468,     0.68569,     0.68669,     0.68769,     0.68869,     0.68969,     0.69069,     0.69169,     0.69269,     0.69369,     0.69469,      0.6957,\n",
              "            0.6967,      0.6977,      0.6987,      0.6997,      0.7007,      0.7017,      0.7027,      0.7037,      0.7047,     0.70571,     0.70671,     0.70771,     0.70871,     0.70971,     0.71071,     0.71171,     0.71271,     0.71371,     0.71471,     0.71572,     0.71672,     0.71772,     0.71872,     0.71972,\n",
              "           0.72072,     0.72172,     0.72272,     0.72372,     0.72472,     0.72573,     0.72673,     0.72773,     0.72873,     0.72973,     0.73073,     0.73173,     0.73273,     0.73373,     0.73473,     0.73574,     0.73674,     0.73774,     0.73874,     0.73974,     0.74074,     0.74174,     0.74274,     0.74374,\n",
              "           0.74474,     0.74575,     0.74675,     0.74775,     0.74875,     0.74975,     0.75075,     0.75175,     0.75275,     0.75375,     0.75475,     0.75576,     0.75676,     0.75776,     0.75876,     0.75976,     0.76076,     0.76176,     0.76276,     0.76376,     0.76476,     0.76577,     0.76677,     0.76777,\n",
              "           0.76877,     0.76977,     0.77077,     0.77177,     0.77277,     0.77377,     0.77477,     0.77578,     0.77678,     0.77778,     0.77878,     0.77978,     0.78078,     0.78178,     0.78278,     0.78378,     0.78478,     0.78579,     0.78679,     0.78779,     0.78879,     0.78979,     0.79079,     0.79179,\n",
              "           0.79279,     0.79379,     0.79479,      0.7958,      0.7968,      0.7978,      0.7988,      0.7998,      0.8008,      0.8018,      0.8028,      0.8038,      0.8048,     0.80581,     0.80681,     0.80781,     0.80881,     0.80981,     0.81081,     0.81181,     0.81281,     0.81381,     0.81481,     0.81582,\n",
              "           0.81682,     0.81782,     0.81882,     0.81982,     0.82082,     0.82182,     0.82282,     0.82382,     0.82482,     0.82583,     0.82683,     0.82783,     0.82883,     0.82983,     0.83083,     0.83183,     0.83283,     0.83383,     0.83483,     0.83584,     0.83684,     0.83784,     0.83884,     0.83984,\n",
              "           0.84084,     0.84184,     0.84284,     0.84384,     0.84484,     0.84585,     0.84685,     0.84785,     0.84885,     0.84985,     0.85085,     0.85185,     0.85285,     0.85385,     0.85485,     0.85586,     0.85686,     0.85786,     0.85886,     0.85986,     0.86086,     0.86186,     0.86286,     0.86386,\n",
              "           0.86486,     0.86587,     0.86687,     0.86787,     0.86887,     0.86987,     0.87087,     0.87187,     0.87287,     0.87387,     0.87487,     0.87588,     0.87688,     0.87788,     0.87888,     0.87988,     0.88088,     0.88188,     0.88288,     0.88388,     0.88488,     0.88589,     0.88689,     0.88789,\n",
              "           0.88889,     0.88989,     0.89089,     0.89189,     0.89289,     0.89389,     0.89489,      0.8959,      0.8969,      0.8979,      0.8989,      0.8999,      0.9009,      0.9019,      0.9029,      0.9039,      0.9049,     0.90591,     0.90691,     0.90791,     0.90891,     0.90991,     0.91091,     0.91191,\n",
              "           0.91291,     0.91391,     0.91491,     0.91592,     0.91692,     0.91792,     0.91892,     0.91992,     0.92092,     0.92192,     0.92292,     0.92392,     0.92492,     0.92593,     0.92693,     0.92793,     0.92893,     0.92993,     0.93093,     0.93193,     0.93293,     0.93393,     0.93493,     0.93594,\n",
              "           0.93694,     0.93794,     0.93894,     0.93994,     0.94094,     0.94194,     0.94294,     0.94394,     0.94494,     0.94595,     0.94695,     0.94795,     0.94895,     0.94995,     0.95095,     0.95195,     0.95295,     0.95395,     0.95495,     0.95596,     0.95696,     0.95796,     0.95896,     0.95996,\n",
              "           0.96096,     0.96196,     0.96296,     0.96396,     0.96496,     0.96597,     0.96697,     0.96797,     0.96897,     0.96997,     0.97097,     0.97197,     0.97297,     0.97397,     0.97497,     0.97598,     0.97698,     0.97798,     0.97898,     0.97998,     0.98098,     0.98198,     0.98298,     0.98398,\n",
              "           0.98498,     0.98599,     0.98699,     0.98799,     0.98899,     0.98999,     0.99099,     0.99199,     0.99299,     0.99399,     0.99499,       0.996,       0.997,       0.998,       0.999,           1]), array([[    0.66263,     0.66263,     0.73117,     0.76296,     0.78514,     0.79632,     0.80499,     0.81354,     0.81874,     0.82415,     0.82873,     0.83238,     0.83544,      0.8388,     0.84041,     0.84275,       0.845,     0.84715,     0.84984,     0.85186,     0.85355,     0.85458,     0.85607,\n",
              "             0.8572,     0.85873,     0.85968,     0.86103,     0.86237,     0.86315,     0.86379,     0.86458,     0.86518,     0.86578,      0.8673,     0.86811,     0.86878,     0.86951,      0.8705,     0.87113,     0.87157,     0.87212,     0.87266,     0.87303,     0.87383,     0.87414,     0.87433,\n",
              "            0.87454,     0.87492,     0.87506,     0.87515,     0.87534,     0.87573,     0.87622,      0.8766,     0.87667,     0.87674,     0.87694,     0.87726,     0.87747,     0.87742,      0.8778,     0.87777,     0.87813,     0.87877,     0.87901,     0.87914,     0.87929,     0.88032,     0.88106,\n",
              "            0.88174,     0.88214,     0.88249,     0.88299,     0.88288,     0.88304,      0.8832,     0.88351,     0.88379,     0.88406,     0.88429,     0.88443,     0.88467,     0.88495,     0.88509,     0.88592,     0.88607,     0.88664,      0.8873,     0.88785,     0.88789,     0.88818,      0.8883,\n",
              "            0.88838,     0.88852,     0.88926,     0.88952,     0.88989,     0.89014,     0.89034,     0.89042,      0.8905,     0.89057,     0.89077,     0.89104,     0.89142,     0.89165,     0.89206,     0.89212,     0.89217,     0.89223,     0.89256,     0.89294,      0.8932,     0.89391,     0.89374,\n",
              "             0.8936,     0.89347,      0.8935,      0.8937,     0.89387,     0.89405,     0.89416,      0.8944,     0.89456,     0.89445,     0.89452,      0.8948,     0.89492,     0.89497,     0.89488,     0.89478,      0.8945,     0.89475,     0.89494,     0.89505,      0.8952,     0.89538,     0.89552,\n",
              "            0.89602,     0.89618,     0.89628,     0.89659,     0.89666,     0.89673,     0.89706,     0.89741,     0.89783,     0.89788,     0.89793,     0.89798,     0.89819,     0.89876,      0.8989,     0.89896,     0.89903,     0.89922,     0.89967,     0.90017,     0.90047,     0.90028,     0.90083,\n",
              "            0.90134,     0.90142,     0.90149,     0.90176,     0.90187,     0.90201,      0.9023,     0.90271,     0.90245,     0.90276,     0.90299,     0.90313,     0.90325,      0.9034,     0.90372,     0.90387,     0.90402,     0.90395,     0.90424,      0.9046,     0.90464,     0.90468,     0.90471,\n",
              "            0.90475,     0.90502,     0.90513,     0.90527,     0.90551,     0.90593,     0.90627,      0.9064,     0.90658,     0.90682,     0.90731,     0.90715,     0.90728,     0.90712,     0.90734,      0.9075,     0.90755,      0.9076,     0.90765,     0.90794,     0.90805,     0.90849,      0.9087,\n",
              "            0.90852,     0.90866,     0.90877,     0.90886,     0.90898,     0.90915,     0.90952,     0.90961,     0.90965,     0.90949,     0.90961,     0.90975,     0.90986,     0.90953,     0.90974,        0.91,     0.91029,      0.9104,     0.91044,     0.91035,     0.91025,     0.91057,      0.9108,\n",
              "            0.91048,     0.91047,     0.91061,     0.91075,     0.91061,     0.91065,     0.91078,     0.91085,     0.91093,     0.91099,     0.91104,      0.9111,     0.91115,     0.91162,     0.91175,      0.9117,     0.91167,     0.91172,     0.91165,     0.91157,     0.91156,      0.9117,     0.91182,\n",
              "            0.91193,     0.91219,     0.91232,     0.91245,      0.9126,     0.91264,     0.91268,     0.91272,     0.91276,      0.9128,     0.91286,     0.91294,     0.91302,     0.91321,     0.91339,     0.91355,     0.91368,      0.9136,     0.91352,     0.91344,     0.91362,     0.91345,     0.91367,\n",
              "            0.91408,     0.91412,     0.91417,     0.91421,     0.91426,     0.91443,      0.9148,     0.91498,     0.91519,     0.91536,     0.91546,     0.91557,     0.91604,     0.91612,      0.9162,     0.91629,     0.91646,     0.91656,     0.91679,     0.91726,     0.91743,     0.91774,     0.91779,\n",
              "            0.91785,      0.9179,     0.91798,     0.91815,     0.91829,     0.91843,     0.91859,     0.91846,     0.91815,     0.91833,     0.91842,     0.91851,     0.91878,     0.91887,     0.91896,     0.91924,     0.91926,      0.9194,     0.91957,     0.91987,     0.91995,     0.92003,     0.92031,\n",
              "            0.92058,     0.92086,     0.92087,      0.9208,     0.92073,     0.92057,     0.92081,     0.92074,     0.92067,     0.92059,     0.92069,      0.9208,     0.92133,     0.92149,     0.92166,     0.92197,     0.92208,     0.92222,     0.92237,     0.92242,     0.92247,     0.92251,     0.92256,\n",
              "            0.92307,     0.92376,     0.92391,      0.9241,     0.92424,     0.92435,     0.92449,     0.92475,     0.92493,     0.92505,     0.92511,     0.92517,     0.92522,     0.92528,     0.92536,     0.92544,      0.9256,       0.926,      0.9261,     0.92619,     0.92623,     0.92627,     0.92631,\n",
              "            0.92636,      0.9264,     0.92662,     0.92646,     0.92647,     0.92663,     0.92673,     0.92683,     0.92689,     0.92695,     0.92701,     0.92707,     0.92714,     0.92721,     0.92717,     0.92694,     0.92686,     0.92678,      0.9266,     0.92637,     0.92648,     0.92663,     0.92714,\n",
              "            0.92737,     0.92748,      0.9276,     0.92773,     0.92782,     0.92785,     0.92788,     0.92791,     0.92794,     0.92797,       0.928,     0.92803,     0.92833,     0.92846,     0.92873,     0.92877,     0.92881,     0.92885,     0.92889,     0.92893,     0.92916,      0.9296,     0.92936,\n",
              "            0.92946,     0.92957,     0.92954,     0.92948,     0.92942,     0.92937,     0.92927,     0.92907,     0.92928,     0.92935,     0.92941,     0.92947,     0.92969,     0.92988,     0.92999,     0.93004,     0.93008,     0.93013,     0.93018,     0.93025,     0.93059,      0.9305,     0.93038,\n",
              "            0.93062,     0.93073,     0.93087,     0.93102,     0.93088,      0.9308,     0.93085,      0.9309,     0.93095,     0.93101,     0.93117,     0.93115,     0.93101,     0.93101,     0.93105,      0.9311,     0.93114,     0.93119,     0.93137,     0.93188,     0.93226,     0.93256,     0.93265,\n",
              "            0.93272,     0.93279,     0.93307,     0.93348,     0.93376,      0.9339,     0.93404,     0.93418,     0.93438,     0.93445,     0.93448,     0.93451,     0.93455,     0.93458,     0.93461,     0.93465,     0.93481,     0.93492,     0.93497,     0.93503,     0.93509,     0.93486,      0.9349,\n",
              "            0.93494,     0.93499,     0.93503,     0.93507,     0.93504,       0.935,     0.93496,     0.93492,     0.93488,     0.93484,     0.93507,     0.93531,     0.93539,     0.93547,     0.93576,     0.93583,     0.93591,     0.93602,     0.93614,     0.93636,     0.93614,     0.93626,     0.93637,\n",
              "             0.9365,     0.93636,     0.93649,     0.93605,     0.93619,     0.93604,     0.93626,     0.93645,     0.93662,     0.93693,     0.93701,     0.93709,      0.9366,     0.93672,     0.93679,     0.93669,     0.93658,     0.93623,     0.93612,     0.93603,     0.93608,     0.93614,      0.9362,\n",
              "            0.93625,     0.93606,     0.93611,     0.93626,     0.93634,     0.93641,     0.93634,     0.93616,     0.93608,       0.936,     0.93613,     0.93636,      0.9362,     0.93608,     0.93599,      0.9359,     0.93609,     0.93606,     0.93602,     0.93599,     0.93596,     0.93593,      0.9359,\n",
              "            0.93586,     0.93583,     0.93562,     0.93574,     0.93572,     0.93567,     0.93562,     0.93557,     0.93551,     0.93562,     0.93589,      0.9359,     0.93581,     0.93573,      0.9359,     0.93655,     0.93677,      0.9369,     0.93697,     0.93703,      0.9371,     0.93738,     0.93747,\n",
              "            0.93756,     0.93812,     0.93804,     0.93819,     0.93832,     0.93842,     0.93864,     0.93904,     0.93917,     0.93916,     0.93912,     0.93908,     0.93904,       0.939,     0.93895,     0.93889,     0.93879,      0.9387,     0.93818,     0.93831,     0.93843,     0.93855,     0.93848,\n",
              "            0.93806,       0.938,     0.93793,     0.93787,      0.9378,     0.93792,     0.93803,     0.93799,     0.93795,     0.93791,     0.93788,     0.93784,      0.9378,     0.93775,     0.93765,     0.93754,     0.93752,     0.93756,     0.93759,     0.93763,     0.93766,      0.9377,     0.93773,\n",
              "            0.93753,     0.93781,     0.93805,     0.93828,     0.93803,      0.9377,     0.93759,     0.93768,     0.93777,     0.93803,     0.93791,     0.93781,     0.93795,     0.93811,     0.93826,     0.93829,     0.93833,     0.93836,     0.93839,     0.93842,     0.93845,     0.93848,     0.93853,\n",
              "            0.93859,     0.93866,     0.93872,     0.93867,      0.9386,     0.93852,      0.9385,     0.93863,      0.9385,     0.93854,     0.93866,     0.93884,     0.93874,     0.93864,     0.93856,     0.93848,     0.93841,     0.93818,     0.93846,     0.93858,     0.93881,     0.93902,     0.93884,\n",
              "            0.93894,     0.93893,     0.93851,      0.9386,     0.93868,     0.93844,     0.93829,     0.93815,     0.93802,     0.93787,     0.93759,      0.9376,     0.93746,     0.93733,     0.93726,      0.9372,     0.93714,     0.93707,     0.93672,     0.93655,     0.93633,     0.93641,     0.93605,\n",
              "            0.93584,     0.93568,     0.93566,     0.93569,     0.93572,     0.93575,     0.93577,      0.9358,     0.93583,     0.93586,     0.93589,       0.936,      0.9359,     0.93605,      0.9357,     0.93543,     0.93523,     0.93501,     0.93504,     0.93488,     0.93479,     0.93469,     0.93445,\n",
              "            0.93461,     0.93457,      0.9344,     0.93402,     0.93395,     0.93388,     0.93382,     0.93383,     0.93393,      0.9342,     0.93379,     0.93331,     0.93311,     0.93289,      0.9327,     0.93297,     0.93292,     0.93305,     0.93287,     0.93323,     0.93272,     0.93299,     0.93311,\n",
              "            0.93325,     0.93351,     0.93334,     0.93282,     0.93277,     0.93272,     0.93267,     0.93263,     0.93258,     0.93228,      0.9322,     0.93212,     0.93204,     0.93196,     0.93187,     0.93178,     0.93188,     0.93173,     0.93191,     0.93185,     0.93172,     0.93115,     0.93053,\n",
              "             0.9304,     0.93026,     0.93011,     0.93005,     0.93015,     0.93024,     0.93002,     0.92986,     0.92972,     0.92943,     0.92941,     0.92897,     0.92876,     0.92844,      0.9276,     0.92738,     0.92718,     0.92676,     0.92651,     0.92595,      0.9256,     0.92555,     0.92546,\n",
              "            0.92525,     0.92462,     0.92482,     0.92489,     0.92463,     0.92451,     0.92434,     0.92426,     0.92415,     0.92396,     0.92342,     0.92319,      0.9229,     0.92231,     0.92054,      0.9201,     0.91966,     0.91963,     0.91846,     0.91882,     0.91872,      0.9181,     0.91771,\n",
              "            0.91753,     0.91662,     0.91535,     0.91423,     0.91365,     0.91319,     0.91199,     0.91081,     0.91066,     0.91024,     0.90981,     0.90963,     0.90839,     0.90786,     0.90769,     0.90691,     0.90592,     0.90492,      0.9031,     0.90172,       0.901,     0.89945,      0.8974,\n",
              "             0.8962,     0.89587,     0.89573,     0.89525,     0.89069,     0.88977,     0.88896,     0.88615,      0.8848,     0.88304,      0.8802,      0.8781,     0.87642,     0.87426,     0.87235,     0.86942,     0.86472,     0.86145,     0.85636,     0.85386,     0.85141,     0.84644,      0.8405,\n",
              "            0.83629,     0.83134,     0.82557,      0.8188,     0.81296,     0.80571,      0.7978,     0.78707,     0.77656,     0.77007,     0.76143,     0.75591,     0.75049,     0.74198,      0.7336,     0.72491,     0.71588,     0.70762,     0.69635,     0.68714,     0.67495,     0.66562,     0.64866,\n",
              "            0.63724,     0.62388,     0.60501,     0.59344,      0.5812,     0.56848,     0.55262,     0.53916,      0.5214,     0.50852,     0.48752,     0.46908,      0.4541,     0.43274,     0.42023,     0.39255,     0.37153,     0.35369,     0.33259,     0.32175,      0.3116,     0.29786,      0.2876,\n",
              "            0.27898,     0.27042,     0.25797,     0.25005,     0.23907,     0.22721,     0.22166,     0.20999,     0.20195,     0.18684,     0.17412,     0.16094,     0.15064,     0.14118,     0.13131,     0.12075,     0.11173,     0.10538,    0.093474,    0.088298,    0.083279,    0.079563,    0.071787,\n",
              "           0.065854,    0.056866,    0.051884,    0.046252,    0.038789,    0.033863,     0.03029,    0.026776,     0.02297,    0.021786,    0.019861,    0.016946,    0.011322,   0.0085383,   0.0074421,   0.0067737,   0.0062245,   0.0049114,   0.0037593,   0.0034025,   0.0030456,   0.0027963,   0.0025757,\n",
              "           0.002355,   0.0021344,   0.0018778,   0.0015397,   0.0012015,           0,           0,           0,           0,           0,           0,           0,           0,           0,           0,           0,           0,           0,           0,           0,           0,           0,           0,\n",
              "                  0,           0,           0,           0,           0,           0,           0,           0,           0,           0,           0,           0,           0,           0,           0,           0,           0,           0,           0,           0,           0,           0,           0,\n",
              "                  0,           0,           0,           0,           0,           0,           0,           0,           0,           0,           0]]), 'Confidence', 'F1'], [array([          0,    0.001001,    0.002002,    0.003003,    0.004004,    0.005005,    0.006006,    0.007007,    0.008008,    0.009009,     0.01001,    0.011011,    0.012012,    0.013013,    0.014014,    0.015015,    0.016016,    0.017017,    0.018018,    0.019019,     0.02002,    0.021021,    0.022022,    0.023023,\n",
              "          0.024024,    0.025025,    0.026026,    0.027027,    0.028028,    0.029029,     0.03003,    0.031031,    0.032032,    0.033033,    0.034034,    0.035035,    0.036036,    0.037037,    0.038038,    0.039039,     0.04004,    0.041041,    0.042042,    0.043043,    0.044044,    0.045045,    0.046046,    0.047047,\n",
              "          0.048048,    0.049049,     0.05005,    0.051051,    0.052052,    0.053053,    0.054054,    0.055055,    0.056056,    0.057057,    0.058058,    0.059059,     0.06006,    0.061061,    0.062062,    0.063063,    0.064064,    0.065065,    0.066066,    0.067067,    0.068068,    0.069069,     0.07007,    0.071071,\n",
              "          0.072072,    0.073073,    0.074074,    0.075075,    0.076076,    0.077077,    0.078078,    0.079079,     0.08008,    0.081081,    0.082082,    0.083083,    0.084084,    0.085085,    0.086086,    0.087087,    0.088088,    0.089089,     0.09009,    0.091091,    0.092092,    0.093093,    0.094094,    0.095095,\n",
              "          0.096096,    0.097097,    0.098098,    0.099099,      0.1001,      0.1011,      0.1021,      0.1031,      0.1041,     0.10511,     0.10611,     0.10711,     0.10811,     0.10911,     0.11011,     0.11111,     0.11211,     0.11311,     0.11411,     0.11512,     0.11612,     0.11712,     0.11812,     0.11912,\n",
              "           0.12012,     0.12112,     0.12212,     0.12312,     0.12412,     0.12513,     0.12613,     0.12713,     0.12813,     0.12913,     0.13013,     0.13113,     0.13213,     0.13313,     0.13413,     0.13514,     0.13614,     0.13714,     0.13814,     0.13914,     0.14014,     0.14114,     0.14214,     0.14314,\n",
              "           0.14414,     0.14515,     0.14615,     0.14715,     0.14815,     0.14915,     0.15015,     0.15115,     0.15215,     0.15315,     0.15415,     0.15516,     0.15616,     0.15716,     0.15816,     0.15916,     0.16016,     0.16116,     0.16216,     0.16316,     0.16416,     0.16517,     0.16617,     0.16717,\n",
              "           0.16817,     0.16917,     0.17017,     0.17117,     0.17217,     0.17317,     0.17417,     0.17518,     0.17618,     0.17718,     0.17818,     0.17918,     0.18018,     0.18118,     0.18218,     0.18318,     0.18418,     0.18519,     0.18619,     0.18719,     0.18819,     0.18919,     0.19019,     0.19119,\n",
              "           0.19219,     0.19319,     0.19419,      0.1952,      0.1962,      0.1972,      0.1982,      0.1992,      0.2002,      0.2012,      0.2022,      0.2032,      0.2042,     0.20521,     0.20621,     0.20721,     0.20821,     0.20921,     0.21021,     0.21121,     0.21221,     0.21321,     0.21421,     0.21522,\n",
              "           0.21622,     0.21722,     0.21822,     0.21922,     0.22022,     0.22122,     0.22222,     0.22322,     0.22422,     0.22523,     0.22623,     0.22723,     0.22823,     0.22923,     0.23023,     0.23123,     0.23223,     0.23323,     0.23423,     0.23524,     0.23624,     0.23724,     0.23824,     0.23924,\n",
              "           0.24024,     0.24124,     0.24224,     0.24324,     0.24424,     0.24525,     0.24625,     0.24725,     0.24825,     0.24925,     0.25025,     0.25125,     0.25225,     0.25325,     0.25425,     0.25526,     0.25626,     0.25726,     0.25826,     0.25926,     0.26026,     0.26126,     0.26226,     0.26326,\n",
              "           0.26426,     0.26527,     0.26627,     0.26727,     0.26827,     0.26927,     0.27027,     0.27127,     0.27227,     0.27327,     0.27427,     0.27528,     0.27628,     0.27728,     0.27828,     0.27928,     0.28028,     0.28128,     0.28228,     0.28328,     0.28428,     0.28529,     0.28629,     0.28729,\n",
              "           0.28829,     0.28929,     0.29029,     0.29129,     0.29229,     0.29329,     0.29429,      0.2953,      0.2963,      0.2973,      0.2983,      0.2993,      0.3003,      0.3013,      0.3023,      0.3033,      0.3043,     0.30531,     0.30631,     0.30731,     0.30831,     0.30931,     0.31031,     0.31131,\n",
              "           0.31231,     0.31331,     0.31431,     0.31532,     0.31632,     0.31732,     0.31832,     0.31932,     0.32032,     0.32132,     0.32232,     0.32332,     0.32432,     0.32533,     0.32633,     0.32733,     0.32833,     0.32933,     0.33033,     0.33133,     0.33233,     0.33333,     0.33433,     0.33534,\n",
              "           0.33634,     0.33734,     0.33834,     0.33934,     0.34034,     0.34134,     0.34234,     0.34334,     0.34434,     0.34535,     0.34635,     0.34735,     0.34835,     0.34935,     0.35035,     0.35135,     0.35235,     0.35335,     0.35435,     0.35536,     0.35636,     0.35736,     0.35836,     0.35936,\n",
              "           0.36036,     0.36136,     0.36236,     0.36336,     0.36436,     0.36537,     0.36637,     0.36737,     0.36837,     0.36937,     0.37037,     0.37137,     0.37237,     0.37337,     0.37437,     0.37538,     0.37638,     0.37738,     0.37838,     0.37938,     0.38038,     0.38138,     0.38238,     0.38338,\n",
              "           0.38438,     0.38539,     0.38639,     0.38739,     0.38839,     0.38939,     0.39039,     0.39139,     0.39239,     0.39339,     0.39439,      0.3954,      0.3964,      0.3974,      0.3984,      0.3994,      0.4004,      0.4014,      0.4024,      0.4034,      0.4044,     0.40541,     0.40641,     0.40741,\n",
              "           0.40841,     0.40941,     0.41041,     0.41141,     0.41241,     0.41341,     0.41441,     0.41542,     0.41642,     0.41742,     0.41842,     0.41942,     0.42042,     0.42142,     0.42242,     0.42342,     0.42442,     0.42543,     0.42643,     0.42743,     0.42843,     0.42943,     0.43043,     0.43143,\n",
              "           0.43243,     0.43343,     0.43443,     0.43544,     0.43644,     0.43744,     0.43844,     0.43944,     0.44044,     0.44144,     0.44244,     0.44344,     0.44444,     0.44545,     0.44645,     0.44745,     0.44845,     0.44945,     0.45045,     0.45145,     0.45245,     0.45345,     0.45445,     0.45546,\n",
              "           0.45646,     0.45746,     0.45846,     0.45946,     0.46046,     0.46146,     0.46246,     0.46346,     0.46446,     0.46547,     0.46647,     0.46747,     0.46847,     0.46947,     0.47047,     0.47147,     0.47247,     0.47347,     0.47447,     0.47548,     0.47648,     0.47748,     0.47848,     0.47948,\n",
              "           0.48048,     0.48148,     0.48248,     0.48348,     0.48448,     0.48549,     0.48649,     0.48749,     0.48849,     0.48949,     0.49049,     0.49149,     0.49249,     0.49349,     0.49449,      0.4955,      0.4965,      0.4975,      0.4985,      0.4995,      0.5005,      0.5015,      0.5025,      0.5035,\n",
              "            0.5045,     0.50551,     0.50651,     0.50751,     0.50851,     0.50951,     0.51051,     0.51151,     0.51251,     0.51351,     0.51451,     0.51552,     0.51652,     0.51752,     0.51852,     0.51952,     0.52052,     0.52152,     0.52252,     0.52352,     0.52452,     0.52553,     0.52653,     0.52753,\n",
              "           0.52853,     0.52953,     0.53053,     0.53153,     0.53253,     0.53353,     0.53453,     0.53554,     0.53654,     0.53754,     0.53854,     0.53954,     0.54054,     0.54154,     0.54254,     0.54354,     0.54454,     0.54555,     0.54655,     0.54755,     0.54855,     0.54955,     0.55055,     0.55155,\n",
              "           0.55255,     0.55355,     0.55455,     0.55556,     0.55656,     0.55756,     0.55856,     0.55956,     0.56056,     0.56156,     0.56256,     0.56356,     0.56456,     0.56557,     0.56657,     0.56757,     0.56857,     0.56957,     0.57057,     0.57157,     0.57257,     0.57357,     0.57457,     0.57558,\n",
              "           0.57658,     0.57758,     0.57858,     0.57958,     0.58058,     0.58158,     0.58258,     0.58358,     0.58458,     0.58559,     0.58659,     0.58759,     0.58859,     0.58959,     0.59059,     0.59159,     0.59259,     0.59359,     0.59459,      0.5956,      0.5966,      0.5976,      0.5986,      0.5996,\n",
              "            0.6006,      0.6016,      0.6026,      0.6036,      0.6046,     0.60561,     0.60661,     0.60761,     0.60861,     0.60961,     0.61061,     0.61161,     0.61261,     0.61361,     0.61461,     0.61562,     0.61662,     0.61762,     0.61862,     0.61962,     0.62062,     0.62162,     0.62262,     0.62362,\n",
              "           0.62462,     0.62563,     0.62663,     0.62763,     0.62863,     0.62963,     0.63063,     0.63163,     0.63263,     0.63363,     0.63463,     0.63564,     0.63664,     0.63764,     0.63864,     0.63964,     0.64064,     0.64164,     0.64264,     0.64364,     0.64464,     0.64565,     0.64665,     0.64765,\n",
              "           0.64865,     0.64965,     0.65065,     0.65165,     0.65265,     0.65365,     0.65465,     0.65566,     0.65666,     0.65766,     0.65866,     0.65966,     0.66066,     0.66166,     0.66266,     0.66366,     0.66466,     0.66567,     0.66667,     0.66767,     0.66867,     0.66967,     0.67067,     0.67167,\n",
              "           0.67267,     0.67367,     0.67467,     0.67568,     0.67668,     0.67768,     0.67868,     0.67968,     0.68068,     0.68168,     0.68268,     0.68368,     0.68468,     0.68569,     0.68669,     0.68769,     0.68869,     0.68969,     0.69069,     0.69169,     0.69269,     0.69369,     0.69469,      0.6957,\n",
              "            0.6967,      0.6977,      0.6987,      0.6997,      0.7007,      0.7017,      0.7027,      0.7037,      0.7047,     0.70571,     0.70671,     0.70771,     0.70871,     0.70971,     0.71071,     0.71171,     0.71271,     0.71371,     0.71471,     0.71572,     0.71672,     0.71772,     0.71872,     0.71972,\n",
              "           0.72072,     0.72172,     0.72272,     0.72372,     0.72472,     0.72573,     0.72673,     0.72773,     0.72873,     0.72973,     0.73073,     0.73173,     0.73273,     0.73373,     0.73473,     0.73574,     0.73674,     0.73774,     0.73874,     0.73974,     0.74074,     0.74174,     0.74274,     0.74374,\n",
              "           0.74474,     0.74575,     0.74675,     0.74775,     0.74875,     0.74975,     0.75075,     0.75175,     0.75275,     0.75375,     0.75475,     0.75576,     0.75676,     0.75776,     0.75876,     0.75976,     0.76076,     0.76176,     0.76276,     0.76376,     0.76476,     0.76577,     0.76677,     0.76777,\n",
              "           0.76877,     0.76977,     0.77077,     0.77177,     0.77277,     0.77377,     0.77477,     0.77578,     0.77678,     0.77778,     0.77878,     0.77978,     0.78078,     0.78178,     0.78278,     0.78378,     0.78478,     0.78579,     0.78679,     0.78779,     0.78879,     0.78979,     0.79079,     0.79179,\n",
              "           0.79279,     0.79379,     0.79479,      0.7958,      0.7968,      0.7978,      0.7988,      0.7998,      0.8008,      0.8018,      0.8028,      0.8038,      0.8048,     0.80581,     0.80681,     0.80781,     0.80881,     0.80981,     0.81081,     0.81181,     0.81281,     0.81381,     0.81481,     0.81582,\n",
              "           0.81682,     0.81782,     0.81882,     0.81982,     0.82082,     0.82182,     0.82282,     0.82382,     0.82482,     0.82583,     0.82683,     0.82783,     0.82883,     0.82983,     0.83083,     0.83183,     0.83283,     0.83383,     0.83483,     0.83584,     0.83684,     0.83784,     0.83884,     0.83984,\n",
              "           0.84084,     0.84184,     0.84284,     0.84384,     0.84484,     0.84585,     0.84685,     0.84785,     0.84885,     0.84985,     0.85085,     0.85185,     0.85285,     0.85385,     0.85485,     0.85586,     0.85686,     0.85786,     0.85886,     0.85986,     0.86086,     0.86186,     0.86286,     0.86386,\n",
              "           0.86486,     0.86587,     0.86687,     0.86787,     0.86887,     0.86987,     0.87087,     0.87187,     0.87287,     0.87387,     0.87487,     0.87588,     0.87688,     0.87788,     0.87888,     0.87988,     0.88088,     0.88188,     0.88288,     0.88388,     0.88488,     0.88589,     0.88689,     0.88789,\n",
              "           0.88889,     0.88989,     0.89089,     0.89189,     0.89289,     0.89389,     0.89489,      0.8959,      0.8969,      0.8979,      0.8989,      0.8999,      0.9009,      0.9019,      0.9029,      0.9039,      0.9049,     0.90591,     0.90691,     0.90791,     0.90891,     0.90991,     0.91091,     0.91191,\n",
              "           0.91291,     0.91391,     0.91491,     0.91592,     0.91692,     0.91792,     0.91892,     0.91992,     0.92092,     0.92192,     0.92292,     0.92392,     0.92492,     0.92593,     0.92693,     0.92793,     0.92893,     0.92993,     0.93093,     0.93193,     0.93293,     0.93393,     0.93493,     0.93594,\n",
              "           0.93694,     0.93794,     0.93894,     0.93994,     0.94094,     0.94194,     0.94294,     0.94394,     0.94494,     0.94595,     0.94695,     0.94795,     0.94895,     0.94995,     0.95095,     0.95195,     0.95295,     0.95395,     0.95495,     0.95596,     0.95696,     0.95796,     0.95896,     0.95996,\n",
              "           0.96096,     0.96196,     0.96296,     0.96396,     0.96496,     0.96597,     0.96697,     0.96797,     0.96897,     0.96997,     0.97097,     0.97197,     0.97297,     0.97397,     0.97497,     0.97598,     0.97698,     0.97798,     0.97898,     0.97998,     0.98098,     0.98198,     0.98298,     0.98398,\n",
              "           0.98498,     0.98599,     0.98699,     0.98799,     0.98899,     0.98999,     0.99099,     0.99199,     0.99299,     0.99399,     0.99499,       0.996,       0.997,       0.998,       0.999,           1]), array([[    0.50127,     0.50127,     0.58446,     0.62659,     0.65775,     0.67432,     0.68783,     0.70041,     0.70868,     0.71683,     0.72378,     0.72966,     0.73494,     0.74016,     0.74296,     0.74663,     0.75017,     0.75386,     0.75813,     0.76135,     0.76406,     0.76571,     0.76827,\n",
              "            0.77025,     0.77273,     0.77426,     0.77677,     0.77896,     0.78023,     0.78128,     0.78257,     0.78356,     0.78453,     0.78706,      0.7887,      0.7898,     0.79135,       0.793,     0.79404,     0.79478,     0.79568,     0.79658,     0.79721,     0.79854,     0.79906,     0.79938,\n",
              "            0.79972,     0.80036,     0.80059,     0.80075,     0.80106,     0.80172,     0.80253,     0.80318,     0.80329,     0.80341,     0.80375,     0.80464,     0.80499,     0.80525,     0.80588,     0.80618,     0.80714,     0.80822,     0.80862,     0.80885,     0.80911,     0.81085,      0.8121,\n",
              "            0.81325,     0.81394,     0.81453,     0.81538,     0.81555,     0.81583,      0.8161,     0.81663,     0.81711,     0.81757,     0.81796,     0.81821,     0.81861,      0.8191,     0.81933,     0.82076,     0.82138,     0.82235,      0.8235,     0.82445,     0.82487,     0.82537,     0.82558,\n",
              "            0.82571,     0.82597,     0.82725,      0.8277,     0.82834,     0.82877,      0.8293,     0.82963,     0.82976,     0.82989,     0.83022,      0.8307,     0.83136,     0.83176,     0.83248,     0.83258,     0.83267,     0.83277,     0.83335,     0.83402,     0.83447,      0.8357,     0.83566,\n",
              "            0.83562,     0.83558,     0.83574,     0.83608,     0.83638,      0.8367,      0.8369,     0.83731,     0.83771,     0.83768,     0.83789,     0.83839,     0.83861,     0.83874,     0.83872,     0.83869,     0.83862,     0.83906,      0.8394,     0.83959,     0.83985,     0.84017,     0.84042,\n",
              "             0.8413,     0.84158,     0.84176,      0.8423,     0.84242,     0.84254,     0.84314,     0.84376,      0.8445,     0.84459,     0.84468,     0.84477,     0.84513,     0.84614,     0.84639,     0.84651,     0.84662,     0.84696,     0.84775,     0.84865,     0.84917,     0.84923,     0.85021,\n",
              "            0.85112,     0.85125,     0.85139,     0.85186,     0.85207,     0.85231,     0.85283,     0.85371,     0.85365,     0.85444,     0.85486,     0.85511,     0.85532,      0.8556,     0.85616,     0.85644,     0.85671,     0.85697,     0.85751,     0.85815,     0.85821,     0.85828,     0.85835,\n",
              "            0.85842,      0.8589,     0.85911,     0.85935,     0.85979,     0.86054,     0.86115,      0.8614,     0.86172,     0.86215,     0.86308,     0.86304,     0.86341,     0.86337,      0.8639,      0.8642,     0.86429,     0.86438,     0.86447,     0.86499,      0.8652,     0.86598,     0.86645,\n",
              "            0.86645,      0.8667,      0.8669,     0.86708,      0.8673,     0.86759,     0.86827,      0.8687,     0.86905,     0.86902,     0.86926,     0.86951,     0.86972,     0.86972,     0.87031,     0.87079,     0.87133,     0.87152,     0.87165,     0.87163,     0.87161,     0.87225,     0.87268,\n",
              "             0.8727,      0.8729,     0.87316,     0.87343,     0.87343,     0.87365,      0.8739,     0.87403,     0.87416,     0.87427,     0.87438,     0.87448,     0.87458,     0.87545,     0.87568,     0.87577,     0.87595,     0.87613,     0.87611,      0.8761,     0.87616,     0.87644,     0.87665,\n",
              "            0.87685,     0.87734,     0.87757,     0.87783,      0.8781,     0.87817,     0.87824,     0.87832,     0.87839,     0.87847,     0.87858,     0.87873,     0.87887,     0.87922,     0.87957,     0.87986,     0.88011,     0.88009,     0.88008,     0.88006,     0.88045,     0.88052,     0.88094,\n",
              "            0.88169,     0.88177,     0.88186,     0.88194,     0.88202,     0.88234,     0.88304,     0.88338,     0.88377,     0.88408,     0.88428,     0.88447,     0.88535,     0.88549,     0.88564,     0.88624,     0.88656,     0.88675,     0.88718,     0.88807,     0.88838,     0.88897,     0.88907,\n",
              "            0.88917,     0.88927,     0.88942,     0.88974,        0.89,     0.89027,     0.89056,     0.89057,     0.89051,     0.89096,     0.89112,     0.89128,     0.89179,     0.89196,     0.89213,     0.89296,     0.89315,      0.8934,     0.89374,     0.89429,     0.89444,     0.89459,     0.89512,\n",
              "            0.89564,     0.89617,     0.89628,     0.89627,     0.89626,     0.89623,     0.89703,     0.89702,       0.897,     0.89699,     0.89718,     0.89739,     0.89839,      0.8987,     0.89902,     0.89961,     0.89983,     0.90009,     0.90039,     0.90047,     0.90056,     0.90065,     0.90074,\n",
              "            0.90172,     0.90302,     0.90331,     0.90368,     0.90395,     0.90417,     0.90444,     0.90492,     0.90527,     0.90549,     0.90561,     0.90572,     0.90583,     0.90594,     0.90609,     0.90625,     0.90654,     0.90733,     0.90752,     0.90768,     0.90776,     0.90784,     0.90793,\n",
              "            0.90801,     0.90809,     0.90851,      0.9085,     0.90868,       0.909,     0.90919,     0.90937,     0.90948,      0.9096,     0.90971,     0.90983,     0.90997,      0.9101,      0.9102,     0.91017,     0.91015,     0.91014,     0.91011,     0.91007,     0.91054,     0.91084,     0.91182,\n",
              "            0.91226,     0.91248,     0.91271,     0.91295,     0.91313,     0.91319,     0.91325,      0.9133,     0.91336,     0.91342,     0.91348,     0.91354,     0.91413,     0.91439,     0.91491,     0.91498,     0.91506,     0.91514,     0.91522,     0.91529,     0.91573,     0.91662,     0.91659,\n",
              "            0.91679,     0.91699,     0.91702,     0.91701,       0.917,       0.917,     0.91698,     0.91697,     0.91738,     0.91751,     0.91762,     0.91774,     0.91818,     0.91855,     0.91876,     0.91885,     0.91894,     0.91903,     0.91912,     0.91959,      0.9204,     0.92045,     0.92043,\n",
              "            0.92094,     0.92116,     0.92144,     0.92176,     0.92174,     0.92176,     0.92187,     0.92197,     0.92207,     0.92217,     0.92249,     0.92262,     0.92259,     0.92266,     0.92275,     0.92283,     0.92292,     0.92301,     0.92336,     0.92436,     0.92511,      0.9257,     0.92588,\n",
              "            0.92603,     0.92617,     0.92671,     0.92753,     0.92807,     0.92835,     0.92862,     0.92891,     0.92931,     0.92943,      0.9295,     0.92956,     0.92963,     0.92969,     0.92976,     0.92983,     0.93016,     0.93036,     0.93048,     0.93059,      0.9307,     0.93074,     0.93082,\n",
              "            0.93091,     0.93099,     0.93108,     0.93116,     0.93117,     0.93116,     0.93116,     0.93115,     0.93114,     0.93114,     0.93213,     0.93261,     0.93277,     0.93294,      0.9335,     0.93365,     0.93381,     0.93402,     0.93426,     0.93478,     0.93476,     0.93499,     0.93522,\n",
              "            0.93547,     0.93568,     0.93595,     0.93606,     0.93633,     0.93654,     0.93748,     0.93835,     0.93869,     0.93932,     0.93948,     0.93964,     0.93965,      0.9399,     0.94009,     0.94008,     0.94006,     0.94002,     0.94001,     0.94001,     0.94013,     0.94024,     0.94036,\n",
              "            0.94047,     0.94045,     0.94069,     0.94098,     0.94114,      0.9413,     0.94137,     0.94135,     0.94134,     0.94133,     0.94174,     0.94227,     0.94225,     0.94224,     0.94223,     0.94222,     0.94268,     0.94268,     0.94268,     0.94267,     0.94267,     0.94267,     0.94266,\n",
              "            0.94266,     0.94266,     0.94308,      0.9435,     0.94354,     0.94354,     0.94353,     0.94353,     0.94352,     0.94377,     0.94432,     0.94446,     0.94446,     0.94445,     0.94485,     0.94617,     0.94663,     0.94689,     0.94702,     0.94716,     0.94729,     0.94786,     0.94805,\n",
              "            0.94824,     0.94939,     0.94974,     0.95006,     0.95031,     0.95053,     0.95097,      0.9518,     0.95206,     0.95211,     0.95211,      0.9521,      0.9521,      0.9521,     0.95209,     0.95209,     0.95208,     0.95207,     0.95212,     0.95238,     0.95264,     0.95289,     0.95298,\n",
              "            0.95294,     0.95294,     0.95293,     0.95292,     0.95292,     0.95317,      0.9534,      0.9534,      0.9534,     0.95339,     0.95339,     0.95339,     0.95338,     0.95338,     0.95337,     0.95336,      0.9534,     0.95347,     0.95355,     0.95362,      0.9537,     0.95377,     0.95385,\n",
              "            0.95395,     0.95454,     0.95502,      0.9555,     0.95575,      0.9559,     0.95621,     0.95639,     0.95658,     0.95712,     0.95716,     0.95721,     0.95751,     0.95783,     0.95815,     0.95821,     0.95828,     0.95834,     0.95841,     0.95847,     0.95854,     0.95861,     0.95871,\n",
              "            0.95884,     0.95897,      0.9591,     0.95913,     0.95912,     0.95911,     0.95919,     0.95945,     0.95959,     0.95981,     0.96006,     0.96058,     0.96057,     0.96056,     0.96055,     0.96055,     0.96054,     0.96069,     0.96126,     0.96153,     0.96201,     0.96252,     0.96262,\n",
              "            0.96282,     0.96299,     0.96302,      0.9632,     0.96337,     0.96345,     0.96344,     0.96343,     0.96342,      0.9634,     0.96339,     0.96387,     0.96386,     0.96385,     0.96385,     0.96385,     0.96384,     0.96384,     0.96381,      0.9638,     0.96378,     0.96411,     0.96425,\n",
              "            0.96424,     0.96423,     0.96474,      0.9648,     0.96486,     0.96492,     0.96498,     0.96504,      0.9651,     0.96517,     0.96523,     0.96602,     0.96638,      0.9667,      0.9667,     0.96668,     0.96667,     0.96674,     0.96715,     0.96714,     0.96713,     0.96713,     0.96711,\n",
              "            0.96757,     0.96812,     0.96811,     0.96808,     0.96808,     0.96807,     0.96807,     0.96817,     0.96839,     0.96898,     0.96907,     0.96904,     0.96903,     0.96902,     0.96901,     0.96977,     0.97003,     0.97054,     0.97053,     0.97156,     0.97154,     0.97213,     0.97238,\n",
              "            0.97271,     0.97327,     0.97361,     0.97358,     0.97358,     0.97358,     0.97358,     0.97357,     0.97357,     0.97356,     0.97355,     0.97355,     0.97354,     0.97354,     0.97353,     0.97353,     0.97405,     0.97407,     0.97448,     0.97456,     0.97456,     0.97453,      0.9745,\n",
              "            0.97449,     0.97448,     0.97448,     0.97455,     0.97476,     0.97497,     0.97499,     0.97498,     0.97497,     0.97498,     0.97548,     0.97598,     0.97597,     0.97595,     0.97591,      0.9759,     0.97589,     0.97587,     0.97586,     0.97583,     0.97615,     0.97634,     0.97645,\n",
              "            0.97685,     0.97703,     0.97749,      0.9779,     0.97788,     0.97788,     0.97787,     0.97809,     0.97908,     0.97945,     0.97997,     0.97996,     0.98125,     0.98154,     0.98147,       0.982,     0.98198,     0.98253,     0.98249,     0.98409,     0.98469,     0.98467,     0.98466,\n",
              "            0.98576,     0.98629,     0.98626,     0.98623,     0.98621,     0.98789,     0.98786,     0.98798,     0.98896,     0.98895,     0.98902,     0.99008,     0.99063,     0.99062,     0.99062,      0.9906,     0.99058,     0.99115,     0.99111,     0.99109,     0.99108,     0.99105,     0.99101,\n",
              "            0.99099,     0.99098,     0.99098,     0.99097,     0.99089,     0.99147,     0.99146,     0.99141,     0.99139,     0.99257,     0.99253,      0.9925,     0.99309,     0.99306,     0.99304,       0.993,     0.99293,     0.99288,     0.99345,     0.99342,     0.99339,     0.99332,     0.99324,\n",
              "            0.99318,     0.99379,     0.99372,     0.99363,     0.99356,     0.99418,     0.99408,     0.99395,     0.99458,     0.99451,     0.99441,     0.99434,     0.99509,     0.99582,     0.99575,     0.99567,     0.99558,      0.9955,     0.99539,      0.9953,     0.99517,     0.99507,     0.99487,\n",
              "            0.99474,     0.99458,     0.99546,     0.99533,     0.99519,     0.99504,     0.99484,     0.99467,     0.99581,     0.99566,     0.99541,     0.99518,     0.99497,     0.99643,     0.99629,     0.99797,     0.99783,      0.9977,     0.99752,     0.99742,     0.99732,     0.99718,     0.99706,\n",
              "                  1,           1,           1,           1,           1,           1,           1,           1,           1,           1,           1,           1,           1,           1,           1,           1,           1,           1,           1,           1,           1,           1,           1,\n",
              "                  1,           1,           1,           1,           1,           1,           1,           1,           1,           1,           1,           1,           1,           1,           1,           1,           1,           1,           1,           1,           1,           1,           1,\n",
              "                  1,           1,           1,           1,           1,           1,           1,           1,           1,           1,           1,           1,           1,           1,           1,           1,           1,           1,           1,           1,           1,           1,           1,\n",
              "                  1,           1,           1,           1,           1,           1,           1,           1,           1,           1,           1,           1,           1,           1,           1,           1,           1,           1,           1,           1,           1,           1,           1,\n",
              "                  1,           1,           1,           1,           1,           1,           1,           1,           1,           1,           1]]), 'Confidence', 'Precision'], [array([          0,    0.001001,    0.002002,    0.003003,    0.004004,    0.005005,    0.006006,    0.007007,    0.008008,    0.009009,     0.01001,    0.011011,    0.012012,    0.013013,    0.014014,    0.015015,    0.016016,    0.017017,    0.018018,    0.019019,     0.02002,    0.021021,    0.022022,    0.023023,\n",
              "          0.024024,    0.025025,    0.026026,    0.027027,    0.028028,    0.029029,     0.03003,    0.031031,    0.032032,    0.033033,    0.034034,    0.035035,    0.036036,    0.037037,    0.038038,    0.039039,     0.04004,    0.041041,    0.042042,    0.043043,    0.044044,    0.045045,    0.046046,    0.047047,\n",
              "          0.048048,    0.049049,     0.05005,    0.051051,    0.052052,    0.053053,    0.054054,    0.055055,    0.056056,    0.057057,    0.058058,    0.059059,     0.06006,    0.061061,    0.062062,    0.063063,    0.064064,    0.065065,    0.066066,    0.067067,    0.068068,    0.069069,     0.07007,    0.071071,\n",
              "          0.072072,    0.073073,    0.074074,    0.075075,    0.076076,    0.077077,    0.078078,    0.079079,     0.08008,    0.081081,    0.082082,    0.083083,    0.084084,    0.085085,    0.086086,    0.087087,    0.088088,    0.089089,     0.09009,    0.091091,    0.092092,    0.093093,    0.094094,    0.095095,\n",
              "          0.096096,    0.097097,    0.098098,    0.099099,      0.1001,      0.1011,      0.1021,      0.1031,      0.1041,     0.10511,     0.10611,     0.10711,     0.10811,     0.10911,     0.11011,     0.11111,     0.11211,     0.11311,     0.11411,     0.11512,     0.11612,     0.11712,     0.11812,     0.11912,\n",
              "           0.12012,     0.12112,     0.12212,     0.12312,     0.12412,     0.12513,     0.12613,     0.12713,     0.12813,     0.12913,     0.13013,     0.13113,     0.13213,     0.13313,     0.13413,     0.13514,     0.13614,     0.13714,     0.13814,     0.13914,     0.14014,     0.14114,     0.14214,     0.14314,\n",
              "           0.14414,     0.14515,     0.14615,     0.14715,     0.14815,     0.14915,     0.15015,     0.15115,     0.15215,     0.15315,     0.15415,     0.15516,     0.15616,     0.15716,     0.15816,     0.15916,     0.16016,     0.16116,     0.16216,     0.16316,     0.16416,     0.16517,     0.16617,     0.16717,\n",
              "           0.16817,     0.16917,     0.17017,     0.17117,     0.17217,     0.17317,     0.17417,     0.17518,     0.17618,     0.17718,     0.17818,     0.17918,     0.18018,     0.18118,     0.18218,     0.18318,     0.18418,     0.18519,     0.18619,     0.18719,     0.18819,     0.18919,     0.19019,     0.19119,\n",
              "           0.19219,     0.19319,     0.19419,      0.1952,      0.1962,      0.1972,      0.1982,      0.1992,      0.2002,      0.2012,      0.2022,      0.2032,      0.2042,     0.20521,     0.20621,     0.20721,     0.20821,     0.20921,     0.21021,     0.21121,     0.21221,     0.21321,     0.21421,     0.21522,\n",
              "           0.21622,     0.21722,     0.21822,     0.21922,     0.22022,     0.22122,     0.22222,     0.22322,     0.22422,     0.22523,     0.22623,     0.22723,     0.22823,     0.22923,     0.23023,     0.23123,     0.23223,     0.23323,     0.23423,     0.23524,     0.23624,     0.23724,     0.23824,     0.23924,\n",
              "           0.24024,     0.24124,     0.24224,     0.24324,     0.24424,     0.24525,     0.24625,     0.24725,     0.24825,     0.24925,     0.25025,     0.25125,     0.25225,     0.25325,     0.25425,     0.25526,     0.25626,     0.25726,     0.25826,     0.25926,     0.26026,     0.26126,     0.26226,     0.26326,\n",
              "           0.26426,     0.26527,     0.26627,     0.26727,     0.26827,     0.26927,     0.27027,     0.27127,     0.27227,     0.27327,     0.27427,     0.27528,     0.27628,     0.27728,     0.27828,     0.27928,     0.28028,     0.28128,     0.28228,     0.28328,     0.28428,     0.28529,     0.28629,     0.28729,\n",
              "           0.28829,     0.28929,     0.29029,     0.29129,     0.29229,     0.29329,     0.29429,      0.2953,      0.2963,      0.2973,      0.2983,      0.2993,      0.3003,      0.3013,      0.3023,      0.3033,      0.3043,     0.30531,     0.30631,     0.30731,     0.30831,     0.30931,     0.31031,     0.31131,\n",
              "           0.31231,     0.31331,     0.31431,     0.31532,     0.31632,     0.31732,     0.31832,     0.31932,     0.32032,     0.32132,     0.32232,     0.32332,     0.32432,     0.32533,     0.32633,     0.32733,     0.32833,     0.32933,     0.33033,     0.33133,     0.33233,     0.33333,     0.33433,     0.33534,\n",
              "           0.33634,     0.33734,     0.33834,     0.33934,     0.34034,     0.34134,     0.34234,     0.34334,     0.34434,     0.34535,     0.34635,     0.34735,     0.34835,     0.34935,     0.35035,     0.35135,     0.35235,     0.35335,     0.35435,     0.35536,     0.35636,     0.35736,     0.35836,     0.35936,\n",
              "           0.36036,     0.36136,     0.36236,     0.36336,     0.36436,     0.36537,     0.36637,     0.36737,     0.36837,     0.36937,     0.37037,     0.37137,     0.37237,     0.37337,     0.37437,     0.37538,     0.37638,     0.37738,     0.37838,     0.37938,     0.38038,     0.38138,     0.38238,     0.38338,\n",
              "           0.38438,     0.38539,     0.38639,     0.38739,     0.38839,     0.38939,     0.39039,     0.39139,     0.39239,     0.39339,     0.39439,      0.3954,      0.3964,      0.3974,      0.3984,      0.3994,      0.4004,      0.4014,      0.4024,      0.4034,      0.4044,     0.40541,     0.40641,     0.40741,\n",
              "           0.40841,     0.40941,     0.41041,     0.41141,     0.41241,     0.41341,     0.41441,     0.41542,     0.41642,     0.41742,     0.41842,     0.41942,     0.42042,     0.42142,     0.42242,     0.42342,     0.42442,     0.42543,     0.42643,     0.42743,     0.42843,     0.42943,     0.43043,     0.43143,\n",
              "           0.43243,     0.43343,     0.43443,     0.43544,     0.43644,     0.43744,     0.43844,     0.43944,     0.44044,     0.44144,     0.44244,     0.44344,     0.44444,     0.44545,     0.44645,     0.44745,     0.44845,     0.44945,     0.45045,     0.45145,     0.45245,     0.45345,     0.45445,     0.45546,\n",
              "           0.45646,     0.45746,     0.45846,     0.45946,     0.46046,     0.46146,     0.46246,     0.46346,     0.46446,     0.46547,     0.46647,     0.46747,     0.46847,     0.46947,     0.47047,     0.47147,     0.47247,     0.47347,     0.47447,     0.47548,     0.47648,     0.47748,     0.47848,     0.47948,\n",
              "           0.48048,     0.48148,     0.48248,     0.48348,     0.48448,     0.48549,     0.48649,     0.48749,     0.48849,     0.48949,     0.49049,     0.49149,     0.49249,     0.49349,     0.49449,      0.4955,      0.4965,      0.4975,      0.4985,      0.4995,      0.5005,      0.5015,      0.5025,      0.5035,\n",
              "            0.5045,     0.50551,     0.50651,     0.50751,     0.50851,     0.50951,     0.51051,     0.51151,     0.51251,     0.51351,     0.51451,     0.51552,     0.51652,     0.51752,     0.51852,     0.51952,     0.52052,     0.52152,     0.52252,     0.52352,     0.52452,     0.52553,     0.52653,     0.52753,\n",
              "           0.52853,     0.52953,     0.53053,     0.53153,     0.53253,     0.53353,     0.53453,     0.53554,     0.53654,     0.53754,     0.53854,     0.53954,     0.54054,     0.54154,     0.54254,     0.54354,     0.54454,     0.54555,     0.54655,     0.54755,     0.54855,     0.54955,     0.55055,     0.55155,\n",
              "           0.55255,     0.55355,     0.55455,     0.55556,     0.55656,     0.55756,     0.55856,     0.55956,     0.56056,     0.56156,     0.56256,     0.56356,     0.56456,     0.56557,     0.56657,     0.56757,     0.56857,     0.56957,     0.57057,     0.57157,     0.57257,     0.57357,     0.57457,     0.57558,\n",
              "           0.57658,     0.57758,     0.57858,     0.57958,     0.58058,     0.58158,     0.58258,     0.58358,     0.58458,     0.58559,     0.58659,     0.58759,     0.58859,     0.58959,     0.59059,     0.59159,     0.59259,     0.59359,     0.59459,      0.5956,      0.5966,      0.5976,      0.5986,      0.5996,\n",
              "            0.6006,      0.6016,      0.6026,      0.6036,      0.6046,     0.60561,     0.60661,     0.60761,     0.60861,     0.60961,     0.61061,     0.61161,     0.61261,     0.61361,     0.61461,     0.61562,     0.61662,     0.61762,     0.61862,     0.61962,     0.62062,     0.62162,     0.62262,     0.62362,\n",
              "           0.62462,     0.62563,     0.62663,     0.62763,     0.62863,     0.62963,     0.63063,     0.63163,     0.63263,     0.63363,     0.63463,     0.63564,     0.63664,     0.63764,     0.63864,     0.63964,     0.64064,     0.64164,     0.64264,     0.64364,     0.64464,     0.64565,     0.64665,     0.64765,\n",
              "           0.64865,     0.64965,     0.65065,     0.65165,     0.65265,     0.65365,     0.65465,     0.65566,     0.65666,     0.65766,     0.65866,     0.65966,     0.66066,     0.66166,     0.66266,     0.66366,     0.66466,     0.66567,     0.66667,     0.66767,     0.66867,     0.66967,     0.67067,     0.67167,\n",
              "           0.67267,     0.67367,     0.67467,     0.67568,     0.67668,     0.67768,     0.67868,     0.67968,     0.68068,     0.68168,     0.68268,     0.68368,     0.68468,     0.68569,     0.68669,     0.68769,     0.68869,     0.68969,     0.69069,     0.69169,     0.69269,     0.69369,     0.69469,      0.6957,\n",
              "            0.6967,      0.6977,      0.6987,      0.6997,      0.7007,      0.7017,      0.7027,      0.7037,      0.7047,     0.70571,     0.70671,     0.70771,     0.70871,     0.70971,     0.71071,     0.71171,     0.71271,     0.71371,     0.71471,     0.71572,     0.71672,     0.71772,     0.71872,     0.71972,\n",
              "           0.72072,     0.72172,     0.72272,     0.72372,     0.72472,     0.72573,     0.72673,     0.72773,     0.72873,     0.72973,     0.73073,     0.73173,     0.73273,     0.73373,     0.73473,     0.73574,     0.73674,     0.73774,     0.73874,     0.73974,     0.74074,     0.74174,     0.74274,     0.74374,\n",
              "           0.74474,     0.74575,     0.74675,     0.74775,     0.74875,     0.74975,     0.75075,     0.75175,     0.75275,     0.75375,     0.75475,     0.75576,     0.75676,     0.75776,     0.75876,     0.75976,     0.76076,     0.76176,     0.76276,     0.76376,     0.76476,     0.76577,     0.76677,     0.76777,\n",
              "           0.76877,     0.76977,     0.77077,     0.77177,     0.77277,     0.77377,     0.77477,     0.77578,     0.77678,     0.77778,     0.77878,     0.77978,     0.78078,     0.78178,     0.78278,     0.78378,     0.78478,     0.78579,     0.78679,     0.78779,     0.78879,     0.78979,     0.79079,     0.79179,\n",
              "           0.79279,     0.79379,     0.79479,      0.7958,      0.7968,      0.7978,      0.7988,      0.7998,      0.8008,      0.8018,      0.8028,      0.8038,      0.8048,     0.80581,     0.80681,     0.80781,     0.80881,     0.80981,     0.81081,     0.81181,     0.81281,     0.81381,     0.81481,     0.81582,\n",
              "           0.81682,     0.81782,     0.81882,     0.81982,     0.82082,     0.82182,     0.82282,     0.82382,     0.82482,     0.82583,     0.82683,     0.82783,     0.82883,     0.82983,     0.83083,     0.83183,     0.83283,     0.83383,     0.83483,     0.83584,     0.83684,     0.83784,     0.83884,     0.83984,\n",
              "           0.84084,     0.84184,     0.84284,     0.84384,     0.84484,     0.84585,     0.84685,     0.84785,     0.84885,     0.84985,     0.85085,     0.85185,     0.85285,     0.85385,     0.85485,     0.85586,     0.85686,     0.85786,     0.85886,     0.85986,     0.86086,     0.86186,     0.86286,     0.86386,\n",
              "           0.86486,     0.86587,     0.86687,     0.86787,     0.86887,     0.86987,     0.87087,     0.87187,     0.87287,     0.87387,     0.87487,     0.87588,     0.87688,     0.87788,     0.87888,     0.87988,     0.88088,     0.88188,     0.88288,     0.88388,     0.88488,     0.88589,     0.88689,     0.88789,\n",
              "           0.88889,     0.88989,     0.89089,     0.89189,     0.89289,     0.89389,     0.89489,      0.8959,      0.8969,      0.8979,      0.8989,      0.8999,      0.9009,      0.9019,      0.9029,      0.9039,      0.9049,     0.90591,     0.90691,     0.90791,     0.90891,     0.90991,     0.91091,     0.91191,\n",
              "           0.91291,     0.91391,     0.91491,     0.91592,     0.91692,     0.91792,     0.91892,     0.91992,     0.92092,     0.92192,     0.92292,     0.92392,     0.92492,     0.92593,     0.92693,     0.92793,     0.92893,     0.92993,     0.93093,     0.93193,     0.93293,     0.93393,     0.93493,     0.93594,\n",
              "           0.93694,     0.93794,     0.93894,     0.93994,     0.94094,     0.94194,     0.94294,     0.94394,     0.94494,     0.94595,     0.94695,     0.94795,     0.94895,     0.94995,     0.95095,     0.95195,     0.95295,     0.95395,     0.95495,     0.95596,     0.95696,     0.95796,     0.95896,     0.95996,\n",
              "           0.96096,     0.96196,     0.96296,     0.96396,     0.96496,     0.96597,     0.96697,     0.96797,     0.96897,     0.96997,     0.97097,     0.97197,     0.97297,     0.97397,     0.97497,     0.97598,     0.97698,     0.97798,     0.97898,     0.97998,     0.98098,     0.98198,     0.98298,     0.98398,\n",
              "           0.98498,     0.98599,     0.98699,     0.98799,     0.98899,     0.98999,     0.99099,     0.99199,     0.99299,     0.99399,     0.99499,       0.996,       0.997,       0.998,       0.999,           1]), array([[    0.97719,     0.97719,      0.9762,     0.97521,     0.97372,     0.97224,     0.97025,     0.97025,     0.96926,     0.96926,     0.96926,     0.96877,     0.96777,     0.96777,     0.96728,     0.96728,     0.96728,     0.96678,     0.96678,     0.96678,     0.96678,     0.96678,     0.96653,\n",
              "            0.96629,     0.96629,     0.96629,     0.96579,     0.96579,     0.96579,     0.96579,     0.96579,     0.96579,     0.96579,     0.96575,     0.96529,     0.96529,      0.9648,      0.9648,      0.9648,      0.9648,      0.9648,      0.9648,      0.9648,      0.9648,      0.9648,      0.9648,\n",
              "             0.9648,      0.9648,      0.9648,      0.9648,      0.9648,      0.9648,      0.9648,      0.9648,      0.9648,      0.9648,      0.9648,      0.9643,      0.9643,     0.96381,     0.96381,     0.96331,     0.96282,     0.96282,     0.96282,     0.96282,     0.96282,     0.96282,     0.96282,\n",
              "            0.96282,     0.96282,     0.96282,     0.96282,     0.96233,     0.96232,     0.96232,     0.96232,     0.96232,     0.96232,     0.96232,     0.96232,     0.96232,     0.96232,     0.96232,     0.96232,     0.96182,     0.96182,     0.96182,     0.96182,     0.96133,     0.96133,     0.96133,\n",
              "            0.96133,     0.96133,     0.96133,     0.96133,     0.96133,     0.96133,     0.96108,     0.96083,     0.96083,     0.96083,     0.96083,     0.96083,     0.96083,     0.96083,     0.96083,     0.96083,     0.96083,     0.96083,     0.96083,     0.96083,     0.96083,     0.96083,      0.9605,\n",
              "            0.96022,     0.95998,     0.95984,     0.95984,     0.95984,     0.95984,     0.95984,     0.95984,     0.95968,     0.95947,     0.95935,     0.95935,     0.95935,     0.95929,      0.9591,     0.95891,     0.95835,     0.95835,     0.95835,     0.95835,     0.95835,     0.95835,     0.95835,\n",
              "            0.95835,     0.95835,     0.95835,     0.95835,     0.95835,     0.95835,     0.95835,     0.95835,     0.95835,     0.95835,     0.95835,     0.95835,     0.95835,     0.95835,     0.95835,     0.95835,     0.95835,     0.95835,     0.95835,     0.95835,     0.95835,     0.95787,     0.95786,\n",
              "            0.95786,     0.95786,     0.95786,     0.95786,     0.95786,     0.95786,     0.95786,     0.95768,     0.95718,     0.95687,     0.95687,     0.95687,     0.95687,     0.95687,     0.95687,     0.95687,     0.95687,     0.95637,     0.95637,     0.95637,     0.95637,     0.95637,     0.95637,\n",
              "            0.95637,     0.95637,     0.95637,     0.95637,     0.95637,     0.95637,     0.95637,     0.95637,     0.95637,     0.95637,     0.95632,     0.95601,     0.95585,     0.95553,     0.95538,     0.95538,     0.95538,     0.95538,     0.95538,     0.95538,     0.95538,     0.95538,     0.95529,\n",
              "            0.95488,     0.95488,     0.95488,     0.95488,     0.95488,     0.95488,     0.95488,     0.95457,     0.95422,     0.95392,     0.95389,     0.95389,     0.95389,     0.95317,      0.9529,      0.9529,      0.9529,      0.9529,     0.95284,     0.95266,     0.95248,      0.9524,      0.9524,\n",
              "            0.95168,     0.95141,     0.95141,     0.95141,      0.9511,     0.95092,     0.95092,     0.95092,     0.95092,     0.95092,     0.95092,     0.95092,     0.95092,     0.95092,     0.95092,     0.95069,     0.95042,     0.95033,     0.95018,     0.95003,     0.94993,     0.94993,     0.94993,\n",
              "            0.94993,     0.94993,     0.94993,     0.94993,     0.94993,     0.94993,     0.94993,     0.94993,     0.94993,     0.94993,     0.94993,     0.94993,     0.94993,     0.94993,     0.94993,     0.94993,     0.94992,     0.94977,     0.94961,     0.94946,     0.94938,     0.94893,     0.94893,\n",
              "            0.94893,     0.94893,     0.94893,     0.94893,     0.94893,     0.94893,     0.94893,     0.94893,     0.94893,     0.94893,     0.94893,     0.94893,     0.94893,     0.94893,     0.94893,     0.94844,     0.94844,     0.94844,     0.94844,     0.94844,     0.94844,     0.94844,     0.94844,\n",
              "            0.94844,     0.94844,     0.94844,     0.94844,     0.94844,     0.94844,     0.94844,     0.94817,     0.94756,     0.94745,     0.94745,     0.94745,     0.94745,     0.94745,     0.94745,     0.94712,     0.94695,     0.94695,     0.94695,     0.94695,     0.94695,     0.94695,     0.94695,\n",
              "            0.94695,     0.94695,     0.94684,     0.94671,     0.94657,     0.94627,     0.94589,     0.94575,     0.94561,     0.94547,     0.94546,     0.94546,     0.94546,     0.94546,     0.94546,     0.94546,     0.94546,     0.94546,     0.94546,     0.94546,     0.94546,     0.94546,     0.94546,\n",
              "            0.94546,     0.94546,     0.94546,     0.94546,     0.94546,     0.94546,     0.94546,     0.94546,     0.94546,     0.94546,     0.94546,     0.94546,     0.94546,     0.94546,     0.94546,     0.94546,     0.94546,     0.94546,     0.94546,     0.94546,     0.94546,     0.94546,     0.94546,\n",
              "            0.94546,     0.94546,     0.94546,     0.94515,     0.94497,     0.94497,     0.94497,     0.94497,     0.94497,     0.94497,     0.94497,     0.94497,     0.94497,     0.94497,     0.94479,     0.94435,      0.9442,     0.94404,      0.9437,     0.94326,     0.94298,     0.94298,     0.94298,\n",
              "            0.94298,     0.94298,     0.94298,     0.94298,     0.94298,     0.94298,     0.94298,     0.94298,     0.94298,     0.94298,     0.94298,     0.94298,     0.94298,     0.94298,     0.94298,     0.94298,     0.94298,     0.94298,     0.94298,     0.94298,     0.94298,     0.94295,     0.94249,\n",
              "            0.94249,     0.94249,      0.9424,     0.94229,     0.94218,     0.94208,     0.94189,      0.9415,      0.9415,      0.9415,      0.9415,      0.9415,      0.9415,      0.9415,      0.9415,      0.9415,      0.9415,      0.9415,      0.9415,     0.94117,       0.941,     0.94078,     0.94055,\n",
              "            0.94051,     0.94051,     0.94051,     0.94045,     0.94019,     0.94001,     0.94001,     0.94001,     0.94001,     0.94001,     0.94001,     0.93985,     0.93958,     0.93951,     0.93951,     0.93951,     0.93951,     0.93951,     0.93951,     0.93951,     0.93951,     0.93951,     0.93951,\n",
              "            0.93951,     0.93951,     0.93951,     0.93951,     0.93951,     0.93951,     0.93951,     0.93951,     0.93951,     0.93951,     0.93951,     0.93951,     0.93951,     0.93951,     0.93951,     0.93951,     0.93951,     0.93951,     0.93951,     0.93951,     0.93951,     0.93902,     0.93902,\n",
              "            0.93902,     0.93902,     0.93902,     0.93902,     0.93895,     0.93887,      0.9388,     0.93872,     0.93865,     0.93857,     0.93803,     0.93803,     0.93803,     0.93803,     0.93803,     0.93803,     0.93803,     0.93803,     0.93803,     0.93795,     0.93753,     0.93753,     0.93753,\n",
              "            0.93753,     0.93704,     0.93704,     0.93604,     0.93604,     0.93555,     0.93505,     0.93456,     0.93456,     0.93456,     0.93456,     0.93456,     0.93356,     0.93356,     0.93352,     0.93333,     0.93313,     0.93247,     0.93226,     0.93208,     0.93208,     0.93208,     0.93208,\n",
              "            0.93208,     0.93172,     0.93158,     0.93158,     0.93158,     0.93158,     0.93137,     0.93103,     0.93087,     0.93072,     0.93059,     0.93052,     0.93024,     0.93001,     0.92984,     0.92967,     0.92959,     0.92953,     0.92947,     0.92941,     0.92935,     0.92928,     0.92922,\n",
              "            0.92916,      0.9291,     0.92828,     0.92811,     0.92802,     0.92793,     0.92783,     0.92774,     0.92764,     0.92762,     0.92762,     0.92748,     0.92732,     0.92717,     0.92712,     0.92712,     0.92712,     0.92712,     0.92712,     0.92712,     0.92712,     0.92712,     0.92712,\n",
              "            0.92712,     0.92712,     0.92662,     0.92662,     0.92662,     0.92662,     0.92662,     0.92662,     0.92662,     0.92656,     0.92648,     0.92641,     0.92633,     0.92625,     0.92617,     0.92606,     0.92587,     0.92569,     0.92464,     0.92464,     0.92464,     0.92464,     0.92442,\n",
              "            0.92365,     0.92352,      0.9234,     0.92328,     0.92316,     0.92315,     0.92314,     0.92307,       0.923,     0.92293,     0.92286,     0.92279,     0.92272,     0.92263,     0.92244,     0.92224,     0.92216,     0.92216,     0.92216,     0.92216,     0.92216,     0.92216,     0.92215,\n",
              "            0.92167,     0.92167,     0.92167,     0.92167,     0.92095,     0.92018,     0.91968,     0.91968,     0.91968,     0.91968,     0.91942,     0.91919,     0.91919,     0.91919,     0.91919,     0.91919,     0.91919,     0.91919,     0.91919,     0.91919,     0.91919,     0.91919,     0.91919,\n",
              "            0.91919,     0.91919,     0.91919,     0.91908,     0.91893,     0.91879,     0.91869,     0.91869,     0.91832,      0.9182,      0.9182,     0.91806,     0.91788,     0.91771,     0.91756,     0.91741,     0.91726,     0.91671,     0.91671,     0.91671,     0.91671,     0.91665,     0.91621,\n",
              "            0.91621,     0.91604,     0.91522,     0.91522,     0.91522,     0.91469,     0.91443,     0.91417,     0.91393,     0.91364,     0.91314,     0.91272,     0.91246,     0.91222,     0.91211,     0.91199,     0.91187,     0.91176,     0.91111,     0.91081,      0.9104,     0.91026,     0.90945,\n",
              "            0.90906,     0.90878,     0.90828,     0.90828,     0.90828,     0.90828,     0.90828,     0.90828,     0.90828,     0.90828,     0.90828,     0.90778,     0.90729,     0.90729,     0.90663,     0.90613,     0.90578,      0.9053,     0.90499,     0.90471,     0.90453,     0.90435,     0.90392,\n",
              "            0.90382,     0.90328,     0.90296,     0.90227,     0.90215,     0.90202,      0.9019,     0.90183,     0.90183,     0.90183,     0.90099,     0.90012,     0.89975,     0.89936,     0.89901,     0.89886,     0.89855,     0.89835,     0.89802,     0.89781,     0.89689,     0.89688,     0.89688,\n",
              "            0.89688,     0.89688,     0.89626,     0.89533,     0.89524,     0.89515,     0.89507,     0.89498,      0.8949,     0.89437,     0.89422,     0.89408,     0.89393,     0.89378,     0.89362,     0.89347,     0.89322,     0.89291,     0.89291,     0.89272,     0.89248,     0.89146,     0.89036,\n",
              "            0.89012,     0.88988,     0.88961,     0.88944,     0.88944,     0.88944,     0.88902,     0.88873,     0.88849,     0.88795,     0.88751,     0.88628,      0.8859,     0.88534,     0.88385,     0.88345,     0.88311,     0.88235,      0.8819,     0.88092,     0.88002,     0.87978,     0.87952,\n",
              "            0.87882,     0.87754,     0.87754,     0.87734,     0.87687,     0.87667,     0.87637,     0.87605,     0.87506,     0.87443,     0.87305,     0.87264,      0.8711,     0.86983,     0.86674,     0.86555,     0.86478,     0.86429,     0.86226,     0.86168,     0.86103,     0.85996,     0.85929,\n",
              "            0.85814,     0.85614,     0.85395,     0.85203,     0.85103,       0.849,     0.84694,     0.84482,     0.84384,     0.84314,     0.84234,     0.84127,     0.83875,     0.83787,     0.83757,     0.83625,     0.83459,      0.8325,     0.82944,     0.82714,     0.82593,     0.82335,     0.81995,\n",
              "            0.81796,     0.81742,     0.81718,      0.8164,     0.80889,     0.80699,     0.80567,     0.80109,     0.79891,     0.79527,      0.7907,     0.78735,     0.78428,     0.78084,     0.77781,     0.77319,     0.76584,     0.76074,     0.75252,     0.74868,     0.74494,     0.73741,     0.72847,\n",
              "             0.7222,     0.71454,     0.70609,     0.69628,     0.68791,     0.67731,     0.66625,     0.65148,     0.63693,     0.62829,     0.61689,     0.60971,     0.60241,     0.59126,     0.58072,     0.56993,     0.55887,     0.54889,     0.53548,     0.52469,     0.51063,     0.50006,      0.4812,\n",
              "            0.46877,     0.45448,     0.43456,     0.42275,     0.41046,      0.3979,     0.38256,      0.3698,     0.35316,     0.34146,     0.32281,     0.30686,     0.29418,     0.27639,     0.26627,     0.24433,     0.22826,     0.21494,     0.19956,     0.19182,     0.18465,     0.17508,     0.16804,\n",
              "             0.1621,     0.15635,     0.14809,     0.14289,     0.13576,     0.12816,     0.12465,     0.11731,     0.11231,     0.10305,     0.09536,    0.087509,    0.081457,     0.07595,    0.070269,    0.064252,    0.059172,    0.055621,    0.049029,    0.046188,    0.043448,    0.041429,     0.03723,\n",
              "           0.034048,    0.029265,    0.026633,    0.023674,    0.019778,    0.017223,    0.015378,     0.01357,    0.011619,    0.011013,     0.01003,   0.0085455,   0.0056933,   0.0042874,   0.0037349,   0.0033984,   0.0031219,   0.0024617,   0.0018832,   0.0017041,   0.0015251,   0.0014001,   0.0012895,\n",
              "          0.0011789,   0.0010683,  0.00093976,  0.00077045,  0.00060113,           0,           0,           0,           0,           0,           0,           0,           0,           0,           0,           0,           0,           0,           0,           0,           0,           0,           0,\n",
              "                  0,           0,           0,           0,           0,           0,           0,           0,           0,           0,           0,           0,           0,           0,           0,           0,           0,           0,           0,           0,           0,           0,           0,\n",
              "                  0,           0,           0,           0,           0,           0,           0,           0,           0,           0,           0]]), 'Confidence', 'Recall']]\n",
              "fitness: np.float64(0.7916925973773764)\n",
              "keys: ['metrics/precision(B)', 'metrics/recall(B)', 'metrics/mAP50(B)', 'metrics/mAP50-95(B)']\n",
              "maps: array([    0.77198,     0.77198])\n",
              "names: {0: 'Pallet', 1: 'pallet'}\n",
              "plot: True\n",
              "results_dict: {'metrics/precision(B)': np.float64(0.9559037721592143), 'metrics/recall(B)': np.float64(0.9201784828953892), 'metrics/mAP50(B)': np.float64(0.9691205665057513), 'metrics/mAP50-95(B)': np.float64(0.7719783785853348), 'fitness': np.float64(0.7916925973773764)}\n",
              "save_dir: PosixPath('runs/detect/train2')\n",
              "speed: {'preprocess': 6.390645048779289, 'inference': 15.28111597560671, 'loss': 0.0008339024378340294, 'postprocess': 3.6455139268294197}\n",
              "task: 'detect'"
            ]
          },
          "metadata": {},
          "execution_count": 6
        }
      ]
    },
    {
      "cell_type": "code",
      "source": [],
      "metadata": {
        "id": "Y1v0-nWPya_i"
      },
      "execution_count": null,
      "outputs": []
    },
    {
      "cell_type": "code",
      "source": [],
      "metadata": {
        "id": "0kydcancybBi"
      },
      "execution_count": null,
      "outputs": []
    },
    {
      "cell_type": "code",
      "source": [],
      "metadata": {
        "id": "fWzm2jAUybEN"
      },
      "execution_count": null,
      "outputs": []
    },
    {
      "cell_type": "code",
      "source": [],
      "metadata": {
        "id": "5bRvJ1-IybG0"
      },
      "execution_count": null,
      "outputs": []
    },
    {
      "cell_type": "code",
      "source": [],
      "metadata": {
        "id": "MJMCbThmybKo"
      },
      "execution_count": null,
      "outputs": []
    },
    {
      "cell_type": "code",
      "source": [
        "#defining the model\n",
        "from ultralytics import YOLO\n",
        "model1=YOLO(\"yolov8m.pt\")\n",
        "\n",
        "\n",
        "#running the model\n",
        "results1=model1.train(data='/content/Pallet-Detection-and-Counting-4/data.yaml',epochs = 50,imgsz=640)\n",
        "model1.val()"
      ],
      "metadata": {
        "colab": {
          "base_uri": "https://localhost:8080/"
        },
        "id": "BesBJlbG5wA_",
        "outputId": "eda7901f-b11a-46e6-ab2f-ba164e119bd1"
      },
      "execution_count": null,
      "outputs": [
        {
          "metadata": {
            "tags": null
          },
          "name": "stdout",
          "output_type": "stream",
          "text": [
            "Ultralytics 8.3.127 🚀 Python-3.11.12 torch-2.6.0+cu124 CUDA:0 (Tesla T4, 15095MiB)\n",
            "\u001b[34m\u001b[1mengine/trainer: \u001b[0magnostic_nms=False, amp=True, augment=False, auto_augment=randaugment, batch=16, bgr=0.0, box=7.5, cache=False, cfg=None, classes=None, close_mosaic=10, cls=0.5, conf=None, copy_paste=0.0, copy_paste_mode=flip, cos_lr=False, cutmix=0.0, data=/content/Pallet-Detection-and-Counting-4/data.yaml, degrees=0.0, deterministic=True, device=cuda:0, dfl=1.5, dnn=False, dropout=0.0, dynamic=False, embed=None, epochs=50, erasing=0.4, exist_ok=False, fliplr=0.5, flipud=0.0, format=torchscript, fraction=1.0, freeze=None, half=False, hsv_h=0.015, hsv_s=0.7, hsv_v=0.4, imgsz=640, int8=False, iou=0.7, keras=False, kobj=1.0, line_width=None, lr0=0.01, lrf=0.01, mask_ratio=4, max_det=300, mixup=0.0, mode=train, model=yolov8m.pt, momentum=0.937, mosaic=1.0, multi_scale=False, name=train5, nbs=64, nms=False, opset=None, optimize=False, optimizer=auto, overlap_mask=True, patience=100, perspective=0.0, plots=True, pose=12.0, pretrained=True, profile=False, project=None, rect=False, resume=False, retina_masks=False, save=True, save_conf=False, save_crop=False, save_dir=runs/detect/train5, save_frames=False, save_json=False, save_period=-1, save_txt=False, scale=0.5, seed=0, shear=0.0, show=False, show_boxes=True, show_conf=True, show_labels=True, simplify=True, single_cls=False, source=None, split=val, stream_buffer=False, task=detect, time=None, tracker=botsort.yaml, translate=0.1, val=True, verbose=True, vid_stride=1, visualize=False, warmup_bias_lr=0.1, warmup_epochs=3.0, warmup_momentum=0.8, weight_decay=0.0005, workers=8, workspace=None\n",
            "Overriding model.yaml nc=80 with nc=2\n",
            "\n",
            "                   from  n    params  module                                       arguments                     \n",
            "  0                  -1  1      1392  ultralytics.nn.modules.conv.Conv             [3, 48, 3, 2]                 \n",
            "  1                  -1  1     41664  ultralytics.nn.modules.conv.Conv             [48, 96, 3, 2]                \n",
            "  2                  -1  2    111360  ultralytics.nn.modules.block.C2f             [96, 96, 2, True]             \n",
            "  3                  -1  1    166272  ultralytics.nn.modules.conv.Conv             [96, 192, 3, 2]               \n",
            "  4                  -1  4    813312  ultralytics.nn.modules.block.C2f             [192, 192, 4, True]           \n",
            "  5                  -1  1    664320  ultralytics.nn.modules.conv.Conv             [192, 384, 3, 2]              \n",
            "  6                  -1  4   3248640  ultralytics.nn.modules.block.C2f             [384, 384, 4, True]           \n",
            "  7                  -1  1   1991808  ultralytics.nn.modules.conv.Conv             [384, 576, 3, 2]              \n",
            "  8                  -1  2   3985920  ultralytics.nn.modules.block.C2f             [576, 576, 2, True]           \n",
            "  9                  -1  1    831168  ultralytics.nn.modules.block.SPPF            [576, 576, 5]                 \n",
            " 10                  -1  1         0  torch.nn.modules.upsampling.Upsample         [None, 2, 'nearest']          \n",
            " 11             [-1, 6]  1         0  ultralytics.nn.modules.conv.Concat           [1]                           \n",
            " 12                  -1  2   1993728  ultralytics.nn.modules.block.C2f             [960, 384, 2]                 \n",
            " 13                  -1  1         0  torch.nn.modules.upsampling.Upsample         [None, 2, 'nearest']          \n",
            " 14             [-1, 4]  1         0  ultralytics.nn.modules.conv.Concat           [1]                           \n",
            " 15                  -1  2    517632  ultralytics.nn.modules.block.C2f             [576, 192, 2]                 \n",
            " 16                  -1  1    332160  ultralytics.nn.modules.conv.Conv             [192, 192, 3, 2]              \n",
            " 17            [-1, 12]  1         0  ultralytics.nn.modules.conv.Concat           [1]                           \n",
            " 18                  -1  2   1846272  ultralytics.nn.modules.block.C2f             [576, 384, 2]                 \n",
            " 19                  -1  1   1327872  ultralytics.nn.modules.conv.Conv             [384, 384, 3, 2]              \n",
            " 20             [-1, 9]  1         0  ultralytics.nn.modules.conv.Concat           [1]                           \n",
            " 21                  -1  2   4207104  ultralytics.nn.modules.block.C2f             [960, 576, 2]                 \n",
            " 22        [15, 18, 21]  1   3776854  ultralytics.nn.modules.head.Detect           [2, [192, 384, 576]]          \n",
            "Model summary: 169 layers, 25,857,478 parameters, 25,857,462 gradients, 79.1 GFLOPs\n",
            "\n",
            "Transferred 469/475 items from pretrained weights\n",
            "Freezing layer 'model.22.dfl.conv.weight'\n",
            "\u001b[34m\u001b[1mAMP: \u001b[0mrunning Automatic Mixed Precision (AMP) checks...\n",
            "\u001b[34m\u001b[1mAMP: \u001b[0mchecks passed ✅\n",
            "\u001b[34m\u001b[1mtrain: \u001b[0mFast image access ✅ (ping: 0.0±0.0 ms, read: 1653.0±410.9 MB/s, size: 95.7 KB)\n"
          ]
        },
        {
          "metadata": {
            "tags": null
          },
          "name": "stderr",
          "output_type": "stream",
          "text": [
            "\u001b[34m\u001b[1mtrain: \u001b[0mScanning /content/Pallet-Detection-and-Counting-4/train/labels.cache... 438 images, 0 backgrounds, 0 corrupt: 100%|██████████| 438/438 [00:00<?, ?it/s]"
          ]
        },
        {
          "metadata": {
            "tags": null
          },
          "name": "stdout",
          "output_type": "stream",
          "text": [
            "\u001b[34m\u001b[1mtrain: \u001b[0m/content/Pallet-Detection-and-Counting-4/train/images/Pallet-reconditioning-1_jpg.rf.34ee13ad8df3ff11cee1bfc50ea3708b.jpg: 3 duplicate labels removed\n",
            "\u001b[34m\u001b[1mtrain: \u001b[0m/content/Pallet-Detection-and-Counting-4/train/images/Pallet-reconditioning-1_jpg.rf.3bab9adc63b62bdaf901decfaf319e58.jpg: 3 duplicate labels removed\n",
            "\u001b[34m\u001b[1mtrain: \u001b[0m/content/Pallet-Detection-and-Counting-4/train/images/Pallet-reconditioning-1_jpg.rf.84ec15497ae9a9000e8cf32ae216e423.jpg: 3 duplicate labels removed\n",
            "\u001b[34m\u001b[1mtrain: \u001b[0m/content/Pallet-Detection-and-Counting-4/train/images/Pallet-reconditioning-1_jpg.rf.bbc1da6e6cbafc38c7dfded1cd9852a8.jpg: 3 duplicate labels removed\n",
            "\u001b[34m\u001b[1mtrain: \u001b[0m/content/Pallet-Detection-and-Counting-4/train/images/Pallet-reconditioning-1_jpg.rf.d129fa76a9514f582d51356ef840e155.jpg: 3 duplicate labels removed\n",
            "\u001b[34m\u001b[1mtrain: \u001b[0m/content/Pallet-Detection-and-Counting-4/train/images/Pallet-reconditioning-1_jpg.rf.ea102aa81591415d39f83d95be6f72ba.jpg: 3 duplicate labels removed\n",
            "\u001b[34m\u001b[1mtrain: \u001b[0m/content/Pallet-Detection-and-Counting-4/train/images/Screenshot-2025-02-11-100602_png.rf.15484f4419759f99a729335bd713d782.jpg: 4 duplicate labels removed\n",
            "\u001b[34m\u001b[1mtrain: \u001b[0m/content/Pallet-Detection-and-Counting-4/train/images/Screenshot-2025-02-11-100602_png.rf.28620d6a4b642bf7ee09958dd6f69e5a.jpg: 4 duplicate labels removed\n",
            "\u001b[34m\u001b[1mtrain: \u001b[0m/content/Pallet-Detection-and-Counting-4/train/images/Screenshot-2025-02-11-100602_png.rf.ec5da5401eda7d2aed251561819d266d.jpg: 4 duplicate labels removed\n",
            "\u001b[34m\u001b[1mtrain: \u001b[0m/content/Pallet-Detection-and-Counting-4/train/images/Screenshot-2025-02-11-100820_png.rf.0af304b639cb78d8630531b91fb9f9b6.jpg: 1 duplicate labels removed\n",
            "\u001b[34m\u001b[1mtrain: \u001b[0m/content/Pallet-Detection-and-Counting-4/train/images/Screenshot-2025-02-11-100820_png.rf.765407e1bc631f66746ed4aa18571bd5.jpg: 1 duplicate labels removed\n",
            "\u001b[34m\u001b[1mtrain: \u001b[0m/content/Pallet-Detection-and-Counting-4/train/images/Screenshot-2025-02-11-100820_png.rf.a698b6c98bd0ac532c30bfca4c54e8ed.jpg: 1 duplicate labels removed\n",
            "\u001b[34m\u001b[1mtrain: \u001b[0m/content/Pallet-Detection-and-Counting-4/train/images/blue-pallets-stacked-stack_721969-263_jpg.rf.12dea7a723f5b10bcf788c42fe1cde8b.jpg: 1 duplicate labels removed\n",
            "\u001b[34m\u001b[1mtrain: \u001b[0m/content/Pallet-Detection-and-Counting-4/train/images/blue-pallets-stacked-stack_721969-263_jpg.rf.b621915fce8d871c5237d874aa647f0e.jpg: 1 duplicate labels removed\n",
            "\u001b[34m\u001b[1mtrain: \u001b[0m/content/Pallet-Detection-and-Counting-4/train/images/blue-pallets-stacked-stack_721969-263_jpg.rf.dd78a60476552459ef12da37ec0789ee.jpg: 1 duplicate labels removed\n",
            "\u001b[34m\u001b[1mtrain: \u001b[0m/content/Pallet-Detection-and-Counting-4/train/images/chep-wooden-pallet-BJ229W_jpg.rf.9ec30b51851e07eeb335fc2dd97c4180.jpg: 3 duplicate labels removed\n",
            "\u001b[34m\u001b[1mtrain: \u001b[0m/content/Pallet-Detection-and-Counting-4/train/images/chep-wooden-pallet-BJ229W_jpg.rf.bf996991eca3404cc40ee674980ac4cc.jpg: 3 duplicate labels removed\n",
            "\u001b[34m\u001b[1mtrain: \u001b[0m/content/Pallet-Detection-and-Counting-4/train/images/chep-wooden-pallet-BJ229W_jpg.rf.f9dcefa1ffca391ad632a7db6c3ebbf7.jpg: 3 duplicate labels removed\n",
            "\u001b[34m\u001b[1malbumentations: \u001b[0mBlur(p=0.01, blur_limit=(3, 7)), MedianBlur(p=0.01, blur_limit=(3, 7)), ToGray(p=0.01, method='weighted_average', num_output_channels=3), CLAHE(p=0.01, clip_limit=(1.0, 4.0), tile_grid_size=(8, 8))\n"
          ]
        },
        {
          "metadata": {
            "tags": null
          },
          "name": "stderr",
          "output_type": "stream",
          "text": [
            "\n"
          ]
        },
        {
          "metadata": {
            "tags": null
          },
          "name": "stdout",
          "output_type": "stream",
          "text": [
            "\u001b[34m\u001b[1mval: \u001b[0mFast image access ✅ (ping: 0.0±0.0 ms, read: 615.0±496.4 MB/s, size: 86.5 KB)\n"
          ]
        },
        {
          "metadata": {
            "tags": null
          },
          "name": "stderr",
          "output_type": "stream",
          "text": [
            "\u001b[34m\u001b[1mval: \u001b[0mScanning /content/Pallet-Detection-and-Counting-4/valid/labels.cache... 41 images, 0 backgrounds, 0 corrupt: 100%|██████████| 41/41 [00:00<?, ?it/s]"
          ]
        },
        {
          "metadata": {
            "tags": null
          },
          "name": "stdout",
          "output_type": "stream",
          "text": [
            "\u001b[34m\u001b[1mval: \u001b[0m/content/Pallet-Detection-and-Counting-4/valid/images/Screenshot-2025-02-11-095114_png.rf.01bd4c9801ca12f87d55b8db099edbfd.jpg: 3 duplicate labels removed\n",
            "\u001b[34m\u001b[1mval: \u001b[0m/content/Pallet-Detection-and-Counting-4/valid/images/Screenshot-2025-02-11-095114_png.rf.7aba2371d776ee5c83d3c08c86718498.jpg: 3 duplicate labels removed\n",
            "\u001b[34m\u001b[1mval: \u001b[0m/content/Pallet-Detection-and-Counting-4/valid/images/Screenshot-2025-02-11-100602_png.rf.3ae7af476dd38b8a9852a02518155875.jpg: 4 duplicate labels removed\n",
            "\u001b[34m\u001b[1mval: \u001b[0m/content/Pallet-Detection-and-Counting-4/valid/images/b6fb487f47b8b7f236177a11b650_jpg.rf.d5336078d915d0d034d0f088ec3607a8.jpg: 1 duplicate labels removed\n",
            "\u001b[34m\u001b[1mval: \u001b[0m/content/Pallet-Detection-and-Counting-4/valid/images/chep-wooden-pallet-BJ229W_jpg.rf.b816c90c7788b99a8c731634b4356fb7.jpg: 3 duplicate labels removed\n",
            "\u001b[34m\u001b[1mval: \u001b[0m/content/Pallet-Detection-and-Counting-4/valid/images/chep-wooden-pallet-BJ229W_jpg.rf.eea45996a8bf514df6e3188f7f8468d0.jpg: 3 duplicate labels removed\n"
          ]
        },
        {
          "metadata": {
            "tags": null
          },
          "name": "stderr",
          "output_type": "stream",
          "text": [
            "\n"
          ]
        },
        {
          "metadata": {
            "tags": null
          },
          "name": "stdout",
          "output_type": "stream",
          "text": [
            "Plotting labels to runs/detect/train5/labels.jpg... \n",
            "\u001b[34m\u001b[1moptimizer:\u001b[0m 'optimizer=auto' found, ignoring 'lr0=0.01' and 'momentum=0.937' and determining best 'optimizer', 'lr0' and 'momentum' automatically... \n",
            "\u001b[34m\u001b[1moptimizer:\u001b[0m AdamW(lr=0.001667, momentum=0.9) with parameter groups 77 weight(decay=0.0), 84 weight(decay=0.0005), 83 bias(decay=0.0)\n",
            "Image sizes 640 train, 640 val\n",
            "Using 2 dataloader workers\n",
            "Logging results to \u001b[1mruns/detect/train5\u001b[0m\n",
            "Starting training for 50 epochs...\n",
            "\n",
            "      Epoch    GPU_mem   box_loss   cls_loss   dfl_loss  Instances       Size\n"
          ]
        },
        {
          "metadata": {
            "tags": null
          },
          "name": "stderr",
          "output_type": "stream",
          "text": [
            "       1/50      8.79G      2.092      2.126      1.738        467        640: 100%|██████████| 28/28 [00:38<00:00,  1.39s/it]\n",
            "                 Class     Images  Instances      Box(P          R      mAP50  mAP50-95): 100%|██████████| 2/2 [00:01<00:00,  1.00it/s]"
          ]
        },
        {
          "metadata": {
            "tags": null
          },
          "name": "stdout",
          "output_type": "stream",
          "text": [
            "                   all         41       2017      0.651      0.851      0.831       0.49\n"
          ]
        },
        {
          "metadata": {
            "tags": null
          },
          "name": "stderr",
          "output_type": "stream",
          "text": [
            "\n"
          ]
        },
        {
          "metadata": {
            "tags": null
          },
          "name": "stdout",
          "output_type": "stream",
          "text": [
            "\n",
            "      Epoch    GPU_mem   box_loss   cls_loss   dfl_loss  Instances       Size\n"
          ]
        },
        {
          "metadata": {
            "tags": null
          },
          "name": "stderr",
          "output_type": "stream",
          "text": [
            "       2/50      9.02G      1.163     0.7736      1.127        902        640: 100%|██████████| 28/28 [00:37<00:00,  1.33s/it]\n",
            "                 Class     Images  Instances      Box(P          R      mAP50  mAP50-95): 100%|██████████| 2/2 [00:01<00:00,  1.33it/s]"
          ]
        },
        {
          "metadata": {
            "tags": null
          },
          "name": "stdout",
          "output_type": "stream",
          "text": [
            "                   all         41       2017      0.615      0.829      0.629      0.354\n"
          ]
        },
        {
          "metadata": {
            "tags": null
          },
          "name": "stderr",
          "output_type": "stream",
          "text": [
            "\n"
          ]
        },
        {
          "metadata": {
            "tags": null
          },
          "name": "stdout",
          "output_type": "stream",
          "text": [
            "\n",
            "      Epoch    GPU_mem   box_loss   cls_loss   dfl_loss  Instances       Size\n"
          ]
        },
        {
          "metadata": {
            "tags": null
          },
          "name": "stderr",
          "output_type": "stream",
          "text": [
            "       3/50      8.88G      1.105     0.7577      1.104        278        640: 100%|██████████| 28/28 [00:36<00:00,  1.29s/it]\n",
            "                 Class     Images  Instances      Box(P          R      mAP50  mAP50-95): 100%|██████████| 2/2 [00:01<00:00,  1.49it/s]"
          ]
        },
        {
          "metadata": {
            "tags": null
          },
          "name": "stdout",
          "output_type": "stream",
          "text": [
            "                   all         41       2017      0.633      0.768      0.603      0.365\n"
          ]
        },
        {
          "metadata": {
            "tags": null
          },
          "name": "stderr",
          "output_type": "stream",
          "text": [
            "\n"
          ]
        },
        {
          "metadata": {
            "tags": null
          },
          "name": "stdout",
          "output_type": "stream",
          "text": [
            "\n",
            "      Epoch    GPU_mem   box_loss   cls_loss   dfl_loss  Instances       Size\n"
          ]
        },
        {
          "metadata": {
            "tags": null
          },
          "name": "stderr",
          "output_type": "stream",
          "text": [
            "       4/50      8.45G      1.085     0.7112      1.062        396        640: 100%|██████████| 28/28 [00:35<00:00,  1.28s/it]\n",
            "                 Class     Images  Instances      Box(P          R      mAP50  mAP50-95): 100%|██████████| 2/2 [00:01<00:00,  1.43it/s]"
          ]
        },
        {
          "metadata": {
            "tags": null
          },
          "name": "stdout",
          "output_type": "stream",
          "text": [
            "                   all         41       2017      0.767      0.833      0.779      0.425\n"
          ]
        },
        {
          "metadata": {
            "tags": null
          },
          "name": "stderr",
          "output_type": "stream",
          "text": [
            "\n"
          ]
        },
        {
          "metadata": {
            "tags": null
          },
          "name": "stdout",
          "output_type": "stream",
          "text": [
            "\n",
            "      Epoch    GPU_mem   box_loss   cls_loss   dfl_loss  Instances       Size\n"
          ]
        },
        {
          "metadata": {
            "tags": null
          },
          "name": "stderr",
          "output_type": "stream",
          "text": [
            "       5/50      8.16G      1.064     0.6692      1.059        395        640: 100%|██████████| 28/28 [00:35<00:00,  1.27s/it]\n",
            "                 Class     Images  Instances      Box(P          R      mAP50  mAP50-95): 100%|██████████| 2/2 [00:01<00:00,  1.05it/s]"
          ]
        },
        {
          "metadata": {
            "tags": null
          },
          "name": "stdout",
          "output_type": "stream",
          "text": [
            "                   all         41       2017      0.846      0.815      0.887      0.577\n"
          ]
        },
        {
          "metadata": {
            "tags": null
          },
          "name": "stderr",
          "output_type": "stream",
          "text": [
            "\n"
          ]
        },
        {
          "metadata": {
            "tags": null
          },
          "name": "stdout",
          "output_type": "stream",
          "text": [
            "\n",
            "      Epoch    GPU_mem   box_loss   cls_loss   dfl_loss  Instances       Size\n"
          ]
        },
        {
          "metadata": {
            "tags": null
          },
          "name": "stderr",
          "output_type": "stream",
          "text": [
            "       6/50      8.21G     0.9958      0.656      1.044        399        640: 100%|██████████| 28/28 [00:36<00:00,  1.29s/it]\n",
            "                 Class     Images  Instances      Box(P          R      mAP50  mAP50-95): 100%|██████████| 2/2 [00:01<00:00,  1.31it/s]"
          ]
        },
        {
          "metadata": {
            "tags": null
          },
          "name": "stdout",
          "output_type": "stream",
          "text": [
            "                   all         41       2017       0.85      0.838      0.905      0.612\n"
          ]
        },
        {
          "metadata": {
            "tags": null
          },
          "name": "stderr",
          "output_type": "stream",
          "text": [
            "\n"
          ]
        },
        {
          "metadata": {
            "tags": null
          },
          "name": "stdout",
          "output_type": "stream",
          "text": [
            "\n",
            "      Epoch    GPU_mem   box_loss   cls_loss   dfl_loss  Instances       Size\n"
          ]
        },
        {
          "metadata": {
            "tags": null
          },
          "name": "stderr",
          "output_type": "stream",
          "text": [
            "       7/50      8.37G      1.001      0.626      1.022        535        640: 100%|██████████| 28/28 [00:35<00:00,  1.28s/it]\n",
            "                 Class     Images  Instances      Box(P          R      mAP50  mAP50-95): 100%|██████████| 2/2 [00:01<00:00,  1.34it/s]"
          ]
        },
        {
          "metadata": {
            "tags": null
          },
          "name": "stdout",
          "output_type": "stream",
          "text": [
            "                   all         41       2017      0.906      0.858      0.921      0.593\n"
          ]
        },
        {
          "metadata": {
            "tags": null
          },
          "name": "stderr",
          "output_type": "stream",
          "text": [
            "\n"
          ]
        },
        {
          "metadata": {
            "tags": null
          },
          "name": "stdout",
          "output_type": "stream",
          "text": [
            "\n",
            "      Epoch    GPU_mem   box_loss   cls_loss   dfl_loss  Instances       Size\n"
          ]
        },
        {
          "metadata": {
            "tags": null
          },
          "name": "stderr",
          "output_type": "stream",
          "text": [
            "       8/50      9.28G     0.9371     0.6065      1.005        285        640: 100%|██████████| 28/28 [00:35<00:00,  1.25s/it]\n",
            "                 Class     Images  Instances      Box(P          R      mAP50  mAP50-95): 100%|██████████| 2/2 [00:01<00:00,  1.31it/s]"
          ]
        },
        {
          "metadata": {
            "tags": null
          },
          "name": "stdout",
          "output_type": "stream",
          "text": [
            "                   all         41       2017      0.859      0.857      0.887      0.621\n"
          ]
        },
        {
          "metadata": {
            "tags": null
          },
          "name": "stderr",
          "output_type": "stream",
          "text": [
            "\n"
          ]
        },
        {
          "metadata": {
            "tags": null
          },
          "name": "stdout",
          "output_type": "stream",
          "text": [
            "\n",
            "      Epoch    GPU_mem   box_loss   cls_loss   dfl_loss  Instances       Size\n"
          ]
        },
        {
          "metadata": {
            "tags": null
          },
          "name": "stderr",
          "output_type": "stream",
          "text": [
            "       9/50      8.93G     0.9085      0.589     0.9869        523        640: 100%|██████████| 28/28 [00:36<00:00,  1.29s/it]\n",
            "                 Class     Images  Instances      Box(P          R      mAP50  mAP50-95): 100%|██████████| 2/2 [00:01<00:00,  1.32it/s]"
          ]
        },
        {
          "metadata": {
            "tags": null
          },
          "name": "stdout",
          "output_type": "stream",
          "text": [
            "                   all         41       2017      0.932       0.88      0.954       0.66\n"
          ]
        },
        {
          "metadata": {
            "tags": null
          },
          "name": "stderr",
          "output_type": "stream",
          "text": [
            "\n"
          ]
        },
        {
          "metadata": {
            "tags": null
          },
          "name": "stdout",
          "output_type": "stream",
          "text": [
            "\n",
            "      Epoch    GPU_mem   box_loss   cls_loss   dfl_loss  Instances       Size\n"
          ]
        },
        {
          "metadata": {
            "tags": null
          },
          "name": "stderr",
          "output_type": "stream",
          "text": [
            "      10/50       7.6G     0.9261     0.5605     0.9829        278        640: 100%|██████████| 28/28 [00:35<00:00,  1.27s/it]\n",
            "                 Class     Images  Instances      Box(P          R      mAP50  mAP50-95): 100%|██████████| 2/2 [00:01<00:00,  1.24it/s]"
          ]
        },
        {
          "metadata": {
            "tags": null
          },
          "name": "stdout",
          "output_type": "stream",
          "text": [
            "                   all         41       2017      0.915      0.881      0.954       0.64\n"
          ]
        },
        {
          "metadata": {
            "tags": null
          },
          "name": "stderr",
          "output_type": "stream",
          "text": [
            "\n"
          ]
        },
        {
          "metadata": {
            "tags": null
          },
          "name": "stdout",
          "output_type": "stream",
          "text": [
            "\n",
            "      Epoch    GPU_mem   box_loss   cls_loss   dfl_loss  Instances       Size\n"
          ]
        },
        {
          "metadata": {
            "tags": null
          },
          "name": "stderr",
          "output_type": "stream",
          "text": [
            "      11/50      9.26G     0.9131     0.5656     0.9874        346        640: 100%|██████████| 28/28 [00:35<00:00,  1.28s/it]\n",
            "                 Class     Images  Instances      Box(P          R      mAP50  mAP50-95): 100%|██████████| 2/2 [00:01<00:00,  1.53it/s]"
          ]
        },
        {
          "metadata": {
            "tags": null
          },
          "name": "stdout",
          "output_type": "stream",
          "text": [
            "                   all         41       2017      0.937      0.876      0.953       0.69\n"
          ]
        },
        {
          "metadata": {
            "tags": null
          },
          "name": "stderr",
          "output_type": "stream",
          "text": [
            "\n"
          ]
        },
        {
          "metadata": {
            "tags": null
          },
          "name": "stdout",
          "output_type": "stream",
          "text": [
            "\n",
            "      Epoch    GPU_mem   box_loss   cls_loss   dfl_loss  Instances       Size\n"
          ]
        },
        {
          "metadata": {
            "tags": null
          },
          "name": "stderr",
          "output_type": "stream",
          "text": [
            "      12/50      7.99G     0.8754     0.5428     0.9752        568        640: 100%|██████████| 28/28 [00:35<00:00,  1.28s/it]\n",
            "                 Class     Images  Instances      Box(P          R      mAP50  mAP50-95): 100%|██████████| 2/2 [00:01<00:00,  1.41it/s]"
          ]
        },
        {
          "metadata": {
            "tags": null
          },
          "name": "stdout",
          "output_type": "stream",
          "text": [
            "                   all         41       2017      0.912       0.89      0.943      0.698\n"
          ]
        },
        {
          "metadata": {
            "tags": null
          },
          "name": "stderr",
          "output_type": "stream",
          "text": [
            "\n"
          ]
        },
        {
          "metadata": {
            "tags": null
          },
          "name": "stdout",
          "output_type": "stream",
          "text": [
            "\n",
            "      Epoch    GPU_mem   box_loss   cls_loss   dfl_loss  Instances       Size\n"
          ]
        },
        {
          "metadata": {
            "tags": null
          },
          "name": "stderr",
          "output_type": "stream",
          "text": [
            "      13/50      8.44G     0.8692      0.525     0.9728        388        640: 100%|██████████| 28/28 [00:37<00:00,  1.35s/it]\n",
            "                 Class     Images  Instances      Box(P          R      mAP50  mAP50-95): 100%|██████████| 2/2 [00:01<00:00,  1.42it/s]"
          ]
        },
        {
          "metadata": {
            "tags": null
          },
          "name": "stdout",
          "output_type": "stream",
          "text": [
            "                   all         41       2017      0.887      0.892      0.937      0.686\n"
          ]
        },
        {
          "metadata": {
            "tags": null
          },
          "name": "stderr",
          "output_type": "stream",
          "text": [
            "\n"
          ]
        },
        {
          "metadata": {
            "tags": null
          },
          "name": "stdout",
          "output_type": "stream",
          "text": [
            "\n",
            "      Epoch    GPU_mem   box_loss   cls_loss   dfl_loss  Instances       Size\n"
          ]
        },
        {
          "metadata": {
            "tags": null
          },
          "name": "stderr",
          "output_type": "stream",
          "text": [
            "      14/50      8.64G      0.882     0.5363     0.9704        227        640: 100%|██████████| 28/28 [00:35<00:00,  1.27s/it]\n",
            "                 Class     Images  Instances      Box(P          R      mAP50  mAP50-95): 100%|██████████| 2/2 [00:01<00:00,  1.42it/s]"
          ]
        },
        {
          "metadata": {
            "tags": null
          },
          "name": "stdout",
          "output_type": "stream",
          "text": [
            "                   all         41       2017      0.902      0.903       0.94      0.705\n"
          ]
        },
        {
          "metadata": {
            "tags": null
          },
          "name": "stderr",
          "output_type": "stream",
          "text": [
            "\n"
          ]
        },
        {
          "metadata": {
            "tags": null
          },
          "name": "stdout",
          "output_type": "stream",
          "text": [
            "\n",
            "      Epoch    GPU_mem   box_loss   cls_loss   dfl_loss  Instances       Size\n"
          ]
        },
        {
          "metadata": {
            "tags": null
          },
          "name": "stderr",
          "output_type": "stream",
          "text": [
            "      15/50      8.34G     0.8558     0.5193     0.9614        451        640: 100%|██████████| 28/28 [00:35<00:00,  1.26s/it]\n",
            "                 Class     Images  Instances      Box(P          R      mAP50  mAP50-95): 100%|██████████| 2/2 [00:01<00:00,  1.30it/s]"
          ]
        },
        {
          "metadata": {
            "tags": null
          },
          "name": "stdout",
          "output_type": "stream",
          "text": [
            "                   all         41       2017      0.948      0.894      0.953      0.699\n"
          ]
        },
        {
          "metadata": {
            "tags": null
          },
          "name": "stderr",
          "output_type": "stream",
          "text": [
            "\n"
          ]
        },
        {
          "metadata": {
            "tags": null
          },
          "name": "stdout",
          "output_type": "stream",
          "text": [
            "\n",
            "      Epoch    GPU_mem   box_loss   cls_loss   dfl_loss  Instances       Size\n"
          ]
        },
        {
          "metadata": {
            "tags": null
          },
          "name": "stderr",
          "output_type": "stream",
          "text": [
            "      16/50      8.99G     0.8246     0.5006     0.9541        313        640: 100%|██████████| 28/28 [00:35<00:00,  1.26s/it]\n",
            "                 Class     Images  Instances      Box(P          R      mAP50  mAP50-95): 100%|██████████| 2/2 [00:01<00:00,  1.38it/s]"
          ]
        },
        {
          "metadata": {
            "tags": null
          },
          "name": "stdout",
          "output_type": "stream",
          "text": [
            "                   all         41       2017      0.928      0.884      0.946      0.693\n"
          ]
        },
        {
          "metadata": {
            "tags": null
          },
          "name": "stderr",
          "output_type": "stream",
          "text": [
            "\n"
          ]
        },
        {
          "metadata": {
            "tags": null
          },
          "name": "stdout",
          "output_type": "stream",
          "text": [
            "\n",
            "      Epoch    GPU_mem   box_loss   cls_loss   dfl_loss  Instances       Size\n"
          ]
        },
        {
          "metadata": {
            "tags": null
          },
          "name": "stderr",
          "output_type": "stream",
          "text": [
            "      17/50      9.01G     0.8267     0.4834      0.945        346        640: 100%|██████████| 28/28 [00:36<00:00,  1.32s/it]\n",
            "                 Class     Images  Instances      Box(P          R      mAP50  mAP50-95): 100%|██████████| 2/2 [00:01<00:00,  1.05it/s]"
          ]
        },
        {
          "metadata": {
            "tags": null
          },
          "name": "stdout",
          "output_type": "stream",
          "text": [
            "                   all         41       2017      0.916        0.9      0.946      0.663\n"
          ]
        },
        {
          "metadata": {
            "tags": null
          },
          "name": "stderr",
          "output_type": "stream",
          "text": [
            "\n"
          ]
        },
        {
          "metadata": {
            "tags": null
          },
          "name": "stdout",
          "output_type": "stream",
          "text": [
            "\n",
            "      Epoch    GPU_mem   box_loss   cls_loss   dfl_loss  Instances       Size\n"
          ]
        },
        {
          "metadata": {
            "tags": null
          },
          "name": "stderr",
          "output_type": "stream",
          "text": [
            "      18/50      7.66G      0.822     0.4842     0.9441        488        640: 100%|██████████| 28/28 [00:35<00:00,  1.29s/it]\n",
            "                 Class     Images  Instances      Box(P          R      mAP50  mAP50-95): 100%|██████████| 2/2 [00:01<00:00,  1.45it/s]"
          ]
        },
        {
          "metadata": {
            "tags": null
          },
          "name": "stdout",
          "output_type": "stream",
          "text": [
            "                   all         41       2017      0.944      0.907      0.954      0.723\n"
          ]
        },
        {
          "metadata": {
            "tags": null
          },
          "name": "stderr",
          "output_type": "stream",
          "text": [
            "\n"
          ]
        },
        {
          "metadata": {
            "tags": null
          },
          "name": "stdout",
          "output_type": "stream",
          "text": [
            "\n",
            "      Epoch    GPU_mem   box_loss   cls_loss   dfl_loss  Instances       Size\n"
          ]
        },
        {
          "metadata": {
            "tags": null
          },
          "name": "stderr",
          "output_type": "stream",
          "text": [
            "      19/50      8.59G      0.806     0.4657     0.9401        427        640: 100%|██████████| 28/28 [00:36<00:00,  1.29s/it]\n",
            "                 Class     Images  Instances      Box(P          R      mAP50  mAP50-95): 100%|██████████| 2/2 [00:01<00:00,  1.53it/s]"
          ]
        },
        {
          "metadata": {
            "tags": null
          },
          "name": "stdout",
          "output_type": "stream",
          "text": [
            "                   all         41       2017      0.909      0.877      0.943      0.715\n"
          ]
        },
        {
          "metadata": {
            "tags": null
          },
          "name": "stderr",
          "output_type": "stream",
          "text": [
            "\n"
          ]
        },
        {
          "metadata": {
            "tags": null
          },
          "name": "stdout",
          "output_type": "stream",
          "text": [
            "\n",
            "      Epoch    GPU_mem   box_loss   cls_loss   dfl_loss  Instances       Size\n"
          ]
        },
        {
          "metadata": {
            "tags": null
          },
          "name": "stderr",
          "output_type": "stream",
          "text": [
            "      20/50      8.29G     0.7766     0.4654     0.9313        507        640: 100%|██████████| 28/28 [00:36<00:00,  1.29s/it]\n",
            "                 Class     Images  Instances      Box(P          R      mAP50  mAP50-95): 100%|██████████| 2/2 [00:01<00:00,  1.45it/s]"
          ]
        },
        {
          "metadata": {
            "tags": null
          },
          "name": "stdout",
          "output_type": "stream",
          "text": [
            "                   all         41       2017      0.905      0.914      0.949      0.699\n"
          ]
        },
        {
          "metadata": {
            "tags": null
          },
          "name": "stderr",
          "output_type": "stream",
          "text": [
            "\n"
          ]
        },
        {
          "metadata": {
            "tags": null
          },
          "name": "stdout",
          "output_type": "stream",
          "text": [
            "\n",
            "      Epoch    GPU_mem   box_loss   cls_loss   dfl_loss  Instances       Size\n"
          ]
        },
        {
          "metadata": {
            "tags": null
          },
          "name": "stderr",
          "output_type": "stream",
          "text": [
            "      21/50      8.83G     0.7691      0.445     0.9313        423        640: 100%|██████████| 28/28 [00:34<00:00,  1.25s/it]\n",
            "                 Class     Images  Instances      Box(P          R      mAP50  mAP50-95): 100%|██████████| 2/2 [00:01<00:00,  1.52it/s]"
          ]
        },
        {
          "metadata": {
            "tags": null
          },
          "name": "stdout",
          "output_type": "stream",
          "text": [
            "                   all         41       2017       0.91      0.926      0.969      0.733\n"
          ]
        },
        {
          "metadata": {
            "tags": null
          },
          "name": "stderr",
          "output_type": "stream",
          "text": [
            "\n"
          ]
        },
        {
          "metadata": {
            "tags": null
          },
          "name": "stdout",
          "output_type": "stream",
          "text": [
            "\n",
            "      Epoch    GPU_mem   box_loss   cls_loss   dfl_loss  Instances       Size\n"
          ]
        },
        {
          "metadata": {
            "tags": null
          },
          "name": "stderr",
          "output_type": "stream",
          "text": [
            "      22/50      8.28G     0.7678     0.4518     0.9321        325        640: 100%|██████████| 28/28 [00:34<00:00,  1.25s/it]\n",
            "                 Class     Images  Instances      Box(P          R      mAP50  mAP50-95): 100%|██████████| 2/2 [00:01<00:00,  1.45it/s]"
          ]
        },
        {
          "metadata": {
            "tags": null
          },
          "name": "stdout",
          "output_type": "stream",
          "text": [
            "                   all         41       2017      0.921      0.899      0.945      0.723\n"
          ]
        },
        {
          "metadata": {
            "tags": null
          },
          "name": "stderr",
          "output_type": "stream",
          "text": [
            "\n"
          ]
        },
        {
          "metadata": {
            "tags": null
          },
          "name": "stdout",
          "output_type": "stream",
          "text": [
            "\n",
            "      Epoch    GPU_mem   box_loss   cls_loss   dfl_loss  Instances       Size\n"
          ]
        },
        {
          "metadata": {
            "tags": null
          },
          "name": "stderr",
          "output_type": "stream",
          "text": [
            "      23/50      8.15G     0.7581      0.448     0.9217        600        640: 100%|██████████| 28/28 [00:34<00:00,  1.23s/it]\n",
            "                 Class     Images  Instances      Box(P          R      mAP50  mAP50-95): 100%|██████████| 2/2 [00:01<00:00,  1.51it/s]"
          ]
        },
        {
          "metadata": {
            "tags": null
          },
          "name": "stdout",
          "output_type": "stream",
          "text": [
            "                   all         41       2017      0.939      0.892      0.965      0.744\n"
          ]
        },
        {
          "metadata": {
            "tags": null
          },
          "name": "stderr",
          "output_type": "stream",
          "text": [
            "\n"
          ]
        },
        {
          "metadata": {
            "tags": null
          },
          "name": "stdout",
          "output_type": "stream",
          "text": [
            "\n",
            "      Epoch    GPU_mem   box_loss   cls_loss   dfl_loss  Instances       Size\n"
          ]
        },
        {
          "metadata": {
            "tags": null
          },
          "name": "stderr",
          "output_type": "stream",
          "text": [
            "      24/50      8.08G     0.7453     0.4343     0.9189        405        640: 100%|██████████| 28/28 [00:34<00:00,  1.25s/it]\n",
            "                 Class     Images  Instances      Box(P          R      mAP50  mAP50-95): 100%|██████████| 2/2 [00:01<00:00,  1.50it/s]"
          ]
        },
        {
          "metadata": {
            "tags": null
          },
          "name": "stdout",
          "output_type": "stream",
          "text": [
            "                   all         41       2017      0.912      0.912      0.946      0.717\n"
          ]
        },
        {
          "metadata": {
            "tags": null
          },
          "name": "stderr",
          "output_type": "stream",
          "text": [
            "\n"
          ]
        },
        {
          "metadata": {
            "tags": null
          },
          "name": "stdout",
          "output_type": "stream",
          "text": [
            "\n",
            "      Epoch    GPU_mem   box_loss   cls_loss   dfl_loss  Instances       Size\n"
          ]
        },
        {
          "metadata": {
            "tags": null
          },
          "name": "stderr",
          "output_type": "stream",
          "text": [
            "      25/50      10.2G     0.7341     0.4323     0.9141        440        640: 100%|██████████| 28/28 [00:33<00:00,  1.21s/it]\n",
            "                 Class     Images  Instances      Box(P          R      mAP50  mAP50-95): 100%|██████████| 2/2 [00:01<00:00,  1.43it/s]"
          ]
        },
        {
          "metadata": {
            "tags": null
          },
          "name": "stdout",
          "output_type": "stream",
          "text": [
            "                   all         41       2017      0.891      0.934      0.943      0.718\n"
          ]
        },
        {
          "metadata": {
            "tags": null
          },
          "name": "stderr",
          "output_type": "stream",
          "text": [
            "\n"
          ]
        },
        {
          "metadata": {
            "tags": null
          },
          "name": "stdout",
          "output_type": "stream",
          "text": [
            "\n",
            "      Epoch    GPU_mem   box_loss   cls_loss   dfl_loss  Instances       Size\n"
          ]
        },
        {
          "output_type": "stream",
          "name": "stderr",
          "text": [
            "      26/50      8.97G     0.7275     0.4333     0.9113        389        640: 100%|██████████| 28/28 [00:35<00:00,  1.28s/it]\n",
            "                 Class     Images  Instances      Box(P          R      mAP50  mAP50-95): 100%|██████████| 2/2 [00:01<00:00,  1.39it/s]"
          ]
        },
        {
          "output_type": "stream",
          "name": "stdout",
          "text": [
            "                   all         41       2017      0.927      0.886      0.947      0.711\n"
          ]
        },
        {
          "output_type": "stream",
          "name": "stderr",
          "text": [
            "\n"
          ]
        },
        {
          "output_type": "stream",
          "name": "stdout",
          "text": [
            "\n",
            "      Epoch    GPU_mem   box_loss   cls_loss   dfl_loss  Instances       Size\n"
          ]
        },
        {
          "output_type": "stream",
          "name": "stderr",
          "text": [
            "      27/50      7.91G      0.736     0.4333      0.911        208        640: 100%|██████████| 28/28 [00:34<00:00,  1.22s/it]\n",
            "                 Class     Images  Instances      Box(P          R      mAP50  mAP50-95): 100%|██████████| 2/2 [00:01<00:00,  1.19it/s]"
          ]
        },
        {
          "output_type": "stream",
          "name": "stdout",
          "text": [
            "                   all         41       2017      0.945      0.924      0.965      0.748\n"
          ]
        },
        {
          "output_type": "stream",
          "name": "stderr",
          "text": [
            "\n"
          ]
        },
        {
          "output_type": "stream",
          "name": "stdout",
          "text": [
            "\n",
            "      Epoch    GPU_mem   box_loss   cls_loss   dfl_loss  Instances       Size\n"
          ]
        },
        {
          "output_type": "stream",
          "name": "stderr",
          "text": [
            "      28/50      8.01G     0.7181     0.4128     0.9074        497        640: 100%|██████████| 28/28 [00:35<00:00,  1.26s/it]\n",
            "                 Class     Images  Instances      Box(P          R      mAP50  mAP50-95): 100%|██████████| 2/2 [00:01<00:00,  1.57it/s]"
          ]
        },
        {
          "output_type": "stream",
          "name": "stdout",
          "text": [
            "                   all         41       2017      0.901       0.93       0.94      0.718\n"
          ]
        },
        {
          "output_type": "stream",
          "name": "stderr",
          "text": [
            "\n"
          ]
        },
        {
          "output_type": "stream",
          "name": "stdout",
          "text": [
            "\n",
            "      Epoch    GPU_mem   box_loss   cls_loss   dfl_loss  Instances       Size\n"
          ]
        },
        {
          "output_type": "stream",
          "name": "stderr",
          "text": [
            "      29/50      7.92G      0.716     0.4144     0.9051        561        640: 100%|██████████| 28/28 [00:33<00:00,  1.19s/it]\n",
            "                 Class     Images  Instances      Box(P          R      mAP50  mAP50-95): 100%|██████████| 2/2 [00:01<00:00,  1.44it/s]"
          ]
        },
        {
          "output_type": "stream",
          "name": "stdout",
          "text": [
            "                   all         41       2017      0.945      0.933      0.964      0.752\n"
          ]
        },
        {
          "output_type": "stream",
          "name": "stderr",
          "text": [
            "\n"
          ]
        },
        {
          "output_type": "stream",
          "name": "stdout",
          "text": [
            "\n",
            "      Epoch    GPU_mem   box_loss   cls_loss   dfl_loss  Instances       Size\n"
          ]
        },
        {
          "output_type": "stream",
          "name": "stderr",
          "text": [
            "      30/50      8.62G     0.7152     0.4112     0.9081        347        640: 100%|██████████| 28/28 [00:35<00:00,  1.25s/it]\n",
            "                 Class     Images  Instances      Box(P          R      mAP50  mAP50-95): 100%|██████████| 2/2 [00:01<00:00,  1.17it/s]"
          ]
        },
        {
          "output_type": "stream",
          "name": "stdout",
          "text": [
            "                   all         41       2017      0.958      0.908      0.961      0.727\n"
          ]
        },
        {
          "output_type": "stream",
          "name": "stderr",
          "text": [
            "\n"
          ]
        },
        {
          "output_type": "stream",
          "name": "stdout",
          "text": [
            "\n",
            "      Epoch    GPU_mem   box_loss   cls_loss   dfl_loss  Instances       Size\n"
          ]
        },
        {
          "output_type": "stream",
          "name": "stderr",
          "text": [
            "      31/50      8.68G     0.7053     0.4094     0.9075        361        640: 100%|██████████| 28/28 [00:35<00:00,  1.28s/it]\n",
            "                 Class     Images  Instances      Box(P          R      mAP50  mAP50-95): 100%|██████████| 2/2 [00:01<00:00,  1.52it/s]"
          ]
        },
        {
          "output_type": "stream",
          "name": "stdout",
          "text": [
            "                   all         41       2017      0.947       0.92      0.952      0.724\n"
          ]
        },
        {
          "output_type": "stream",
          "name": "stderr",
          "text": [
            "\n"
          ]
        },
        {
          "output_type": "stream",
          "name": "stdout",
          "text": [
            "\n",
            "      Epoch    GPU_mem   box_loss   cls_loss   dfl_loss  Instances       Size\n"
          ]
        },
        {
          "output_type": "stream",
          "name": "stderr",
          "text": [
            "      32/50      8.37G     0.6916     0.4001     0.9005        403        640: 100%|██████████| 28/28 [00:34<00:00,  1.23s/it]\n",
            "                 Class     Images  Instances      Box(P          R      mAP50  mAP50-95): 100%|██████████| 2/2 [00:01<00:00,  1.20it/s]"
          ]
        },
        {
          "output_type": "stream",
          "name": "stdout",
          "text": [
            "                   all         41       2017      0.952      0.908      0.956      0.742\n"
          ]
        },
        {
          "output_type": "stream",
          "name": "stderr",
          "text": [
            "\n"
          ]
        },
        {
          "output_type": "stream",
          "name": "stdout",
          "text": [
            "\n",
            "      Epoch    GPU_mem   box_loss   cls_loss   dfl_loss  Instances       Size\n"
          ]
        },
        {
          "output_type": "stream",
          "name": "stderr",
          "text": [
            "      33/50      9.91G     0.6872      0.398     0.8934        779        640: 100%|██████████| 28/28 [00:36<00:00,  1.31s/it]\n",
            "                 Class     Images  Instances      Box(P          R      mAP50  mAP50-95): 100%|██████████| 2/2 [00:01<00:00,  1.50it/s]"
          ]
        },
        {
          "output_type": "stream",
          "name": "stdout",
          "text": [
            "                   all         41       2017      0.951      0.927      0.966      0.768\n"
          ]
        },
        {
          "output_type": "stream",
          "name": "stderr",
          "text": [
            "\n"
          ]
        },
        {
          "output_type": "stream",
          "name": "stdout",
          "text": [
            "\n",
            "      Epoch    GPU_mem   box_loss   cls_loss   dfl_loss  Instances       Size\n"
          ]
        },
        {
          "output_type": "stream",
          "name": "stderr",
          "text": [
            "      34/50      8.37G     0.6756     0.3849     0.8909        492        640: 100%|██████████| 28/28 [00:35<00:00,  1.27s/it]\n",
            "                 Class     Images  Instances      Box(P          R      mAP50  mAP50-95): 100%|██████████| 2/2 [00:01<00:00,  1.41it/s]"
          ]
        },
        {
          "output_type": "stream",
          "name": "stdout",
          "text": [
            "                   all         41       2017      0.924      0.923      0.959      0.748\n"
          ]
        },
        {
          "output_type": "stream",
          "name": "stderr",
          "text": [
            "\n"
          ]
        },
        {
          "output_type": "stream",
          "name": "stdout",
          "text": [
            "\n",
            "      Epoch    GPU_mem   box_loss   cls_loss   dfl_loss  Instances       Size\n"
          ]
        },
        {
          "output_type": "stream",
          "name": "stderr",
          "text": [
            "      35/50       8.7G     0.6761     0.3864     0.8927        517        640: 100%|██████████| 28/28 [00:34<00:00,  1.24s/it]\n",
            "                 Class     Images  Instances      Box(P          R      mAP50  mAP50-95): 100%|██████████| 2/2 [00:01<00:00,  1.17it/s]"
          ]
        },
        {
          "output_type": "stream",
          "name": "stdout",
          "text": [
            "                   all         41       2017      0.951      0.912      0.959      0.756\n"
          ]
        },
        {
          "output_type": "stream",
          "name": "stderr",
          "text": [
            "\n"
          ]
        },
        {
          "output_type": "stream",
          "name": "stdout",
          "text": [
            "\n",
            "      Epoch    GPU_mem   box_loss   cls_loss   dfl_loss  Instances       Size\n"
          ]
        },
        {
          "output_type": "stream",
          "name": "stderr",
          "text": [
            "      36/50      9.05G      0.671     0.3914     0.8908        217        640: 100%|██████████| 28/28 [00:35<00:00,  1.26s/it]\n",
            "                 Class     Images  Instances      Box(P          R      mAP50  mAP50-95): 100%|██████████| 2/2 [00:01<00:00,  1.54it/s]"
          ]
        },
        {
          "output_type": "stream",
          "name": "stdout",
          "text": [
            "                   all         41       2017      0.933      0.925      0.967       0.76\n"
          ]
        },
        {
          "output_type": "stream",
          "name": "stderr",
          "text": [
            "\n"
          ]
        },
        {
          "output_type": "stream",
          "name": "stdout",
          "text": [
            "\n",
            "      Epoch    GPU_mem   box_loss   cls_loss   dfl_loss  Instances       Size\n"
          ]
        },
        {
          "output_type": "stream",
          "name": "stderr",
          "text": [
            "      37/50      8.26G     0.6474     0.3685      0.879        593        640: 100%|██████████| 28/28 [00:36<00:00,  1.29s/it]\n",
            "                 Class     Images  Instances      Box(P          R      mAP50  mAP50-95): 100%|██████████| 2/2 [00:01<00:00,  1.41it/s]"
          ]
        },
        {
          "output_type": "stream",
          "name": "stdout",
          "text": [
            "                   all         41       2017      0.933      0.928      0.957      0.758\n"
          ]
        },
        {
          "output_type": "stream",
          "name": "stderr",
          "text": [
            "\n"
          ]
        },
        {
          "output_type": "stream",
          "name": "stdout",
          "text": [
            "\n",
            "      Epoch    GPU_mem   box_loss   cls_loss   dfl_loss  Instances       Size\n"
          ]
        },
        {
          "output_type": "stream",
          "name": "stderr",
          "text": [
            "      38/50      9.54G     0.6418     0.3723     0.8875        481        640: 100%|██████████| 28/28 [00:34<00:00,  1.24s/it]\n",
            "                 Class     Images  Instances      Box(P          R      mAP50  mAP50-95): 100%|██████████| 2/2 [00:01<00:00,  1.53it/s]"
          ]
        },
        {
          "output_type": "stream",
          "name": "stdout",
          "text": [
            "                   all         41       2017      0.929      0.923      0.951      0.754\n"
          ]
        },
        {
          "output_type": "stream",
          "name": "stderr",
          "text": [
            "\n"
          ]
        },
        {
          "output_type": "stream",
          "name": "stdout",
          "text": [
            "\n",
            "      Epoch    GPU_mem   box_loss   cls_loss   dfl_loss  Instances       Size\n"
          ]
        },
        {
          "output_type": "stream",
          "name": "stderr",
          "text": [
            "      39/50      8.62G     0.6311     0.3632     0.8754        474        640: 100%|██████████| 28/28 [00:34<00:00,  1.23s/it]\n",
            "                 Class     Images  Instances      Box(P          R      mAP50  mAP50-95): 100%|██████████| 2/2 [00:01<00:00,  1.65it/s]"
          ]
        },
        {
          "output_type": "stream",
          "name": "stdout",
          "text": [
            "                   all         41       2017      0.956      0.923      0.949      0.744\n"
          ]
        },
        {
          "output_type": "stream",
          "name": "stderr",
          "text": [
            "\n"
          ]
        },
        {
          "output_type": "stream",
          "name": "stdout",
          "text": [
            "\n",
            "      Epoch    GPU_mem   box_loss   cls_loss   dfl_loss  Instances       Size\n"
          ]
        },
        {
          "output_type": "stream",
          "name": "stderr",
          "text": [
            "      40/50      8.65G     0.6474     0.3646     0.8811        381        640: 100%|██████████| 28/28 [00:35<00:00,  1.26s/it]\n",
            "                 Class     Images  Instances      Box(P          R      mAP50  mAP50-95): 100%|██████████| 2/2 [00:01<00:00,  1.61it/s]"
          ]
        },
        {
          "output_type": "stream",
          "name": "stdout",
          "text": [
            "                   all         41       2017      0.926      0.934      0.953      0.752\n"
          ]
        },
        {
          "output_type": "stream",
          "name": "stderr",
          "text": [
            "\n"
          ]
        },
        {
          "output_type": "stream",
          "name": "stdout",
          "text": [
            "Closing dataloader mosaic\n",
            "\u001b[34m\u001b[1malbumentations: \u001b[0mBlur(p=0.01, blur_limit=(3, 7)), MedianBlur(p=0.01, blur_limit=(3, 7)), ToGray(p=0.01, method='weighted_average', num_output_channels=3), CLAHE(p=0.01, clip_limit=(1.0, 4.0), tile_grid_size=(8, 8))\n",
            "\n",
            "      Epoch    GPU_mem   box_loss   cls_loss   dfl_loss  Instances       Size\n"
          ]
        },
        {
          "output_type": "stream",
          "name": "stderr",
          "text": [
            "      41/50      7.07G     0.6203     0.3764     0.8655        314        640: 100%|██████████| 28/28 [00:20<00:00,  1.37it/s]\n",
            "                 Class     Images  Instances      Box(P          R      mAP50  mAP50-95): 100%|██████████| 2/2 [00:01<00:00,  1.54it/s]"
          ]
        },
        {
          "output_type": "stream",
          "name": "stdout",
          "text": [
            "                   all         41       2017      0.948      0.932      0.967       0.76\n"
          ]
        },
        {
          "output_type": "stream",
          "name": "stderr",
          "text": [
            "\n"
          ]
        },
        {
          "output_type": "stream",
          "name": "stdout",
          "text": [
            "\n",
            "      Epoch    GPU_mem   box_loss   cls_loss   dfl_loss  Instances       Size\n"
          ]
        },
        {
          "output_type": "stream",
          "name": "stderr",
          "text": [
            "      42/50      7.73G     0.6009     0.3537     0.8661        364        640: 100%|██████████| 28/28 [00:17<00:00,  1.64it/s]\n",
            "                 Class     Images  Instances      Box(P          R      mAP50  mAP50-95): 100%|██████████| 2/2 [00:01<00:00,  1.26it/s]"
          ]
        },
        {
          "output_type": "stream",
          "name": "stdout",
          "text": [
            "                   all         41       2017      0.939      0.923      0.955      0.758\n"
          ]
        },
        {
          "output_type": "stream",
          "name": "stderr",
          "text": [
            "\n"
          ]
        },
        {
          "output_type": "stream",
          "name": "stdout",
          "text": [
            "\n",
            "      Epoch    GPU_mem   box_loss   cls_loss   dfl_loss  Instances       Size\n"
          ]
        },
        {
          "output_type": "stream",
          "name": "stderr",
          "text": [
            "      43/50       7.2G     0.6011     0.3526     0.8629        230        640: 100%|██████████| 28/28 [00:16<00:00,  1.68it/s]\n",
            "                 Class     Images  Instances      Box(P          R      mAP50  mAP50-95): 100%|██████████| 2/2 [00:01<00:00,  1.60it/s]"
          ]
        },
        {
          "output_type": "stream",
          "name": "stdout",
          "text": [
            "                   all         41       2017      0.939      0.928      0.958      0.758\n"
          ]
        },
        {
          "output_type": "stream",
          "name": "stderr",
          "text": [
            "\n"
          ]
        },
        {
          "output_type": "stream",
          "name": "stdout",
          "text": [
            "\n",
            "      Epoch    GPU_mem   box_loss   cls_loss   dfl_loss  Instances       Size\n"
          ]
        },
        {
          "output_type": "stream",
          "name": "stderr",
          "text": [
            "      44/50      7.61G     0.5914     0.3501     0.8655        208        640: 100%|██████████| 28/28 [00:16<00:00,  1.65it/s]\n",
            "                 Class     Images  Instances      Box(P          R      mAP50  mAP50-95): 100%|██████████| 2/2 [00:00<00:00,  2.45it/s]"
          ]
        },
        {
          "output_type": "stream",
          "name": "stdout",
          "text": [
            "                   all         41       2017       0.94      0.919      0.944      0.747\n"
          ]
        },
        {
          "output_type": "stream",
          "name": "stderr",
          "text": [
            "\n"
          ]
        },
        {
          "output_type": "stream",
          "name": "stdout",
          "text": [
            "\n",
            "      Epoch    GPU_mem   box_loss   cls_loss   dfl_loss  Instances       Size\n"
          ]
        },
        {
          "output_type": "stream",
          "name": "stderr",
          "text": [
            "      45/50      7.47G     0.5911     0.3439     0.8613        435        640: 100%|██████████| 28/28 [00:16<00:00,  1.66it/s]\n",
            "                 Class     Images  Instances      Box(P          R      mAP50  mAP50-95): 100%|██████████| 2/2 [00:01<00:00,  1.64it/s]"
          ]
        },
        {
          "output_type": "stream",
          "name": "stdout",
          "text": [
            "                   all         41       2017      0.925      0.941      0.948      0.744\n"
          ]
        },
        {
          "output_type": "stream",
          "name": "stderr",
          "text": [
            "\n"
          ]
        },
        {
          "output_type": "stream",
          "name": "stdout",
          "text": [
            "\n",
            "      Epoch    GPU_mem   box_loss   cls_loss   dfl_loss  Instances       Size\n"
          ]
        },
        {
          "output_type": "stream",
          "name": "stderr",
          "text": [
            "      46/50      7.51G     0.5744     0.3352     0.8569        233        640: 100%|██████████| 28/28 [00:16<00:00,  1.69it/s]\n",
            "                 Class     Images  Instances      Box(P          R      mAP50  mAP50-95): 100%|██████████| 2/2 [00:01<00:00,  1.95it/s]"
          ]
        },
        {
          "output_type": "stream",
          "name": "stdout",
          "text": [
            "                   all         41       2017      0.933      0.939      0.947      0.744\n"
          ]
        },
        {
          "output_type": "stream",
          "name": "stderr",
          "text": [
            "\n"
          ]
        },
        {
          "output_type": "stream",
          "name": "stdout",
          "text": [
            "\n",
            "      Epoch    GPU_mem   box_loss   cls_loss   dfl_loss  Instances       Size\n"
          ]
        },
        {
          "output_type": "stream",
          "name": "stderr",
          "text": [
            "      47/50      7.41G     0.5609     0.3223     0.8551        327        640: 100%|██████████| 28/28 [00:16<00:00,  1.68it/s]\n",
            "                 Class     Images  Instances      Box(P          R      mAP50  mAP50-95): 100%|██████████| 2/2 [00:00<00:00,  2.06it/s]"
          ]
        },
        {
          "output_type": "stream",
          "name": "stdout",
          "text": [
            "                   all         41       2017      0.936      0.933      0.948      0.748\n"
          ]
        },
        {
          "output_type": "stream",
          "name": "stderr",
          "text": [
            "\n"
          ]
        },
        {
          "output_type": "stream",
          "name": "stdout",
          "text": [
            "\n",
            "      Epoch    GPU_mem   box_loss   cls_loss   dfl_loss  Instances       Size\n"
          ]
        },
        {
          "output_type": "stream",
          "name": "stderr",
          "text": [
            "      48/50      7.54G     0.5534     0.3126     0.8552        243        640: 100%|██████████| 28/28 [00:17<00:00,  1.60it/s]\n",
            "                 Class     Images  Instances      Box(P          R      mAP50  mAP50-95): 100%|██████████| 2/2 [00:01<00:00,  1.40it/s]"
          ]
        },
        {
          "output_type": "stream",
          "name": "stdout",
          "text": [
            "                   all         41       2017       0.94      0.934      0.948       0.75\n"
          ]
        },
        {
          "output_type": "stream",
          "name": "stderr",
          "text": [
            "\n"
          ]
        },
        {
          "output_type": "stream",
          "name": "stdout",
          "text": [
            "\n",
            "      Epoch    GPU_mem   box_loss   cls_loss   dfl_loss  Instances       Size\n"
          ]
        },
        {
          "output_type": "stream",
          "name": "stderr",
          "text": [
            "      49/50      7.53G     0.5424     0.3106     0.8571        248        640: 100%|██████████| 28/28 [00:16<00:00,  1.68it/s]\n",
            "                 Class     Images  Instances      Box(P          R      mAP50  mAP50-95): 100%|██████████| 2/2 [00:00<00:00,  2.20it/s]\n"
          ]
        },
        {
          "output_type": "stream",
          "name": "stdout",
          "text": [
            "                   all         41       2017      0.934      0.941      0.954      0.755\n",
            "\n",
            "      Epoch    GPU_mem   box_loss   cls_loss   dfl_loss  Instances       Size\n"
          ]
        },
        {
          "output_type": "stream",
          "name": "stderr",
          "text": [
            "      50/50      7.29G     0.5398     0.3134     0.8498        294        640: 100%|██████████| 28/28 [00:16<00:00,  1.66it/s]\n",
            "                 Class     Images  Instances      Box(P          R      mAP50  mAP50-95): 100%|██████████| 2/2 [00:01<00:00,  1.39it/s]"
          ]
        },
        {
          "output_type": "stream",
          "name": "stdout",
          "text": [
            "                   all         41       2017      0.936      0.941      0.957      0.764\n"
          ]
        },
        {
          "output_type": "stream",
          "name": "stderr",
          "text": [
            "\n"
          ]
        },
        {
          "output_type": "stream",
          "name": "stdout",
          "text": [
            "\n",
            "50 epochs completed in 0.596 hours.\n",
            "Optimizer stripped from runs/detect/train5/weights/last.pt, 52.0MB\n",
            "Optimizer stripped from runs/detect/train5/weights/best.pt, 52.0MB\n",
            "\n",
            "Validating runs/detect/train5/weights/best.pt...\n",
            "Ultralytics 8.3.127 🚀 Python-3.11.12 torch-2.6.0+cu124 CUDA:0 (Tesla T4, 15095MiB)\n",
            "Model summary (fused): 92 layers, 25,840,918 parameters, 0 gradients, 78.7 GFLOPs\n"
          ]
        },
        {
          "output_type": "stream",
          "name": "stderr",
          "text": [
            "                 Class     Images  Instances      Box(P          R      mAP50  mAP50-95): 100%|██████████| 2/2 [00:01<00:00,  1.46it/s]\n"
          ]
        },
        {
          "output_type": "stream",
          "name": "stdout",
          "text": [
            "                   all         41       2017      0.951      0.927      0.966      0.768\n",
            "                Pallet         41       2017      0.951      0.927      0.966      0.768\n",
            "Speed: 0.3ms preprocess, 13.8ms inference, 0.0ms loss, 3.0ms postprocess per image\n",
            "Results saved to \u001b[1mruns/detect/train5\u001b[0m\n",
            "Ultralytics 8.3.127 🚀 Python-3.11.12 torch-2.6.0+cu124 CUDA:0 (Tesla T4, 15095MiB)\n",
            "Model summary (fused): 92 layers, 25,840,918 parameters, 0 gradients, 78.7 GFLOPs\n",
            "\u001b[34m\u001b[1mval: \u001b[0mFast image access ✅ (ping: 0.0±0.0 ms, read: 1592.0±397.2 MB/s, size: 93.1 KB)\n"
          ]
        },
        {
          "output_type": "stream",
          "name": "stderr",
          "text": [
            "\u001b[34m\u001b[1mval: \u001b[0mScanning /content/Pallet-Detection-and-Counting-4/valid/labels.cache... 41 images, 0 backgrounds, 0 corrupt: 100%|██████████| 41/41 [00:00<?, ?it/s]"
          ]
        },
        {
          "output_type": "stream",
          "name": "stdout",
          "text": [
            "\u001b[34m\u001b[1mval: \u001b[0m/content/Pallet-Detection-and-Counting-4/valid/images/Screenshot-2025-02-11-095114_png.rf.01bd4c9801ca12f87d55b8db099edbfd.jpg: 3 duplicate labels removed\n",
            "\u001b[34m\u001b[1mval: \u001b[0m/content/Pallet-Detection-and-Counting-4/valid/images/Screenshot-2025-02-11-095114_png.rf.7aba2371d776ee5c83d3c08c86718498.jpg: 3 duplicate labels removed\n",
            "\u001b[34m\u001b[1mval: \u001b[0m/content/Pallet-Detection-and-Counting-4/valid/images/Screenshot-2025-02-11-100602_png.rf.3ae7af476dd38b8a9852a02518155875.jpg: 4 duplicate labels removed\n",
            "\u001b[34m\u001b[1mval: \u001b[0m/content/Pallet-Detection-and-Counting-4/valid/images/b6fb487f47b8b7f236177a11b650_jpg.rf.d5336078d915d0d034d0f088ec3607a8.jpg: 1 duplicate labels removed\n",
            "\u001b[34m\u001b[1mval: \u001b[0m/content/Pallet-Detection-and-Counting-4/valid/images/chep-wooden-pallet-BJ229W_jpg.rf.b816c90c7788b99a8c731634b4356fb7.jpg: 3 duplicate labels removed\n",
            "\u001b[34m\u001b[1mval: \u001b[0m/content/Pallet-Detection-and-Counting-4/valid/images/chep-wooden-pallet-BJ229W_jpg.rf.eea45996a8bf514df6e3188f7f8468d0.jpg: 3 duplicate labels removed\n"
          ]
        },
        {
          "output_type": "stream",
          "name": "stderr",
          "text": [
            "\n",
            "                 Class     Images  Instances      Box(P          R      mAP50  mAP50-95): 100%|██████████| 3/3 [00:05<00:00,  1.76s/it]\n"
          ]
        },
        {
          "output_type": "stream",
          "name": "stdout",
          "text": [
            "                   all         41       2017       0.95      0.927      0.966       0.77\n",
            "                Pallet         41       2017       0.95      0.927      0.966       0.77\n",
            "Speed: 11.0ms preprocess, 25.9ms inference, 0.0ms loss, 4.0ms postprocess per image\n",
            "Results saved to \u001b[1mruns/detect/train52\u001b[0m\n"
          ]
        },
        {
          "output_type": "execute_result",
          "data": {
            "text/plain": [
              "ultralytics.utils.metrics.DetMetrics object with attributes:\n",
              "\n",
              "ap_class_index: array([0])\n",
              "box: ultralytics.utils.metrics.Metric object\n",
              "confusion_matrix: <ultralytics.utils.metrics.ConfusionMatrix object at 0x7ae3c50ed450>\n",
              "curves: ['Precision-Recall(B)', 'F1-Confidence(B)', 'Precision-Confidence(B)', 'Recall-Confidence(B)']\n",
              "curves_results: [[array([          0,    0.001001,    0.002002,    0.003003,    0.004004,    0.005005,    0.006006,    0.007007,    0.008008,    0.009009,     0.01001,    0.011011,    0.012012,    0.013013,    0.014014,    0.015015,    0.016016,    0.017017,    0.018018,    0.019019,     0.02002,    0.021021,    0.022022,    0.023023,\n",
              "          0.024024,    0.025025,    0.026026,    0.027027,    0.028028,    0.029029,     0.03003,    0.031031,    0.032032,    0.033033,    0.034034,    0.035035,    0.036036,    0.037037,    0.038038,    0.039039,     0.04004,    0.041041,    0.042042,    0.043043,    0.044044,    0.045045,    0.046046,    0.047047,\n",
              "          0.048048,    0.049049,     0.05005,    0.051051,    0.052052,    0.053053,    0.054054,    0.055055,    0.056056,    0.057057,    0.058058,    0.059059,     0.06006,    0.061061,    0.062062,    0.063063,    0.064064,    0.065065,    0.066066,    0.067067,    0.068068,    0.069069,     0.07007,    0.071071,\n",
              "          0.072072,    0.073073,    0.074074,    0.075075,    0.076076,    0.077077,    0.078078,    0.079079,     0.08008,    0.081081,    0.082082,    0.083083,    0.084084,    0.085085,    0.086086,    0.087087,    0.088088,    0.089089,     0.09009,    0.091091,    0.092092,    0.093093,    0.094094,    0.095095,\n",
              "          0.096096,    0.097097,    0.098098,    0.099099,      0.1001,      0.1011,      0.1021,      0.1031,      0.1041,     0.10511,     0.10611,     0.10711,     0.10811,     0.10911,     0.11011,     0.11111,     0.11211,     0.11311,     0.11411,     0.11512,     0.11612,     0.11712,     0.11812,     0.11912,\n",
              "           0.12012,     0.12112,     0.12212,     0.12312,     0.12412,     0.12513,     0.12613,     0.12713,     0.12813,     0.12913,     0.13013,     0.13113,     0.13213,     0.13313,     0.13413,     0.13514,     0.13614,     0.13714,     0.13814,     0.13914,     0.14014,     0.14114,     0.14214,     0.14314,\n",
              "           0.14414,     0.14515,     0.14615,     0.14715,     0.14815,     0.14915,     0.15015,     0.15115,     0.15215,     0.15315,     0.15415,     0.15516,     0.15616,     0.15716,     0.15816,     0.15916,     0.16016,     0.16116,     0.16216,     0.16316,     0.16416,     0.16517,     0.16617,     0.16717,\n",
              "           0.16817,     0.16917,     0.17017,     0.17117,     0.17217,     0.17317,     0.17417,     0.17518,     0.17618,     0.17718,     0.17818,     0.17918,     0.18018,     0.18118,     0.18218,     0.18318,     0.18418,     0.18519,     0.18619,     0.18719,     0.18819,     0.18919,     0.19019,     0.19119,\n",
              "           0.19219,     0.19319,     0.19419,      0.1952,      0.1962,      0.1972,      0.1982,      0.1992,      0.2002,      0.2012,      0.2022,      0.2032,      0.2042,     0.20521,     0.20621,     0.20721,     0.20821,     0.20921,     0.21021,     0.21121,     0.21221,     0.21321,     0.21421,     0.21522,\n",
              "           0.21622,     0.21722,     0.21822,     0.21922,     0.22022,     0.22122,     0.22222,     0.22322,     0.22422,     0.22523,     0.22623,     0.22723,     0.22823,     0.22923,     0.23023,     0.23123,     0.23223,     0.23323,     0.23423,     0.23524,     0.23624,     0.23724,     0.23824,     0.23924,\n",
              "           0.24024,     0.24124,     0.24224,     0.24324,     0.24424,     0.24525,     0.24625,     0.24725,     0.24825,     0.24925,     0.25025,     0.25125,     0.25225,     0.25325,     0.25425,     0.25526,     0.25626,     0.25726,     0.25826,     0.25926,     0.26026,     0.26126,     0.26226,     0.26326,\n",
              "           0.26426,     0.26527,     0.26627,     0.26727,     0.26827,     0.26927,     0.27027,     0.27127,     0.27227,     0.27327,     0.27427,     0.27528,     0.27628,     0.27728,     0.27828,     0.27928,     0.28028,     0.28128,     0.28228,     0.28328,     0.28428,     0.28529,     0.28629,     0.28729,\n",
              "           0.28829,     0.28929,     0.29029,     0.29129,     0.29229,     0.29329,     0.29429,      0.2953,      0.2963,      0.2973,      0.2983,      0.2993,      0.3003,      0.3013,      0.3023,      0.3033,      0.3043,     0.30531,     0.30631,     0.30731,     0.30831,     0.30931,     0.31031,     0.31131,\n",
              "           0.31231,     0.31331,     0.31431,     0.31532,     0.31632,     0.31732,     0.31832,     0.31932,     0.32032,     0.32132,     0.32232,     0.32332,     0.32432,     0.32533,     0.32633,     0.32733,     0.32833,     0.32933,     0.33033,     0.33133,     0.33233,     0.33333,     0.33433,     0.33534,\n",
              "           0.33634,     0.33734,     0.33834,     0.33934,     0.34034,     0.34134,     0.34234,     0.34334,     0.34434,     0.34535,     0.34635,     0.34735,     0.34835,     0.34935,     0.35035,     0.35135,     0.35235,     0.35335,     0.35435,     0.35536,     0.35636,     0.35736,     0.35836,     0.35936,\n",
              "           0.36036,     0.36136,     0.36236,     0.36336,     0.36436,     0.36537,     0.36637,     0.36737,     0.36837,     0.36937,     0.37037,     0.37137,     0.37237,     0.37337,     0.37437,     0.37538,     0.37638,     0.37738,     0.37838,     0.37938,     0.38038,     0.38138,     0.38238,     0.38338,\n",
              "           0.38438,     0.38539,     0.38639,     0.38739,     0.38839,     0.38939,     0.39039,     0.39139,     0.39239,     0.39339,     0.39439,      0.3954,      0.3964,      0.3974,      0.3984,      0.3994,      0.4004,      0.4014,      0.4024,      0.4034,      0.4044,     0.40541,     0.40641,     0.40741,\n",
              "           0.40841,     0.40941,     0.41041,     0.41141,     0.41241,     0.41341,     0.41441,     0.41542,     0.41642,     0.41742,     0.41842,     0.41942,     0.42042,     0.42142,     0.42242,     0.42342,     0.42442,     0.42543,     0.42643,     0.42743,     0.42843,     0.42943,     0.43043,     0.43143,\n",
              "           0.43243,     0.43343,     0.43443,     0.43544,     0.43644,     0.43744,     0.43844,     0.43944,     0.44044,     0.44144,     0.44244,     0.44344,     0.44444,     0.44545,     0.44645,     0.44745,     0.44845,     0.44945,     0.45045,     0.45145,     0.45245,     0.45345,     0.45445,     0.45546,\n",
              "           0.45646,     0.45746,     0.45846,     0.45946,     0.46046,     0.46146,     0.46246,     0.46346,     0.46446,     0.46547,     0.46647,     0.46747,     0.46847,     0.46947,     0.47047,     0.47147,     0.47247,     0.47347,     0.47447,     0.47548,     0.47648,     0.47748,     0.47848,     0.47948,\n",
              "           0.48048,     0.48148,     0.48248,     0.48348,     0.48448,     0.48549,     0.48649,     0.48749,     0.48849,     0.48949,     0.49049,     0.49149,     0.49249,     0.49349,     0.49449,      0.4955,      0.4965,      0.4975,      0.4985,      0.4995,      0.5005,      0.5015,      0.5025,      0.5035,\n",
              "            0.5045,     0.50551,     0.50651,     0.50751,     0.50851,     0.50951,     0.51051,     0.51151,     0.51251,     0.51351,     0.51451,     0.51552,     0.51652,     0.51752,     0.51852,     0.51952,     0.52052,     0.52152,     0.52252,     0.52352,     0.52452,     0.52553,     0.52653,     0.52753,\n",
              "           0.52853,     0.52953,     0.53053,     0.53153,     0.53253,     0.53353,     0.53453,     0.53554,     0.53654,     0.53754,     0.53854,     0.53954,     0.54054,     0.54154,     0.54254,     0.54354,     0.54454,     0.54555,     0.54655,     0.54755,     0.54855,     0.54955,     0.55055,     0.55155,\n",
              "           0.55255,     0.55355,     0.55455,     0.55556,     0.55656,     0.55756,     0.55856,     0.55956,     0.56056,     0.56156,     0.56256,     0.56356,     0.56456,     0.56557,     0.56657,     0.56757,     0.56857,     0.56957,     0.57057,     0.57157,     0.57257,     0.57357,     0.57457,     0.57558,\n",
              "           0.57658,     0.57758,     0.57858,     0.57958,     0.58058,     0.58158,     0.58258,     0.58358,     0.58458,     0.58559,     0.58659,     0.58759,     0.58859,     0.58959,     0.59059,     0.59159,     0.59259,     0.59359,     0.59459,      0.5956,      0.5966,      0.5976,      0.5986,      0.5996,\n",
              "            0.6006,      0.6016,      0.6026,      0.6036,      0.6046,     0.60561,     0.60661,     0.60761,     0.60861,     0.60961,     0.61061,     0.61161,     0.61261,     0.61361,     0.61461,     0.61562,     0.61662,     0.61762,     0.61862,     0.61962,     0.62062,     0.62162,     0.62262,     0.62362,\n",
              "           0.62462,     0.62563,     0.62663,     0.62763,     0.62863,     0.62963,     0.63063,     0.63163,     0.63263,     0.63363,     0.63463,     0.63564,     0.63664,     0.63764,     0.63864,     0.63964,     0.64064,     0.64164,     0.64264,     0.64364,     0.64464,     0.64565,     0.64665,     0.64765,\n",
              "           0.64865,     0.64965,     0.65065,     0.65165,     0.65265,     0.65365,     0.65465,     0.65566,     0.65666,     0.65766,     0.65866,     0.65966,     0.66066,     0.66166,     0.66266,     0.66366,     0.66466,     0.66567,     0.66667,     0.66767,     0.66867,     0.66967,     0.67067,     0.67167,\n",
              "           0.67267,     0.67367,     0.67467,     0.67568,     0.67668,     0.67768,     0.67868,     0.67968,     0.68068,     0.68168,     0.68268,     0.68368,     0.68468,     0.68569,     0.68669,     0.68769,     0.68869,     0.68969,     0.69069,     0.69169,     0.69269,     0.69369,     0.69469,      0.6957,\n",
              "            0.6967,      0.6977,      0.6987,      0.6997,      0.7007,      0.7017,      0.7027,      0.7037,      0.7047,     0.70571,     0.70671,     0.70771,     0.70871,     0.70971,     0.71071,     0.71171,     0.71271,     0.71371,     0.71471,     0.71572,     0.71672,     0.71772,     0.71872,     0.71972,\n",
              "           0.72072,     0.72172,     0.72272,     0.72372,     0.72472,     0.72573,     0.72673,     0.72773,     0.72873,     0.72973,     0.73073,     0.73173,     0.73273,     0.73373,     0.73473,     0.73574,     0.73674,     0.73774,     0.73874,     0.73974,     0.74074,     0.74174,     0.74274,     0.74374,\n",
              "           0.74474,     0.74575,     0.74675,     0.74775,     0.74875,     0.74975,     0.75075,     0.75175,     0.75275,     0.75375,     0.75475,     0.75576,     0.75676,     0.75776,     0.75876,     0.75976,     0.76076,     0.76176,     0.76276,     0.76376,     0.76476,     0.76577,     0.76677,     0.76777,\n",
              "           0.76877,     0.76977,     0.77077,     0.77177,     0.77277,     0.77377,     0.77477,     0.77578,     0.77678,     0.77778,     0.77878,     0.77978,     0.78078,     0.78178,     0.78278,     0.78378,     0.78478,     0.78579,     0.78679,     0.78779,     0.78879,     0.78979,     0.79079,     0.79179,\n",
              "           0.79279,     0.79379,     0.79479,      0.7958,      0.7968,      0.7978,      0.7988,      0.7998,      0.8008,      0.8018,      0.8028,      0.8038,      0.8048,     0.80581,     0.80681,     0.80781,     0.80881,     0.80981,     0.81081,     0.81181,     0.81281,     0.81381,     0.81481,     0.81582,\n",
              "           0.81682,     0.81782,     0.81882,     0.81982,     0.82082,     0.82182,     0.82282,     0.82382,     0.82482,     0.82583,     0.82683,     0.82783,     0.82883,     0.82983,     0.83083,     0.83183,     0.83283,     0.83383,     0.83483,     0.83584,     0.83684,     0.83784,     0.83884,     0.83984,\n",
              "           0.84084,     0.84184,     0.84284,     0.84384,     0.84484,     0.84585,     0.84685,     0.84785,     0.84885,     0.84985,     0.85085,     0.85185,     0.85285,     0.85385,     0.85485,     0.85586,     0.85686,     0.85786,     0.85886,     0.85986,     0.86086,     0.86186,     0.86286,     0.86386,\n",
              "           0.86486,     0.86587,     0.86687,     0.86787,     0.86887,     0.86987,     0.87087,     0.87187,     0.87287,     0.87387,     0.87487,     0.87588,     0.87688,     0.87788,     0.87888,     0.87988,     0.88088,     0.88188,     0.88288,     0.88388,     0.88488,     0.88589,     0.88689,     0.88789,\n",
              "           0.88889,     0.88989,     0.89089,     0.89189,     0.89289,     0.89389,     0.89489,      0.8959,      0.8969,      0.8979,      0.8989,      0.8999,      0.9009,      0.9019,      0.9029,      0.9039,      0.9049,     0.90591,     0.90691,     0.90791,     0.90891,     0.90991,     0.91091,     0.91191,\n",
              "           0.91291,     0.91391,     0.91491,     0.91592,     0.91692,     0.91792,     0.91892,     0.91992,     0.92092,     0.92192,     0.92292,     0.92392,     0.92492,     0.92593,     0.92693,     0.92793,     0.92893,     0.92993,     0.93093,     0.93193,     0.93293,     0.93393,     0.93493,     0.93594,\n",
              "           0.93694,     0.93794,     0.93894,     0.93994,     0.94094,     0.94194,     0.94294,     0.94394,     0.94494,     0.94595,     0.94695,     0.94795,     0.94895,     0.94995,     0.95095,     0.95195,     0.95295,     0.95395,     0.95495,     0.95596,     0.95696,     0.95796,     0.95896,     0.95996,\n",
              "           0.96096,     0.96196,     0.96296,     0.96396,     0.96496,     0.96597,     0.96697,     0.96797,     0.96897,     0.96997,     0.97097,     0.97197,     0.97297,     0.97397,     0.97497,     0.97598,     0.97698,     0.97798,     0.97898,     0.97998,     0.98098,     0.98198,     0.98298,     0.98398,\n",
              "           0.98498,     0.98599,     0.98699,     0.98799,     0.98899,     0.98999,     0.99099,     0.99199,     0.99299,     0.99399,     0.99499,       0.996,       0.997,       0.998,       0.999,           1]), array([[          1,           1,           1,           1,           1,           1,           1,           1,           1,           1,           1,           1,           1,           1,           1,           1,           1,           1,           1,           1,           1,           1,           1,\n",
              "                  1,           1,           1,           1,           1,           1,           1,           1,           1,           1,           1,           1,           1,           1,           1,           1,           1,           1,           1,           1,           1,           1,           1,\n",
              "                  1,           1,           1,           1,           1,           1,           1,           1,           1,           1,           1,           1,           1,           1,           1,           1,           1,           1,           1,           1,           1,           1,           1,\n",
              "                  1,           1,           1,           1,           1,           1,           1,           1,           1,           1,           1,           1,           1,           1,           1,           1,           1,           1,           1,           1,           1,           1,           1,\n",
              "                  1,           1,           1,           1,           1,           1,           1,           1,           1,           1,           1,           1,           1,           1,           1,           1,           1,           1,           1,           1,           1,           1,           1,\n",
              "                  1,           1,           1,           1,           1,           1,           1,           1,           1,           1,           1,           1,           1,           1,           1,           1,           1,           1,           1,           1,           1,           1,           1,\n",
              "                  1,           1,           1,           1,           1,           1,           1,           1,           1,           1,           1,           1,           1,           1,           1,           1,           1,           1,           1,           1,           1,           1,           1,\n",
              "                  1,           1,           1,           1,           1,           1,           1,           1,           1,           1,           1,           1,           1,           1,           1,           1,           1,           1,           1,           1,           1,           1,           1,\n",
              "                  1,           1,           1,           1,           1,           1,           1,           1,           1,           1,           1,           1,           1,           1,           1,           1,           1,           1,           1,           1,           1,           1,           1,\n",
              "                  1,     0.99819,     0.99819,     0.99819,     0.99819,     0.99819,     0.99819,     0.99819,     0.99819,     0.99819,     0.99819,     0.99819,     0.99819,     0.99819,     0.99819,     0.99819,     0.99819,     0.99819,     0.99819,     0.99819,     0.99819,     0.99819,     0.99819,\n",
              "            0.99819,     0.99819,     0.99819,     0.99819,     0.99819,     0.99819,     0.99819,     0.99819,     0.99819,     0.99819,     0.99819,     0.99819,     0.99819,     0.99819,     0.99819,     0.99819,     0.99819,     0.99819,     0.99819,     0.99819,     0.99819,     0.99819,     0.99819,\n",
              "            0.99819,     0.99819,     0.99819,     0.99819,     0.99819,     0.99819,     0.99819,     0.99819,     0.99819,     0.99819,     0.99819,     0.99819,     0.99819,     0.99819,     0.99819,     0.99819,     0.99819,     0.99819,     0.99819,     0.99819,     0.99819,     0.99718,     0.99718,\n",
              "            0.99718,     0.99718,     0.99718,     0.99718,     0.99718,     0.99718,     0.99718,     0.99718,     0.99718,     0.99718,     0.99718,     0.99718,     0.99718,     0.99718,     0.99718,     0.99718,     0.99718,     0.99718,     0.99718,     0.99718,     0.99718,     0.99718,     0.99718,\n",
              "            0.99718,     0.99718,     0.99718,     0.99718,     0.99718,     0.99718,     0.99718,     0.99718,     0.99718,     0.99718,     0.99718,     0.99718,     0.99718,     0.99718,     0.99718,     0.99718,     0.99718,     0.99718,     0.99718,     0.99718,     0.99718,     0.99718,     0.99718,\n",
              "            0.99718,     0.99718,     0.99718,     0.99718,     0.99718,     0.99718,     0.99718,     0.99718,     0.99718,     0.99718,     0.99718,     0.99718,     0.99718,     0.99718,     0.99718,     0.99718,     0.99718,     0.99718,     0.99718,     0.99718,     0.99718,     0.99718,     0.99718,\n",
              "            0.99718,     0.99718,     0.99718,     0.99718,     0.99718,      0.9963,      0.9963,      0.9963,      0.9963,      0.9963,      0.9963,      0.9963,      0.9963,      0.9963,      0.9963,      0.9963,      0.9963,      0.9963,      0.9963,      0.9963,      0.9963,      0.9963,      0.9963,\n",
              "             0.9963,      0.9963,      0.9963,      0.9963,      0.9963,      0.9963,      0.9963,      0.9963,      0.9963,      0.9963,      0.9963,      0.9963,      0.9963,      0.9963,      0.9963,      0.9963,      0.9963,      0.9963,      0.9963,      0.9963,      0.9963,      0.9963,      0.9963,\n",
              "             0.9963,      0.9963,      0.9963,      0.9963,      0.9963,      0.9963,      0.9963,      0.9963,      0.9963,      0.9963,     0.99525,     0.99525,     0.99525,     0.99525,     0.99525,     0.99525,     0.99525,     0.99525,     0.99525,     0.99525,     0.99525,     0.99525,     0.99525,\n",
              "            0.99525,     0.99525,     0.99497,     0.99497,     0.99497,     0.99497,     0.99497,     0.99497,     0.99497,     0.99497,     0.99497,     0.99497,     0.99497,     0.99497,     0.99497,     0.99497,     0.99497,     0.99497,     0.99497,     0.99497,     0.99497,     0.99497,     0.99497,\n",
              "            0.99497,     0.99497,     0.99497,     0.99497,     0.99497,     0.99497,     0.99497,     0.99497,     0.99497,     0.99497,     0.99497,     0.99497,     0.99497,     0.99497,     0.99497,     0.99497,     0.99497,     0.99497,     0.99497,     0.99497,     0.99497,     0.99497,     0.99497,\n",
              "            0.99497,     0.99497,     0.99497,     0.99497,     0.99497,     0.99497,     0.99497,     0.99497,     0.99497,     0.99497,     0.99497,     0.99497,     0.99497,     0.99497,     0.99497,     0.99497,     0.99497,     0.99497,     0.99497,     0.99497,     0.99497,     0.99497,     0.99497,\n",
              "            0.99497,     0.99497,     0.99497,     0.99497,     0.99497,     0.99497,     0.99497,     0.99497,     0.99399,      0.9932,      0.9932,      0.9932,      0.9932,      0.9932,      0.9932,      0.9932,      0.9932,      0.9932,      0.9932,      0.9932,      0.9932,      0.9932,      0.9932,\n",
              "             0.9932,      0.9923,      0.9923,      0.9923,      0.9923,     0.99186,     0.99186,     0.99186,     0.99186,     0.99186,     0.99186,     0.99186,     0.99186,     0.99186,     0.99186,     0.99186,     0.99186,     0.99186,     0.99186,     0.99186,     0.99186,     0.99186,     0.99186,\n",
              "            0.99186,     0.99186,     0.99186,     0.99186,     0.99186,     0.99186,     0.99186,     0.99186,     0.99186,     0.99186,     0.99186,     0.99186,     0.99186,     0.99186,     0.99133,     0.99133,     0.99133,     0.99133,     0.99133,     0.99133,     0.99133,     0.99133,     0.99133,\n",
              "            0.99133,     0.99133,     0.99133,     0.99133,     0.99133,     0.99133,     0.99133,     0.99133,     0.99133,     0.99133,     0.99133,     0.99133,     0.99133,     0.99133,     0.99133,     0.99106,     0.99106,     0.99106,     0.99106,     0.99106,     0.99106,     0.99106,     0.99106,\n",
              "            0.99106,     0.99106,     0.99106,     0.99106,     0.99106,     0.99106,     0.99106,     0.99106,     0.99106,     0.99106,     0.99106,     0.99106,     0.99106,     0.99106,     0.99106,     0.99106,     0.99106,     0.99106,     0.99106,     0.99106,     0.99106,     0.99106,     0.99106,\n",
              "            0.99106,     0.99106,     0.99106,     0.99106,     0.99106,     0.99106,     0.99038,     0.99038,     0.99038,     0.99038,     0.99038,     0.99038,     0.99038,     0.99038,     0.99038,     0.99032,     0.99032,     0.99032,     0.99032,     0.99032,     0.99032,     0.99032,     0.99032,\n",
              "            0.99032,     0.99032,     0.99032,     0.99032,     0.99032,     0.99032,     0.99032,     0.99032,     0.99032,     0.99032,     0.99032,     0.99032,     0.99032,     0.99032,     0.99032,     0.99032,     0.99032,     0.99032,     0.99032,     0.99032,     0.99032,     0.99032,     0.99032,\n",
              "            0.99032,     0.99032,     0.99032,     0.99032,     0.99032,     0.99032,     0.99032,     0.99032,     0.99032,     0.99032,     0.99032,     0.99032,     0.99032,     0.99032,     0.99032,     0.98988,     0.98988,     0.98988,     0.98988,     0.98988,     0.98988,     0.98988,     0.98988,\n",
              "            0.98988,     0.98988,     0.98988,     0.98988,     0.98988,     0.98988,     0.98988,     0.98988,     0.98988,     0.98988,     0.98988,     0.98988,     0.98929,     0.98929,     0.98929,     0.98929,     0.98929,     0.98929,     0.98929,     0.98882,     0.98882,     0.98882,     0.98882,\n",
              "            0.98882,     0.98882,     0.98882,     0.98882,     0.98882,     0.98882,     0.98882,     0.98882,     0.98882,     0.98882,     0.98882,     0.98815,     0.98762,     0.98762,     0.98762,     0.98762,     0.98762,     0.98762,     0.98762,     0.98762,     0.98762,     0.98762,     0.98696,\n",
              "            0.98643,     0.98643,     0.98643,     0.98643,     0.98643,     0.98643,     0.98643,     0.98643,     0.98586,     0.98586,     0.98586,     0.98586,     0.98586,     0.98558,     0.98558,     0.98558,     0.98558,     0.98558,     0.98558,     0.98558,     0.98558,     0.98558,     0.98558,\n",
              "            0.98558,     0.98558,     0.98558,     0.98558,     0.98558,     0.98558,     0.98558,     0.98558,     0.98558,     0.98499,     0.98499,     0.98499,     0.98444,     0.98444,     0.98444,     0.98444,     0.98419,     0.98419,     0.98419,     0.98419,     0.98419,     0.98419,     0.98419,\n",
              "            0.98419,     0.98419,     0.98419,     0.98419,     0.98419,     0.98419,     0.98419,     0.98419,     0.98419,     0.98419,     0.98419,     0.98419,      0.9841,      0.9841,      0.9841,      0.9841,      0.9841,      0.9841,      0.9841,      0.9841,      0.9841,      0.9841,      0.9841,\n",
              "             0.9841,      0.9841,      0.9841,      0.9841,      0.9841,      0.9841,      0.9841,      0.9841,      0.9841,      0.9841,      0.9841,      0.9841,      0.9841,      0.9841,      0.9841,     0.98297,     0.98297,     0.98297,     0.98297,      0.9818,     0.98126,     0.98126,     0.98071,\n",
              "            0.98071,      0.9798,      0.9798,      0.9798,      0.9798,      0.9798,      0.9798,      0.9798,      0.9798,      0.9798,      0.9798,      0.9798,     0.97924,     0.97887,     0.97887,     0.97887,     0.97887,     0.97887,     0.97887,     0.97887,     0.97887,     0.97887,     0.97838,\n",
              "            0.97838,     0.97838,     0.97785,     0.97785,     0.97785,     0.97785,     0.97785,     0.97785,     0.97785,     0.97785,     0.97785,     0.97785,     0.97785,     0.97785,     0.97785,     0.97785,     0.97785,     0.97785,     0.97785,     0.97785,     0.97785,     0.97785,     0.97785,\n",
              "            0.97785,     0.97785,     0.97734,     0.97734,     0.97703,     0.97703,     0.97703,     0.97703,     0.97703,     0.97703,     0.97703,     0.97703,     0.97703,      0.9765,     0.97553,     0.97553,     0.97553,     0.97553,     0.97342,     0.97342,     0.97297,     0.97297,     0.97297,\n",
              "            0.97247,     0.97201,     0.97201,     0.97201,     0.97046,     0.96995,     0.96853,     0.96853,     0.96853,     0.96853,     0.96853,     0.96769,     0.96769,     0.96769,     0.96769,     0.96769,     0.96769,      0.9672,     0.96629,     0.96629,     0.96629,     0.96607,     0.96607,\n",
              "            0.96607,     0.96607,     0.96607,     0.96607,     0.96607,     0.96607,     0.96528,     0.96528,     0.96528,     0.96528,     0.96528,     0.96528,     0.96481,     0.96335,     0.96335,     0.96296,     0.96296,     0.96296,     0.96202,      0.9611,      0.9611,     0.96012,      0.9587,\n",
              "            0.95823,     0.95681,     0.95243,     0.95199,     0.95163,     0.95163,     0.95069,     0.94932,     0.94886,       0.947,     0.94565,     0.94094,     0.94009,     0.93965,     0.93924,     0.93651,     0.93287,     0.93248,     0.93071,     0.92627,     0.92593,     0.92593,     0.92285,\n",
              "            0.91635,     0.91635,     0.91248,     0.90952,     0.90539,     0.90501,     0.89873,     0.89385,     0.88976,     0.88454,     0.87421,     0.86919,     0.86736,     0.86514,     0.85079,     0.83262,     0.81903,     0.79959,     0.79713,     0.79177,     0.78522,     0.76174,     0.75019,\n",
              "            0.74837,      0.7167,     0.70425,     0.69793,     0.69076,     0.65607,     0.64108,     0.59432,      0.5738,     0.55795,     0.54327,     0.53052,     0.48336,     0.38107,     0.36202,     0.34297,     0.32391,     0.30486,      0.2858,     0.26675,      0.2477,     0.22864,     0.20959,\n",
              "            0.19054,     0.17148,     0.15243,     0.13338,     0.11432,    0.095268,    0.076215,    0.057161,    0.038107,    0.019054,           0]]), 'Recall', 'Precision'], [array([          0,    0.001001,    0.002002,    0.003003,    0.004004,    0.005005,    0.006006,    0.007007,    0.008008,    0.009009,     0.01001,    0.011011,    0.012012,    0.013013,    0.014014,    0.015015,    0.016016,    0.017017,    0.018018,    0.019019,     0.02002,    0.021021,    0.022022,    0.023023,\n",
              "          0.024024,    0.025025,    0.026026,    0.027027,    0.028028,    0.029029,     0.03003,    0.031031,    0.032032,    0.033033,    0.034034,    0.035035,    0.036036,    0.037037,    0.038038,    0.039039,     0.04004,    0.041041,    0.042042,    0.043043,    0.044044,    0.045045,    0.046046,    0.047047,\n",
              "          0.048048,    0.049049,     0.05005,    0.051051,    0.052052,    0.053053,    0.054054,    0.055055,    0.056056,    0.057057,    0.058058,    0.059059,     0.06006,    0.061061,    0.062062,    0.063063,    0.064064,    0.065065,    0.066066,    0.067067,    0.068068,    0.069069,     0.07007,    0.071071,\n",
              "          0.072072,    0.073073,    0.074074,    0.075075,    0.076076,    0.077077,    0.078078,    0.079079,     0.08008,    0.081081,    0.082082,    0.083083,    0.084084,    0.085085,    0.086086,    0.087087,    0.088088,    0.089089,     0.09009,    0.091091,    0.092092,    0.093093,    0.094094,    0.095095,\n",
              "          0.096096,    0.097097,    0.098098,    0.099099,      0.1001,      0.1011,      0.1021,      0.1031,      0.1041,     0.10511,     0.10611,     0.10711,     0.10811,     0.10911,     0.11011,     0.11111,     0.11211,     0.11311,     0.11411,     0.11512,     0.11612,     0.11712,     0.11812,     0.11912,\n",
              "           0.12012,     0.12112,     0.12212,     0.12312,     0.12412,     0.12513,     0.12613,     0.12713,     0.12813,     0.12913,     0.13013,     0.13113,     0.13213,     0.13313,     0.13413,     0.13514,     0.13614,     0.13714,     0.13814,     0.13914,     0.14014,     0.14114,     0.14214,     0.14314,\n",
              "           0.14414,     0.14515,     0.14615,     0.14715,     0.14815,     0.14915,     0.15015,     0.15115,     0.15215,     0.15315,     0.15415,     0.15516,     0.15616,     0.15716,     0.15816,     0.15916,     0.16016,     0.16116,     0.16216,     0.16316,     0.16416,     0.16517,     0.16617,     0.16717,\n",
              "           0.16817,     0.16917,     0.17017,     0.17117,     0.17217,     0.17317,     0.17417,     0.17518,     0.17618,     0.17718,     0.17818,     0.17918,     0.18018,     0.18118,     0.18218,     0.18318,     0.18418,     0.18519,     0.18619,     0.18719,     0.18819,     0.18919,     0.19019,     0.19119,\n",
              "           0.19219,     0.19319,     0.19419,      0.1952,      0.1962,      0.1972,      0.1982,      0.1992,      0.2002,      0.2012,      0.2022,      0.2032,      0.2042,     0.20521,     0.20621,     0.20721,     0.20821,     0.20921,     0.21021,     0.21121,     0.21221,     0.21321,     0.21421,     0.21522,\n",
              "           0.21622,     0.21722,     0.21822,     0.21922,     0.22022,     0.22122,     0.22222,     0.22322,     0.22422,     0.22523,     0.22623,     0.22723,     0.22823,     0.22923,     0.23023,     0.23123,     0.23223,     0.23323,     0.23423,     0.23524,     0.23624,     0.23724,     0.23824,     0.23924,\n",
              "           0.24024,     0.24124,     0.24224,     0.24324,     0.24424,     0.24525,     0.24625,     0.24725,     0.24825,     0.24925,     0.25025,     0.25125,     0.25225,     0.25325,     0.25425,     0.25526,     0.25626,     0.25726,     0.25826,     0.25926,     0.26026,     0.26126,     0.26226,     0.26326,\n",
              "           0.26426,     0.26527,     0.26627,     0.26727,     0.26827,     0.26927,     0.27027,     0.27127,     0.27227,     0.27327,     0.27427,     0.27528,     0.27628,     0.27728,     0.27828,     0.27928,     0.28028,     0.28128,     0.28228,     0.28328,     0.28428,     0.28529,     0.28629,     0.28729,\n",
              "           0.28829,     0.28929,     0.29029,     0.29129,     0.29229,     0.29329,     0.29429,      0.2953,      0.2963,      0.2973,      0.2983,      0.2993,      0.3003,      0.3013,      0.3023,      0.3033,      0.3043,     0.30531,     0.30631,     0.30731,     0.30831,     0.30931,     0.31031,     0.31131,\n",
              "           0.31231,     0.31331,     0.31431,     0.31532,     0.31632,     0.31732,     0.31832,     0.31932,     0.32032,     0.32132,     0.32232,     0.32332,     0.32432,     0.32533,     0.32633,     0.32733,     0.32833,     0.32933,     0.33033,     0.33133,     0.33233,     0.33333,     0.33433,     0.33534,\n",
              "           0.33634,     0.33734,     0.33834,     0.33934,     0.34034,     0.34134,     0.34234,     0.34334,     0.34434,     0.34535,     0.34635,     0.34735,     0.34835,     0.34935,     0.35035,     0.35135,     0.35235,     0.35335,     0.35435,     0.35536,     0.35636,     0.35736,     0.35836,     0.35936,\n",
              "           0.36036,     0.36136,     0.36236,     0.36336,     0.36436,     0.36537,     0.36637,     0.36737,     0.36837,     0.36937,     0.37037,     0.37137,     0.37237,     0.37337,     0.37437,     0.37538,     0.37638,     0.37738,     0.37838,     0.37938,     0.38038,     0.38138,     0.38238,     0.38338,\n",
              "           0.38438,     0.38539,     0.38639,     0.38739,     0.38839,     0.38939,     0.39039,     0.39139,     0.39239,     0.39339,     0.39439,      0.3954,      0.3964,      0.3974,      0.3984,      0.3994,      0.4004,      0.4014,      0.4024,      0.4034,      0.4044,     0.40541,     0.40641,     0.40741,\n",
              "           0.40841,     0.40941,     0.41041,     0.41141,     0.41241,     0.41341,     0.41441,     0.41542,     0.41642,     0.41742,     0.41842,     0.41942,     0.42042,     0.42142,     0.42242,     0.42342,     0.42442,     0.42543,     0.42643,     0.42743,     0.42843,     0.42943,     0.43043,     0.43143,\n",
              "           0.43243,     0.43343,     0.43443,     0.43544,     0.43644,     0.43744,     0.43844,     0.43944,     0.44044,     0.44144,     0.44244,     0.44344,     0.44444,     0.44545,     0.44645,     0.44745,     0.44845,     0.44945,     0.45045,     0.45145,     0.45245,     0.45345,     0.45445,     0.45546,\n",
              "           0.45646,     0.45746,     0.45846,     0.45946,     0.46046,     0.46146,     0.46246,     0.46346,     0.46446,     0.46547,     0.46647,     0.46747,     0.46847,     0.46947,     0.47047,     0.47147,     0.47247,     0.47347,     0.47447,     0.47548,     0.47648,     0.47748,     0.47848,     0.47948,\n",
              "           0.48048,     0.48148,     0.48248,     0.48348,     0.48448,     0.48549,     0.48649,     0.48749,     0.48849,     0.48949,     0.49049,     0.49149,     0.49249,     0.49349,     0.49449,      0.4955,      0.4965,      0.4975,      0.4985,      0.4995,      0.5005,      0.5015,      0.5025,      0.5035,\n",
              "            0.5045,     0.50551,     0.50651,     0.50751,     0.50851,     0.50951,     0.51051,     0.51151,     0.51251,     0.51351,     0.51451,     0.51552,     0.51652,     0.51752,     0.51852,     0.51952,     0.52052,     0.52152,     0.52252,     0.52352,     0.52452,     0.52553,     0.52653,     0.52753,\n",
              "           0.52853,     0.52953,     0.53053,     0.53153,     0.53253,     0.53353,     0.53453,     0.53554,     0.53654,     0.53754,     0.53854,     0.53954,     0.54054,     0.54154,     0.54254,     0.54354,     0.54454,     0.54555,     0.54655,     0.54755,     0.54855,     0.54955,     0.55055,     0.55155,\n",
              "           0.55255,     0.55355,     0.55455,     0.55556,     0.55656,     0.55756,     0.55856,     0.55956,     0.56056,     0.56156,     0.56256,     0.56356,     0.56456,     0.56557,     0.56657,     0.56757,     0.56857,     0.56957,     0.57057,     0.57157,     0.57257,     0.57357,     0.57457,     0.57558,\n",
              "           0.57658,     0.57758,     0.57858,     0.57958,     0.58058,     0.58158,     0.58258,     0.58358,     0.58458,     0.58559,     0.58659,     0.58759,     0.58859,     0.58959,     0.59059,     0.59159,     0.59259,     0.59359,     0.59459,      0.5956,      0.5966,      0.5976,      0.5986,      0.5996,\n",
              "            0.6006,      0.6016,      0.6026,      0.6036,      0.6046,     0.60561,     0.60661,     0.60761,     0.60861,     0.60961,     0.61061,     0.61161,     0.61261,     0.61361,     0.61461,     0.61562,     0.61662,     0.61762,     0.61862,     0.61962,     0.62062,     0.62162,     0.62262,     0.62362,\n",
              "           0.62462,     0.62563,     0.62663,     0.62763,     0.62863,     0.62963,     0.63063,     0.63163,     0.63263,     0.63363,     0.63463,     0.63564,     0.63664,     0.63764,     0.63864,     0.63964,     0.64064,     0.64164,     0.64264,     0.64364,     0.64464,     0.64565,     0.64665,     0.64765,\n",
              "           0.64865,     0.64965,     0.65065,     0.65165,     0.65265,     0.65365,     0.65465,     0.65566,     0.65666,     0.65766,     0.65866,     0.65966,     0.66066,     0.66166,     0.66266,     0.66366,     0.66466,     0.66567,     0.66667,     0.66767,     0.66867,     0.66967,     0.67067,     0.67167,\n",
              "           0.67267,     0.67367,     0.67467,     0.67568,     0.67668,     0.67768,     0.67868,     0.67968,     0.68068,     0.68168,     0.68268,     0.68368,     0.68468,     0.68569,     0.68669,     0.68769,     0.68869,     0.68969,     0.69069,     0.69169,     0.69269,     0.69369,     0.69469,      0.6957,\n",
              "            0.6967,      0.6977,      0.6987,      0.6997,      0.7007,      0.7017,      0.7027,      0.7037,      0.7047,     0.70571,     0.70671,     0.70771,     0.70871,     0.70971,     0.71071,     0.71171,     0.71271,     0.71371,     0.71471,     0.71572,     0.71672,     0.71772,     0.71872,     0.71972,\n",
              "           0.72072,     0.72172,     0.72272,     0.72372,     0.72472,     0.72573,     0.72673,     0.72773,     0.72873,     0.72973,     0.73073,     0.73173,     0.73273,     0.73373,     0.73473,     0.73574,     0.73674,     0.73774,     0.73874,     0.73974,     0.74074,     0.74174,     0.74274,     0.74374,\n",
              "           0.74474,     0.74575,     0.74675,     0.74775,     0.74875,     0.74975,     0.75075,     0.75175,     0.75275,     0.75375,     0.75475,     0.75576,     0.75676,     0.75776,     0.75876,     0.75976,     0.76076,     0.76176,     0.76276,     0.76376,     0.76476,     0.76577,     0.76677,     0.76777,\n",
              "           0.76877,     0.76977,     0.77077,     0.77177,     0.77277,     0.77377,     0.77477,     0.77578,     0.77678,     0.77778,     0.77878,     0.77978,     0.78078,     0.78178,     0.78278,     0.78378,     0.78478,     0.78579,     0.78679,     0.78779,     0.78879,     0.78979,     0.79079,     0.79179,\n",
              "           0.79279,     0.79379,     0.79479,      0.7958,      0.7968,      0.7978,      0.7988,      0.7998,      0.8008,      0.8018,      0.8028,      0.8038,      0.8048,     0.80581,     0.80681,     0.80781,     0.80881,     0.80981,     0.81081,     0.81181,     0.81281,     0.81381,     0.81481,     0.81582,\n",
              "           0.81682,     0.81782,     0.81882,     0.81982,     0.82082,     0.82182,     0.82282,     0.82382,     0.82482,     0.82583,     0.82683,     0.82783,     0.82883,     0.82983,     0.83083,     0.83183,     0.83283,     0.83383,     0.83483,     0.83584,     0.83684,     0.83784,     0.83884,     0.83984,\n",
              "           0.84084,     0.84184,     0.84284,     0.84384,     0.84484,     0.84585,     0.84685,     0.84785,     0.84885,     0.84985,     0.85085,     0.85185,     0.85285,     0.85385,     0.85485,     0.85586,     0.85686,     0.85786,     0.85886,     0.85986,     0.86086,     0.86186,     0.86286,     0.86386,\n",
              "           0.86486,     0.86587,     0.86687,     0.86787,     0.86887,     0.86987,     0.87087,     0.87187,     0.87287,     0.87387,     0.87487,     0.87588,     0.87688,     0.87788,     0.87888,     0.87988,     0.88088,     0.88188,     0.88288,     0.88388,     0.88488,     0.88589,     0.88689,     0.88789,\n",
              "           0.88889,     0.88989,     0.89089,     0.89189,     0.89289,     0.89389,     0.89489,      0.8959,      0.8969,      0.8979,      0.8989,      0.8999,      0.9009,      0.9019,      0.9029,      0.9039,      0.9049,     0.90591,     0.90691,     0.90791,     0.90891,     0.90991,     0.91091,     0.91191,\n",
              "           0.91291,     0.91391,     0.91491,     0.91592,     0.91692,     0.91792,     0.91892,     0.91992,     0.92092,     0.92192,     0.92292,     0.92392,     0.92492,     0.92593,     0.92693,     0.92793,     0.92893,     0.92993,     0.93093,     0.93193,     0.93293,     0.93393,     0.93493,     0.93594,\n",
              "           0.93694,     0.93794,     0.93894,     0.93994,     0.94094,     0.94194,     0.94294,     0.94394,     0.94494,     0.94595,     0.94695,     0.94795,     0.94895,     0.94995,     0.95095,     0.95195,     0.95295,     0.95395,     0.95495,     0.95596,     0.95696,     0.95796,     0.95896,     0.95996,\n",
              "           0.96096,     0.96196,     0.96296,     0.96396,     0.96496,     0.96597,     0.96697,     0.96797,     0.96897,     0.96997,     0.97097,     0.97197,     0.97297,     0.97397,     0.97497,     0.97598,     0.97698,     0.97798,     0.97898,     0.97998,     0.98098,     0.98198,     0.98298,     0.98398,\n",
              "           0.98498,     0.98599,     0.98699,     0.98799,     0.98899,     0.98999,     0.99099,     0.99199,     0.99299,     0.99399,     0.99499,       0.996,       0.997,       0.998,       0.999,           1]), array([[    0.55474,     0.55475,     0.61795,     0.65401,     0.67985,     0.69753,     0.71242,     0.72284,     0.73257,     0.73958,     0.74997,     0.75521,     0.76211,     0.76696,     0.77124,     0.77483,     0.77868,     0.78142,     0.78459,      0.7872,     0.78889,     0.79223,     0.79381,\n",
              "            0.79661,     0.79869,     0.79991,     0.80305,     0.80448,     0.80584,     0.80818,     0.80937,     0.81103,     0.81218,     0.81437,     0.81568,     0.81672,     0.81755,     0.81871,      0.8197,     0.82151,     0.82272,     0.82337,     0.82401,     0.82446,     0.82556,     0.82682,\n",
              "            0.82814,     0.82941,     0.82987,     0.83169,     0.83278,     0.83416,     0.83507,     0.83642,     0.83798,     0.83847,     0.83921,     0.84008,     0.84076,     0.84141,     0.84284,     0.84378,      0.8437,      0.8437,     0.84456,     0.84522,      0.8457,     0.84651,     0.84744,\n",
              "            0.84863,     0.84928,     0.84983,     0.85068,     0.85172,     0.85235,     0.85283,     0.85302,     0.85375,     0.85439,     0.85524,     0.85554,     0.85592,     0.85634,       0.857,     0.85773,     0.85822,     0.85849,     0.85891,     0.85952,     0.85977,     0.85985,     0.86021,\n",
              "            0.86041,     0.86076,     0.86126,     0.86144,     0.86181,     0.86256,     0.86276,     0.86298,     0.86402,     0.86458,     0.86478,     0.86511,     0.86585,     0.86588,     0.86598,     0.86643,     0.86717,     0.86767,     0.86776,     0.86805,     0.86855,     0.86906,     0.86894,\n",
              "            0.86927,     0.86961,     0.86978,     0.87035,     0.87055,     0.87125,     0.87187,     0.87174,     0.87181,     0.87188,     0.87171,     0.87184,     0.87226,     0.87286,     0.87333,     0.87366,     0.87383,     0.87406,     0.87452,     0.87508,     0.87538,     0.87567,     0.87651,\n",
              "              0.877,     0.87735,     0.87743,     0.87751,     0.87791,     0.87834,     0.87845,      0.8786,     0.87902,     0.87914,     0.87917,     0.87921,     0.87925,     0.87928,     0.87951,     0.87961,     0.87971,     0.87993,     0.87996,     0.87998,        0.88,     0.88003,     0.88005,\n",
              "            0.88008,      0.8801,     0.88031,     0.88046,     0.88101,     0.88218,     0.88251,     0.88278,     0.88285,       0.883,     0.88321,     0.88332,     0.88342,     0.88351,     0.88334,     0.88344,     0.88374,     0.88407,     0.88392,     0.88395,     0.88448,     0.88456,     0.88464,\n",
              "            0.88482,     0.88532,     0.88548,     0.88575,      0.8861,     0.88618,     0.88636,       0.887,      0.8871,     0.88716,     0.88721,     0.88747,      0.8877,     0.88793,     0.88802,     0.88831,     0.88823,     0.88852,     0.88891,     0.88906,     0.88914,     0.88921,     0.88955,\n",
              "            0.88974,     0.88985,     0.89031,     0.89047,     0.89072,     0.89082,     0.89098,     0.89131,     0.89146,     0.89139,     0.89172,      0.8918,     0.89193,     0.89215,     0.89226,     0.89273,     0.89292,     0.89298,     0.89304,     0.89314,     0.89339,     0.89355,     0.89366,\n",
              "            0.89381,     0.89396,     0.89403,      0.8941,     0.89434,      0.8944,     0.89447,     0.89453,     0.89463,     0.89473,       0.895,     0.89506,     0.89512,     0.89518,     0.89522,     0.89526,      0.8953,     0.89535,     0.89542,     0.89553,     0.89561,     0.89568,     0.89575,\n",
              "            0.89623,     0.89638,     0.89652,     0.89637,     0.89689,     0.89722,     0.89725,     0.89728,     0.89732,     0.89735,     0.89738,     0.89746,     0.89757,     0.89766,     0.89774,     0.89782,     0.89814,     0.89827,     0.89831,     0.89836,     0.89841,     0.89847,      0.8986,\n",
              "            0.89876,      0.8991,     0.89921,     0.89936,     0.89961,     0.89988,     0.90005,     0.90026,      0.9004,      0.9005,     0.90075,     0.90081,     0.90087,     0.90093,     0.90127,     0.90112,     0.90118,     0.90123,     0.90129,     0.90156,     0.90163,     0.90171,     0.90181,\n",
              "            0.90194,     0.90226,     0.90243,     0.90266,     0.90273,      0.9028,     0.90293,     0.90305,     0.90314,     0.90324,     0.90366,     0.90379,     0.90395,     0.90414,     0.90443,     0.90489,     0.90517,     0.90544,     0.90561,      0.9057,     0.90583,     0.90601,     0.90614,\n",
              "            0.90632,     0.90664,     0.90672,     0.90679,     0.90691,     0.90719,     0.90766,     0.90782,     0.90796,     0.90809,     0.90796,     0.90809,     0.90817,     0.90826,     0.90836,     0.90846,      0.9087,     0.90879,      0.9089,     0.90908,     0.90901,     0.90924,     0.90957,\n",
              "            0.90966,     0.90975,     0.90985,     0.90996,     0.91007,     0.90995,     0.90984,     0.90997,     0.91015,     0.91019,     0.91009,        0.91,     0.91011,     0.91021,     0.91028,     0.91034,      0.9104,     0.91091,     0.91108,     0.91145,     0.91213,     0.91237,      0.9125,\n",
              "            0.91249,     0.91242,     0.91235,     0.91229,     0.91246,     0.91284,     0.91344,     0.91358,     0.91367,     0.91375,     0.91388,     0.91407,     0.91427,     0.91461,     0.91475,     0.91484,      0.9149,     0.91492,     0.91494,     0.91497,     0.91499,     0.91502,     0.91504,\n",
              "            0.91506,     0.91509,     0.91546,     0.91555,     0.91558,      0.9156,     0.91562,     0.91564,     0.91566,     0.91568,      0.9157,     0.91572,     0.91575,     0.91579,     0.91585,     0.91591,     0.91597,     0.91613,     0.91624,     0.91632,     0.91639,     0.91664,      0.9169,\n",
              "            0.91701,     0.91694,     0.91687,     0.91683,     0.91699,     0.91744,     0.91763,     0.91747,       0.918,      0.9183,     0.91837,     0.91843,      0.9185,     0.91857,     0.91864,     0.91871,     0.91865,     0.91852,     0.91936,      0.9194,     0.91944,     0.91948,     0.91952,\n",
              "            0.91956,     0.91964,     0.91974,     0.91987,     0.91999,     0.91985,     0.91978,     0.91982,     0.91986,      0.9199,     0.91994,     0.91999,     0.92017,     0.92051,     0.92065,     0.92081,     0.92127,     0.92148,     0.92186,     0.92181,     0.92164,     0.92193,     0.92205,\n",
              "            0.92251,     0.92263,     0.92274,       0.923,     0.92306,     0.92312,     0.92318,     0.92343,     0.92347,     0.92352,     0.92356,     0.92361,     0.92381,     0.92364,     0.92375,     0.92386,     0.92394,     0.92402,     0.92411,      0.9242,      0.9245,     0.92466,     0.92461,\n",
              "            0.92447,      0.9246,     0.92474,     0.92485,     0.92534,     0.92575,     0.92607,     0.92645,     0.92662,     0.92651,     0.92644,     0.92648,     0.92652,     0.92657,     0.92661,     0.92665,     0.92651,     0.92614,     0.92633,     0.92618,     0.92612,     0.92629,     0.92644,\n",
              "            0.92681,     0.92715,     0.92741,     0.92761,     0.92773,     0.92785,     0.92761,     0.92808,     0.92818,     0.92828,     0.92845,      0.9287,     0.92865,      0.9286,     0.92855,     0.92849,     0.92855,     0.92871,     0.92891,     0.92875,     0.92894,     0.92899,     0.92904,\n",
              "            0.92934,     0.92943,     0.92952,     0.92985,     0.93015,     0.93033,     0.93008,     0.92981,     0.92967,     0.92973,     0.92978,     0.92984,     0.93012,     0.93017,     0.93022,     0.93028,     0.93033,     0.93039,     0.93044,      0.9305,     0.93056,     0.93073,     0.93084,\n",
              "            0.93092,     0.93099,     0.93122,     0.93138,     0.93164,     0.93213,     0.93222,      0.9323,     0.93272,     0.93263,     0.93273,     0.93285,     0.93299,     0.93311,     0.93323,     0.93341,     0.93356,     0.93369,     0.93384,     0.93385,     0.93362,     0.93358,     0.93354,\n",
              "            0.93349,     0.93345,     0.93341,     0.93336,     0.93322,     0.93333,     0.93327,      0.9332,     0.93314,     0.93307,     0.93287,     0.93288,     0.93298,     0.93308,      0.9332,     0.93321,     0.93309,     0.93308,     0.93331,      0.9335,     0.93398,      0.9344,     0.93449,\n",
              "            0.93457,     0.93484,     0.93465,     0.93469,     0.93484,     0.93495,     0.93509,     0.93523,     0.93514,     0.93504,     0.93524,     0.93496,     0.93475,     0.93488,     0.93495,     0.93496,     0.93511,     0.93518,     0.93524,     0.93531,     0.93537,     0.93543,     0.93549,\n",
              "            0.93555,     0.93561,     0.93565,      0.9357,     0.93574,     0.93579,     0.93586,     0.93597,     0.93608,      0.9362,     0.93605,     0.93624,     0.93607,     0.93617,     0.93628,     0.93639,     0.93648,     0.93654,      0.9366,     0.93666,     0.93676,     0.93686,     0.93709,\n",
              "            0.93676,     0.93668,     0.93682,     0.93663,     0.93673,     0.93645,     0.93633,     0.93639,     0.93645,     0.93652,     0.93641,     0.93624,     0.93667,     0.93723,     0.93793,     0.93813,      0.9382,     0.93828,     0.93837,     0.93851,     0.93827,     0.93824,     0.93804,\n",
              "            0.93809,     0.93819,     0.93838,      0.9383,     0.93846,     0.93862,     0.93885,     0.93879,     0.93873,     0.93867,     0.93865,     0.93882,     0.93877,     0.93872,     0.93866,     0.93861,     0.93843,     0.93843,     0.93835,     0.93864,     0.93886,     0.93811,     0.93782,\n",
              "             0.9377,     0.93766,     0.93735,     0.93754,     0.93738,     0.93755,     0.93764,     0.93772,     0.93781,     0.93791,       0.938,     0.93843,     0.93859,      0.9391,     0.93938,     0.93933,     0.93911,     0.93921,      0.9389,      0.9388,     0.93912,     0.93915,     0.93904,\n",
              "            0.93918,     0.93895,     0.93901,     0.93908,     0.93914,     0.93931,     0.93876,     0.93863,     0.93855,     0.93829,     0.93836,     0.93845,     0.93828,     0.93843,     0.93807,     0.93753,      0.9371,     0.93691,     0.93648,      0.9364,     0.93654,     0.93669,     0.93685,\n",
              "            0.93652,     0.93619,     0.93561,     0.93522,      0.9337,     0.93353,     0.93366,     0.93286,     0.93265,     0.93242,      0.9321,     0.93177,     0.93136,     0.93081,      0.9306,     0.93011,     0.92975,     0.92968,      0.9296,     0.92953,     0.92937,     0.92846,     0.92817,\n",
              "            0.92799,      0.9279,     0.92794,     0.92783,     0.92794,     0.92791,     0.92758,     0.92714,     0.92661,      0.9264,      0.9262,     0.92588,      0.9255,     0.92517,     0.92479,     0.92484,     0.92484,     0.92472,     0.92461,     0.92364,     0.92308,     0.92232,     0.92269,\n",
              "            0.92208,     0.92234,     0.92155,     0.92114,     0.92097,     0.92051,      0.9202,     0.91968,     0.91948,     0.91913,      0.9186,     0.91929,      0.9184,     0.91745,     0.91733,     0.91732,      0.9169,     0.91627,     0.91403,     0.91312,     0.91292,     0.91211,     0.91199,\n",
              "            0.91143,     0.90939,     0.90851,     0.90792,     0.90624,     0.90582,     0.90511,     0.90309,     0.90118,     0.89903,     0.89787,     0.89761,      0.8965,     0.89338,     0.89183,     0.89133,     0.88932,     0.88758,     0.88574,     0.88402,     0.88269,       0.882,     0.88111,\n",
              "            0.87915,      0.8783,     0.87444,     0.87108,     0.87003,     0.86621,     0.86301,     0.85902,     0.85508,     0.85025,     0.84598,     0.84106,      0.8383,     0.83116,     0.82382,     0.81883,     0.81268,     0.80617,     0.80159,     0.79147,     0.78279,     0.77402,     0.76757,\n",
              "            0.75931,     0.75306,     0.74409,     0.73285,     0.72435,     0.71372,     0.70258,     0.69219,     0.67841,     0.66624,     0.65537,     0.63851,     0.62426,     0.61189,      0.5965,     0.57734,     0.56535,     0.55101,     0.53522,     0.52133,     0.50212,     0.48435,     0.46904,\n",
              "            0.45638,     0.44634,     0.43126,     0.41431,     0.40306,     0.39097,     0.37462,     0.36295,     0.34737,      0.3352,     0.32341,     0.30927,     0.29444,     0.27786,     0.26512,     0.25462,     0.23897,     0.22871,     0.21834,     0.19863,     0.19137,     0.18284,     0.17173,\n",
              "            0.16208,     0.15319,     0.14422,     0.13092,     0.12505,     0.11503,      0.1005,    0.088626,    0.076811,    0.061807,    0.052348,     0.04284,    0.035832,    0.030842,    0.026643,    0.022891,    0.018964,    0.011219,    0.010119,   0.0075538,   0.0063817,   0.0054434,   0.0037962,\n",
              "          0.0032032,   0.0019675,   0.0016619,   0.0013562,   0.0010504,           0,           0,           0,           0,           0,           0,           0,           0,           0,           0,           0,           0,           0,           0,           0,           0,           0,           0,\n",
              "                  0,           0,           0,           0,           0,           0,           0,           0,           0,           0,           0,           0,           0,           0,           0,           0,           0,           0,           0,           0,           0,           0,           0,\n",
              "                  0,           0,           0,           0,           0,           0,           0,           0,           0,           0,           0,           0,           0,           0,           0,           0,           0,           0,           0,           0,           0,           0,           0,\n",
              "                  0,           0,           0,           0,           0,           0,           0,           0,           0,           0,           0]]), 'Confidence', 'F1'], [array([          0,    0.001001,    0.002002,    0.003003,    0.004004,    0.005005,    0.006006,    0.007007,    0.008008,    0.009009,     0.01001,    0.011011,    0.012012,    0.013013,    0.014014,    0.015015,    0.016016,    0.017017,    0.018018,    0.019019,     0.02002,    0.021021,    0.022022,    0.023023,\n",
              "          0.024024,    0.025025,    0.026026,    0.027027,    0.028028,    0.029029,     0.03003,    0.031031,    0.032032,    0.033033,    0.034034,    0.035035,    0.036036,    0.037037,    0.038038,    0.039039,     0.04004,    0.041041,    0.042042,    0.043043,    0.044044,    0.045045,    0.046046,    0.047047,\n",
              "          0.048048,    0.049049,     0.05005,    0.051051,    0.052052,    0.053053,    0.054054,    0.055055,    0.056056,    0.057057,    0.058058,    0.059059,     0.06006,    0.061061,    0.062062,    0.063063,    0.064064,    0.065065,    0.066066,    0.067067,    0.068068,    0.069069,     0.07007,    0.071071,\n",
              "          0.072072,    0.073073,    0.074074,    0.075075,    0.076076,    0.077077,    0.078078,    0.079079,     0.08008,    0.081081,    0.082082,    0.083083,    0.084084,    0.085085,    0.086086,    0.087087,    0.088088,    0.089089,     0.09009,    0.091091,    0.092092,    0.093093,    0.094094,    0.095095,\n",
              "          0.096096,    0.097097,    0.098098,    0.099099,      0.1001,      0.1011,      0.1021,      0.1031,      0.1041,     0.10511,     0.10611,     0.10711,     0.10811,     0.10911,     0.11011,     0.11111,     0.11211,     0.11311,     0.11411,     0.11512,     0.11612,     0.11712,     0.11812,     0.11912,\n",
              "           0.12012,     0.12112,     0.12212,     0.12312,     0.12412,     0.12513,     0.12613,     0.12713,     0.12813,     0.12913,     0.13013,     0.13113,     0.13213,     0.13313,     0.13413,     0.13514,     0.13614,     0.13714,     0.13814,     0.13914,     0.14014,     0.14114,     0.14214,     0.14314,\n",
              "           0.14414,     0.14515,     0.14615,     0.14715,     0.14815,     0.14915,     0.15015,     0.15115,     0.15215,     0.15315,     0.15415,     0.15516,     0.15616,     0.15716,     0.15816,     0.15916,     0.16016,     0.16116,     0.16216,     0.16316,     0.16416,     0.16517,     0.16617,     0.16717,\n",
              "           0.16817,     0.16917,     0.17017,     0.17117,     0.17217,     0.17317,     0.17417,     0.17518,     0.17618,     0.17718,     0.17818,     0.17918,     0.18018,     0.18118,     0.18218,     0.18318,     0.18418,     0.18519,     0.18619,     0.18719,     0.18819,     0.18919,     0.19019,     0.19119,\n",
              "           0.19219,     0.19319,     0.19419,      0.1952,      0.1962,      0.1972,      0.1982,      0.1992,      0.2002,      0.2012,      0.2022,      0.2032,      0.2042,     0.20521,     0.20621,     0.20721,     0.20821,     0.20921,     0.21021,     0.21121,     0.21221,     0.21321,     0.21421,     0.21522,\n",
              "           0.21622,     0.21722,     0.21822,     0.21922,     0.22022,     0.22122,     0.22222,     0.22322,     0.22422,     0.22523,     0.22623,     0.22723,     0.22823,     0.22923,     0.23023,     0.23123,     0.23223,     0.23323,     0.23423,     0.23524,     0.23624,     0.23724,     0.23824,     0.23924,\n",
              "           0.24024,     0.24124,     0.24224,     0.24324,     0.24424,     0.24525,     0.24625,     0.24725,     0.24825,     0.24925,     0.25025,     0.25125,     0.25225,     0.25325,     0.25425,     0.25526,     0.25626,     0.25726,     0.25826,     0.25926,     0.26026,     0.26126,     0.26226,     0.26326,\n",
              "           0.26426,     0.26527,     0.26627,     0.26727,     0.26827,     0.26927,     0.27027,     0.27127,     0.27227,     0.27327,     0.27427,     0.27528,     0.27628,     0.27728,     0.27828,     0.27928,     0.28028,     0.28128,     0.28228,     0.28328,     0.28428,     0.28529,     0.28629,     0.28729,\n",
              "           0.28829,     0.28929,     0.29029,     0.29129,     0.29229,     0.29329,     0.29429,      0.2953,      0.2963,      0.2973,      0.2983,      0.2993,      0.3003,      0.3013,      0.3023,      0.3033,      0.3043,     0.30531,     0.30631,     0.30731,     0.30831,     0.30931,     0.31031,     0.31131,\n",
              "           0.31231,     0.31331,     0.31431,     0.31532,     0.31632,     0.31732,     0.31832,     0.31932,     0.32032,     0.32132,     0.32232,     0.32332,     0.32432,     0.32533,     0.32633,     0.32733,     0.32833,     0.32933,     0.33033,     0.33133,     0.33233,     0.33333,     0.33433,     0.33534,\n",
              "           0.33634,     0.33734,     0.33834,     0.33934,     0.34034,     0.34134,     0.34234,     0.34334,     0.34434,     0.34535,     0.34635,     0.34735,     0.34835,     0.34935,     0.35035,     0.35135,     0.35235,     0.35335,     0.35435,     0.35536,     0.35636,     0.35736,     0.35836,     0.35936,\n",
              "           0.36036,     0.36136,     0.36236,     0.36336,     0.36436,     0.36537,     0.36637,     0.36737,     0.36837,     0.36937,     0.37037,     0.37137,     0.37237,     0.37337,     0.37437,     0.37538,     0.37638,     0.37738,     0.37838,     0.37938,     0.38038,     0.38138,     0.38238,     0.38338,\n",
              "           0.38438,     0.38539,     0.38639,     0.38739,     0.38839,     0.38939,     0.39039,     0.39139,     0.39239,     0.39339,     0.39439,      0.3954,      0.3964,      0.3974,      0.3984,      0.3994,      0.4004,      0.4014,      0.4024,      0.4034,      0.4044,     0.40541,     0.40641,     0.40741,\n",
              "           0.40841,     0.40941,     0.41041,     0.41141,     0.41241,     0.41341,     0.41441,     0.41542,     0.41642,     0.41742,     0.41842,     0.41942,     0.42042,     0.42142,     0.42242,     0.42342,     0.42442,     0.42543,     0.42643,     0.42743,     0.42843,     0.42943,     0.43043,     0.43143,\n",
              "           0.43243,     0.43343,     0.43443,     0.43544,     0.43644,     0.43744,     0.43844,     0.43944,     0.44044,     0.44144,     0.44244,     0.44344,     0.44444,     0.44545,     0.44645,     0.44745,     0.44845,     0.44945,     0.45045,     0.45145,     0.45245,     0.45345,     0.45445,     0.45546,\n",
              "           0.45646,     0.45746,     0.45846,     0.45946,     0.46046,     0.46146,     0.46246,     0.46346,     0.46446,     0.46547,     0.46647,     0.46747,     0.46847,     0.46947,     0.47047,     0.47147,     0.47247,     0.47347,     0.47447,     0.47548,     0.47648,     0.47748,     0.47848,     0.47948,\n",
              "           0.48048,     0.48148,     0.48248,     0.48348,     0.48448,     0.48549,     0.48649,     0.48749,     0.48849,     0.48949,     0.49049,     0.49149,     0.49249,     0.49349,     0.49449,      0.4955,      0.4965,      0.4975,      0.4985,      0.4995,      0.5005,      0.5015,      0.5025,      0.5035,\n",
              "            0.5045,     0.50551,     0.50651,     0.50751,     0.50851,     0.50951,     0.51051,     0.51151,     0.51251,     0.51351,     0.51451,     0.51552,     0.51652,     0.51752,     0.51852,     0.51952,     0.52052,     0.52152,     0.52252,     0.52352,     0.52452,     0.52553,     0.52653,     0.52753,\n",
              "           0.52853,     0.52953,     0.53053,     0.53153,     0.53253,     0.53353,     0.53453,     0.53554,     0.53654,     0.53754,     0.53854,     0.53954,     0.54054,     0.54154,     0.54254,     0.54354,     0.54454,     0.54555,     0.54655,     0.54755,     0.54855,     0.54955,     0.55055,     0.55155,\n",
              "           0.55255,     0.55355,     0.55455,     0.55556,     0.55656,     0.55756,     0.55856,     0.55956,     0.56056,     0.56156,     0.56256,     0.56356,     0.56456,     0.56557,     0.56657,     0.56757,     0.56857,     0.56957,     0.57057,     0.57157,     0.57257,     0.57357,     0.57457,     0.57558,\n",
              "           0.57658,     0.57758,     0.57858,     0.57958,     0.58058,     0.58158,     0.58258,     0.58358,     0.58458,     0.58559,     0.58659,     0.58759,     0.58859,     0.58959,     0.59059,     0.59159,     0.59259,     0.59359,     0.59459,      0.5956,      0.5966,      0.5976,      0.5986,      0.5996,\n",
              "            0.6006,      0.6016,      0.6026,      0.6036,      0.6046,     0.60561,     0.60661,     0.60761,     0.60861,     0.60961,     0.61061,     0.61161,     0.61261,     0.61361,     0.61461,     0.61562,     0.61662,     0.61762,     0.61862,     0.61962,     0.62062,     0.62162,     0.62262,     0.62362,\n",
              "           0.62462,     0.62563,     0.62663,     0.62763,     0.62863,     0.62963,     0.63063,     0.63163,     0.63263,     0.63363,     0.63463,     0.63564,     0.63664,     0.63764,     0.63864,     0.63964,     0.64064,     0.64164,     0.64264,     0.64364,     0.64464,     0.64565,     0.64665,     0.64765,\n",
              "           0.64865,     0.64965,     0.65065,     0.65165,     0.65265,     0.65365,     0.65465,     0.65566,     0.65666,     0.65766,     0.65866,     0.65966,     0.66066,     0.66166,     0.66266,     0.66366,     0.66466,     0.66567,     0.66667,     0.66767,     0.66867,     0.66967,     0.67067,     0.67167,\n",
              "           0.67267,     0.67367,     0.67467,     0.67568,     0.67668,     0.67768,     0.67868,     0.67968,     0.68068,     0.68168,     0.68268,     0.68368,     0.68468,     0.68569,     0.68669,     0.68769,     0.68869,     0.68969,     0.69069,     0.69169,     0.69269,     0.69369,     0.69469,      0.6957,\n",
              "            0.6967,      0.6977,      0.6987,      0.6997,      0.7007,      0.7017,      0.7027,      0.7037,      0.7047,     0.70571,     0.70671,     0.70771,     0.70871,     0.70971,     0.71071,     0.71171,     0.71271,     0.71371,     0.71471,     0.71572,     0.71672,     0.71772,     0.71872,     0.71972,\n",
              "           0.72072,     0.72172,     0.72272,     0.72372,     0.72472,     0.72573,     0.72673,     0.72773,     0.72873,     0.72973,     0.73073,     0.73173,     0.73273,     0.73373,     0.73473,     0.73574,     0.73674,     0.73774,     0.73874,     0.73974,     0.74074,     0.74174,     0.74274,     0.74374,\n",
              "           0.74474,     0.74575,     0.74675,     0.74775,     0.74875,     0.74975,     0.75075,     0.75175,     0.75275,     0.75375,     0.75475,     0.75576,     0.75676,     0.75776,     0.75876,     0.75976,     0.76076,     0.76176,     0.76276,     0.76376,     0.76476,     0.76577,     0.76677,     0.76777,\n",
              "           0.76877,     0.76977,     0.77077,     0.77177,     0.77277,     0.77377,     0.77477,     0.77578,     0.77678,     0.77778,     0.77878,     0.77978,     0.78078,     0.78178,     0.78278,     0.78378,     0.78478,     0.78579,     0.78679,     0.78779,     0.78879,     0.78979,     0.79079,     0.79179,\n",
              "           0.79279,     0.79379,     0.79479,      0.7958,      0.7968,      0.7978,      0.7988,      0.7998,      0.8008,      0.8018,      0.8028,      0.8038,      0.8048,     0.80581,     0.80681,     0.80781,     0.80881,     0.80981,     0.81081,     0.81181,     0.81281,     0.81381,     0.81481,     0.81582,\n",
              "           0.81682,     0.81782,     0.81882,     0.81982,     0.82082,     0.82182,     0.82282,     0.82382,     0.82482,     0.82583,     0.82683,     0.82783,     0.82883,     0.82983,     0.83083,     0.83183,     0.83283,     0.83383,     0.83483,     0.83584,     0.83684,     0.83784,     0.83884,     0.83984,\n",
              "           0.84084,     0.84184,     0.84284,     0.84384,     0.84484,     0.84585,     0.84685,     0.84785,     0.84885,     0.84985,     0.85085,     0.85185,     0.85285,     0.85385,     0.85485,     0.85586,     0.85686,     0.85786,     0.85886,     0.85986,     0.86086,     0.86186,     0.86286,     0.86386,\n",
              "           0.86486,     0.86587,     0.86687,     0.86787,     0.86887,     0.86987,     0.87087,     0.87187,     0.87287,     0.87387,     0.87487,     0.87588,     0.87688,     0.87788,     0.87888,     0.87988,     0.88088,     0.88188,     0.88288,     0.88388,     0.88488,     0.88589,     0.88689,     0.88789,\n",
              "           0.88889,     0.88989,     0.89089,     0.89189,     0.89289,     0.89389,     0.89489,      0.8959,      0.8969,      0.8979,      0.8989,      0.8999,      0.9009,      0.9019,      0.9029,      0.9039,      0.9049,     0.90591,     0.90691,     0.90791,     0.90891,     0.90991,     0.91091,     0.91191,\n",
              "           0.91291,     0.91391,     0.91491,     0.91592,     0.91692,     0.91792,     0.91892,     0.91992,     0.92092,     0.92192,     0.92292,     0.92392,     0.92492,     0.92593,     0.92693,     0.92793,     0.92893,     0.92993,     0.93093,     0.93193,     0.93293,     0.93393,     0.93493,     0.93594,\n",
              "           0.93694,     0.93794,     0.93894,     0.93994,     0.94094,     0.94194,     0.94294,     0.94394,     0.94494,     0.94595,     0.94695,     0.94795,     0.94895,     0.94995,     0.95095,     0.95195,     0.95295,     0.95395,     0.95495,     0.95596,     0.95696,     0.95796,     0.95896,     0.95996,\n",
              "           0.96096,     0.96196,     0.96296,     0.96396,     0.96496,     0.96597,     0.96697,     0.96797,     0.96897,     0.96997,     0.97097,     0.97197,     0.97297,     0.97397,     0.97497,     0.97598,     0.97698,     0.97798,     0.97898,     0.97998,     0.98098,     0.98198,     0.98298,     0.98398,\n",
              "           0.98498,     0.98599,     0.98699,     0.98799,     0.98899,     0.98999,     0.99099,     0.99199,     0.99299,     0.99399,     0.99499,       0.996,       0.997,       0.998,       0.999,           1]), array([[    0.38692,     0.38692,     0.45142,      0.4911,     0.52096,     0.54232,     0.56103,     0.57441,     0.58679,     0.59621,     0.60983,      0.6168,     0.62625,     0.63284,     0.63868,     0.64383,      0.6494,     0.65322,     0.65788,     0.66157,     0.66396,     0.66871,     0.67096,\n",
              "            0.67521,      0.6782,     0.67997,     0.68451,     0.68659,     0.68858,     0.69251,     0.69426,      0.6967,     0.69891,     0.70216,     0.70412,     0.70619,     0.70743,     0.70917,     0.71066,     0.71338,     0.71521,     0.71619,     0.71743,     0.71812,     0.71978,     0.72198,\n",
              "              0.724,     0.72594,     0.72665,     0.72943,     0.73111,     0.73325,     0.73466,     0.73675,     0.73917,     0.73993,     0.74109,     0.74245,      0.7435,     0.74453,     0.74678,     0.74824,     0.74842,     0.74872,     0.75007,     0.75141,     0.75217,     0.75345,     0.75492,\n",
              "            0.75682,     0.75786,     0.75903,     0.76039,     0.76237,     0.76337,     0.76415,     0.76445,     0.76563,     0.76666,     0.76803,     0.76852,     0.76912,     0.76981,     0.77087,     0.77204,     0.77285,     0.77329,     0.77397,     0.77495,     0.77536,      0.7755,     0.77607,\n",
              "             0.7764,     0.77697,     0.77779,     0.77808,     0.77868,     0.78024,     0.78057,     0.78092,     0.78263,     0.78355,     0.78388,     0.78442,     0.78597,     0.78635,     0.78652,     0.78725,     0.78848,     0.78931,     0.78946,     0.78994,     0.79076,     0.79174,     0.79174,\n",
              "             0.7923,     0.79285,     0.79314,     0.79442,     0.79476,     0.79593,     0.79696,     0.79708,      0.7972,     0.79731,      0.7973,      0.7976,      0.7983,     0.79931,     0.80043,     0.80099,     0.80127,     0.80167,     0.80244,     0.80339,     0.80389,     0.80438,     0.80579,\n",
              "            0.80662,     0.80721,     0.80735,     0.80748,     0.80816,      0.8089,     0.80908,     0.80933,     0.81004,     0.81025,     0.81031,     0.81037,     0.81043,     0.81049,     0.81088,     0.81105,     0.81121,      0.8116,     0.81164,     0.81168,     0.81172,     0.81176,      0.8118,\n",
              "            0.81184,     0.81189,     0.81223,     0.81249,     0.81344,     0.81542,     0.81599,     0.81645,     0.81658,     0.81684,     0.81718,     0.81738,     0.81755,     0.81772,     0.81778,     0.81795,     0.81846,     0.81903,     0.81898,     0.81918,     0.82009,     0.82022,     0.82037,\n",
              "            0.82067,     0.82154,     0.82181,     0.82228,     0.82288,     0.82301,     0.82333,     0.82444,     0.82461,     0.82471,      0.8248,     0.82525,     0.82565,     0.82604,     0.82619,      0.8267,     0.82694,     0.82744,     0.82812,     0.82838,     0.82851,     0.82864,     0.82922,\n",
              "            0.82955,     0.82974,     0.83055,     0.83082,     0.83127,     0.83144,     0.83171,     0.83228,      0.8326,      0.8328,     0.83338,     0.83351,     0.83374,     0.83412,     0.83433,     0.83514,     0.83547,     0.83558,     0.83569,     0.83586,     0.83629,     0.83658,     0.83677,\n",
              "            0.83704,     0.83729,     0.83742,     0.83755,     0.83796,     0.83808,     0.83819,      0.8383,     0.83847,     0.83864,     0.83912,     0.83923,     0.83934,     0.83944,     0.83951,     0.83958,     0.83966,     0.83973,     0.83986,     0.84005,      0.8402,     0.84032,     0.84044,\n",
              "            0.84129,     0.84155,     0.84194,      0.8419,     0.84284,     0.84341,     0.84347,     0.84353,     0.84359,     0.84365,     0.84371,     0.84384,     0.84404,      0.8442,     0.84434,     0.84448,     0.84505,     0.84527,     0.84535,     0.84544,     0.84552,     0.84563,     0.84586,\n",
              "            0.84615,     0.84674,     0.84694,     0.84721,     0.84765,     0.84813,     0.84843,      0.8488,     0.84906,     0.84924,     0.84967,     0.84978,      0.8499,     0.85001,     0.85061,     0.85073,     0.85083,     0.85093,     0.85102,     0.85151,     0.85164,     0.85178,     0.85196,\n",
              "            0.85218,     0.85277,     0.85306,     0.85347,      0.8536,     0.85372,     0.85395,     0.85417,     0.85433,     0.85452,     0.85526,     0.85551,     0.85578,     0.85612,     0.85665,     0.85746,     0.85798,     0.85846,     0.85876,     0.85893,     0.85916,     0.85949,     0.85972,\n",
              "            0.86005,     0.86063,     0.86076,     0.86089,      0.8611,     0.86161,     0.86246,     0.86275,     0.86301,     0.86323,     0.86341,     0.86363,     0.86379,     0.86394,     0.86413,     0.86432,     0.86474,     0.86511,     0.86551,     0.86583,     0.86613,     0.86654,     0.86714,\n",
              "             0.8677,     0.86788,     0.86805,     0.86825,     0.86845,     0.86844,     0.86844,     0.86869,     0.86902,     0.86918,     0.86916,     0.86915,     0.86935,     0.86954,     0.86965,     0.86977,     0.86988,     0.87081,     0.87145,     0.87221,     0.87345,     0.87389,     0.87414,\n",
              "            0.87419,     0.87418,     0.87416,     0.87415,     0.87447,     0.87517,     0.87628,     0.87654,      0.8767,     0.87686,      0.8771,     0.87744,     0.87782,     0.87844,     0.87869,     0.87886,     0.87896,     0.87901,     0.87905,     0.87909,     0.87914,     0.87918,     0.87923,\n",
              "            0.87927,     0.87932,        0.88,     0.88018,     0.88022,     0.88026,      0.8803,     0.88034,     0.88038,     0.88042,     0.88045,     0.88049,     0.88053,     0.88062,     0.88073,     0.88084,     0.88095,     0.88125,     0.88145,     0.88159,     0.88173,     0.88219,     0.88267,\n",
              "            0.88296,     0.88295,     0.88293,     0.88296,     0.88325,      0.8841,     0.88445,     0.88457,     0.88556,     0.88612,     0.88625,     0.88637,      0.8865,     0.88663,     0.88676,      0.8869,     0.88692,      0.8869,     0.88853,     0.88861,     0.88868,     0.88876,     0.88884,\n",
              "            0.88891,     0.88906,     0.88924,     0.88949,     0.88976,     0.88973,     0.88974,     0.88982,      0.8899,     0.88997,     0.89005,     0.89014,     0.89047,     0.89111,     0.89139,     0.89169,     0.89255,     0.89294,     0.89366,     0.89382,     0.89455,      0.8951,     0.89533,\n",
              "            0.89619,     0.89642,     0.89663,     0.89712,     0.89723,     0.89734,     0.89745,     0.89793,     0.89801,      0.8981,     0.89818,     0.89827,     0.89873,     0.89876,     0.89898,     0.89918,     0.89934,      0.8995,     0.89967,     0.89984,      0.9004,      0.9007,     0.90078,\n",
              "            0.90076,     0.90103,      0.9013,     0.90152,     0.90244,     0.90323,     0.90383,     0.90456,       0.905,     0.90498,     0.90498,     0.90506,     0.90514,     0.90523,     0.90531,     0.90539,     0.90537,     0.90531,     0.90568,     0.90585,     0.90608,     0.90651,      0.9068,\n",
              "            0.90751,     0.90816,     0.90867,     0.90903,     0.90928,     0.90951,     0.90948,      0.9104,     0.91059,     0.91079,     0.91112,     0.91165,     0.91164,     0.91163,     0.91162,     0.91161,     0.91177,     0.91208,     0.91246,     0.91245,     0.91299,     0.91329,     0.91364,\n",
              "            0.91422,     0.91439,     0.91457,     0.91521,     0.91578,     0.91633,     0.91629,     0.91625,     0.91627,     0.91637,     0.91648,     0.91659,     0.91713,     0.91723,     0.91733,     0.91744,     0.91754,     0.91765,     0.91776,     0.91788,     0.91799,     0.91833,     0.91854,\n",
              "            0.91868,     0.91883,     0.91928,      0.9196,     0.92009,     0.92152,     0.92169,     0.92186,     0.92268,     0.92298,     0.92317,     0.92341,     0.92368,     0.92392,     0.92414,     0.92451,     0.92479,     0.92505,      0.9255,     0.92592,     0.92589,     0.92588,     0.92588,\n",
              "            0.92587,     0.92587,     0.92586,     0.92585,     0.92583,     0.92627,     0.92626,     0.92625,     0.92624,     0.92623,     0.92621,     0.92634,     0.92653,     0.92674,     0.92697,      0.9271,     0.92708,     0.92721,     0.92766,     0.92804,     0.92899,     0.92983,        0.93,\n",
              "            0.93017,     0.93071,     0.93069,     0.93089,     0.93118,      0.9314,     0.93169,     0.93205,     0.93204,     0.93202,     0.93247,     0.93244,     0.93242,     0.93273,     0.93336,     0.93388,     0.93417,     0.93432,     0.93445,     0.93458,     0.93471,     0.93483,     0.93494,\n",
              "            0.93506,     0.93517,     0.93526,     0.93535,     0.93544,     0.93553,     0.93569,      0.9359,     0.93612,     0.93635,     0.93655,     0.93694,     0.93709,     0.93729,      0.9375,     0.93773,      0.9379,     0.93803,     0.93816,     0.93828,     0.93847,     0.93868,     0.93914,\n",
              "             0.9392,     0.93931,     0.93965,     0.93972,     0.94008,     0.94005,     0.94012,     0.94024,     0.94037,     0.94049,     0.94093,     0.94091,     0.94182,     0.94296,     0.94437,     0.94478,     0.94492,     0.94507,     0.94525,     0.94553,     0.94562,     0.94607,     0.94605,\n",
              "            0.94622,     0.94643,      0.9468,     0.94743,     0.94801,     0.94833,     0.94886,     0.94885,     0.94885,     0.94884,     0.94892,     0.94931,     0.94931,      0.9493,      0.9493,     0.94929,     0.94928,      0.9495,     0.94986,     0.95046,     0.95142,     0.95155,     0.95152,\n",
              "            0.95151,     0.95197,       0.952,     0.95243,     0.95241,     0.95293,     0.95311,     0.95329,     0.95347,     0.95367,     0.95387,     0.95476,     0.95509,     0.95614,     0.95673,     0.95769,     0.95773,     0.95869,     0.95867,     0.95873,     0.95939,     0.95964,     0.95963,\n",
              "            0.96007,     0.96013,     0.96026,     0.96038,     0.96051,     0.96088,     0.96105,     0.96164,       0.962,     0.96198,     0.96216,     0.96234,     0.96253,     0.96285,     0.96293,     0.96289,     0.96286,     0.96285,     0.96331,     0.96353,     0.96383,     0.96415,      0.9648,\n",
              "            0.96527,     0.96525,     0.96521,     0.96518,     0.96508,     0.96507,     0.96553,     0.96601,       0.966,     0.96599,     0.96596,     0.96594,     0.96592,     0.96588,     0.96586,     0.96583,     0.96581,      0.9658,      0.9658,     0.96579,     0.96628,     0.96622,     0.96621,\n",
              "            0.96619,     0.96633,     0.96669,     0.96675,       0.967,      0.9672,     0.96768,     0.96765,     0.96762,     0.96761,     0.96759,     0.96757,     0.96755,     0.96753,      0.9675,     0.96787,     0.96853,     0.96852,     0.96851,     0.96845,     0.96842,     0.96889,      0.9697,\n",
              "            0.97077,     0.97199,     0.97195,     0.97297,     0.97296,     0.97294,     0.97292,      0.9729,     0.97288,     0.97339,     0.97336,     0.97552,     0.97547,     0.97543,     0.97621,     0.97683,     0.97701,     0.97698,     0.97688,     0.97684,     0.97683,     0.97679,     0.97733,\n",
              "            0.97785,     0.97776,     0.97772,     0.97769,     0.97762,      0.9776,     0.97757,     0.97748,     0.97739,      0.9773,      0.9779,     0.97836,     0.97887,     0.97874,     0.97868,      0.9798,     0.97972,     0.97965,     0.97957,     0.98067,     0.98179,     0.98294,     0.98397,\n",
              "            0.98403,     0.98401,     0.98388,     0.98377,     0.98374,     0.98362,     0.98413,       0.984,     0.98387,     0.98498,      0.9855,     0.98535,     0.98527,     0.98638,     0.98753,     0.98877,     0.98863,     0.98919,      0.9898,     0.98969,     0.99014,     0.98996,     0.98982,\n",
              "            0.98964,      0.9903,     0.99093,     0.99071,     0.99054,     0.99119,     0.99097,     0.99168,     0.99142,     0.99312,     0.99495,     0.99475,     0.99458,     0.99442,     0.99422,     0.99515,     0.99625,     0.99611,     0.99595,     0.99581,     0.99705,     0.99691,     0.99678,\n",
              "            0.99666,     0.99656,     0.99641,     0.99811,     0.99804,     0.99796,     0.99785,     0.99777,     0.99765,           1,           1,           1,           1,           1,           1,           1,           1,           1,           1,           1,           1,           1,           1,\n",
              "                  1,           1,           1,           1,           1,           1,           1,           1,           1,           1,           1,           1,           1,           1,           1,           1,           1,           1,           1,           1,           1,           1,           1,\n",
              "                  1,           1,           1,           1,           1,           1,           1,           1,           1,           1,           1,           1,           1,           1,           1,           1,           1,           1,           1,           1,           1,           1,           1,\n",
              "                  1,           1,           1,           1,           1,           1,           1,           1,           1,           1,           1,           1,           1,           1,           1,           1,           1,           1,           1,           1,           1,           1,           1,\n",
              "                  1,           1,           1,           1,           1,           1,           1,           1,           1,           1,           1,           1,           1,           1,           1,           1,           1,           1,           1,           1,           1,           1,           1,\n",
              "                  1,           1,           1,           1,           1,           1,           1,           1,           1,           1,           1]]), 'Confidence', 'Precision'], [array([          0,    0.001001,    0.002002,    0.003003,    0.004004,    0.005005,    0.006006,    0.007007,    0.008008,    0.009009,     0.01001,    0.011011,    0.012012,    0.013013,    0.014014,    0.015015,    0.016016,    0.017017,    0.018018,    0.019019,     0.02002,    0.021021,    0.022022,    0.023023,\n",
              "          0.024024,    0.025025,    0.026026,    0.027027,    0.028028,    0.029029,     0.03003,    0.031031,    0.032032,    0.033033,    0.034034,    0.035035,    0.036036,    0.037037,    0.038038,    0.039039,     0.04004,    0.041041,    0.042042,    0.043043,    0.044044,    0.045045,    0.046046,    0.047047,\n",
              "          0.048048,    0.049049,     0.05005,    0.051051,    0.052052,    0.053053,    0.054054,    0.055055,    0.056056,    0.057057,    0.058058,    0.059059,     0.06006,    0.061061,    0.062062,    0.063063,    0.064064,    0.065065,    0.066066,    0.067067,    0.068068,    0.069069,     0.07007,    0.071071,\n",
              "          0.072072,    0.073073,    0.074074,    0.075075,    0.076076,    0.077077,    0.078078,    0.079079,     0.08008,    0.081081,    0.082082,    0.083083,    0.084084,    0.085085,    0.086086,    0.087087,    0.088088,    0.089089,     0.09009,    0.091091,    0.092092,    0.093093,    0.094094,    0.095095,\n",
              "          0.096096,    0.097097,    0.098098,    0.099099,      0.1001,      0.1011,      0.1021,      0.1031,      0.1041,     0.10511,     0.10611,     0.10711,     0.10811,     0.10911,     0.11011,     0.11111,     0.11211,     0.11311,     0.11411,     0.11512,     0.11612,     0.11712,     0.11812,     0.11912,\n",
              "           0.12012,     0.12112,     0.12212,     0.12312,     0.12412,     0.12513,     0.12613,     0.12713,     0.12813,     0.12913,     0.13013,     0.13113,     0.13213,     0.13313,     0.13413,     0.13514,     0.13614,     0.13714,     0.13814,     0.13914,     0.14014,     0.14114,     0.14214,     0.14314,\n",
              "           0.14414,     0.14515,     0.14615,     0.14715,     0.14815,     0.14915,     0.15015,     0.15115,     0.15215,     0.15315,     0.15415,     0.15516,     0.15616,     0.15716,     0.15816,     0.15916,     0.16016,     0.16116,     0.16216,     0.16316,     0.16416,     0.16517,     0.16617,     0.16717,\n",
              "           0.16817,     0.16917,     0.17017,     0.17117,     0.17217,     0.17317,     0.17417,     0.17518,     0.17618,     0.17718,     0.17818,     0.17918,     0.18018,     0.18118,     0.18218,     0.18318,     0.18418,     0.18519,     0.18619,     0.18719,     0.18819,     0.18919,     0.19019,     0.19119,\n",
              "           0.19219,     0.19319,     0.19419,      0.1952,      0.1962,      0.1972,      0.1982,      0.1992,      0.2002,      0.2012,      0.2022,      0.2032,      0.2042,     0.20521,     0.20621,     0.20721,     0.20821,     0.20921,     0.21021,     0.21121,     0.21221,     0.21321,     0.21421,     0.21522,\n",
              "           0.21622,     0.21722,     0.21822,     0.21922,     0.22022,     0.22122,     0.22222,     0.22322,     0.22422,     0.22523,     0.22623,     0.22723,     0.22823,     0.22923,     0.23023,     0.23123,     0.23223,     0.23323,     0.23423,     0.23524,     0.23624,     0.23724,     0.23824,     0.23924,\n",
              "           0.24024,     0.24124,     0.24224,     0.24324,     0.24424,     0.24525,     0.24625,     0.24725,     0.24825,     0.24925,     0.25025,     0.25125,     0.25225,     0.25325,     0.25425,     0.25526,     0.25626,     0.25726,     0.25826,     0.25926,     0.26026,     0.26126,     0.26226,     0.26326,\n",
              "           0.26426,     0.26527,     0.26627,     0.26727,     0.26827,     0.26927,     0.27027,     0.27127,     0.27227,     0.27327,     0.27427,     0.27528,     0.27628,     0.27728,     0.27828,     0.27928,     0.28028,     0.28128,     0.28228,     0.28328,     0.28428,     0.28529,     0.28629,     0.28729,\n",
              "           0.28829,     0.28929,     0.29029,     0.29129,     0.29229,     0.29329,     0.29429,      0.2953,      0.2963,      0.2973,      0.2983,      0.2993,      0.3003,      0.3013,      0.3023,      0.3033,      0.3043,     0.30531,     0.30631,     0.30731,     0.30831,     0.30931,     0.31031,     0.31131,\n",
              "           0.31231,     0.31331,     0.31431,     0.31532,     0.31632,     0.31732,     0.31832,     0.31932,     0.32032,     0.32132,     0.32232,     0.32332,     0.32432,     0.32533,     0.32633,     0.32733,     0.32833,     0.32933,     0.33033,     0.33133,     0.33233,     0.33333,     0.33433,     0.33534,\n",
              "           0.33634,     0.33734,     0.33834,     0.33934,     0.34034,     0.34134,     0.34234,     0.34334,     0.34434,     0.34535,     0.34635,     0.34735,     0.34835,     0.34935,     0.35035,     0.35135,     0.35235,     0.35335,     0.35435,     0.35536,     0.35636,     0.35736,     0.35836,     0.35936,\n",
              "           0.36036,     0.36136,     0.36236,     0.36336,     0.36436,     0.36537,     0.36637,     0.36737,     0.36837,     0.36937,     0.37037,     0.37137,     0.37237,     0.37337,     0.37437,     0.37538,     0.37638,     0.37738,     0.37838,     0.37938,     0.38038,     0.38138,     0.38238,     0.38338,\n",
              "           0.38438,     0.38539,     0.38639,     0.38739,     0.38839,     0.38939,     0.39039,     0.39139,     0.39239,     0.39339,     0.39439,      0.3954,      0.3964,      0.3974,      0.3984,      0.3994,      0.4004,      0.4014,      0.4024,      0.4034,      0.4044,     0.40541,     0.40641,     0.40741,\n",
              "           0.40841,     0.40941,     0.41041,     0.41141,     0.41241,     0.41341,     0.41441,     0.41542,     0.41642,     0.41742,     0.41842,     0.41942,     0.42042,     0.42142,     0.42242,     0.42342,     0.42442,     0.42543,     0.42643,     0.42743,     0.42843,     0.42943,     0.43043,     0.43143,\n",
              "           0.43243,     0.43343,     0.43443,     0.43544,     0.43644,     0.43744,     0.43844,     0.43944,     0.44044,     0.44144,     0.44244,     0.44344,     0.44444,     0.44545,     0.44645,     0.44745,     0.44845,     0.44945,     0.45045,     0.45145,     0.45245,     0.45345,     0.45445,     0.45546,\n",
              "           0.45646,     0.45746,     0.45846,     0.45946,     0.46046,     0.46146,     0.46246,     0.46346,     0.46446,     0.46547,     0.46647,     0.46747,     0.46847,     0.46947,     0.47047,     0.47147,     0.47247,     0.47347,     0.47447,     0.47548,     0.47648,     0.47748,     0.47848,     0.47948,\n",
              "           0.48048,     0.48148,     0.48248,     0.48348,     0.48448,     0.48549,     0.48649,     0.48749,     0.48849,     0.48949,     0.49049,     0.49149,     0.49249,     0.49349,     0.49449,      0.4955,      0.4965,      0.4975,      0.4985,      0.4995,      0.5005,      0.5015,      0.5025,      0.5035,\n",
              "            0.5045,     0.50551,     0.50651,     0.50751,     0.50851,     0.50951,     0.51051,     0.51151,     0.51251,     0.51351,     0.51451,     0.51552,     0.51652,     0.51752,     0.51852,     0.51952,     0.52052,     0.52152,     0.52252,     0.52352,     0.52452,     0.52553,     0.52653,     0.52753,\n",
              "           0.52853,     0.52953,     0.53053,     0.53153,     0.53253,     0.53353,     0.53453,     0.53554,     0.53654,     0.53754,     0.53854,     0.53954,     0.54054,     0.54154,     0.54254,     0.54354,     0.54454,     0.54555,     0.54655,     0.54755,     0.54855,     0.54955,     0.55055,     0.55155,\n",
              "           0.55255,     0.55355,     0.55455,     0.55556,     0.55656,     0.55756,     0.55856,     0.55956,     0.56056,     0.56156,     0.56256,     0.56356,     0.56456,     0.56557,     0.56657,     0.56757,     0.56857,     0.56957,     0.57057,     0.57157,     0.57257,     0.57357,     0.57457,     0.57558,\n",
              "           0.57658,     0.57758,     0.57858,     0.57958,     0.58058,     0.58158,     0.58258,     0.58358,     0.58458,     0.58559,     0.58659,     0.58759,     0.58859,     0.58959,     0.59059,     0.59159,     0.59259,     0.59359,     0.59459,      0.5956,      0.5966,      0.5976,      0.5986,      0.5996,\n",
              "            0.6006,      0.6016,      0.6026,      0.6036,      0.6046,     0.60561,     0.60661,     0.60761,     0.60861,     0.60961,     0.61061,     0.61161,     0.61261,     0.61361,     0.61461,     0.61562,     0.61662,     0.61762,     0.61862,     0.61962,     0.62062,     0.62162,     0.62262,     0.62362,\n",
              "           0.62462,     0.62563,     0.62663,     0.62763,     0.62863,     0.62963,     0.63063,     0.63163,     0.63263,     0.63363,     0.63463,     0.63564,     0.63664,     0.63764,     0.63864,     0.63964,     0.64064,     0.64164,     0.64264,     0.64364,     0.64464,     0.64565,     0.64665,     0.64765,\n",
              "           0.64865,     0.64965,     0.65065,     0.65165,     0.65265,     0.65365,     0.65465,     0.65566,     0.65666,     0.65766,     0.65866,     0.65966,     0.66066,     0.66166,     0.66266,     0.66366,     0.66466,     0.66567,     0.66667,     0.66767,     0.66867,     0.66967,     0.67067,     0.67167,\n",
              "           0.67267,     0.67367,     0.67467,     0.67568,     0.67668,     0.67768,     0.67868,     0.67968,     0.68068,     0.68168,     0.68268,     0.68368,     0.68468,     0.68569,     0.68669,     0.68769,     0.68869,     0.68969,     0.69069,     0.69169,     0.69269,     0.69369,     0.69469,      0.6957,\n",
              "            0.6967,      0.6977,      0.6987,      0.6997,      0.7007,      0.7017,      0.7027,      0.7037,      0.7047,     0.70571,     0.70671,     0.70771,     0.70871,     0.70971,     0.71071,     0.71171,     0.71271,     0.71371,     0.71471,     0.71572,     0.71672,     0.71772,     0.71872,     0.71972,\n",
              "           0.72072,     0.72172,     0.72272,     0.72372,     0.72472,     0.72573,     0.72673,     0.72773,     0.72873,     0.72973,     0.73073,     0.73173,     0.73273,     0.73373,     0.73473,     0.73574,     0.73674,     0.73774,     0.73874,     0.73974,     0.74074,     0.74174,     0.74274,     0.74374,\n",
              "           0.74474,     0.74575,     0.74675,     0.74775,     0.74875,     0.74975,     0.75075,     0.75175,     0.75275,     0.75375,     0.75475,     0.75576,     0.75676,     0.75776,     0.75876,     0.75976,     0.76076,     0.76176,     0.76276,     0.76376,     0.76476,     0.76577,     0.76677,     0.76777,\n",
              "           0.76877,     0.76977,     0.77077,     0.77177,     0.77277,     0.77377,     0.77477,     0.77578,     0.77678,     0.77778,     0.77878,     0.77978,     0.78078,     0.78178,     0.78278,     0.78378,     0.78478,     0.78579,     0.78679,     0.78779,     0.78879,     0.78979,     0.79079,     0.79179,\n",
              "           0.79279,     0.79379,     0.79479,      0.7958,      0.7968,      0.7978,      0.7988,      0.7998,      0.8008,      0.8018,      0.8028,      0.8038,      0.8048,     0.80581,     0.80681,     0.80781,     0.80881,     0.80981,     0.81081,     0.81181,     0.81281,     0.81381,     0.81481,     0.81582,\n",
              "           0.81682,     0.81782,     0.81882,     0.81982,     0.82082,     0.82182,     0.82282,     0.82382,     0.82482,     0.82583,     0.82683,     0.82783,     0.82883,     0.82983,     0.83083,     0.83183,     0.83283,     0.83383,     0.83483,     0.83584,     0.83684,     0.83784,     0.83884,     0.83984,\n",
              "           0.84084,     0.84184,     0.84284,     0.84384,     0.84484,     0.84585,     0.84685,     0.84785,     0.84885,     0.84985,     0.85085,     0.85185,     0.85285,     0.85385,     0.85485,     0.85586,     0.85686,     0.85786,     0.85886,     0.85986,     0.86086,     0.86186,     0.86286,     0.86386,\n",
              "           0.86486,     0.86587,     0.86687,     0.86787,     0.86887,     0.86987,     0.87087,     0.87187,     0.87287,     0.87387,     0.87487,     0.87588,     0.87688,     0.87788,     0.87888,     0.87988,     0.88088,     0.88188,     0.88288,     0.88388,     0.88488,     0.88589,     0.88689,     0.88789,\n",
              "           0.88889,     0.88989,     0.89089,     0.89189,     0.89289,     0.89389,     0.89489,      0.8959,      0.8969,      0.8979,      0.8989,      0.8999,      0.9009,      0.9019,      0.9029,      0.9039,      0.9049,     0.90591,     0.90691,     0.90791,     0.90891,     0.90991,     0.91091,     0.91191,\n",
              "           0.91291,     0.91391,     0.91491,     0.91592,     0.91692,     0.91792,     0.91892,     0.91992,     0.92092,     0.92192,     0.92292,     0.92392,     0.92492,     0.92593,     0.92693,     0.92793,     0.92893,     0.92993,     0.93093,     0.93193,     0.93293,     0.93393,     0.93493,     0.93594,\n",
              "           0.93694,     0.93794,     0.93894,     0.93994,     0.94094,     0.94194,     0.94294,     0.94394,     0.94494,     0.94595,     0.94695,     0.94795,     0.94895,     0.94995,     0.95095,     0.95195,     0.95295,     0.95395,     0.95495,     0.95596,     0.95696,     0.95796,     0.95896,     0.95996,\n",
              "           0.96096,     0.96196,     0.96296,     0.96396,     0.96496,     0.96597,     0.96697,     0.96797,     0.96897,     0.96997,     0.97097,     0.97197,     0.97297,     0.97397,     0.97497,     0.97598,     0.97698,     0.97798,     0.97898,     0.97998,     0.98098,     0.98198,     0.98298,     0.98398,\n",
              "           0.98498,     0.98599,     0.98699,     0.98799,     0.98899,     0.98999,     0.99099,     0.99199,     0.99299,     0.99399,     0.99499,       0.996,       0.997,       0.998,       0.999,           1]), array([[    0.97967,     0.97967,     0.97918,     0.97868,     0.97819,     0.97719,     0.97571,     0.97471,     0.97471,     0.97372,     0.97372,     0.97372,     0.97323,     0.97323,     0.97323,     0.97273,     0.97224,     0.97224,     0.97174,     0.97174,     0.97174,     0.97174,     0.97174,\n",
              "            0.97124,     0.97124,     0.97124,     0.97124,     0.97124,     0.97124,     0.97025,     0.97025,     0.97025,     0.96926,     0.96926,     0.96926,     0.96827,     0.96827,     0.96827,     0.96827,     0.96827,     0.96827,     0.96827,     0.96777,     0.96777,     0.96777,     0.96728,\n",
              "            0.96728,     0.96728,     0.96728,     0.96728,     0.96728,     0.96728,     0.96728,     0.96728,     0.96728,     0.96728,     0.96728,     0.96728,     0.96728,     0.96728,     0.96728,     0.96728,     0.96678,     0.96629,     0.96629,     0.96579,     0.96579,     0.96579,     0.96579,\n",
              "            0.96579,     0.96579,     0.96529,     0.96529,      0.9648,      0.9648,      0.9648,      0.9648,      0.9648,      0.9648,      0.9648,      0.9648,      0.9648,      0.9648,      0.9648,      0.9648,      0.9648,      0.9648,      0.9648,      0.9648,      0.9648,      0.9648,      0.9648,\n",
              "             0.9648,      0.9648,      0.9648,      0.9648,      0.9648,      0.9643,      0.9643,      0.9643,      0.9643,      0.9643,      0.9643,      0.9643,     0.96381,     0.96331,     0.96331,     0.96331,     0.96331,     0.96331,     0.96331,     0.96331,     0.96331,     0.96312,     0.96282,\n",
              "            0.96282,     0.96282,     0.96282,     0.96232,     0.96232,     0.96232,     0.96232,     0.96182,     0.96182,     0.96182,     0.96144,     0.96133,     0.96133,     0.96133,     0.96083,     0.96083,     0.96083,     0.96083,     0.96083,     0.96083,     0.96083,     0.96083,     0.96083,\n",
              "            0.96083,     0.96083,     0.96083,     0.96083,     0.96083,     0.96083,     0.96083,     0.96083,     0.96083,     0.96083,     0.96083,     0.96083,     0.96083,     0.96083,     0.96083,     0.96083,     0.96083,     0.96083,     0.96083,     0.96083,     0.96083,     0.96083,     0.96083,\n",
              "            0.96083,     0.96083,     0.96083,     0.96083,     0.96083,     0.96083,     0.96083,     0.96083,     0.96083,     0.96083,     0.96083,     0.96083,     0.96083,     0.96081,     0.96034,     0.96034,     0.96034,     0.96033,     0.96004,     0.95984,     0.95984,     0.95984,     0.95984,\n",
              "            0.95984,     0.95984,     0.95984,     0.95984,     0.95984,     0.95984,     0.95984,     0.95984,     0.95984,     0.95984,     0.95984,     0.95984,     0.95984,     0.95984,     0.95984,     0.95984,     0.95935,     0.95935,     0.95935,     0.95935,     0.95935,     0.95935,     0.95935,\n",
              "            0.95935,     0.95935,     0.95935,     0.95935,     0.95935,     0.95935,     0.95935,     0.95935,     0.95926,     0.95885,     0.95885,     0.95885,     0.95885,     0.95885,     0.95885,     0.95885,     0.95885,     0.95885,     0.95885,     0.95885,     0.95885,     0.95885,     0.95885,\n",
              "            0.95885,     0.95885,     0.95885,     0.95885,     0.95885,     0.95885,     0.95885,     0.95885,     0.95885,     0.95885,     0.95885,     0.95885,     0.95885,     0.95885,     0.95885,     0.95885,     0.95885,     0.95885,     0.95885,     0.95885,     0.95885,     0.95885,     0.95885,\n",
              "            0.95885,     0.95885,     0.95867,     0.95838,     0.95835,     0.95835,     0.95835,     0.95835,     0.95835,     0.95835,     0.95835,     0.95835,     0.95835,     0.95835,     0.95835,     0.95835,     0.95835,     0.95835,     0.95835,     0.95835,     0.95835,     0.95835,     0.95835,\n",
              "            0.95835,     0.95835,     0.95835,     0.95835,     0.95835,     0.95835,     0.95835,     0.95835,     0.95835,     0.95835,     0.95835,     0.95835,     0.95835,     0.95835,     0.95835,     0.95786,     0.95786,     0.95786,     0.95786,     0.95786,     0.95786,     0.95786,     0.95786,\n",
              "            0.95786,     0.95786,     0.95786,     0.95786,     0.95786,     0.95786,     0.95786,     0.95786,     0.95786,     0.95786,     0.95786,     0.95786,     0.95786,     0.95786,     0.95786,     0.95786,     0.95786,     0.95786,     0.95786,     0.95786,     0.95786,     0.95786,     0.95786,\n",
              "            0.95786,     0.95786,     0.95786,     0.95786,     0.95786,     0.95786,     0.95786,     0.95786,     0.95786,     0.95786,     0.95736,     0.95736,     0.95736,     0.95736,     0.95736,     0.95736,     0.95736,     0.95712,     0.95687,     0.95687,     0.95637,     0.95637,     0.95637,\n",
              "            0.95588,     0.95588,     0.95588,     0.95588,     0.95588,     0.95563,     0.95538,     0.95538,     0.95538,     0.95527,     0.95507,     0.95488,     0.95488,     0.95488,     0.95488,     0.95488,     0.95488,     0.95488,     0.95449,     0.95439,     0.95439,     0.95439,     0.95439,\n",
              "            0.95429,     0.95416,     0.95403,      0.9539,     0.95389,     0.95389,     0.95389,     0.95389,     0.95389,     0.95389,     0.95389,     0.95389,     0.95389,     0.95389,     0.95389,     0.95389,     0.95389,     0.95389,     0.95389,     0.95389,     0.95389,     0.95389,     0.95389,\n",
              "            0.95389,     0.95389,     0.95389,     0.95389,     0.95389,     0.95389,     0.95389,     0.95389,     0.95389,     0.95389,     0.95389,     0.95389,     0.95389,     0.95389,     0.95389,     0.95389,     0.95389,     0.95389,     0.95389,     0.95389,     0.95389,     0.95389,     0.95389,\n",
              "            0.95379,     0.95365,     0.95352,      0.9534,      0.9534,      0.9534,      0.9534,      0.9529,      0.9529,      0.9529,      0.9529,      0.9529,      0.9529,      0.9529,      0.9529,      0.9529,     0.95274,     0.95249,      0.9524,      0.9524,      0.9524,      0.9524,      0.9524,\n",
              "             0.9524,      0.9524,      0.9524,      0.9524,     0.95234,     0.95207,     0.95191,     0.95191,     0.95191,     0.95191,     0.95191,     0.95191,     0.95191,     0.95191,     0.95191,     0.95191,     0.95191,     0.95191,     0.95191,     0.95161,     0.95042,     0.95042,     0.95042,\n",
              "            0.95042,     0.95042,     0.95042,     0.95042,     0.95042,     0.95042,     0.95042,     0.95042,     0.95042,     0.95042,     0.95042,     0.95042,     0.95033,     0.94993,     0.94993,     0.94993,     0.94993,     0.94993,     0.94993,     0.94993,     0.94993,     0.94993,     0.94974,\n",
              "            0.94946,     0.94943,     0.94943,     0.94943,     0.94943,     0.94943,     0.94943,     0.94943,      0.9493,      0.9491,     0.94893,     0.94893,     0.94893,     0.94893,     0.94893,     0.94893,     0.94867,     0.94794,     0.94794,     0.94745,     0.94706,     0.94695,     0.94695,\n",
              "            0.94695,     0.94695,     0.94695,     0.94695,     0.94695,     0.94695,     0.94647,     0.94646,     0.94646,     0.94646,     0.94646,     0.94641,     0.94631,     0.94621,     0.94611,     0.94601,     0.94596,     0.94596,     0.94596,     0.94563,     0.94546,     0.94523,     0.94497,\n",
              "            0.94497,     0.94497,     0.94497,     0.94497,     0.94497,     0.94477,      0.9443,     0.94377,     0.94348,     0.94348,     0.94348,     0.94348,     0.94348,     0.94348,     0.94348,     0.94348,     0.94348,     0.94348,     0.94348,     0.94348,     0.94348,     0.94348,     0.94348,\n",
              "            0.94348,     0.94348,     0.94348,     0.94348,     0.94348,     0.94298,     0.94298,     0.94298,     0.94298,     0.94249,     0.94249,     0.94249,     0.94249,     0.94249,     0.94249,     0.94249,     0.94249,     0.94249,     0.94233,     0.94192,     0.94148,      0.9414,     0.94132,\n",
              "            0.94124,     0.94116,     0.94108,     0.94099,     0.94072,      0.9405,     0.94038,     0.94026,     0.94013,     0.94001,     0.93962,     0.93951,     0.93951,     0.93951,     0.93951,     0.93941,     0.93918,     0.93902,     0.93902,     0.93902,     0.93902,     0.93902,     0.93902,\n",
              "            0.93902,     0.93901,     0.93865,     0.93852,     0.93852,     0.93852,     0.93852,     0.93844,     0.93826,     0.93807,     0.93803,     0.93748,      0.9371,     0.93704,     0.93654,     0.93604,     0.93604,     0.93604,     0.93604,     0.93604,     0.93604,     0.93604,     0.93604,\n",
              "            0.93604,     0.93604,     0.93604,     0.93604,     0.93604,     0.93604,     0.93604,     0.93604,     0.93604,     0.93604,     0.93555,     0.93555,     0.93505,     0.93505,     0.93505,     0.93505,     0.93505,     0.93505,     0.93505,     0.93505,     0.93505,     0.93505,     0.93505,\n",
              "            0.93433,     0.93406,     0.93401,     0.93356,      0.9334,     0.93288,     0.93257,     0.93257,     0.93257,     0.93257,     0.93192,     0.93162,     0.93158,     0.93158,     0.93158,     0.93158,     0.93158,     0.93158,     0.93158,     0.93158,     0.93104,     0.93054,     0.93016,\n",
              "            0.93009,     0.93009,     0.93009,     0.92934,      0.9291,      0.9291,     0.92905,     0.92893,     0.92882,     0.92871,     0.92861,     0.92856,     0.92846,     0.92836,     0.92826,     0.92816,     0.92783,     0.92762,     0.92712,     0.92712,     0.92662,     0.92504,     0.92451,\n",
              "            0.92427,     0.92376,     0.92315,     0.92312,     0.92281,     0.92266,     0.92266,     0.92266,     0.92266,     0.92266,     0.92266,     0.92266,     0.92266,     0.92266,     0.92266,     0.92167,      0.9212,     0.92051,     0.91993,     0.91968,     0.91968,     0.91951,     0.91932,\n",
              "            0.91919,     0.91869,     0.91869,     0.91869,     0.91869,     0.91869,     0.91748,     0.91671,     0.91621,     0.91574,     0.91572,     0.91572,     0.91522,     0.91522,     0.91445,     0.91346,     0.91267,     0.91233,     0.91111,     0.91076,     0.91076,     0.91076,     0.91047,\n",
              "            0.90944,     0.90883,     0.90778,     0.90706,     0.90431,     0.90399,     0.90382,     0.90191,     0.90152,      0.9011,     0.90053,     0.89994,      0.8992,     0.89821,     0.89782,     0.89693,     0.89628,     0.89615,     0.89602,     0.89589,     0.89516,     0.89353,     0.89302,\n",
              "            0.89269,     0.89241,     0.89217,     0.89192,     0.89192,     0.89169,     0.89066,     0.88989,     0.88893,     0.88856,     0.88819,     0.88762,     0.88695,     0.88637,     0.88568,     0.88547,     0.88492,     0.88472,     0.88451,     0.88278,     0.88179,     0.88002,     0.88002,\n",
              "            0.87804,     0.87752,     0.87612,     0.87455,     0.87426,     0.87344,      0.8729,     0.87199,     0.87163,      0.8706,     0.86966,      0.8692,     0.86764,     0.86598,     0.86515,     0.86465,     0.86375,     0.86266,     0.85878,     0.85721,     0.85687,     0.85547,     0.85485,\n",
              "            0.85347,     0.84996,     0.84845,     0.84745,     0.84457,     0.84385,     0.84265,     0.83922,     0.83599,     0.83237,     0.82995,     0.82918,     0.82692,     0.82171,     0.81915,     0.81752,     0.81419,     0.81133,     0.80832,     0.80472,     0.80176,     0.79985,     0.79772,\n",
              "            0.79448,      0.7931,      0.7869,     0.78154,     0.77988,     0.77384,     0.76843,     0.76221,     0.75611,     0.74794,     0.74108,     0.73363,     0.72949,     0.71815,     0.70667,     0.69873,      0.6899,      0.6803,     0.67352,      0.6594,     0.64725,     0.63541,     0.62682,\n",
              "            0.61595,     0.60753,      0.5957,      0.5815,     0.57092,     0.55762,     0.54421,     0.53163,     0.51562,     0.50126,     0.48861,     0.47015,     0.45489,      0.4419,     0.42606,     0.40662,     0.39465,     0.38084,     0.36594,     0.35309,     0.33555,     0.31988,     0.30667,\n",
              "            0.29595,     0.28757,     0.27518,     0.26141,     0.25252,     0.24311,     0.23059,     0.22182,      0.2103,     0.20135,      0.1929,     0.18292,     0.17264,     0.16135,     0.15281,     0.14588,      0.1357,     0.12912,     0.12255,     0.11026,     0.10581,     0.10062,    0.093931,\n",
              "           0.088185,    0.082949,    0.077712,    0.070044,    0.066695,    0.061027,    0.052908,    0.046367,    0.039939,    0.031889,    0.026878,    0.021889,    0.018243,    0.015663,    0.013502,    0.011578,   0.0095728,   0.0056413,    0.005085,   0.0037912,    0.003201,   0.0027291,   0.0019017,\n",
              "          0.0016041,  0.00098473,  0.00083165,  0.00067857,  0.00052548,           0,           0,           0,           0,           0,           0,           0,           0,           0,           0,           0,           0,           0,           0,           0,           0,           0,           0,\n",
              "                  0,           0,           0,           0,           0,           0,           0,           0,           0,           0,           0,           0,           0,           0,           0,           0,           0,           0,           0,           0,           0,           0,           0,\n",
              "                  0,           0,           0,           0,           0,           0,           0,           0,           0,           0,           0,           0,           0,           0,           0,           0,           0,           0,           0,           0,           0,           0,           0,\n",
              "                  0,           0,           0,           0,           0,           0,           0,           0,           0,           0,           0]]), 'Confidence', 'Recall']]\n",
              "fitness: np.float64(0.789462806086456)\n",
              "keys: ['metrics/precision(B)', 'metrics/recall(B)', 'metrics/mAP50(B)', 'metrics/mAP50-95(B)']\n",
              "maps: array([    0.76986,     0.76986])\n",
              "names: {0: 'Pallet', 1: 'pallet'}\n",
              "plot: True\n",
              "results_dict: {'metrics/precision(B)': np.float64(0.9504571677731122), 'metrics/recall(B)': np.float64(0.9271194843827466), 'metrics/mAP50(B)': np.float64(0.965867041451508), 'metrics/mAP50-95(B)': np.float64(0.7698623354903391), 'fitness': np.float64(0.789462806086456)}\n",
              "save_dir: PosixPath('runs/detect/train52')\n",
              "speed: {'preprocess': 10.975419951225886, 'inference': 25.89971768292144, 'loss': 0.0009149023798072892, 'postprocess': 3.96672029264886}\n",
              "task: 'detect'"
            ]
          },
          "metadata": {},
          "execution_count": 11
        }
      ]
    },
    {
      "cell_type": "code",
      "source": [],
      "metadata": {
        "id": "v_1kw54z7rY0"
      },
      "execution_count": null,
      "outputs": []
    },
    {
      "cell_type": "code",
      "source": [],
      "metadata": {
        "id": "vxR8YO1J7ra9"
      },
      "execution_count": null,
      "outputs": []
    },
    {
      "cell_type": "code",
      "source": [],
      "metadata": {
        "id": "rN7ycnHk7rd4"
      },
      "execution_count": null,
      "outputs": []
    },
    {
      "cell_type": "code",
      "source": [],
      "metadata": {
        "id": "cxWiWhtq_AdI"
      },
      "execution_count": null,
      "outputs": []
    },
    {
      "cell_type": "code",
      "source": [],
      "metadata": {
        "id": "Ct-HTf5Z_Afa"
      },
      "execution_count": null,
      "outputs": []
    },
    {
      "cell_type": "code",
      "source": [],
      "metadata": {
        "id": "Tti0cUR7_AjJ"
      },
      "execution_count": null,
      "outputs": []
    },
    {
      "cell_type": "code",
      "source": [
        "from roboflow import Roboflow\n",
        "rf = Roboflow(api_key=\"xwNMMitGeumaxudSdwWk\")\n",
        "project = rf.workspace(\"palette-detection\").project(\"pallet-detection-and-counting-vpyyj\")\n",
        "version = project.version(7)\n",
        "dataset = version.download(\"yolov5\")\n"
      ],
      "metadata": {
        "colab": {
          "base_uri": "https://localhost:8080/"
        },
        "id": "zcCbLjrD7rgw",
        "outputId": "17e10689-16e4-46a9-ea52-1aea51cc0e46"
      },
      "execution_count": null,
      "outputs": [
        {
          "output_type": "stream",
          "name": "stdout",
          "text": [
            "loading Roboflow workspace...\n",
            "loading Roboflow project...\n"
          ]
        },
        {
          "output_type": "stream",
          "name": "stderr",
          "text": [
            "Downloading Dataset Version Zip in Pallet-Detection-and-Counting-7 to yolov5pytorch:: 100%|██████████| 49874/49874 [00:01<00:00, 38567.65it/s]"
          ]
        },
        {
          "output_type": "stream",
          "name": "stdout",
          "text": [
            "\n"
          ]
        },
        {
          "output_type": "stream",
          "name": "stderr",
          "text": [
            "\n",
            "Extracting Dataset Version Zip to Pallet-Detection-and-Counting-7 in yolov5pytorch:: 100%|██████████| 1048/1048 [00:00<00:00, 3387.04it/s]\n"
          ]
        }
      ]
    },
    {
      "cell_type": "code",
      "source": [
        "#defining the model\n",
        "from ultralytics import YOLO\n",
        "model2=YOLO(\"yolov5s.pt\")\n",
        "\n",
        "#running the model\n",
        "results2=model2.train(data='/content/Pallet-Detection-and-Counting-4/data.yaml',epochs = 50,imgsz=640)\n",
        "model2.val()"
      ],
      "metadata": {
        "colab": {
          "base_uri": "https://localhost:8080/"
        },
        "id": "bld2dphI7rjy",
        "outputId": "1d5d6d09-23b3-4163-8ae9-a8931da474cc"
      },
      "execution_count": null,
      "outputs": [
        {
          "metadata": {
            "tags": null
          },
          "name": "stdout",
          "output_type": "stream",
          "text": [
            "PRO TIP 💡 Replace 'model=yolov5s.pt' with new 'model=yolov5su.pt'.\n",
            "YOLOv5 'u' models are trained with https://github.com/ultralytics/ultralytics and feature improved performance vs standard YOLOv5 models trained with https://github.com/ultralytics/yolov5.\n",
            "\n",
            "Downloading https://github.com/ultralytics/assets/releases/download/v8.3.0/yolov5su.pt to 'yolov5su.pt'...\n"
          ]
        },
        {
          "metadata": {
            "tags": null
          },
          "name": "stderr",
          "output_type": "stream",
          "text": [
            "100%|██████████| 17.7M/17.7M [00:00<00:00, 107MB/s] \n"
          ]
        },
        {
          "metadata": {
            "tags": null
          },
          "name": "stdout",
          "output_type": "stream",
          "text": [
            "Ultralytics 8.3.127 🚀 Python-3.11.12 torch-2.6.0+cu124 CUDA:0 (Tesla T4, 15095MiB)\n",
            "\u001b[34m\u001b[1mengine/trainer: \u001b[0magnostic_nms=False, amp=True, augment=False, auto_augment=randaugment, batch=16, bgr=0.0, box=7.5, cache=False, cfg=None, classes=None, close_mosaic=10, cls=0.5, conf=None, copy_paste=0.0, copy_paste_mode=flip, cos_lr=False, cutmix=0.0, data=/content/Pallet-Detection-and-Counting-4/data.yaml, degrees=0.0, deterministic=True, device=cuda:0, dfl=1.5, dnn=False, dropout=0.0, dynamic=False, embed=None, epochs=50, erasing=0.4, exist_ok=False, fliplr=0.5, flipud=0.0, format=torchscript, fraction=1.0, freeze=None, half=False, hsv_h=0.015, hsv_s=0.7, hsv_v=0.4, imgsz=640, int8=False, iou=0.7, keras=False, kobj=1.0, line_width=None, lr0=0.01, lrf=0.01, mask_ratio=4, max_det=300, mixup=0.0, mode=train, model=yolov5s.pt, momentum=0.937, mosaic=1.0, multi_scale=False, name=train4, nbs=64, nms=False, opset=None, optimize=False, optimizer=auto, overlap_mask=True, patience=100, perspective=0.0, plots=True, pose=12.0, pretrained=True, profile=False, project=None, rect=False, resume=False, retina_masks=False, save=True, save_conf=False, save_crop=False, save_dir=runs/detect/train4, save_frames=False, save_json=False, save_period=-1, save_txt=False, scale=0.5, seed=0, shear=0.0, show=False, show_boxes=True, show_conf=True, show_labels=True, simplify=True, single_cls=False, source=None, split=val, stream_buffer=False, task=detect, time=None, tracker=botsort.yaml, translate=0.1, val=True, verbose=True, vid_stride=1, visualize=False, warmup_bias_lr=0.1, warmup_epochs=3.0, warmup_momentum=0.8, weight_decay=0.0005, workers=8, workspace=None\n",
            "Overriding model.yaml nc=80 with nc=2\n",
            "\n",
            "                   from  n    params  module                                       arguments                     \n",
            "  0                  -1  1      3520  ultralytics.nn.modules.conv.Conv             [3, 32, 6, 2, 2]              \n",
            "  1                  -1  1     18560  ultralytics.nn.modules.conv.Conv             [32, 64, 3, 2]                \n",
            "  2                  -1  1     18816  ultralytics.nn.modules.block.C3              [64, 64, 1]                   \n",
            "  3                  -1  1     73984  ultralytics.nn.modules.conv.Conv             [64, 128, 3, 2]               \n",
            "  4                  -1  2    115712  ultralytics.nn.modules.block.C3              [128, 128, 2]                 \n",
            "  5                  -1  1    295424  ultralytics.nn.modules.conv.Conv             [128, 256, 3, 2]              \n",
            "  6                  -1  3    625152  ultralytics.nn.modules.block.C3              [256, 256, 3]                 \n",
            "  7                  -1  1   1180672  ultralytics.nn.modules.conv.Conv             [256, 512, 3, 2]              \n",
            "  8                  -1  1   1182720  ultralytics.nn.modules.block.C3              [512, 512, 1]                 \n",
            "  9                  -1  1    656896  ultralytics.nn.modules.block.SPPF            [512, 512, 5]                 \n",
            " 10                  -1  1    131584  ultralytics.nn.modules.conv.Conv             [512, 256, 1, 1]              \n",
            " 11                  -1  1         0  torch.nn.modules.upsampling.Upsample         [None, 2, 'nearest']          \n",
            " 12             [-1, 6]  1         0  ultralytics.nn.modules.conv.Concat           [1]                           \n",
            " 13                  -1  1    361984  ultralytics.nn.modules.block.C3              [512, 256, 1, False]          \n",
            " 14                  -1  1     33024  ultralytics.nn.modules.conv.Conv             [256, 128, 1, 1]              \n",
            " 15                  -1  1         0  torch.nn.modules.upsampling.Upsample         [None, 2, 'nearest']          \n",
            " 16             [-1, 4]  1         0  ultralytics.nn.modules.conv.Concat           [1]                           \n",
            " 17                  -1  1     90880  ultralytics.nn.modules.block.C3              [256, 128, 1, False]          \n",
            " 18                  -1  1    147712  ultralytics.nn.modules.conv.Conv             [128, 128, 3, 2]              \n",
            " 19            [-1, 14]  1         0  ultralytics.nn.modules.conv.Concat           [1]                           \n",
            " 20                  -1  1    296448  ultralytics.nn.modules.block.C3              [256, 256, 1, False]          \n",
            " 21                  -1  1    590336  ultralytics.nn.modules.conv.Conv             [256, 256, 3, 2]              \n",
            " 22            [-1, 10]  1         0  ultralytics.nn.modules.conv.Concat           [1]                           \n",
            " 23                  -1  1   1182720  ultralytics.nn.modules.block.C3              [512, 512, 1, False]          \n",
            " 24        [17, 20, 23]  1   2116822  ultralytics.nn.modules.head.Detect           [2, [128, 256, 512]]          \n",
            "YOLOv5s summary: 153 layers, 9,122,966 parameters, 9,122,950 gradients, 24.0 GFLOPs\n",
            "\n",
            "Transferred 421/427 items from pretrained weights\n",
            "Freezing layer 'model.24.dfl.conv.weight'\n",
            "\u001b[34m\u001b[1mAMP: \u001b[0mrunning Automatic Mixed Precision (AMP) checks...\n",
            "\u001b[34m\u001b[1mAMP: \u001b[0mchecks passed ✅\n",
            "\u001b[34m\u001b[1mtrain: \u001b[0mFast image access ✅ (ping: 0.0±0.0 ms, read: 1718.4±600.7 MB/s, size: 95.7 KB)\n"
          ]
        },
        {
          "metadata": {
            "tags": null
          },
          "name": "stderr",
          "output_type": "stream",
          "text": [
            "\u001b[34m\u001b[1mtrain: \u001b[0mScanning /content/Pallet-Detection-and-Counting-4/train/labels.cache... 438 images, 0 backgrounds, 0 corrupt: 100%|██████████| 438/438 [00:00<?, ?it/s]"
          ]
        },
        {
          "metadata": {
            "tags": null
          },
          "name": "stdout",
          "output_type": "stream",
          "text": [
            "\u001b[34m\u001b[1mtrain: \u001b[0m/content/Pallet-Detection-and-Counting-4/train/images/Pallet-reconditioning-1_jpg.rf.34ee13ad8df3ff11cee1bfc50ea3708b.jpg: 3 duplicate labels removed\n",
            "\u001b[34m\u001b[1mtrain: \u001b[0m/content/Pallet-Detection-and-Counting-4/train/images/Pallet-reconditioning-1_jpg.rf.3bab9adc63b62bdaf901decfaf319e58.jpg: 3 duplicate labels removed\n",
            "\u001b[34m\u001b[1mtrain: \u001b[0m/content/Pallet-Detection-and-Counting-4/train/images/Pallet-reconditioning-1_jpg.rf.84ec15497ae9a9000e8cf32ae216e423.jpg: 3 duplicate labels removed\n",
            "\u001b[34m\u001b[1mtrain: \u001b[0m/content/Pallet-Detection-and-Counting-4/train/images/Pallet-reconditioning-1_jpg.rf.bbc1da6e6cbafc38c7dfded1cd9852a8.jpg: 3 duplicate labels removed\n",
            "\u001b[34m\u001b[1mtrain: \u001b[0m/content/Pallet-Detection-and-Counting-4/train/images/Pallet-reconditioning-1_jpg.rf.d129fa76a9514f582d51356ef840e155.jpg: 3 duplicate labels removed\n",
            "\u001b[34m\u001b[1mtrain: \u001b[0m/content/Pallet-Detection-and-Counting-4/train/images/Pallet-reconditioning-1_jpg.rf.ea102aa81591415d39f83d95be6f72ba.jpg: 3 duplicate labels removed\n",
            "\u001b[34m\u001b[1mtrain: \u001b[0m/content/Pallet-Detection-and-Counting-4/train/images/Screenshot-2025-02-11-100602_png.rf.15484f4419759f99a729335bd713d782.jpg: 4 duplicate labels removed\n",
            "\u001b[34m\u001b[1mtrain: \u001b[0m/content/Pallet-Detection-and-Counting-4/train/images/Screenshot-2025-02-11-100602_png.rf.28620d6a4b642bf7ee09958dd6f69e5a.jpg: 4 duplicate labels removed\n",
            "\u001b[34m\u001b[1mtrain: \u001b[0m/content/Pallet-Detection-and-Counting-4/train/images/Screenshot-2025-02-11-100602_png.rf.ec5da5401eda7d2aed251561819d266d.jpg: 4 duplicate labels removed\n",
            "\u001b[34m\u001b[1mtrain: \u001b[0m/content/Pallet-Detection-and-Counting-4/train/images/Screenshot-2025-02-11-100820_png.rf.0af304b639cb78d8630531b91fb9f9b6.jpg: 1 duplicate labels removed\n",
            "\u001b[34m\u001b[1mtrain: \u001b[0m/content/Pallet-Detection-and-Counting-4/train/images/Screenshot-2025-02-11-100820_png.rf.765407e1bc631f66746ed4aa18571bd5.jpg: 1 duplicate labels removed\n",
            "\u001b[34m\u001b[1mtrain: \u001b[0m/content/Pallet-Detection-and-Counting-4/train/images/Screenshot-2025-02-11-100820_png.rf.a698b6c98bd0ac532c30bfca4c54e8ed.jpg: 1 duplicate labels removed\n",
            "\u001b[34m\u001b[1mtrain: \u001b[0m/content/Pallet-Detection-and-Counting-4/train/images/blue-pallets-stacked-stack_721969-263_jpg.rf.12dea7a723f5b10bcf788c42fe1cde8b.jpg: 1 duplicate labels removed\n",
            "\u001b[34m\u001b[1mtrain: \u001b[0m/content/Pallet-Detection-and-Counting-4/train/images/blue-pallets-stacked-stack_721969-263_jpg.rf.b621915fce8d871c5237d874aa647f0e.jpg: 1 duplicate labels removed\n",
            "\u001b[34m\u001b[1mtrain: \u001b[0m/content/Pallet-Detection-and-Counting-4/train/images/blue-pallets-stacked-stack_721969-263_jpg.rf.dd78a60476552459ef12da37ec0789ee.jpg: 1 duplicate labels removed\n",
            "\u001b[34m\u001b[1mtrain: \u001b[0m/content/Pallet-Detection-and-Counting-4/train/images/chep-wooden-pallet-BJ229W_jpg.rf.9ec30b51851e07eeb335fc2dd97c4180.jpg: 3 duplicate labels removed\n",
            "\u001b[34m\u001b[1mtrain: \u001b[0m/content/Pallet-Detection-and-Counting-4/train/images/chep-wooden-pallet-BJ229W_jpg.rf.bf996991eca3404cc40ee674980ac4cc.jpg: 3 duplicate labels removed\n",
            "\u001b[34m\u001b[1mtrain: \u001b[0m/content/Pallet-Detection-and-Counting-4/train/images/chep-wooden-pallet-BJ229W_jpg.rf.f9dcefa1ffca391ad632a7db6c3ebbf7.jpg: 3 duplicate labels removed\n",
            "\u001b[34m\u001b[1malbumentations: \u001b[0mBlur(p=0.01, blur_limit=(3, 7)), MedianBlur(p=0.01, blur_limit=(3, 7)), ToGray(p=0.01, method='weighted_average', num_output_channels=3), CLAHE(p=0.01, clip_limit=(1.0, 4.0), tile_grid_size=(8, 8))\n"
          ]
        },
        {
          "metadata": {
            "tags": null
          },
          "name": "stderr",
          "output_type": "stream",
          "text": [
            "\n"
          ]
        },
        {
          "metadata": {
            "tags": null
          },
          "name": "stdout",
          "output_type": "stream",
          "text": [
            "\u001b[34m\u001b[1mval: \u001b[0mFast image access ✅ (ping: 0.0±0.0 ms, read: 444.1±241.8 MB/s, size: 86.5 KB)\n"
          ]
        },
        {
          "metadata": {
            "tags": null
          },
          "name": "stderr",
          "output_type": "stream",
          "text": [
            "\u001b[34m\u001b[1mval: \u001b[0mScanning /content/Pallet-Detection-and-Counting-4/valid/labels.cache... 41 images, 0 backgrounds, 0 corrupt: 100%|██████████| 41/41 [00:00<?, ?it/s]"
          ]
        },
        {
          "metadata": {
            "tags": null
          },
          "name": "stdout",
          "output_type": "stream",
          "text": [
            "\u001b[34m\u001b[1mval: \u001b[0m/content/Pallet-Detection-and-Counting-4/valid/images/Screenshot-2025-02-11-095114_png.rf.01bd4c9801ca12f87d55b8db099edbfd.jpg: 3 duplicate labels removed\n",
            "\u001b[34m\u001b[1mval: \u001b[0m/content/Pallet-Detection-and-Counting-4/valid/images/Screenshot-2025-02-11-095114_png.rf.7aba2371d776ee5c83d3c08c86718498.jpg: 3 duplicate labels removed\n",
            "\u001b[34m\u001b[1mval: \u001b[0m/content/Pallet-Detection-and-Counting-4/valid/images/Screenshot-2025-02-11-100602_png.rf.3ae7af476dd38b8a9852a02518155875.jpg: 4 duplicate labels removed\n",
            "\u001b[34m\u001b[1mval: \u001b[0m/content/Pallet-Detection-and-Counting-4/valid/images/b6fb487f47b8b7f236177a11b650_jpg.rf.d5336078d915d0d034d0f088ec3607a8.jpg: 1 duplicate labels removed\n",
            "\u001b[34m\u001b[1mval: \u001b[0m/content/Pallet-Detection-and-Counting-4/valid/images/chep-wooden-pallet-BJ229W_jpg.rf.b816c90c7788b99a8c731634b4356fb7.jpg: 3 duplicate labels removed\n",
            "\u001b[34m\u001b[1mval: \u001b[0m/content/Pallet-Detection-and-Counting-4/valid/images/chep-wooden-pallet-BJ229W_jpg.rf.eea45996a8bf514df6e3188f7f8468d0.jpg: 3 duplicate labels removed\n"
          ]
        },
        {
          "metadata": {
            "tags": null
          },
          "name": "stderr",
          "output_type": "stream",
          "text": [
            "\n"
          ]
        },
        {
          "metadata": {
            "tags": null
          },
          "name": "stdout",
          "output_type": "stream",
          "text": [
            "Plotting labels to runs/detect/train4/labels.jpg... \n",
            "\u001b[34m\u001b[1moptimizer:\u001b[0m 'optimizer=auto' found, ignoring 'lr0=0.01' and 'momentum=0.937' and determining best 'optimizer', 'lr0' and 'momentum' automatically... \n",
            "\u001b[34m\u001b[1moptimizer:\u001b[0m AdamW(lr=0.001667, momentum=0.9) with parameter groups 69 weight(decay=0.0), 76 weight(decay=0.0005), 75 bias(decay=0.0)\n",
            "Image sizes 640 train, 640 val\n",
            "Using 2 dataloader workers\n",
            "Logging results to \u001b[1mruns/detect/train4\u001b[0m\n",
            "Starting training for 50 epochs...\n",
            "\n",
            "      Epoch    GPU_mem   box_loss   cls_loss   dfl_loss  Instances       Size\n"
          ]
        },
        {
          "metadata": {
            "tags": null
          },
          "name": "stderr",
          "output_type": "stream",
          "text": [
            "       1/50       6.8G      2.189      2.109      1.749        467        640: 100%|██████████| 28/28 [00:37<00:00,  1.34s/it]\n",
            "                 Class     Images  Instances      Box(P          R      mAP50  mAP50-95): 100%|██████████| 2/2 [00:01<00:00,  1.47it/s]"
          ]
        },
        {
          "metadata": {
            "tags": null
          },
          "name": "stdout",
          "output_type": "stream",
          "text": [
            "                   all         41       2017      0.688      0.678      0.708      0.396\n"
          ]
        },
        {
          "metadata": {
            "tags": null
          },
          "name": "stderr",
          "output_type": "stream",
          "text": [
            "\n"
          ]
        },
        {
          "metadata": {
            "tags": null
          },
          "name": "stdout",
          "output_type": "stream",
          "text": [
            "\n",
            "      Epoch    GPU_mem   box_loss   cls_loss   dfl_loss  Instances       Size\n"
          ]
        },
        {
          "metadata": {
            "tags": null
          },
          "name": "stderr",
          "output_type": "stream",
          "text": [
            "       2/50       6.8G      1.253     0.8763      1.166        902        640: 100%|██████████| 28/28 [00:37<00:00,  1.33s/it]\n",
            "                 Class     Images  Instances      Box(P          R      mAP50  mAP50-95): 100%|██████████| 2/2 [00:01<00:00,  1.53it/s]"
          ]
        },
        {
          "metadata": {
            "tags": null
          },
          "name": "stdout",
          "output_type": "stream",
          "text": [
            "                   all         41       2017      0.654      0.802      0.693      0.397\n"
          ]
        },
        {
          "metadata": {
            "tags": null
          },
          "name": "stderr",
          "output_type": "stream",
          "text": [
            "\n"
          ]
        },
        {
          "metadata": {
            "tags": null
          },
          "name": "stdout",
          "output_type": "stream",
          "text": [
            "\n",
            "      Epoch    GPU_mem   box_loss   cls_loss   dfl_loss  Instances       Size\n"
          ]
        },
        {
          "metadata": {
            "tags": null
          },
          "name": "stderr",
          "output_type": "stream",
          "text": [
            "       3/50       6.8G       1.17     0.8101      1.128        278        640: 100%|██████████| 28/28 [00:37<00:00,  1.35s/it]\n",
            "                 Class     Images  Instances      Box(P          R      mAP50  mAP50-95): 100%|██████████| 2/2 [00:01<00:00,  1.77it/s]"
          ]
        },
        {
          "metadata": {
            "tags": null
          },
          "name": "stdout",
          "output_type": "stream",
          "text": [
            "                   all         41       2017      0.692      0.825      0.781      0.496\n"
          ]
        },
        {
          "metadata": {
            "tags": null
          },
          "name": "stderr",
          "output_type": "stream",
          "text": [
            "\n"
          ]
        },
        {
          "metadata": {
            "tags": null
          },
          "name": "stdout",
          "output_type": "stream",
          "text": [
            "\n",
            "      Epoch    GPU_mem   box_loss   cls_loss   dfl_loss  Instances       Size\n"
          ]
        },
        {
          "output_type": "stream",
          "name": "stderr",
          "text": [
            "       4/50      7.42G      1.138      0.774      1.085        396        640: 100%|██████████| 28/28 [00:36<00:00,  1.32s/it]\n",
            "                 Class     Images  Instances      Box(P          R      mAP50  mAP50-95): 100%|██████████| 2/2 [00:01<00:00,  1.18it/s]"
          ]
        },
        {
          "output_type": "stream",
          "name": "stdout",
          "text": [
            "                   all         41       2017      0.867      0.856      0.893      0.548\n"
          ]
        },
        {
          "output_type": "stream",
          "name": "stderr",
          "text": [
            "\n"
          ]
        },
        {
          "output_type": "stream",
          "name": "stdout",
          "text": [
            "\n",
            "      Epoch    GPU_mem   box_loss   cls_loss   dfl_loss  Instances       Size\n"
          ]
        },
        {
          "output_type": "stream",
          "name": "stderr",
          "text": [
            "       5/50      5.58G       1.09     0.7496       1.07        395        640: 100%|██████████| 28/28 [00:33<00:00,  1.18s/it]\n",
            "                 Class     Images  Instances      Box(P          R      mAP50  mAP50-95): 100%|██████████| 2/2 [00:01<00:00,  1.13it/s]"
          ]
        },
        {
          "output_type": "stream",
          "name": "stdout",
          "text": [
            "                   all         41       2017       0.83       0.85      0.853       0.55\n"
          ]
        },
        {
          "output_type": "stream",
          "name": "stderr",
          "text": [
            "\n"
          ]
        },
        {
          "output_type": "stream",
          "name": "stdout",
          "text": [
            "\n",
            "      Epoch    GPU_mem   box_loss   cls_loss   dfl_loss  Instances       Size\n"
          ]
        },
        {
          "output_type": "stream",
          "name": "stderr",
          "text": [
            "       6/50      6.75G      1.069     0.7207      1.066        399        640: 100%|██████████| 28/28 [00:36<00:00,  1.32s/it]\n",
            "                 Class     Images  Instances      Box(P          R      mAP50  mAP50-95): 100%|██████████| 2/2 [00:01<00:00,  1.47it/s]"
          ]
        },
        {
          "output_type": "stream",
          "name": "stdout",
          "text": [
            "                   all         41       2017      0.849      0.879      0.897      0.602\n"
          ]
        },
        {
          "output_type": "stream",
          "name": "stderr",
          "text": [
            "\n"
          ]
        },
        {
          "output_type": "stream",
          "name": "stdout",
          "text": [
            "\n",
            "      Epoch    GPU_mem   box_loss   cls_loss   dfl_loss  Instances       Size\n"
          ]
        },
        {
          "output_type": "stream",
          "name": "stderr",
          "text": [
            "       7/50      6.75G      1.049     0.6797      1.042        535        640: 100%|██████████| 28/28 [00:36<00:00,  1.30s/it]\n",
            "                 Class     Images  Instances      Box(P          R      mAP50  mAP50-95): 100%|██████████| 2/2 [00:01<00:00,  1.82it/s]"
          ]
        },
        {
          "output_type": "stream",
          "name": "stdout",
          "text": [
            "                   all         41       2017      0.903      0.878      0.947      0.626\n"
          ]
        },
        {
          "output_type": "stream",
          "name": "stderr",
          "text": [
            "\n"
          ]
        },
        {
          "output_type": "stream",
          "name": "stdout",
          "text": [
            "\n",
            "      Epoch    GPU_mem   box_loss   cls_loss   dfl_loss  Instances       Size\n"
          ]
        },
        {
          "output_type": "stream",
          "name": "stderr",
          "text": [
            "       8/50      6.75G      1.001      0.652      1.029        285        640: 100%|██████████| 28/28 [00:36<00:00,  1.29s/it]\n",
            "                 Class     Images  Instances      Box(P          R      mAP50  mAP50-95): 100%|██████████| 2/2 [00:01<00:00,  1.73it/s]"
          ]
        },
        {
          "output_type": "stream",
          "name": "stdout",
          "text": [
            "                   all         41       2017      0.863        0.9      0.904      0.642\n"
          ]
        },
        {
          "output_type": "stream",
          "name": "stderr",
          "text": [
            "\n"
          ]
        },
        {
          "output_type": "stream",
          "name": "stdout",
          "text": [
            "\n",
            "      Epoch    GPU_mem   box_loss   cls_loss   dfl_loss  Instances       Size\n"
          ]
        },
        {
          "output_type": "stream",
          "name": "stderr",
          "text": [
            "       9/50      7.52G     0.9845     0.6407      1.006        523        640: 100%|██████████| 28/28 [00:35<00:00,  1.28s/it]\n",
            "                 Class     Images  Instances      Box(P          R      mAP50  mAP50-95): 100%|██████████| 2/2 [00:01<00:00,  1.86it/s]"
          ]
        },
        {
          "output_type": "stream",
          "name": "stdout",
          "text": [
            "                   all         41       2017      0.894      0.879       0.94      0.652\n"
          ]
        },
        {
          "output_type": "stream",
          "name": "stderr",
          "text": [
            "\n"
          ]
        },
        {
          "output_type": "stream",
          "name": "stdout",
          "text": [
            "\n",
            "      Epoch    GPU_mem   box_loss   cls_loss   dfl_loss  Instances       Size\n"
          ]
        },
        {
          "output_type": "stream",
          "name": "stderr",
          "text": [
            "      10/50         5G     0.9818     0.6288      1.003        278        640: 100%|██████████| 28/28 [00:34<00:00,  1.23s/it]\n",
            "                 Class     Images  Instances      Box(P          R      mAP50  mAP50-95): 100%|██████████| 2/2 [00:01<00:00,  1.87it/s]"
          ]
        },
        {
          "output_type": "stream",
          "name": "stdout",
          "text": [
            "                   all         41       2017      0.937      0.908      0.965      0.653\n"
          ]
        },
        {
          "output_type": "stream",
          "name": "stderr",
          "text": [
            "\n"
          ]
        },
        {
          "output_type": "stream",
          "name": "stdout",
          "text": [
            "\n",
            "      Epoch    GPU_mem   box_loss   cls_loss   dfl_loss  Instances       Size\n"
          ]
        },
        {
          "output_type": "stream",
          "name": "stderr",
          "text": [
            "      11/50      6.18G     0.9715     0.6145      1.004        346        640: 100%|██████████| 28/28 [00:35<00:00,  1.26s/it]\n",
            "                 Class     Images  Instances      Box(P          R      mAP50  mAP50-95): 100%|██████████| 2/2 [00:01<00:00,  1.58it/s]"
          ]
        },
        {
          "output_type": "stream",
          "name": "stdout",
          "text": [
            "                   all         41       2017      0.888      0.864      0.928      0.627\n"
          ]
        },
        {
          "output_type": "stream",
          "name": "stderr",
          "text": [
            "\n"
          ]
        },
        {
          "output_type": "stream",
          "name": "stdout",
          "text": [
            "\n",
            "      Epoch    GPU_mem   box_loss   cls_loss   dfl_loss  Instances       Size\n"
          ]
        },
        {
          "output_type": "stream",
          "name": "stderr",
          "text": [
            "      12/50      6.18G     0.9391     0.6041     0.9872        568        640: 100%|██████████| 28/28 [00:35<00:00,  1.26s/it]\n",
            "                 Class     Images  Instances      Box(P          R      mAP50  mAP50-95): 100%|██████████| 2/2 [00:01<00:00,  1.74it/s]"
          ]
        },
        {
          "output_type": "stream",
          "name": "stdout",
          "text": [
            "                   all         41       2017      0.899      0.905       0.96      0.694\n"
          ]
        },
        {
          "output_type": "stream",
          "name": "stderr",
          "text": [
            "\n"
          ]
        },
        {
          "output_type": "stream",
          "name": "stdout",
          "text": [
            "\n",
            "      Epoch    GPU_mem   box_loss   cls_loss   dfl_loss  Instances       Size\n"
          ]
        },
        {
          "output_type": "stream",
          "name": "stderr",
          "text": [
            "      13/50      6.18G     0.9254     0.5838     0.9901        388        640: 100%|██████████| 28/28 [00:35<00:00,  1.28s/it]\n",
            "                 Class     Images  Instances      Box(P          R      mAP50  mAP50-95): 100%|██████████| 2/2 [00:01<00:00,  1.63it/s]"
          ]
        },
        {
          "output_type": "stream",
          "name": "stdout",
          "text": [
            "                   all         41       2017      0.897      0.888       0.94      0.679\n"
          ]
        },
        {
          "output_type": "stream",
          "name": "stderr",
          "text": [
            "\n"
          ]
        },
        {
          "output_type": "stream",
          "name": "stdout",
          "text": [
            "\n",
            "      Epoch    GPU_mem   box_loss   cls_loss   dfl_loss  Instances       Size\n"
          ]
        },
        {
          "output_type": "stream",
          "name": "stderr",
          "text": [
            "      14/50      6.85G     0.9359     0.5913     0.9865        227        640: 100%|██████████| 28/28 [00:36<00:00,  1.31s/it]\n",
            "                 Class     Images  Instances      Box(P          R      mAP50  mAP50-95): 100%|██████████| 2/2 [00:01<00:00,  1.71it/s]"
          ]
        },
        {
          "output_type": "stream",
          "name": "stdout",
          "text": [
            "                   all         41       2017      0.923      0.897      0.956      0.672\n"
          ]
        },
        {
          "output_type": "stream",
          "name": "stderr",
          "text": [
            "\n"
          ]
        },
        {
          "output_type": "stream",
          "name": "stdout",
          "text": [
            "\n",
            "      Epoch    GPU_mem   box_loss   cls_loss   dfl_loss  Instances       Size\n"
          ]
        },
        {
          "output_type": "stream",
          "name": "stderr",
          "text": [
            "      15/50      6.85G     0.9186     0.5645     0.9743        451        640: 100%|██████████| 28/28 [00:37<00:00,  1.33s/it]\n",
            "                 Class     Images  Instances      Box(P          R      mAP50  mAP50-95): 100%|██████████| 2/2 [00:01<00:00,  1.73it/s]"
          ]
        },
        {
          "output_type": "stream",
          "name": "stdout",
          "text": [
            "                   all         41       2017      0.917       0.92      0.965      0.705\n"
          ]
        },
        {
          "output_type": "stream",
          "name": "stderr",
          "text": [
            "\n"
          ]
        },
        {
          "output_type": "stream",
          "name": "stdout",
          "text": [
            "\n",
            "      Epoch    GPU_mem   box_loss   cls_loss   dfl_loss  Instances       Size\n"
          ]
        },
        {
          "output_type": "stream",
          "name": "stderr",
          "text": [
            "      16/50      6.85G     0.8818     0.5413     0.9683        313        640: 100%|██████████| 28/28 [00:34<00:00,  1.25s/it]\n",
            "                 Class     Images  Instances      Box(P          R      mAP50  mAP50-95): 100%|██████████| 2/2 [00:01<00:00,  1.62it/s]"
          ]
        },
        {
          "output_type": "stream",
          "name": "stdout",
          "text": [
            "                   all         41       2017      0.937      0.905      0.954      0.684\n"
          ]
        },
        {
          "output_type": "stream",
          "name": "stderr",
          "text": [
            "\n"
          ]
        },
        {
          "output_type": "stream",
          "name": "stdout",
          "text": [
            "\n",
            "      Epoch    GPU_mem   box_loss   cls_loss   dfl_loss  Instances       Size\n"
          ]
        },
        {
          "output_type": "stream",
          "name": "stderr",
          "text": [
            "      17/50      6.85G     0.8733     0.5389     0.9574        346        640: 100%|██████████| 28/28 [00:37<00:00,  1.33s/it]\n",
            "                 Class     Images  Instances      Box(P          R      mAP50  mAP50-95): 100%|██████████| 2/2 [00:01<00:00,  1.95it/s]"
          ]
        },
        {
          "output_type": "stream",
          "name": "stdout",
          "text": [
            "                   all         41       2017       0.91      0.907       0.95      0.709\n"
          ]
        },
        {
          "output_type": "stream",
          "name": "stderr",
          "text": [
            "\n"
          ]
        },
        {
          "output_type": "stream",
          "name": "stdout",
          "text": [
            "\n",
            "      Epoch    GPU_mem   box_loss   cls_loss   dfl_loss  Instances       Size\n"
          ]
        },
        {
          "output_type": "stream",
          "name": "stderr",
          "text": [
            "      18/50      6.85G     0.8652     0.5452     0.9546        488        640: 100%|██████████| 28/28 [00:36<00:00,  1.30s/it]\n",
            "                 Class     Images  Instances      Box(P          R      mAP50  mAP50-95): 100%|██████████| 2/2 [00:01<00:00,  1.77it/s]"
          ]
        },
        {
          "output_type": "stream",
          "name": "stdout",
          "text": [
            "                   all         41       2017      0.933      0.916      0.962      0.704\n"
          ]
        },
        {
          "output_type": "stream",
          "name": "stderr",
          "text": [
            "\n"
          ]
        },
        {
          "output_type": "stream",
          "name": "stdout",
          "text": [
            "\n",
            "      Epoch    GPU_mem   box_loss   cls_loss   dfl_loss  Instances       Size\n"
          ]
        },
        {
          "output_type": "stream",
          "name": "stderr",
          "text": [
            "      19/50      6.85G     0.8561     0.5309     0.9527        427        640: 100%|██████████| 28/28 [00:36<00:00,  1.29s/it]\n",
            "                 Class     Images  Instances      Box(P          R      mAP50  mAP50-95): 100%|██████████| 2/2 [00:01<00:00,  1.79it/s]"
          ]
        },
        {
          "output_type": "stream",
          "name": "stdout",
          "text": [
            "                   all         41       2017      0.947      0.908      0.956       0.72\n"
          ]
        },
        {
          "output_type": "stream",
          "name": "stderr",
          "text": [
            "\n"
          ]
        },
        {
          "output_type": "stream",
          "name": "stdout",
          "text": [
            "\n",
            "      Epoch    GPU_mem   box_loss   cls_loss   dfl_loss  Instances       Size\n"
          ]
        },
        {
          "output_type": "stream",
          "name": "stderr",
          "text": [
            "      20/50      6.86G     0.8344     0.5224     0.9465        507        640: 100%|██████████| 28/28 [00:35<00:00,  1.26s/it]\n",
            "                 Class     Images  Instances      Box(P          R      mAP50  mAP50-95): 100%|██████████| 2/2 [00:01<00:00,  1.63it/s]"
          ]
        },
        {
          "output_type": "stream",
          "name": "stdout",
          "text": [
            "                   all         41       2017      0.924       0.91      0.951      0.709\n"
          ]
        },
        {
          "output_type": "stream",
          "name": "stderr",
          "text": [
            "\n"
          ]
        },
        {
          "output_type": "stream",
          "name": "stdout",
          "text": [
            "\n",
            "      Epoch    GPU_mem   box_loss   cls_loss   dfl_loss  Instances       Size\n"
          ]
        },
        {
          "output_type": "stream",
          "name": "stderr",
          "text": [
            "      21/50      6.86G     0.8357     0.5118     0.9493        423        640: 100%|██████████| 28/28 [00:35<00:00,  1.28s/it]\n",
            "                 Class     Images  Instances      Box(P          R      mAP50  mAP50-95): 100%|██████████| 2/2 [00:01<00:00,  1.95it/s]"
          ]
        },
        {
          "output_type": "stream",
          "name": "stdout",
          "text": [
            "                   all         41       2017      0.896      0.923      0.949      0.694\n"
          ]
        },
        {
          "output_type": "stream",
          "name": "stderr",
          "text": [
            "\n"
          ]
        },
        {
          "output_type": "stream",
          "name": "stdout",
          "text": [
            "\n",
            "      Epoch    GPU_mem   box_loss   cls_loss   dfl_loss  Instances       Size\n"
          ]
        },
        {
          "output_type": "stream",
          "name": "stderr",
          "text": [
            "      22/50      6.89G     0.8498     0.5114     0.9483        325        640: 100%|██████████| 28/28 [00:37<00:00,  1.34s/it]\n",
            "                 Class     Images  Instances      Box(P          R      mAP50  mAP50-95): 100%|██████████| 2/2 [00:01<00:00,  1.76it/s]"
          ]
        },
        {
          "output_type": "stream",
          "name": "stdout",
          "text": [
            "                   all         41       2017      0.931      0.908      0.947      0.688\n"
          ]
        },
        {
          "output_type": "stream",
          "name": "stderr",
          "text": [
            "\n"
          ]
        },
        {
          "output_type": "stream",
          "name": "stdout",
          "text": [
            "\n",
            "      Epoch    GPU_mem   box_loss   cls_loss   dfl_loss  Instances       Size\n"
          ]
        },
        {
          "output_type": "stream",
          "name": "stderr",
          "text": [
            "      23/50      6.89G     0.8466       0.52      0.943        600        640: 100%|██████████| 28/28 [00:33<00:00,  1.21s/it]\n",
            "                 Class     Images  Instances      Box(P          R      mAP50  mAP50-95): 100%|██████████| 2/2 [00:01<00:00,  1.69it/s]"
          ]
        },
        {
          "output_type": "stream",
          "name": "stdout",
          "text": [
            "                   all         41       2017      0.921      0.919      0.958      0.689\n"
          ]
        },
        {
          "output_type": "stream",
          "name": "stderr",
          "text": [
            "\n"
          ]
        },
        {
          "output_type": "stream",
          "name": "stdout",
          "text": [
            "\n",
            "      Epoch    GPU_mem   box_loss   cls_loss   dfl_loss  Instances       Size\n"
          ]
        },
        {
          "output_type": "stream",
          "name": "stderr",
          "text": [
            "      24/50      6.92G     0.8241     0.4983     0.9357        405        640: 100%|██████████| 28/28 [00:36<00:00,  1.32s/it]\n",
            "                 Class     Images  Instances      Box(P          R      mAP50  mAP50-95): 100%|██████████| 2/2 [00:01<00:00,  1.96it/s]"
          ]
        },
        {
          "output_type": "stream",
          "name": "stdout",
          "text": [
            "                   all         41       2017      0.913      0.932       0.96      0.715\n"
          ]
        },
        {
          "output_type": "stream",
          "name": "stderr",
          "text": [
            "\n"
          ]
        },
        {
          "output_type": "stream",
          "name": "stdout",
          "text": [
            "\n",
            "      Epoch    GPU_mem   box_loss   cls_loss   dfl_loss  Instances       Size\n"
          ]
        },
        {
          "output_type": "stream",
          "name": "stderr",
          "text": [
            "      25/50      6.92G     0.7959     0.4853     0.9273        440        640: 100%|██████████| 28/28 [00:35<00:00,  1.27s/it]\n",
            "                 Class     Images  Instances      Box(P          R      mAP50  mAP50-95): 100%|██████████| 2/2 [00:01<00:00,  1.78it/s]"
          ]
        },
        {
          "output_type": "stream",
          "name": "stdout",
          "text": [
            "                   all         41       2017       0.92      0.892      0.952      0.725\n"
          ]
        },
        {
          "output_type": "stream",
          "name": "stderr",
          "text": [
            "\n"
          ]
        },
        {
          "output_type": "stream",
          "name": "stdout",
          "text": [
            "\n",
            "      Epoch    GPU_mem   box_loss   cls_loss   dfl_loss  Instances       Size\n"
          ]
        },
        {
          "output_type": "stream",
          "name": "stderr",
          "text": [
            "      26/50      6.93G     0.7822     0.4781     0.9238        389        640: 100%|██████████| 28/28 [00:36<00:00,  1.31s/it]\n",
            "                 Class     Images  Instances      Box(P          R      mAP50  mAP50-95): 100%|██████████| 2/2 [00:01<00:00,  1.33it/s]"
          ]
        },
        {
          "output_type": "stream",
          "name": "stdout",
          "text": [
            "                   all         41       2017      0.921      0.897      0.945      0.715\n"
          ]
        },
        {
          "output_type": "stream",
          "name": "stderr",
          "text": [
            "\n"
          ]
        },
        {
          "output_type": "stream",
          "name": "stdout",
          "text": [
            "\n",
            "      Epoch    GPU_mem   box_loss   cls_loss   dfl_loss  Instances       Size\n"
          ]
        },
        {
          "output_type": "stream",
          "name": "stderr",
          "text": [
            "      27/50      6.96G     0.7859     0.4816      0.921        208        640: 100%|██████████| 28/28 [00:35<00:00,  1.27s/it]\n",
            "                 Class     Images  Instances      Box(P          R      mAP50  mAP50-95): 100%|██████████| 2/2 [00:01<00:00,  1.21it/s]"
          ]
        },
        {
          "output_type": "stream",
          "name": "stdout",
          "text": [
            "                   all         41       2017      0.946      0.909      0.959      0.716\n"
          ]
        },
        {
          "output_type": "stream",
          "name": "stderr",
          "text": [
            "\n"
          ]
        },
        {
          "output_type": "stream",
          "name": "stdout",
          "text": [
            "\n",
            "      Epoch    GPU_mem   box_loss   cls_loss   dfl_loss  Instances       Size\n"
          ]
        },
        {
          "output_type": "stream",
          "name": "stderr",
          "text": [
            "      28/50      6.96G     0.7855     0.4729     0.9216        497        640: 100%|██████████| 28/28 [00:34<00:00,  1.24s/it]\n",
            "                 Class     Images  Instances      Box(P          R      mAP50  mAP50-95): 100%|██████████| 2/2 [00:01<00:00,  1.22it/s]"
          ]
        },
        {
          "output_type": "stream",
          "name": "stdout",
          "text": [
            "                   all         41       2017      0.913      0.919      0.952      0.735\n"
          ]
        },
        {
          "output_type": "stream",
          "name": "stderr",
          "text": [
            "\n"
          ]
        },
        {
          "output_type": "stream",
          "name": "stdout",
          "text": [
            "\n",
            "      Epoch    GPU_mem   box_loss   cls_loss   dfl_loss  Instances       Size\n"
          ]
        },
        {
          "output_type": "stream",
          "name": "stderr",
          "text": [
            "      29/50      6.99G     0.7851     0.4758     0.9211        561        640: 100%|██████████| 28/28 [00:36<00:00,  1.30s/it]\n",
            "                 Class     Images  Instances      Box(P          R      mAP50  mAP50-95): 100%|██████████| 2/2 [00:01<00:00,  1.44it/s]"
          ]
        },
        {
          "output_type": "stream",
          "name": "stdout",
          "text": [
            "                   all         41       2017      0.941      0.905      0.964       0.75\n"
          ]
        },
        {
          "output_type": "stream",
          "name": "stderr",
          "text": [
            "\n"
          ]
        },
        {
          "output_type": "stream",
          "name": "stdout",
          "text": [
            "\n",
            "      Epoch    GPU_mem   box_loss   cls_loss   dfl_loss  Instances       Size\n"
          ]
        },
        {
          "output_type": "stream",
          "name": "stderr",
          "text": [
            "      30/50      6.99G     0.7845      0.473     0.9221        347        640: 100%|██████████| 28/28 [00:36<00:00,  1.32s/it]\n",
            "                 Class     Images  Instances      Box(P          R      mAP50  mAP50-95): 100%|██████████| 2/2 [00:01<00:00,  1.65it/s]"
          ]
        },
        {
          "output_type": "stream",
          "name": "stdout",
          "text": [
            "                   all         41       2017      0.922      0.912      0.949      0.714\n"
          ]
        },
        {
          "output_type": "stream",
          "name": "stderr",
          "text": [
            "\n"
          ]
        },
        {
          "output_type": "stream",
          "name": "stdout",
          "text": [
            "\n",
            "      Epoch    GPU_mem   box_loss   cls_loss   dfl_loss  Instances       Size\n"
          ]
        },
        {
          "output_type": "stream",
          "name": "stderr",
          "text": [
            "      31/50      6.99G     0.7661     0.4619     0.9176        361        640: 100%|██████████| 28/28 [00:36<00:00,  1.32s/it]\n",
            "                 Class     Images  Instances      Box(P          R      mAP50  mAP50-95): 100%|██████████| 2/2 [00:01<00:00,  1.63it/s]"
          ]
        },
        {
          "output_type": "stream",
          "name": "stdout",
          "text": [
            "                   all         41       2017      0.937      0.896      0.944      0.717\n"
          ]
        },
        {
          "output_type": "stream",
          "name": "stderr",
          "text": [
            "\n"
          ]
        },
        {
          "output_type": "stream",
          "name": "stdout",
          "text": [
            "\n",
            "      Epoch    GPU_mem   box_loss   cls_loss   dfl_loss  Instances       Size\n"
          ]
        },
        {
          "output_type": "stream",
          "name": "stderr",
          "text": [
            "      32/50      7.02G     0.7494     0.4518      0.909        403        640: 100%|██████████| 28/28 [00:37<00:00,  1.34s/it]\n",
            "                 Class     Images  Instances      Box(P          R      mAP50  mAP50-95): 100%|██████████| 2/2 [00:01<00:00,  1.80it/s]"
          ]
        },
        {
          "output_type": "stream",
          "name": "stdout",
          "text": [
            "                   all         41       2017      0.895      0.898       0.94      0.727\n"
          ]
        },
        {
          "output_type": "stream",
          "name": "stderr",
          "text": [
            "\n"
          ]
        },
        {
          "output_type": "stream",
          "name": "stdout",
          "text": [
            "\n",
            "      Epoch    GPU_mem   box_loss   cls_loss   dfl_loss  Instances       Size\n"
          ]
        },
        {
          "output_type": "stream",
          "name": "stderr",
          "text": [
            "      33/50      7.02G     0.7647       0.46     0.9083        779        640: 100%|██████████| 28/28 [00:38<00:00,  1.36s/it]\n",
            "                 Class     Images  Instances      Box(P          R      mAP50  mAP50-95): 100%|██████████| 2/2 [00:01<00:00,  1.66it/s]"
          ]
        },
        {
          "output_type": "stream",
          "name": "stdout",
          "text": [
            "                   all         41       2017       0.92      0.934      0.955      0.736\n"
          ]
        },
        {
          "output_type": "stream",
          "name": "stderr",
          "text": [
            "\n"
          ]
        },
        {
          "output_type": "stream",
          "name": "stdout",
          "text": [
            "\n",
            "      Epoch    GPU_mem   box_loss   cls_loss   dfl_loss  Instances       Size\n"
          ]
        },
        {
          "output_type": "stream",
          "name": "stderr",
          "text": [
            "      34/50      7.05G     0.7351     0.4404     0.9038        492        640: 100%|██████████| 28/28 [00:36<00:00,  1.29s/it]\n",
            "                 Class     Images  Instances      Box(P          R      mAP50  mAP50-95): 100%|██████████| 2/2 [00:01<00:00,  1.96it/s]"
          ]
        },
        {
          "output_type": "stream",
          "name": "stdout",
          "text": [
            "                   all         41       2017      0.909      0.917      0.959      0.749\n"
          ]
        },
        {
          "output_type": "stream",
          "name": "stderr",
          "text": [
            "\n"
          ]
        },
        {
          "output_type": "stream",
          "name": "stdout",
          "text": [
            "\n",
            "      Epoch    GPU_mem   box_loss   cls_loss   dfl_loss  Instances       Size\n"
          ]
        },
        {
          "output_type": "stream",
          "name": "stderr",
          "text": [
            "      35/50      7.05G     0.7368     0.4408     0.9076        517        640: 100%|██████████| 28/28 [00:35<00:00,  1.26s/it]\n",
            "                 Class     Images  Instances      Box(P          R      mAP50  mAP50-95): 100%|██████████| 2/2 [00:01<00:00,  1.92it/s]"
          ]
        },
        {
          "output_type": "stream",
          "name": "stdout",
          "text": [
            "                   all         41       2017      0.921      0.927      0.952      0.744\n"
          ]
        },
        {
          "output_type": "stream",
          "name": "stderr",
          "text": [
            "\n"
          ]
        },
        {
          "output_type": "stream",
          "name": "stdout",
          "text": [
            "\n",
            "      Epoch    GPU_mem   box_loss   cls_loss   dfl_loss  Instances       Size\n"
          ]
        },
        {
          "output_type": "stream",
          "name": "stderr",
          "text": [
            "      36/50      7.08G     0.7359     0.4457     0.9067        217        640: 100%|██████████| 28/28 [00:37<00:00,  1.33s/it]\n",
            "                 Class     Images  Instances      Box(P          R      mAP50  mAP50-95): 100%|██████████| 2/2 [00:01<00:00,  1.78it/s]"
          ]
        },
        {
          "output_type": "stream",
          "name": "stdout",
          "text": [
            "                   all         41       2017      0.945      0.915       0.96      0.754\n"
          ]
        },
        {
          "output_type": "stream",
          "name": "stderr",
          "text": [
            "\n"
          ]
        },
        {
          "output_type": "stream",
          "name": "stdout",
          "text": [
            "\n",
            "      Epoch    GPU_mem   box_loss   cls_loss   dfl_loss  Instances       Size\n"
          ]
        },
        {
          "output_type": "stream",
          "name": "stderr",
          "text": [
            "      37/50      7.08G     0.7244      0.429     0.8967        593        640: 100%|██████████| 28/28 [00:35<00:00,  1.28s/it]\n",
            "                 Class     Images  Instances      Box(P          R      mAP50  mAP50-95): 100%|██████████| 2/2 [00:01<00:00,  1.65it/s]"
          ]
        },
        {
          "output_type": "stream",
          "name": "stdout",
          "text": [
            "                   all         41       2017      0.935      0.938      0.961      0.746\n"
          ]
        },
        {
          "output_type": "stream",
          "name": "stderr",
          "text": [
            "\n"
          ]
        },
        {
          "output_type": "stream",
          "name": "stdout",
          "text": [
            "\n",
            "      Epoch    GPU_mem   box_loss   cls_loss   dfl_loss  Instances       Size\n"
          ]
        },
        {
          "output_type": "stream",
          "name": "stderr",
          "text": [
            "      38/50      7.83G     0.7048     0.4275     0.8996        481        640: 100%|██████████| 28/28 [00:35<00:00,  1.28s/it]\n",
            "                 Class     Images  Instances      Box(P          R      mAP50  mAP50-95): 100%|██████████| 2/2 [00:01<00:00,  1.59it/s]"
          ]
        },
        {
          "output_type": "stream",
          "name": "stdout",
          "text": [
            "                   all         41       2017      0.929      0.899      0.962      0.756\n"
          ]
        },
        {
          "output_type": "stream",
          "name": "stderr",
          "text": [
            "\n"
          ]
        },
        {
          "output_type": "stream",
          "name": "stdout",
          "text": [
            "\n",
            "      Epoch    GPU_mem   box_loss   cls_loss   dfl_loss  Instances       Size\n"
          ]
        },
        {
          "output_type": "stream",
          "name": "stderr",
          "text": [
            "      39/50      6.16G     0.7018      0.419     0.8905        474        640: 100%|██████████| 28/28 [00:33<00:00,  1.19s/it]\n",
            "                 Class     Images  Instances      Box(P          R      mAP50  mAP50-95): 100%|██████████| 2/2 [00:01<00:00,  1.49it/s]"
          ]
        },
        {
          "output_type": "stream",
          "name": "stdout",
          "text": [
            "                   all         41       2017      0.932      0.905      0.962      0.747\n"
          ]
        },
        {
          "output_type": "stream",
          "name": "stderr",
          "text": [
            "\n"
          ]
        },
        {
          "output_type": "stream",
          "name": "stdout",
          "text": [
            "\n",
            "      Epoch    GPU_mem   box_loss   cls_loss   dfl_loss  Instances       Size\n"
          ]
        },
        {
          "output_type": "stream",
          "name": "stderr",
          "text": [
            "      40/50      6.72G     0.7242     0.4271     0.8993        381        640: 100%|██████████| 28/28 [00:35<00:00,  1.27s/it]\n",
            "                 Class     Images  Instances      Box(P          R      mAP50  mAP50-95): 100%|██████████| 2/2 [00:01<00:00,  1.40it/s]"
          ]
        },
        {
          "output_type": "stream",
          "name": "stdout",
          "text": [
            "                   all         41       2017      0.933      0.905      0.949      0.748\n"
          ]
        },
        {
          "output_type": "stream",
          "name": "stderr",
          "text": [
            "\n"
          ]
        },
        {
          "output_type": "stream",
          "name": "stdout",
          "text": [
            "Closing dataloader mosaic\n",
            "\u001b[34m\u001b[1malbumentations: \u001b[0mBlur(p=0.01, blur_limit=(3, 7)), MedianBlur(p=0.01, blur_limit=(3, 7)), ToGray(p=0.01, method='weighted_average', num_output_channels=3), CLAHE(p=0.01, clip_limit=(1.0, 4.0), tile_grid_size=(8, 8))\n",
            "\n",
            "      Epoch    GPU_mem   box_loss   cls_loss   dfl_loss  Instances       Size\n"
          ]
        },
        {
          "output_type": "stream",
          "name": "stderr",
          "text": [
            "      41/50      6.72G     0.6882     0.4288     0.8856        314        640: 100%|██████████| 28/28 [00:18<00:00,  1.49it/s]\n",
            "                 Class     Images  Instances      Box(P          R      mAP50  mAP50-95): 100%|██████████| 2/2 [00:01<00:00,  1.96it/s]"
          ]
        },
        {
          "output_type": "stream",
          "name": "stdout",
          "text": [
            "                   all         41       2017      0.937      0.928      0.956      0.746\n"
          ]
        },
        {
          "output_type": "stream",
          "name": "stderr",
          "text": [
            "\n"
          ]
        },
        {
          "output_type": "stream",
          "name": "stdout",
          "text": [
            "\n",
            "      Epoch    GPU_mem   box_loss   cls_loss   dfl_loss  Instances       Size\n"
          ]
        },
        {
          "output_type": "stream",
          "name": "stderr",
          "text": [
            "      42/50      6.72G     0.6658     0.4067     0.8854        364        640: 100%|██████████| 28/28 [00:16<00:00,  1.73it/s]\n",
            "                 Class     Images  Instances      Box(P          R      mAP50  mAP50-95): 100%|██████████| 2/2 [00:00<00:00,  2.55it/s]"
          ]
        },
        {
          "output_type": "stream",
          "name": "stdout",
          "text": [
            "                   all         41       2017      0.947      0.917      0.964      0.756\n"
          ]
        },
        {
          "output_type": "stream",
          "name": "stderr",
          "text": [
            "\n"
          ]
        },
        {
          "output_type": "stream",
          "name": "stdout",
          "text": [
            "\n",
            "      Epoch    GPU_mem   box_loss   cls_loss   dfl_loss  Instances       Size\n"
          ]
        },
        {
          "output_type": "stream",
          "name": "stderr",
          "text": [
            "      43/50      6.72G     0.6638     0.4025     0.8804        230        640: 100%|██████████| 28/28 [00:14<00:00,  1.90it/s]\n",
            "                 Class     Images  Instances      Box(P          R      mAP50  mAP50-95): 100%|██████████| 2/2 [00:01<00:00,  1.81it/s]"
          ]
        },
        {
          "output_type": "stream",
          "name": "stdout",
          "text": [
            "                   all         41       2017      0.934      0.921      0.957      0.747\n"
          ]
        },
        {
          "output_type": "stream",
          "name": "stderr",
          "text": [
            "\n"
          ]
        },
        {
          "output_type": "stream",
          "name": "stdout",
          "text": [
            "\n",
            "      Epoch    GPU_mem   box_loss   cls_loss   dfl_loss  Instances       Size\n"
          ]
        },
        {
          "output_type": "stream",
          "name": "stderr",
          "text": [
            "      44/50      6.72G     0.6532     0.3946      0.882        208        640: 100%|██████████| 28/28 [00:14<00:00,  1.89it/s]\n",
            "                 Class     Images  Instances      Box(P          R      mAP50  mAP50-95): 100%|██████████| 2/2 [00:00<00:00,  2.03it/s]"
          ]
        },
        {
          "output_type": "stream",
          "name": "stdout",
          "text": [
            "                   all         41       2017      0.914      0.926      0.951      0.751\n"
          ]
        },
        {
          "output_type": "stream",
          "name": "stderr",
          "text": [
            "\n"
          ]
        },
        {
          "output_type": "stream",
          "name": "stdout",
          "text": [
            "\n",
            "      Epoch    GPU_mem   box_loss   cls_loss   dfl_loss  Instances       Size\n"
          ]
        },
        {
          "output_type": "stream",
          "name": "stderr",
          "text": [
            "      45/50      6.72G     0.6539     0.3935     0.8787        435        640: 100%|██████████| 28/28 [00:16<00:00,  1.71it/s]\n",
            "                 Class     Images  Instances      Box(P          R      mAP50  mAP50-95): 100%|██████████| 2/2 [00:01<00:00,  1.77it/s]"
          ]
        },
        {
          "output_type": "stream",
          "name": "stdout",
          "text": [
            "                   all         41       2017       0.94      0.925      0.957       0.75\n"
          ]
        },
        {
          "output_type": "stream",
          "name": "stderr",
          "text": [
            "\n"
          ]
        },
        {
          "output_type": "stream",
          "name": "stdout",
          "text": [
            "\n",
            "      Epoch    GPU_mem   box_loss   cls_loss   dfl_loss  Instances       Size\n"
          ]
        },
        {
          "output_type": "stream",
          "name": "stderr",
          "text": [
            "      46/50      6.72G     0.6371     0.3844     0.8749        233        640: 100%|██████████| 28/28 [00:15<00:00,  1.85it/s]\n",
            "                 Class     Images  Instances      Box(P          R      mAP50  mAP50-95): 100%|██████████| 2/2 [00:01<00:00,  1.71it/s]"
          ]
        },
        {
          "output_type": "stream",
          "name": "stdout",
          "text": [
            "                   all         41       2017      0.936      0.937      0.958      0.756\n"
          ]
        },
        {
          "output_type": "stream",
          "name": "stderr",
          "text": [
            "\n"
          ]
        },
        {
          "output_type": "stream",
          "name": "stdout",
          "text": [
            "\n",
            "      Epoch    GPU_mem   box_loss   cls_loss   dfl_loss  Instances       Size\n"
          ]
        },
        {
          "output_type": "stream",
          "name": "stderr",
          "text": [
            "      47/50      6.72G     0.6286     0.3739     0.8741        327        640: 100%|██████████| 28/28 [00:14<00:00,  1.89it/s]\n",
            "                 Class     Images  Instances      Box(P          R      mAP50  mAP50-95): 100%|██████████| 2/2 [00:01<00:00,  1.41it/s]"
          ]
        },
        {
          "output_type": "stream",
          "name": "stdout",
          "text": [
            "                   all         41       2017      0.938      0.938      0.958      0.754\n"
          ]
        },
        {
          "output_type": "stream",
          "name": "stderr",
          "text": [
            "\n"
          ]
        },
        {
          "output_type": "stream",
          "name": "stdout",
          "text": [
            "\n",
            "      Epoch    GPU_mem   box_loss   cls_loss   dfl_loss  Instances       Size\n"
          ]
        },
        {
          "output_type": "stream",
          "name": "stderr",
          "text": [
            "      48/50      6.72G     0.6162      0.363     0.8721        243        640: 100%|██████████| 28/28 [00:14<00:00,  1.91it/s]\n",
            "                 Class     Images  Instances      Box(P          R      mAP50  mAP50-95): 100%|██████████| 2/2 [00:01<00:00,  1.62it/s]"
          ]
        },
        {
          "output_type": "stream",
          "name": "stdout",
          "text": [
            "                   all         41       2017      0.941      0.939      0.959      0.753\n"
          ]
        },
        {
          "output_type": "stream",
          "name": "stderr",
          "text": [
            "\n"
          ]
        },
        {
          "output_type": "stream",
          "name": "stdout",
          "text": [
            "\n",
            "      Epoch    GPU_mem   box_loss   cls_loss   dfl_loss  Instances       Size\n"
          ]
        },
        {
          "output_type": "stream",
          "name": "stderr",
          "text": [
            "      49/50      6.72G      0.608     0.3654     0.8717        248        640: 100%|██████████| 28/28 [00:14<00:00,  1.88it/s]\n",
            "                 Class     Images  Instances      Box(P          R      mAP50  mAP50-95): 100%|██████████| 2/2 [00:01<00:00,  1.90it/s]"
          ]
        },
        {
          "output_type": "stream",
          "name": "stdout",
          "text": [
            "                   all         41       2017      0.939      0.932      0.957      0.744\n"
          ]
        },
        {
          "output_type": "stream",
          "name": "stderr",
          "text": [
            "\n"
          ]
        },
        {
          "output_type": "stream",
          "name": "stdout",
          "text": [
            "\n",
            "      Epoch    GPU_mem   box_loss   cls_loss   dfl_loss  Instances       Size\n"
          ]
        },
        {
          "output_type": "stream",
          "name": "stderr",
          "text": [
            "      50/50      6.72G     0.6051     0.3657      0.867        294        640: 100%|██████████| 28/28 [00:15<00:00,  1.82it/s]\n",
            "                 Class     Images  Instances      Box(P          R      mAP50  mAP50-95): 100%|██████████| 2/2 [00:01<00:00,  1.32it/s]"
          ]
        },
        {
          "output_type": "stream",
          "name": "stdout",
          "text": [
            "                   all         41       2017      0.938      0.934      0.957      0.758\n"
          ]
        },
        {
          "output_type": "stream",
          "name": "stderr",
          "text": [
            "\n"
          ]
        },
        {
          "output_type": "stream",
          "name": "stdout",
          "text": [
            "\n",
            "50 epochs completed in 0.485 hours.\n",
            "Optimizer stripped from runs/detect/train4/weights/last.pt, 18.5MB\n",
            "Optimizer stripped from runs/detect/train4/weights/best.pt, 18.5MB\n",
            "\n",
            "Validating runs/detect/train4/weights/best.pt...\n",
            "Ultralytics 8.3.127 🚀 Python-3.11.12 torch-2.6.0+cu124 CUDA:0 (Tesla T4, 15095MiB)\n",
            "YOLOv5s summary (fused): 84 layers, 9,112,310 parameters, 0 gradients, 23.8 GFLOPs\n"
          ]
        },
        {
          "output_type": "stream",
          "name": "stderr",
          "text": [
            "                 Class     Images  Instances      Box(P          R      mAP50  mAP50-95): 100%|██████████| 2/2 [00:01<00:00,  1.78it/s]\n"
          ]
        },
        {
          "output_type": "stream",
          "name": "stdout",
          "text": [
            "                   all         41       2017      0.938      0.933      0.956      0.758\n",
            "                Pallet         41       2017      0.938      0.933      0.956      0.758\n",
            "Speed: 0.2ms preprocess, 5.7ms inference, 0.0ms loss, 1.9ms postprocess per image\n",
            "Results saved to \u001b[1mruns/detect/train4\u001b[0m\n",
            "Ultralytics 8.3.127 🚀 Python-3.11.12 torch-2.6.0+cu124 CUDA:0 (Tesla T4, 15095MiB)\n",
            "YOLOv5s summary (fused): 84 layers, 9,112,310 parameters, 0 gradients, 23.8 GFLOPs\n",
            "\u001b[34m\u001b[1mval: \u001b[0mFast image access ✅ (ping: 0.0±0.0 ms, read: 2017.8±365.2 MB/s, size: 93.1 KB)\n"
          ]
        },
        {
          "output_type": "stream",
          "name": "stderr",
          "text": [
            "\u001b[34m\u001b[1mval: \u001b[0mScanning /content/Pallet-Detection-and-Counting-4/valid/labels.cache... 41 images, 0 backgrounds, 0 corrupt: 100%|██████████| 41/41 [00:00<?, ?it/s]"
          ]
        },
        {
          "output_type": "stream",
          "name": "stdout",
          "text": [
            "\u001b[34m\u001b[1mval: \u001b[0m/content/Pallet-Detection-and-Counting-4/valid/images/Screenshot-2025-02-11-095114_png.rf.01bd4c9801ca12f87d55b8db099edbfd.jpg: 3 duplicate labels removed\n",
            "\u001b[34m\u001b[1mval: \u001b[0m/content/Pallet-Detection-and-Counting-4/valid/images/Screenshot-2025-02-11-095114_png.rf.7aba2371d776ee5c83d3c08c86718498.jpg: 3 duplicate labels removed\n",
            "\u001b[34m\u001b[1mval: \u001b[0m/content/Pallet-Detection-and-Counting-4/valid/images/Screenshot-2025-02-11-100602_png.rf.3ae7af476dd38b8a9852a02518155875.jpg: 4 duplicate labels removed\n",
            "\u001b[34m\u001b[1mval: \u001b[0m/content/Pallet-Detection-and-Counting-4/valid/images/b6fb487f47b8b7f236177a11b650_jpg.rf.d5336078d915d0d034d0f088ec3607a8.jpg: 1 duplicate labels removed\n",
            "\u001b[34m\u001b[1mval: \u001b[0m/content/Pallet-Detection-and-Counting-4/valid/images/chep-wooden-pallet-BJ229W_jpg.rf.b816c90c7788b99a8c731634b4356fb7.jpg: 3 duplicate labels removed\n",
            "\u001b[34m\u001b[1mval: \u001b[0m/content/Pallet-Detection-and-Counting-4/valid/images/chep-wooden-pallet-BJ229W_jpg.rf.eea45996a8bf514df6e3188f7f8468d0.jpg: 3 duplicate labels removed\n"
          ]
        },
        {
          "output_type": "stream",
          "name": "stderr",
          "text": [
            "\n",
            "                 Class     Images  Instances      Box(P          R      mAP50  mAP50-95): 100%|██████████| 3/3 [00:04<00:00,  1.64s/it]\n"
          ]
        },
        {
          "output_type": "stream",
          "name": "stdout",
          "text": [
            "                   all         41       2017      0.938      0.933      0.956       0.76\n",
            "                Pallet         41       2017      0.938      0.933      0.956       0.76\n",
            "Speed: 8.2ms preprocess, 12.1ms inference, 0.0ms loss, 4.6ms postprocess per image\n",
            "Results saved to \u001b[1mruns/detect/train42\u001b[0m\n"
          ]
        },
        {
          "output_type": "execute_result",
          "data": {
            "text/plain": [
              "ultralytics.utils.metrics.DetMetrics object with attributes:\n",
              "\n",
              "ap_class_index: array([0])\n",
              "box: ultralytics.utils.metrics.Metric object\n",
              "confusion_matrix: <ultralytics.utils.metrics.ConfusionMatrix object at 0x7ae3c4ef8f10>\n",
              "curves: ['Precision-Recall(B)', 'F1-Confidence(B)', 'Precision-Confidence(B)', 'Recall-Confidence(B)']\n",
              "curves_results: [[array([          0,    0.001001,    0.002002,    0.003003,    0.004004,    0.005005,    0.006006,    0.007007,    0.008008,    0.009009,     0.01001,    0.011011,    0.012012,    0.013013,    0.014014,    0.015015,    0.016016,    0.017017,    0.018018,    0.019019,     0.02002,    0.021021,    0.022022,    0.023023,\n",
              "          0.024024,    0.025025,    0.026026,    0.027027,    0.028028,    0.029029,     0.03003,    0.031031,    0.032032,    0.033033,    0.034034,    0.035035,    0.036036,    0.037037,    0.038038,    0.039039,     0.04004,    0.041041,    0.042042,    0.043043,    0.044044,    0.045045,    0.046046,    0.047047,\n",
              "          0.048048,    0.049049,     0.05005,    0.051051,    0.052052,    0.053053,    0.054054,    0.055055,    0.056056,    0.057057,    0.058058,    0.059059,     0.06006,    0.061061,    0.062062,    0.063063,    0.064064,    0.065065,    0.066066,    0.067067,    0.068068,    0.069069,     0.07007,    0.071071,\n",
              "          0.072072,    0.073073,    0.074074,    0.075075,    0.076076,    0.077077,    0.078078,    0.079079,     0.08008,    0.081081,    0.082082,    0.083083,    0.084084,    0.085085,    0.086086,    0.087087,    0.088088,    0.089089,     0.09009,    0.091091,    0.092092,    0.093093,    0.094094,    0.095095,\n",
              "          0.096096,    0.097097,    0.098098,    0.099099,      0.1001,      0.1011,      0.1021,      0.1031,      0.1041,     0.10511,     0.10611,     0.10711,     0.10811,     0.10911,     0.11011,     0.11111,     0.11211,     0.11311,     0.11411,     0.11512,     0.11612,     0.11712,     0.11812,     0.11912,\n",
              "           0.12012,     0.12112,     0.12212,     0.12312,     0.12412,     0.12513,     0.12613,     0.12713,     0.12813,     0.12913,     0.13013,     0.13113,     0.13213,     0.13313,     0.13413,     0.13514,     0.13614,     0.13714,     0.13814,     0.13914,     0.14014,     0.14114,     0.14214,     0.14314,\n",
              "           0.14414,     0.14515,     0.14615,     0.14715,     0.14815,     0.14915,     0.15015,     0.15115,     0.15215,     0.15315,     0.15415,     0.15516,     0.15616,     0.15716,     0.15816,     0.15916,     0.16016,     0.16116,     0.16216,     0.16316,     0.16416,     0.16517,     0.16617,     0.16717,\n",
              "           0.16817,     0.16917,     0.17017,     0.17117,     0.17217,     0.17317,     0.17417,     0.17518,     0.17618,     0.17718,     0.17818,     0.17918,     0.18018,     0.18118,     0.18218,     0.18318,     0.18418,     0.18519,     0.18619,     0.18719,     0.18819,     0.18919,     0.19019,     0.19119,\n",
              "           0.19219,     0.19319,     0.19419,      0.1952,      0.1962,      0.1972,      0.1982,      0.1992,      0.2002,      0.2012,      0.2022,      0.2032,      0.2042,     0.20521,     0.20621,     0.20721,     0.20821,     0.20921,     0.21021,     0.21121,     0.21221,     0.21321,     0.21421,     0.21522,\n",
              "           0.21622,     0.21722,     0.21822,     0.21922,     0.22022,     0.22122,     0.22222,     0.22322,     0.22422,     0.22523,     0.22623,     0.22723,     0.22823,     0.22923,     0.23023,     0.23123,     0.23223,     0.23323,     0.23423,     0.23524,     0.23624,     0.23724,     0.23824,     0.23924,\n",
              "           0.24024,     0.24124,     0.24224,     0.24324,     0.24424,     0.24525,     0.24625,     0.24725,     0.24825,     0.24925,     0.25025,     0.25125,     0.25225,     0.25325,     0.25425,     0.25526,     0.25626,     0.25726,     0.25826,     0.25926,     0.26026,     0.26126,     0.26226,     0.26326,\n",
              "           0.26426,     0.26527,     0.26627,     0.26727,     0.26827,     0.26927,     0.27027,     0.27127,     0.27227,     0.27327,     0.27427,     0.27528,     0.27628,     0.27728,     0.27828,     0.27928,     0.28028,     0.28128,     0.28228,     0.28328,     0.28428,     0.28529,     0.28629,     0.28729,\n",
              "           0.28829,     0.28929,     0.29029,     0.29129,     0.29229,     0.29329,     0.29429,      0.2953,      0.2963,      0.2973,      0.2983,      0.2993,      0.3003,      0.3013,      0.3023,      0.3033,      0.3043,     0.30531,     0.30631,     0.30731,     0.30831,     0.30931,     0.31031,     0.31131,\n",
              "           0.31231,     0.31331,     0.31431,     0.31532,     0.31632,     0.31732,     0.31832,     0.31932,     0.32032,     0.32132,     0.32232,     0.32332,     0.32432,     0.32533,     0.32633,     0.32733,     0.32833,     0.32933,     0.33033,     0.33133,     0.33233,     0.33333,     0.33433,     0.33534,\n",
              "           0.33634,     0.33734,     0.33834,     0.33934,     0.34034,     0.34134,     0.34234,     0.34334,     0.34434,     0.34535,     0.34635,     0.34735,     0.34835,     0.34935,     0.35035,     0.35135,     0.35235,     0.35335,     0.35435,     0.35536,     0.35636,     0.35736,     0.35836,     0.35936,\n",
              "           0.36036,     0.36136,     0.36236,     0.36336,     0.36436,     0.36537,     0.36637,     0.36737,     0.36837,     0.36937,     0.37037,     0.37137,     0.37237,     0.37337,     0.37437,     0.37538,     0.37638,     0.37738,     0.37838,     0.37938,     0.38038,     0.38138,     0.38238,     0.38338,\n",
              "           0.38438,     0.38539,     0.38639,     0.38739,     0.38839,     0.38939,     0.39039,     0.39139,     0.39239,     0.39339,     0.39439,      0.3954,      0.3964,      0.3974,      0.3984,      0.3994,      0.4004,      0.4014,      0.4024,      0.4034,      0.4044,     0.40541,     0.40641,     0.40741,\n",
              "           0.40841,     0.40941,     0.41041,     0.41141,     0.41241,     0.41341,     0.41441,     0.41542,     0.41642,     0.41742,     0.41842,     0.41942,     0.42042,     0.42142,     0.42242,     0.42342,     0.42442,     0.42543,     0.42643,     0.42743,     0.42843,     0.42943,     0.43043,     0.43143,\n",
              "           0.43243,     0.43343,     0.43443,     0.43544,     0.43644,     0.43744,     0.43844,     0.43944,     0.44044,     0.44144,     0.44244,     0.44344,     0.44444,     0.44545,     0.44645,     0.44745,     0.44845,     0.44945,     0.45045,     0.45145,     0.45245,     0.45345,     0.45445,     0.45546,\n",
              "           0.45646,     0.45746,     0.45846,     0.45946,     0.46046,     0.46146,     0.46246,     0.46346,     0.46446,     0.46547,     0.46647,     0.46747,     0.46847,     0.46947,     0.47047,     0.47147,     0.47247,     0.47347,     0.47447,     0.47548,     0.47648,     0.47748,     0.47848,     0.47948,\n",
              "           0.48048,     0.48148,     0.48248,     0.48348,     0.48448,     0.48549,     0.48649,     0.48749,     0.48849,     0.48949,     0.49049,     0.49149,     0.49249,     0.49349,     0.49449,      0.4955,      0.4965,      0.4975,      0.4985,      0.4995,      0.5005,      0.5015,      0.5025,      0.5035,\n",
              "            0.5045,     0.50551,     0.50651,     0.50751,     0.50851,     0.50951,     0.51051,     0.51151,     0.51251,     0.51351,     0.51451,     0.51552,     0.51652,     0.51752,     0.51852,     0.51952,     0.52052,     0.52152,     0.52252,     0.52352,     0.52452,     0.52553,     0.52653,     0.52753,\n",
              "           0.52853,     0.52953,     0.53053,     0.53153,     0.53253,     0.53353,     0.53453,     0.53554,     0.53654,     0.53754,     0.53854,     0.53954,     0.54054,     0.54154,     0.54254,     0.54354,     0.54454,     0.54555,     0.54655,     0.54755,     0.54855,     0.54955,     0.55055,     0.55155,\n",
              "           0.55255,     0.55355,     0.55455,     0.55556,     0.55656,     0.55756,     0.55856,     0.55956,     0.56056,     0.56156,     0.56256,     0.56356,     0.56456,     0.56557,     0.56657,     0.56757,     0.56857,     0.56957,     0.57057,     0.57157,     0.57257,     0.57357,     0.57457,     0.57558,\n",
              "           0.57658,     0.57758,     0.57858,     0.57958,     0.58058,     0.58158,     0.58258,     0.58358,     0.58458,     0.58559,     0.58659,     0.58759,     0.58859,     0.58959,     0.59059,     0.59159,     0.59259,     0.59359,     0.59459,      0.5956,      0.5966,      0.5976,      0.5986,      0.5996,\n",
              "            0.6006,      0.6016,      0.6026,      0.6036,      0.6046,     0.60561,     0.60661,     0.60761,     0.60861,     0.60961,     0.61061,     0.61161,     0.61261,     0.61361,     0.61461,     0.61562,     0.61662,     0.61762,     0.61862,     0.61962,     0.62062,     0.62162,     0.62262,     0.62362,\n",
              "           0.62462,     0.62563,     0.62663,     0.62763,     0.62863,     0.62963,     0.63063,     0.63163,     0.63263,     0.63363,     0.63463,     0.63564,     0.63664,     0.63764,     0.63864,     0.63964,     0.64064,     0.64164,     0.64264,     0.64364,     0.64464,     0.64565,     0.64665,     0.64765,\n",
              "           0.64865,     0.64965,     0.65065,     0.65165,     0.65265,     0.65365,     0.65465,     0.65566,     0.65666,     0.65766,     0.65866,     0.65966,     0.66066,     0.66166,     0.66266,     0.66366,     0.66466,     0.66567,     0.66667,     0.66767,     0.66867,     0.66967,     0.67067,     0.67167,\n",
              "           0.67267,     0.67367,     0.67467,     0.67568,     0.67668,     0.67768,     0.67868,     0.67968,     0.68068,     0.68168,     0.68268,     0.68368,     0.68468,     0.68569,     0.68669,     0.68769,     0.68869,     0.68969,     0.69069,     0.69169,     0.69269,     0.69369,     0.69469,      0.6957,\n",
              "            0.6967,      0.6977,      0.6987,      0.6997,      0.7007,      0.7017,      0.7027,      0.7037,      0.7047,     0.70571,     0.70671,     0.70771,     0.70871,     0.70971,     0.71071,     0.71171,     0.71271,     0.71371,     0.71471,     0.71572,     0.71672,     0.71772,     0.71872,     0.71972,\n",
              "           0.72072,     0.72172,     0.72272,     0.72372,     0.72472,     0.72573,     0.72673,     0.72773,     0.72873,     0.72973,     0.73073,     0.73173,     0.73273,     0.73373,     0.73473,     0.73574,     0.73674,     0.73774,     0.73874,     0.73974,     0.74074,     0.74174,     0.74274,     0.74374,\n",
              "           0.74474,     0.74575,     0.74675,     0.74775,     0.74875,     0.74975,     0.75075,     0.75175,     0.75275,     0.75375,     0.75475,     0.75576,     0.75676,     0.75776,     0.75876,     0.75976,     0.76076,     0.76176,     0.76276,     0.76376,     0.76476,     0.76577,     0.76677,     0.76777,\n",
              "           0.76877,     0.76977,     0.77077,     0.77177,     0.77277,     0.77377,     0.77477,     0.77578,     0.77678,     0.77778,     0.77878,     0.77978,     0.78078,     0.78178,     0.78278,     0.78378,     0.78478,     0.78579,     0.78679,     0.78779,     0.78879,     0.78979,     0.79079,     0.79179,\n",
              "           0.79279,     0.79379,     0.79479,      0.7958,      0.7968,      0.7978,      0.7988,      0.7998,      0.8008,      0.8018,      0.8028,      0.8038,      0.8048,     0.80581,     0.80681,     0.80781,     0.80881,     0.80981,     0.81081,     0.81181,     0.81281,     0.81381,     0.81481,     0.81582,\n",
              "           0.81682,     0.81782,     0.81882,     0.81982,     0.82082,     0.82182,     0.82282,     0.82382,     0.82482,     0.82583,     0.82683,     0.82783,     0.82883,     0.82983,     0.83083,     0.83183,     0.83283,     0.83383,     0.83483,     0.83584,     0.83684,     0.83784,     0.83884,     0.83984,\n",
              "           0.84084,     0.84184,     0.84284,     0.84384,     0.84484,     0.84585,     0.84685,     0.84785,     0.84885,     0.84985,     0.85085,     0.85185,     0.85285,     0.85385,     0.85485,     0.85586,     0.85686,     0.85786,     0.85886,     0.85986,     0.86086,     0.86186,     0.86286,     0.86386,\n",
              "           0.86486,     0.86587,     0.86687,     0.86787,     0.86887,     0.86987,     0.87087,     0.87187,     0.87287,     0.87387,     0.87487,     0.87588,     0.87688,     0.87788,     0.87888,     0.87988,     0.88088,     0.88188,     0.88288,     0.88388,     0.88488,     0.88589,     0.88689,     0.88789,\n",
              "           0.88889,     0.88989,     0.89089,     0.89189,     0.89289,     0.89389,     0.89489,      0.8959,      0.8969,      0.8979,      0.8989,      0.8999,      0.9009,      0.9019,      0.9029,      0.9039,      0.9049,     0.90591,     0.90691,     0.90791,     0.90891,     0.90991,     0.91091,     0.91191,\n",
              "           0.91291,     0.91391,     0.91491,     0.91592,     0.91692,     0.91792,     0.91892,     0.91992,     0.92092,     0.92192,     0.92292,     0.92392,     0.92492,     0.92593,     0.92693,     0.92793,     0.92893,     0.92993,     0.93093,     0.93193,     0.93293,     0.93393,     0.93493,     0.93594,\n",
              "           0.93694,     0.93794,     0.93894,     0.93994,     0.94094,     0.94194,     0.94294,     0.94394,     0.94494,     0.94595,     0.94695,     0.94795,     0.94895,     0.94995,     0.95095,     0.95195,     0.95295,     0.95395,     0.95495,     0.95596,     0.95696,     0.95796,     0.95896,     0.95996,\n",
              "           0.96096,     0.96196,     0.96296,     0.96396,     0.96496,     0.96597,     0.96697,     0.96797,     0.96897,     0.96997,     0.97097,     0.97197,     0.97297,     0.97397,     0.97497,     0.97598,     0.97698,     0.97798,     0.97898,     0.97998,     0.98098,     0.98198,     0.98298,     0.98398,\n",
              "           0.98498,     0.98599,     0.98699,     0.98799,     0.98899,     0.98999,     0.99099,     0.99199,     0.99299,     0.99399,     0.99499,       0.996,       0.997,       0.998,       0.999,           1]), array([[          1,           1,           1,           1,           1,           1,           1,           1,           1,           1,     0.98201,     0.98201,     0.98201,     0.98201,     0.98201,     0.98201,     0.98201,     0.98201,     0.98201,     0.98201,     0.98201,     0.98201,     0.98201,\n",
              "            0.98201,     0.98201,     0.98201,     0.98201,     0.98201,     0.98201,     0.98201,     0.98201,     0.98201,     0.98201,     0.98201,     0.98201,     0.98201,     0.98201,     0.98201,     0.98201,     0.98201,     0.98201,     0.98201,     0.98201,     0.98201,     0.98201,     0.98201,\n",
              "            0.98201,     0.98201,     0.98201,     0.98201,     0.98201,     0.98201,     0.98201,     0.98201,     0.98201,     0.98201,     0.98201,     0.98201,     0.98201,     0.98201,     0.98201,     0.98201,     0.98201,     0.98201,     0.98201,     0.98201,     0.98201,     0.98201,     0.98201,\n",
              "            0.98201,     0.98201,     0.98201,     0.98201,     0.98201,     0.98201,     0.98201,     0.98201,     0.98201,     0.98201,     0.98201,     0.98201,     0.98201,     0.98201,     0.98201,     0.98201,     0.98201,     0.98201,     0.98201,     0.98201,     0.98201,     0.98201,     0.98201,\n",
              "            0.98201,     0.98201,     0.98201,     0.98201,     0.98201,     0.98201,     0.98201,     0.98201,     0.98201,     0.98201,     0.98201,     0.98201,     0.98201,     0.98201,     0.98201,     0.98201,     0.98201,     0.98201,     0.98201,     0.98201,     0.98201,     0.98201,     0.98201,\n",
              "            0.98201,     0.98201,     0.98201,     0.98201,     0.98201,     0.98201,     0.98201,     0.98201,     0.98201,     0.98201,     0.98201,     0.98201,     0.98201,     0.98201,     0.98201,     0.98201,     0.98201,     0.98201,     0.98201,     0.98201,     0.98201,     0.98201,     0.98201,\n",
              "            0.98201,     0.98201,     0.98201,     0.98201,     0.98201,     0.98201,     0.98201,     0.98201,     0.98201,     0.98201,     0.98201,     0.98201,     0.98201,     0.98201,     0.98201,     0.98201,     0.98201,     0.98201,     0.98201,     0.98201,     0.98201,     0.98201,     0.98201,\n",
              "            0.98201,     0.98201,     0.98201,     0.98201,     0.98201,     0.98201,     0.98201,     0.98201,     0.98201,     0.98201,     0.98201,     0.98201,     0.98201,     0.98201,     0.98201,     0.98201,     0.98201,     0.98201,     0.98201,     0.98201,     0.98201,     0.98201,     0.98201,\n",
              "            0.98201,     0.98201,     0.98201,     0.98201,     0.98201,     0.98201,     0.98201,     0.98201,     0.98201,     0.98201,     0.98201,     0.98201,     0.98201,     0.98201,     0.98201,     0.98201,     0.98201,     0.98201,     0.98201,     0.98201,     0.98201,     0.98201,     0.98201,\n",
              "            0.98201,     0.98201,     0.98201,     0.98201,     0.98201,     0.98201,     0.98201,     0.98201,     0.98201,     0.98201,     0.98201,     0.98201,     0.98201,     0.98201,     0.98201,     0.98201,     0.98201,     0.98201,     0.98201,     0.98201,     0.98201,     0.98201,     0.98201,\n",
              "            0.98201,     0.98201,     0.98201,     0.98201,     0.98201,     0.98201,     0.98201,     0.98201,     0.98201,     0.98201,     0.98201,     0.98201,     0.98201,     0.98201,     0.98201,     0.98201,     0.98201,     0.98201,     0.98201,     0.98201,     0.98201,     0.98201,     0.98201,\n",
              "            0.98201,     0.98201,     0.98201,     0.98201,     0.98201,     0.98201,     0.98201,     0.98201,     0.98201,     0.98201,     0.98201,     0.98201,     0.98201,     0.98201,     0.98201,     0.98201,     0.98201,     0.98201,     0.98201,     0.98201,     0.98201,     0.98201,     0.98201,\n",
              "            0.98201,     0.98201,     0.98201,     0.98201,     0.98201,     0.98201,     0.98201,     0.98201,     0.98201,     0.98201,     0.98201,     0.98201,     0.98201,     0.98201,     0.98201,     0.98201,     0.98201,     0.98201,     0.98201,     0.98201,     0.98201,     0.98201,     0.98201,\n",
              "            0.98201,     0.98201,     0.98201,     0.98201,     0.98201,     0.98201,     0.98201,     0.98201,     0.98201,     0.98201,     0.98201,     0.98201,     0.98201,     0.98201,     0.98201,     0.98201,     0.98201,     0.98201,     0.98201,     0.98201,     0.98201,     0.98201,     0.98201,\n",
              "            0.98201,     0.98201,     0.98201,     0.98201,     0.98201,     0.98201,     0.98201,     0.98201,     0.98201,     0.98201,     0.98201,     0.98201,     0.98201,     0.98201,     0.98201,     0.98201,     0.98201,     0.98201,     0.98201,     0.98201,     0.98201,     0.98201,     0.98201,\n",
              "            0.98201,     0.98201,     0.98201,     0.98201,     0.98201,     0.98201,     0.98201,     0.98201,     0.98201,     0.98201,     0.98201,     0.98201,     0.98201,     0.98201,     0.98201,     0.98201,     0.98201,     0.98201,     0.98201,     0.98201,     0.98201,     0.98201,     0.98201,\n",
              "            0.98201,     0.98201,     0.98201,     0.98201,     0.98201,     0.98201,     0.98201,     0.98201,     0.98201,     0.98201,     0.98201,     0.98201,     0.98201,     0.98201,     0.98201,     0.98201,     0.98201,     0.98201,     0.98201,     0.98201,     0.98201,     0.98201,     0.98201,\n",
              "            0.98201,     0.98201,     0.98201,     0.98201,     0.98201,     0.98201,     0.98201,     0.98201,     0.98201,     0.98201,     0.98201,     0.98201,     0.98201,     0.98201,     0.98201,     0.98201,     0.98201,     0.98201,     0.98201,     0.98201,     0.98201,     0.98201,     0.98201,\n",
              "            0.98201,     0.98201,     0.98201,     0.98201,     0.98201,     0.98201,     0.98201,     0.98201,     0.98201,     0.98201,     0.98201,     0.98201,     0.98201,     0.98201,     0.98201,     0.98201,     0.98201,     0.98201,     0.98201,     0.98201,     0.98201,     0.98201,     0.98201,\n",
              "            0.98201,     0.98201,     0.98201,     0.98201,     0.98201,     0.98201,     0.98201,     0.98201,     0.98201,     0.98201,     0.98201,     0.98201,     0.98201,     0.98201,     0.98201,     0.98201,     0.98201,     0.98201,     0.98201,     0.98201,     0.98201,     0.98201,     0.98201,\n",
              "            0.98201,     0.98201,     0.98201,     0.98201,     0.98201,     0.98201,     0.98201,     0.98201,     0.98201,     0.98201,     0.98201,     0.98201,     0.98201,     0.98201,     0.98201,     0.98201,     0.98201,     0.98201,     0.98201,     0.98201,     0.98201,     0.98201,     0.98201,\n",
              "            0.98201,     0.98201,     0.98201,     0.98201,     0.98201,     0.98201,     0.98201,     0.98201,     0.98201,     0.98201,     0.98201,     0.98201,     0.98201,     0.98201,     0.98201,     0.98201,     0.98201,     0.98201,     0.98201,     0.98201,     0.98201,     0.98201,     0.98201,\n",
              "            0.98201,     0.98201,     0.98201,     0.98201,     0.98201,     0.98201,     0.98201,     0.98201,     0.98201,     0.98201,     0.98201,     0.98201,     0.98201,     0.98201,     0.98201,     0.98201,     0.98201,     0.98201,     0.98201,     0.98201,     0.98201,     0.98201,     0.98201,\n",
              "            0.98201,     0.98201,     0.98201,     0.98201,     0.98201,     0.98201,     0.98201,     0.98201,     0.98201,     0.98201,     0.98201,     0.98201,     0.98201,     0.98201,     0.98201,     0.98201,     0.98201,     0.98201,     0.98201,     0.98201,     0.98201,     0.98201,     0.98201,\n",
              "            0.98201,     0.98201,     0.98201,     0.98201,     0.98201,     0.98201,     0.98201,     0.98201,     0.98201,     0.98201,     0.98201,     0.98201,     0.98201,     0.98201,     0.98201,     0.98201,     0.98201,     0.98201,     0.98201,     0.98201,     0.98201,     0.98201,     0.98201,\n",
              "            0.98201,     0.98201,     0.98201,     0.98201,     0.98201,     0.98201,     0.98201,     0.98201,     0.98201,     0.98201,     0.98201,     0.98201,     0.98201,     0.98201,     0.98201,     0.98201,     0.98201,     0.98201,     0.98201,     0.98201,     0.98201,     0.98201,     0.98201,\n",
              "            0.98201,     0.98201,     0.98201,     0.98201,     0.98201,     0.98201,     0.98201,     0.98201,     0.98201,     0.98201,     0.98201,     0.98201,     0.98201,     0.98201,     0.98201,     0.98201,     0.98201,     0.98201,     0.98201,     0.98201,     0.98201,     0.98201,     0.98201,\n",
              "            0.98201,     0.98201,     0.98201,     0.98201,     0.98201,     0.98201,     0.98201,     0.98201,     0.98201,     0.98201,     0.98201,     0.98201,     0.98201,     0.98201,     0.98201,     0.98201,     0.98201,     0.98201,     0.98201,     0.98201,     0.98201,     0.98201,     0.98201,\n",
              "            0.98201,     0.98201,     0.98201,     0.98201,     0.98201,     0.98201,     0.98201,     0.98201,     0.98201,     0.98201,     0.98201,     0.98201,     0.98201,     0.98201,     0.98201,     0.98201,     0.98201,     0.98201,     0.98201,     0.98201,     0.98201,     0.98201,     0.98201,\n",
              "            0.98201,     0.98201,     0.98201,     0.98201,     0.98201,     0.98201,     0.98201,     0.98201,     0.98201,     0.98201,     0.98201,     0.98201,     0.98201,     0.98201,     0.98201,     0.98201,     0.98201,     0.98201,     0.98201,     0.98201,     0.98201,     0.98201,     0.98201,\n",
              "            0.98201,     0.98201,     0.98201,     0.98201,     0.98201,     0.98201,     0.98201,     0.98201,     0.98201,     0.98201,     0.98201,     0.98201,     0.98201,     0.98201,     0.98201,     0.98201,     0.98201,     0.98201,     0.98201,     0.98201,     0.98201,     0.98201,     0.98201,\n",
              "            0.98201,     0.98201,     0.98201,     0.98201,     0.98201,     0.98201,     0.98201,     0.98201,     0.98201,     0.98201,     0.98201,     0.98201,     0.98201,     0.98201,     0.98201,     0.98201,     0.98201,     0.98201,     0.98201,     0.98201,     0.98201,     0.98201,     0.98201,\n",
              "            0.98201,     0.98201,     0.98201,     0.98201,     0.98201,     0.98201,     0.98201,     0.98201,     0.98201,     0.98201,     0.98201,     0.98201,     0.98201,     0.98201,     0.98201,     0.98201,     0.98201,     0.98201,     0.98201,     0.98201,     0.98201,      0.9816,      0.9816,\n",
              "             0.9816,      0.9816,      0.9816,      0.9816,      0.9816,      0.9816,      0.9816,      0.9816,     0.98139,     0.98139,     0.98139,     0.98139,     0.98139,     0.98139,     0.98139,     0.98139,     0.98139,     0.98139,     0.98139,     0.98139,     0.98139,     0.98139,     0.98139,\n",
              "            0.98139,     0.98139,     0.98139,     0.98139,     0.98139,     0.98139,     0.98139,     0.98139,     0.98139,     0.98139,     0.98139,     0.98139,     0.98139,     0.98139,     0.98139,     0.98139,     0.98139,     0.98139,     0.98139,     0.98139,     0.98139,     0.98139,     0.98139,\n",
              "            0.98139,     0.98139,     0.98139,     0.98139,     0.98139,     0.98086,     0.98086,     0.98086,     0.98032,     0.98032,     0.97991,     0.97991,     0.97991,     0.97991,     0.97991,     0.97991,     0.97991,     0.97935,     0.97881,     0.97838,     0.97838,     0.97838,     0.97838,\n",
              "            0.97838,     0.97838,     0.97827,     0.97827,     0.97827,     0.97827,     0.97827,     0.97827,     0.97827,     0.97827,     0.97827,     0.97827,     0.97827,     0.97827,     0.97827,     0.97827,     0.97827,     0.97827,     0.97827,     0.97827,     0.97787,     0.97787,     0.97787,\n",
              "            0.97787,     0.97787,     0.97787,     0.97741,     0.97741,     0.97741,     0.97741,     0.97591,     0.97591,     0.97591,     0.97591,     0.97591,     0.97538,     0.97434,     0.97434,     0.97386,     0.97386,     0.97227,     0.97178,     0.97135,     0.97135,     0.97135,     0.97135,\n",
              "            0.97033,     0.96986,     0.96986,     0.96831,     0.96788,     0.96788,     0.96788,     0.96739,     0.96688,     0.96541,     0.96541,     0.96492,     0.96342,     0.96342,     0.96298,     0.96298,     0.96148,     0.96103,     0.95951,     0.95911,     0.95911,     0.95877,     0.95877,\n",
              "            0.95877,     0.95877,     0.95783,     0.95634,     0.95438,     0.95393,     0.95348,     0.95305,      0.9526,     0.95218,     0.95218,     0.95034,     0.95034,     0.94987,     0.94946,       0.949,     0.94859,     0.94813,     0.94624,     0.94584,     0.94444,     0.94357,     0.94357,\n",
              "             0.9427,      0.9418,     0.94141,     0.94141,     0.94064,     0.94064,     0.94064,     0.93991,     0.93991,     0.93991,     0.93947,     0.93865,     0.93865,     0.93333,     0.93333,     0.93333,     0.93333,     0.92836,     0.92798,     0.92623,     0.92409,     0.92099,     0.91884,\n",
              "             0.9071,     0.90551,     0.90341,     0.89887,     0.89686,     0.88622,     0.88219,     0.88068,     0.87557,     0.87335,     0.87104,     0.85912,      0.8581,     0.85367,     0.84892,      0.8413,     0.83491,     0.82022,     0.81145,     0.80256,     0.80107,     0.79211,     0.78305,\n",
              "            0.74466,     0.72173,     0.69722,      0.6952,     0.68401,     0.68232,     0.65194,     0.63469,     0.57247,     0.53857,     0.52602,     0.52031,     0.49798,     0.44307,     0.41567,     0.38896,     0.36735,     0.34574,     0.32413,     0.30252,     0.28091,     0.25931,      0.2377,\n",
              "            0.21609,     0.19448,     0.17287,     0.15126,     0.12965,     0.10804,    0.086435,    0.064826,    0.043218,    0.021609,           0]]), 'Recall', 'Precision'], [array([          0,    0.001001,    0.002002,    0.003003,    0.004004,    0.005005,    0.006006,    0.007007,    0.008008,    0.009009,     0.01001,    0.011011,    0.012012,    0.013013,    0.014014,    0.015015,    0.016016,    0.017017,    0.018018,    0.019019,     0.02002,    0.021021,    0.022022,    0.023023,\n",
              "          0.024024,    0.025025,    0.026026,    0.027027,    0.028028,    0.029029,     0.03003,    0.031031,    0.032032,    0.033033,    0.034034,    0.035035,    0.036036,    0.037037,    0.038038,    0.039039,     0.04004,    0.041041,    0.042042,    0.043043,    0.044044,    0.045045,    0.046046,    0.047047,\n",
              "          0.048048,    0.049049,     0.05005,    0.051051,    0.052052,    0.053053,    0.054054,    0.055055,    0.056056,    0.057057,    0.058058,    0.059059,     0.06006,    0.061061,    0.062062,    0.063063,    0.064064,    0.065065,    0.066066,    0.067067,    0.068068,    0.069069,     0.07007,    0.071071,\n",
              "          0.072072,    0.073073,    0.074074,    0.075075,    0.076076,    0.077077,    0.078078,    0.079079,     0.08008,    0.081081,    0.082082,    0.083083,    0.084084,    0.085085,    0.086086,    0.087087,    0.088088,    0.089089,     0.09009,    0.091091,    0.092092,    0.093093,    0.094094,    0.095095,\n",
              "          0.096096,    0.097097,    0.098098,    0.099099,      0.1001,      0.1011,      0.1021,      0.1031,      0.1041,     0.10511,     0.10611,     0.10711,     0.10811,     0.10911,     0.11011,     0.11111,     0.11211,     0.11311,     0.11411,     0.11512,     0.11612,     0.11712,     0.11812,     0.11912,\n",
              "           0.12012,     0.12112,     0.12212,     0.12312,     0.12412,     0.12513,     0.12613,     0.12713,     0.12813,     0.12913,     0.13013,     0.13113,     0.13213,     0.13313,     0.13413,     0.13514,     0.13614,     0.13714,     0.13814,     0.13914,     0.14014,     0.14114,     0.14214,     0.14314,\n",
              "           0.14414,     0.14515,     0.14615,     0.14715,     0.14815,     0.14915,     0.15015,     0.15115,     0.15215,     0.15315,     0.15415,     0.15516,     0.15616,     0.15716,     0.15816,     0.15916,     0.16016,     0.16116,     0.16216,     0.16316,     0.16416,     0.16517,     0.16617,     0.16717,\n",
              "           0.16817,     0.16917,     0.17017,     0.17117,     0.17217,     0.17317,     0.17417,     0.17518,     0.17618,     0.17718,     0.17818,     0.17918,     0.18018,     0.18118,     0.18218,     0.18318,     0.18418,     0.18519,     0.18619,     0.18719,     0.18819,     0.18919,     0.19019,     0.19119,\n",
              "           0.19219,     0.19319,     0.19419,      0.1952,      0.1962,      0.1972,      0.1982,      0.1992,      0.2002,      0.2012,      0.2022,      0.2032,      0.2042,     0.20521,     0.20621,     0.20721,     0.20821,     0.20921,     0.21021,     0.21121,     0.21221,     0.21321,     0.21421,     0.21522,\n",
              "           0.21622,     0.21722,     0.21822,     0.21922,     0.22022,     0.22122,     0.22222,     0.22322,     0.22422,     0.22523,     0.22623,     0.22723,     0.22823,     0.22923,     0.23023,     0.23123,     0.23223,     0.23323,     0.23423,     0.23524,     0.23624,     0.23724,     0.23824,     0.23924,\n",
              "           0.24024,     0.24124,     0.24224,     0.24324,     0.24424,     0.24525,     0.24625,     0.24725,     0.24825,     0.24925,     0.25025,     0.25125,     0.25225,     0.25325,     0.25425,     0.25526,     0.25626,     0.25726,     0.25826,     0.25926,     0.26026,     0.26126,     0.26226,     0.26326,\n",
              "           0.26426,     0.26527,     0.26627,     0.26727,     0.26827,     0.26927,     0.27027,     0.27127,     0.27227,     0.27327,     0.27427,     0.27528,     0.27628,     0.27728,     0.27828,     0.27928,     0.28028,     0.28128,     0.28228,     0.28328,     0.28428,     0.28529,     0.28629,     0.28729,\n",
              "           0.28829,     0.28929,     0.29029,     0.29129,     0.29229,     0.29329,     0.29429,      0.2953,      0.2963,      0.2973,      0.2983,      0.2993,      0.3003,      0.3013,      0.3023,      0.3033,      0.3043,     0.30531,     0.30631,     0.30731,     0.30831,     0.30931,     0.31031,     0.31131,\n",
              "           0.31231,     0.31331,     0.31431,     0.31532,     0.31632,     0.31732,     0.31832,     0.31932,     0.32032,     0.32132,     0.32232,     0.32332,     0.32432,     0.32533,     0.32633,     0.32733,     0.32833,     0.32933,     0.33033,     0.33133,     0.33233,     0.33333,     0.33433,     0.33534,\n",
              "           0.33634,     0.33734,     0.33834,     0.33934,     0.34034,     0.34134,     0.34234,     0.34334,     0.34434,     0.34535,     0.34635,     0.34735,     0.34835,     0.34935,     0.35035,     0.35135,     0.35235,     0.35335,     0.35435,     0.35536,     0.35636,     0.35736,     0.35836,     0.35936,\n",
              "           0.36036,     0.36136,     0.36236,     0.36336,     0.36436,     0.36537,     0.36637,     0.36737,     0.36837,     0.36937,     0.37037,     0.37137,     0.37237,     0.37337,     0.37437,     0.37538,     0.37638,     0.37738,     0.37838,     0.37938,     0.38038,     0.38138,     0.38238,     0.38338,\n",
              "           0.38438,     0.38539,     0.38639,     0.38739,     0.38839,     0.38939,     0.39039,     0.39139,     0.39239,     0.39339,     0.39439,      0.3954,      0.3964,      0.3974,      0.3984,      0.3994,      0.4004,      0.4014,      0.4024,      0.4034,      0.4044,     0.40541,     0.40641,     0.40741,\n",
              "           0.40841,     0.40941,     0.41041,     0.41141,     0.41241,     0.41341,     0.41441,     0.41542,     0.41642,     0.41742,     0.41842,     0.41942,     0.42042,     0.42142,     0.42242,     0.42342,     0.42442,     0.42543,     0.42643,     0.42743,     0.42843,     0.42943,     0.43043,     0.43143,\n",
              "           0.43243,     0.43343,     0.43443,     0.43544,     0.43644,     0.43744,     0.43844,     0.43944,     0.44044,     0.44144,     0.44244,     0.44344,     0.44444,     0.44545,     0.44645,     0.44745,     0.44845,     0.44945,     0.45045,     0.45145,     0.45245,     0.45345,     0.45445,     0.45546,\n",
              "           0.45646,     0.45746,     0.45846,     0.45946,     0.46046,     0.46146,     0.46246,     0.46346,     0.46446,     0.46547,     0.46647,     0.46747,     0.46847,     0.46947,     0.47047,     0.47147,     0.47247,     0.47347,     0.47447,     0.47548,     0.47648,     0.47748,     0.47848,     0.47948,\n",
              "           0.48048,     0.48148,     0.48248,     0.48348,     0.48448,     0.48549,     0.48649,     0.48749,     0.48849,     0.48949,     0.49049,     0.49149,     0.49249,     0.49349,     0.49449,      0.4955,      0.4965,      0.4975,      0.4985,      0.4995,      0.5005,      0.5015,      0.5025,      0.5035,\n",
              "            0.5045,     0.50551,     0.50651,     0.50751,     0.50851,     0.50951,     0.51051,     0.51151,     0.51251,     0.51351,     0.51451,     0.51552,     0.51652,     0.51752,     0.51852,     0.51952,     0.52052,     0.52152,     0.52252,     0.52352,     0.52452,     0.52553,     0.52653,     0.52753,\n",
              "           0.52853,     0.52953,     0.53053,     0.53153,     0.53253,     0.53353,     0.53453,     0.53554,     0.53654,     0.53754,     0.53854,     0.53954,     0.54054,     0.54154,     0.54254,     0.54354,     0.54454,     0.54555,     0.54655,     0.54755,     0.54855,     0.54955,     0.55055,     0.55155,\n",
              "           0.55255,     0.55355,     0.55455,     0.55556,     0.55656,     0.55756,     0.55856,     0.55956,     0.56056,     0.56156,     0.56256,     0.56356,     0.56456,     0.56557,     0.56657,     0.56757,     0.56857,     0.56957,     0.57057,     0.57157,     0.57257,     0.57357,     0.57457,     0.57558,\n",
              "           0.57658,     0.57758,     0.57858,     0.57958,     0.58058,     0.58158,     0.58258,     0.58358,     0.58458,     0.58559,     0.58659,     0.58759,     0.58859,     0.58959,     0.59059,     0.59159,     0.59259,     0.59359,     0.59459,      0.5956,      0.5966,      0.5976,      0.5986,      0.5996,\n",
              "            0.6006,      0.6016,      0.6026,      0.6036,      0.6046,     0.60561,     0.60661,     0.60761,     0.60861,     0.60961,     0.61061,     0.61161,     0.61261,     0.61361,     0.61461,     0.61562,     0.61662,     0.61762,     0.61862,     0.61962,     0.62062,     0.62162,     0.62262,     0.62362,\n",
              "           0.62462,     0.62563,     0.62663,     0.62763,     0.62863,     0.62963,     0.63063,     0.63163,     0.63263,     0.63363,     0.63463,     0.63564,     0.63664,     0.63764,     0.63864,     0.63964,     0.64064,     0.64164,     0.64264,     0.64364,     0.64464,     0.64565,     0.64665,     0.64765,\n",
              "           0.64865,     0.64965,     0.65065,     0.65165,     0.65265,     0.65365,     0.65465,     0.65566,     0.65666,     0.65766,     0.65866,     0.65966,     0.66066,     0.66166,     0.66266,     0.66366,     0.66466,     0.66567,     0.66667,     0.66767,     0.66867,     0.66967,     0.67067,     0.67167,\n",
              "           0.67267,     0.67367,     0.67467,     0.67568,     0.67668,     0.67768,     0.67868,     0.67968,     0.68068,     0.68168,     0.68268,     0.68368,     0.68468,     0.68569,     0.68669,     0.68769,     0.68869,     0.68969,     0.69069,     0.69169,     0.69269,     0.69369,     0.69469,      0.6957,\n",
              "            0.6967,      0.6977,      0.6987,      0.6997,      0.7007,      0.7017,      0.7027,      0.7037,      0.7047,     0.70571,     0.70671,     0.70771,     0.70871,     0.70971,     0.71071,     0.71171,     0.71271,     0.71371,     0.71471,     0.71572,     0.71672,     0.71772,     0.71872,     0.71972,\n",
              "           0.72072,     0.72172,     0.72272,     0.72372,     0.72472,     0.72573,     0.72673,     0.72773,     0.72873,     0.72973,     0.73073,     0.73173,     0.73273,     0.73373,     0.73473,     0.73574,     0.73674,     0.73774,     0.73874,     0.73974,     0.74074,     0.74174,     0.74274,     0.74374,\n",
              "           0.74474,     0.74575,     0.74675,     0.74775,     0.74875,     0.74975,     0.75075,     0.75175,     0.75275,     0.75375,     0.75475,     0.75576,     0.75676,     0.75776,     0.75876,     0.75976,     0.76076,     0.76176,     0.76276,     0.76376,     0.76476,     0.76577,     0.76677,     0.76777,\n",
              "           0.76877,     0.76977,     0.77077,     0.77177,     0.77277,     0.77377,     0.77477,     0.77578,     0.77678,     0.77778,     0.77878,     0.77978,     0.78078,     0.78178,     0.78278,     0.78378,     0.78478,     0.78579,     0.78679,     0.78779,     0.78879,     0.78979,     0.79079,     0.79179,\n",
              "           0.79279,     0.79379,     0.79479,      0.7958,      0.7968,      0.7978,      0.7988,      0.7998,      0.8008,      0.8018,      0.8028,      0.8038,      0.8048,     0.80581,     0.80681,     0.80781,     0.80881,     0.80981,     0.81081,     0.81181,     0.81281,     0.81381,     0.81481,     0.81582,\n",
              "           0.81682,     0.81782,     0.81882,     0.81982,     0.82082,     0.82182,     0.82282,     0.82382,     0.82482,     0.82583,     0.82683,     0.82783,     0.82883,     0.82983,     0.83083,     0.83183,     0.83283,     0.83383,     0.83483,     0.83584,     0.83684,     0.83784,     0.83884,     0.83984,\n",
              "           0.84084,     0.84184,     0.84284,     0.84384,     0.84484,     0.84585,     0.84685,     0.84785,     0.84885,     0.84985,     0.85085,     0.85185,     0.85285,     0.85385,     0.85485,     0.85586,     0.85686,     0.85786,     0.85886,     0.85986,     0.86086,     0.86186,     0.86286,     0.86386,\n",
              "           0.86486,     0.86587,     0.86687,     0.86787,     0.86887,     0.86987,     0.87087,     0.87187,     0.87287,     0.87387,     0.87487,     0.87588,     0.87688,     0.87788,     0.87888,     0.87988,     0.88088,     0.88188,     0.88288,     0.88388,     0.88488,     0.88589,     0.88689,     0.88789,\n",
              "           0.88889,     0.88989,     0.89089,     0.89189,     0.89289,     0.89389,     0.89489,      0.8959,      0.8969,      0.8979,      0.8989,      0.8999,      0.9009,      0.9019,      0.9029,      0.9039,      0.9049,     0.90591,     0.90691,     0.90791,     0.90891,     0.90991,     0.91091,     0.91191,\n",
              "           0.91291,     0.91391,     0.91491,     0.91592,     0.91692,     0.91792,     0.91892,     0.91992,     0.92092,     0.92192,     0.92292,     0.92392,     0.92492,     0.92593,     0.92693,     0.92793,     0.92893,     0.92993,     0.93093,     0.93193,     0.93293,     0.93393,     0.93493,     0.93594,\n",
              "           0.93694,     0.93794,     0.93894,     0.93994,     0.94094,     0.94194,     0.94294,     0.94394,     0.94494,     0.94595,     0.94695,     0.94795,     0.94895,     0.94995,     0.95095,     0.95195,     0.95295,     0.95395,     0.95495,     0.95596,     0.95696,     0.95796,     0.95896,     0.95996,\n",
              "           0.96096,     0.96196,     0.96296,     0.96396,     0.96496,     0.96597,     0.96697,     0.96797,     0.96897,     0.96997,     0.97097,     0.97197,     0.97297,     0.97397,     0.97497,     0.97598,     0.97698,     0.97798,     0.97898,     0.97998,     0.98098,     0.98198,     0.98298,     0.98398,\n",
              "           0.98498,     0.98599,     0.98699,     0.98799,     0.98899,     0.98999,     0.99099,     0.99199,     0.99299,     0.99399,     0.99499,       0.996,       0.997,       0.998,       0.999,           1]), array([[    0.57504,     0.57506,     0.67002,     0.71665,     0.74752,     0.76777,     0.78066,     0.79126,     0.80112,     0.80767,     0.81435,     0.81958,     0.82467,     0.82898,     0.83335,     0.83641,     0.83893,     0.84184,     0.84449,     0.84683,     0.84836,     0.85075,     0.85313,\n",
              "            0.85557,     0.85779,     0.86024,     0.86141,       0.863,      0.8649,     0.86702,      0.8678,     0.87002,      0.8709,     0.87233,     0.87399,      0.8749,     0.87559,     0.87548,     0.87612,     0.87716,     0.87808,     0.87907,     0.88024,     0.88123,      0.8833,      0.8847,\n",
              "            0.88498,     0.88589,     0.88662,     0.88723,     0.88759,      0.8878,     0.88924,     0.88955,     0.88992,     0.89033,     0.89062,     0.89119,     0.89143,     0.89219,     0.89286,     0.89303,     0.89386,     0.89417,     0.89437,     0.89589,     0.89631,     0.89643,     0.89641,\n",
              "            0.89654,     0.89721,     0.89736,     0.89756,     0.89769,     0.89781,     0.89851,     0.89933,     0.90009,     0.90044,     0.90103,     0.90164,     0.90194,     0.90245,     0.90239,     0.90245,     0.90264,     0.90307,     0.90327,     0.90357,     0.90381,     0.90396,     0.90409,\n",
              "            0.90457,     0.90448,     0.90509,     0.90521,     0.90555,     0.90601,     0.90641,     0.90656,     0.90684,     0.90753,     0.90794,     0.90851,     0.90866,     0.90849,     0.90868,       0.909,     0.90914,     0.90924,     0.90943,     0.90992,     0.91022,     0.91064,     0.91059,\n",
              "            0.91066,     0.91099,     0.91115,     0.91177,     0.91135,     0.91142,     0.91149,     0.91161,     0.91196,     0.91189,     0.91206,     0.91226,     0.91234,     0.91261,     0.91302,     0.91309,     0.91317,     0.91336,     0.91383,     0.91407,     0.91465,     0.91456,     0.91448,\n",
              "            0.91417,     0.91469,     0.91481,      0.9153,     0.91559,     0.91598,     0.91615,     0.91623,     0.91638,     0.91658,     0.91664,      0.9167,     0.91684,     0.91659,     0.91639,     0.91696,     0.91716,     0.91775,     0.91801,     0.91819,     0.91835,      0.9187,     0.91881,\n",
              "             0.9194,     0.91994,     0.91998,     0.92001,     0.92004,     0.92007,      0.9201,     0.92014,      0.9203,     0.92043,     0.92049,     0.92056,     0.92079,     0.92123,     0.92167,     0.92181,     0.92143,     0.92163,     0.92191,     0.92198,     0.92206,     0.92233,     0.92241,\n",
              "            0.92248,      0.9224,     0.92204,     0.92216,     0.92237,     0.92253,     0.92264,     0.92327,     0.92363,     0.92394,     0.92419,     0.92394,     0.92463,     0.92476,     0.92504,     0.92489,     0.92458,     0.92473,      0.9246,     0.92451,     0.92456,      0.9246,     0.92464,\n",
              "            0.92468,     0.92472,     0.92499,     0.92516,       0.925,     0.92504,     0.92528,      0.9251,     0.92537,     0.92546,     0.92554,     0.92585,     0.92595,     0.92623,     0.92636,     0.92672,      0.9274,     0.92761,     0.92781,     0.92784,     0.92788,     0.92791,     0.92794,\n",
              "            0.92797,     0.92801,     0.92804,     0.92807,     0.92809,     0.92812,     0.92815,     0.92818,      0.9282,     0.92823,     0.92826,      0.9284,     0.92853,     0.92865,     0.92873,     0.92877,     0.92882,     0.92886,      0.9289,     0.92897,     0.92942,      0.9296,     0.92986,\n",
              "            0.93001,     0.93032,     0.93037,     0.93042,     0.93047,     0.93052,     0.93062,     0.93072,     0.93071,     0.93064,     0.93057,      0.9305,     0.93052,     0.93055,     0.93058,     0.93061,     0.93065,     0.93068,     0.93071,     0.93076,     0.93083,      0.9309,      0.9308,\n",
              "            0.93101,     0.93117,     0.93136,     0.93132,     0.93127,     0.93122,     0.93118,     0.93113,     0.93134,     0.93143,     0.93152,     0.93175,     0.93206,      0.9321,     0.93214,     0.93219,     0.93223,     0.93239,      0.9327,     0.93242,     0.93235,     0.93228,      0.9322,\n",
              "            0.93222,     0.93227,     0.93231,     0.93235,      0.9324,      0.9328,     0.93289,     0.93291,     0.93293,     0.93295,     0.93297,     0.93299,     0.93301,     0.93303,     0.93305,     0.93307,     0.93309,     0.93286,     0.93306,     0.93302,     0.93297,     0.93292,     0.93287,\n",
              "            0.93282,     0.93306,     0.93311,     0.93316,     0.93321,     0.93327,     0.93343,     0.93345,     0.93316,     0.93312,     0.93307,     0.93302,     0.93297,     0.93317,     0.93308,       0.933,     0.93292,     0.93335,     0.93321,      0.9336,     0.93386,       0.934,     0.93417,\n",
              "            0.93428,     0.93432,     0.93437,     0.93442,     0.93446,      0.9346,     0.93477,     0.93487,     0.93516,     0.93496,     0.93483,     0.93472,     0.93441,     0.93419,      0.9341,     0.93405,     0.93401,     0.93396,     0.93392,     0.93387,      0.9338,     0.93371,     0.93362,\n",
              "            0.93354,     0.93346,     0.93338,     0.93356,     0.93363,      0.9337,     0.93376,     0.93399,     0.93413,     0.93425,      0.9345,     0.93461,     0.93473,     0.93489,     0.93503,     0.93516,     0.93544,     0.93547,      0.9355,     0.93553,     0.93556,     0.93559,     0.93562,\n",
              "            0.93565,     0.93548,     0.93542,     0.93548,     0.93554,     0.93561,     0.93582,     0.93575,     0.93568,     0.93561,     0.93552,     0.93541,      0.9353,     0.93518,     0.93506,      0.9351,     0.93513,     0.93517,     0.93521,     0.93524,     0.93528,     0.93511,     0.93513,\n",
              "            0.93524,     0.93515,     0.93506,     0.93501,     0.93505,      0.9351,     0.93514,     0.93519,     0.93521,     0.93511,     0.93501,     0.93494,      0.9349,     0.93486,     0.93482,     0.93477,     0.93473,     0.93469,     0.93467,     0.93465,     0.93463,      0.9346,     0.93458,\n",
              "            0.93456,     0.93453,     0.93451,     0.93449,     0.93447,     0.93444,     0.93413,     0.93403,     0.93393,     0.93385,     0.93378,     0.93371,     0.93365,     0.93345,      0.9334,     0.93346,     0.93352,     0.93357,     0.93371,     0.93377,     0.93363,     0.93354,     0.93349,\n",
              "            0.93345,      0.9334,     0.93335,     0.93331,     0.93309,     0.93296,     0.93285,     0.93273,      0.9325,     0.93248,     0.93246,     0.93244,     0.93242,      0.9324,     0.93238,     0.93236,     0.93234,     0.93232,      0.9323,     0.93228,     0.93226,     0.93224,      0.9323,\n",
              "            0.93243,     0.93263,     0.93266,     0.93261,     0.93255,      0.9325,     0.93244,     0.93237,      0.9323,     0.93222,     0.93207,     0.93193,     0.93199,     0.93205,     0.93211,      0.9321,     0.93206,     0.93201,     0.93196,     0.93191,     0.93187,     0.93162,     0.93164,\n",
              "            0.93167,      0.9317,     0.93172,     0.93175,     0.93178,      0.9318,     0.93183,     0.93193,     0.93203,     0.93196,      0.9318,     0.93154,     0.93157,      0.9316,     0.93163,     0.93166,     0.93169,     0.93172,     0.93175,     0.93174,     0.93169,     0.93164,      0.9316,\n",
              "            0.93155,      0.9315,     0.93151,     0.93154,     0.93156,     0.93158,      0.9316,     0.93163,     0.93165,     0.93167,      0.9317,     0.93172,     0.93159,     0.93132,     0.93103,     0.93098,     0.93109,     0.93117,      0.9312,     0.93123,     0.93126,     0.93129,     0.93132,\n",
              "            0.93135,     0.93138,     0.93124,     0.93104,     0.93087,     0.93087,     0.93089,     0.93091,     0.93093,     0.93095,     0.93097,     0.93099,       0.931,     0.93102,     0.93104,     0.93106,     0.93108,     0.93116,     0.93126,     0.93134,     0.93139,     0.93144,     0.93149,\n",
              "            0.93154,     0.93117,     0.93099,      0.9309,     0.93081,      0.9308,     0.93093,     0.93087,     0.93072,     0.93079,     0.93086,     0.93093,     0.93085,     0.93072,     0.93071,     0.93076,     0.93081,     0.93086,     0.93091,     0.93101,     0.93111,     0.93129,     0.93113,\n",
              "            0.93135,     0.93123,     0.93112,     0.93101,     0.93092,     0.93082,     0.93074,     0.93067,     0.93059,     0.93061,     0.93076,     0.93071,     0.93067,     0.93062,     0.93058,     0.93053,     0.93053,     0.93059,     0.93065,     0.93072,     0.93058,     0.93018,     0.93011,\n",
              "            0.93004,     0.92997,        0.93,     0.93013,     0.93002,      0.9299,     0.92969,     0.92931,     0.92916,     0.92905,     0.92909,     0.92912,     0.92916,      0.9292,     0.92923,     0.92927,     0.92955,     0.92965,     0.92972,      0.9295,     0.92966,     0.92941,     0.92933,\n",
              "            0.92924,     0.92897,     0.92899,     0.92909,     0.92899,     0.92882,     0.92874,     0.92865,     0.92881,     0.92874,     0.92866,     0.92859,     0.92841,     0.92802,     0.92813,     0.92824,     0.92792,     0.92775,     0.92785,     0.92791,      0.9278,     0.92769,     0.92755,\n",
              "            0.92744,     0.92768,     0.92778,      0.9276,     0.92782,     0.92789,     0.92795,     0.92802,     0.92784,     0.92781,     0.92791,     0.92803,     0.92825,     0.92833,     0.92841,     0.92829,      0.9281,       0.928,     0.92786,     0.92767,     0.92796,     0.92799,     0.92777,\n",
              "            0.92764,     0.92728,     0.92684,     0.92655,     0.92618,       0.926,     0.92603,     0.92607,     0.92576,     0.92551,     0.92536,      0.9249,     0.92489,     0.92474,     0.92497,     0.92507,     0.92516,     0.92526,     0.92538,     0.92514,       0.925,     0.92484,     0.92463,\n",
              "            0.92481,     0.92469,     0.92475,     0.92462,     0.92483,     0.92492,     0.92502,     0.92458,     0.92431,     0.92394,     0.92409,     0.92372,     0.92346,     0.92385,     0.92396,     0.92395,      0.9236,     0.92353,      0.9236,     0.92367,     0.92359,     0.92333,     0.92317,\n",
              "            0.92293,     0.92276,     0.92262,     0.92252,     0.92289,     0.92284,     0.92292,     0.92276,     0.92257,     0.92233,     0.92169,     0.92108,      0.9209,     0.92073,     0.92083,     0.92092,     0.92099,     0.92107,     0.92114,     0.92123,     0.92133,     0.92108,     0.92094,\n",
              "             0.9208,     0.92066,     0.92028,     0.92039,     0.92051,     0.92007,     0.91998,     0.91999,     0.92009,     0.91994,     0.91969,     0.91883,     0.91818,     0.91832,     0.91831,     0.91757,     0.91773,     0.91749,     0.91764,     0.91795,     0.91685,     0.91622,      0.9163,\n",
              "            0.91639,     0.91605,     0.91538,     0.91496,     0.91375,     0.91383,     0.91363,     0.91251,     0.91172,     0.91109,     0.91043,     0.90943,     0.90853,     0.90777,     0.90678,     0.90555,     0.90441,     0.90374,     0.90216,     0.89986,     0.89966,     0.89813,     0.89675,\n",
              "             0.8954,     0.89427,      0.8931,     0.89105,     0.88823,     0.88634,     0.88578,     0.88331,     0.88155,     0.87889,     0.87595,     0.87455,     0.87214,     0.86883,     0.86551,     0.86432,     0.86192,     0.86109,     0.86008,     0.85662,     0.85453,     0.85263,     0.84864,\n",
              "            0.84392,     0.83939,     0.83522,     0.83147,     0.82824,     0.82392,     0.81872,     0.81368,     0.80741,     0.80302,     0.79772,     0.78851,     0.78272,     0.77586,     0.77093,     0.76601,     0.76016,     0.75234,     0.74746,     0.74149,     0.73431,     0.72769,     0.72108,\n",
              "            0.71007,     0.69781,     0.69107,     0.68415,     0.67366,     0.66546,     0.65888,     0.65102,     0.64091,      0.6303,     0.62284,     0.61364,     0.59959,     0.58382,     0.56922,     0.56142,     0.55196,     0.54358,     0.52356,     0.50866,     0.49299,     0.48003,     0.46708,\n",
              "            0.45139,     0.43714,     0.42231,     0.40586,     0.38847,     0.37812,      0.3663,      0.3527,     0.33363,     0.32187,     0.30913,     0.28775,     0.26434,     0.24975,     0.24011,     0.22776,     0.22121,     0.20829,      0.1954,     0.18196,     0.16977,     0.15915,     0.15664,\n",
              "             0.1525,     0.14657,     0.13736,      0.1309,     0.12134,     0.11704,      0.1106,     0.10447,     0.10286,    0.097221,    0.093111,    0.087713,    0.081622,    0.076136,    0.072112,    0.068108,    0.063973,    0.059919,    0.056217,    0.052468,    0.045419,    0.044394,    0.041561,\n",
              "           0.040773,    0.036137,     0.03309,    0.030728,     0.02679,    0.024103,    0.022221,    0.018661,    0.016418,    0.015906,    0.013947,    0.012878,    0.010704,    0.010226,   0.0091527,   0.0078693,   0.0075099,   0.0071505,   0.0058912,   0.0054995,   0.0051076,   0.0037642,   0.0031778,\n",
              "          0.0025438,   0.0019389,   0.0016528,   0.0013667,   0.0010805,           0,           0,           0,           0,           0,           0,           0,           0,           0,           0,           0,           0,           0,           0,           0,           0,           0,           0,\n",
              "                  0,           0,           0,           0,           0,           0,           0,           0,           0,           0,           0,           0,           0,           0,           0,           0,           0,           0,           0,           0,           0,           0,           0,\n",
              "                  0,           0,           0,           0,           0,           0,           0,           0,           0,           0,           0]]), 'Confidence', 'F1'], [array([          0,    0.001001,    0.002002,    0.003003,    0.004004,    0.005005,    0.006006,    0.007007,    0.008008,    0.009009,     0.01001,    0.011011,    0.012012,    0.013013,    0.014014,    0.015015,    0.016016,    0.017017,    0.018018,    0.019019,     0.02002,    0.021021,    0.022022,    0.023023,\n",
              "          0.024024,    0.025025,    0.026026,    0.027027,    0.028028,    0.029029,     0.03003,    0.031031,    0.032032,    0.033033,    0.034034,    0.035035,    0.036036,    0.037037,    0.038038,    0.039039,     0.04004,    0.041041,    0.042042,    0.043043,    0.044044,    0.045045,    0.046046,    0.047047,\n",
              "          0.048048,    0.049049,     0.05005,    0.051051,    0.052052,    0.053053,    0.054054,    0.055055,    0.056056,    0.057057,    0.058058,    0.059059,     0.06006,    0.061061,    0.062062,    0.063063,    0.064064,    0.065065,    0.066066,    0.067067,    0.068068,    0.069069,     0.07007,    0.071071,\n",
              "          0.072072,    0.073073,    0.074074,    0.075075,    0.076076,    0.077077,    0.078078,    0.079079,     0.08008,    0.081081,    0.082082,    0.083083,    0.084084,    0.085085,    0.086086,    0.087087,    0.088088,    0.089089,     0.09009,    0.091091,    0.092092,    0.093093,    0.094094,    0.095095,\n",
              "          0.096096,    0.097097,    0.098098,    0.099099,      0.1001,      0.1011,      0.1021,      0.1031,      0.1041,     0.10511,     0.10611,     0.10711,     0.10811,     0.10911,     0.11011,     0.11111,     0.11211,     0.11311,     0.11411,     0.11512,     0.11612,     0.11712,     0.11812,     0.11912,\n",
              "           0.12012,     0.12112,     0.12212,     0.12312,     0.12412,     0.12513,     0.12613,     0.12713,     0.12813,     0.12913,     0.13013,     0.13113,     0.13213,     0.13313,     0.13413,     0.13514,     0.13614,     0.13714,     0.13814,     0.13914,     0.14014,     0.14114,     0.14214,     0.14314,\n",
              "           0.14414,     0.14515,     0.14615,     0.14715,     0.14815,     0.14915,     0.15015,     0.15115,     0.15215,     0.15315,     0.15415,     0.15516,     0.15616,     0.15716,     0.15816,     0.15916,     0.16016,     0.16116,     0.16216,     0.16316,     0.16416,     0.16517,     0.16617,     0.16717,\n",
              "           0.16817,     0.16917,     0.17017,     0.17117,     0.17217,     0.17317,     0.17417,     0.17518,     0.17618,     0.17718,     0.17818,     0.17918,     0.18018,     0.18118,     0.18218,     0.18318,     0.18418,     0.18519,     0.18619,     0.18719,     0.18819,     0.18919,     0.19019,     0.19119,\n",
              "           0.19219,     0.19319,     0.19419,      0.1952,      0.1962,      0.1972,      0.1982,      0.1992,      0.2002,      0.2012,      0.2022,      0.2032,      0.2042,     0.20521,     0.20621,     0.20721,     0.20821,     0.20921,     0.21021,     0.21121,     0.21221,     0.21321,     0.21421,     0.21522,\n",
              "           0.21622,     0.21722,     0.21822,     0.21922,     0.22022,     0.22122,     0.22222,     0.22322,     0.22422,     0.22523,     0.22623,     0.22723,     0.22823,     0.22923,     0.23023,     0.23123,     0.23223,     0.23323,     0.23423,     0.23524,     0.23624,     0.23724,     0.23824,     0.23924,\n",
              "           0.24024,     0.24124,     0.24224,     0.24324,     0.24424,     0.24525,     0.24625,     0.24725,     0.24825,     0.24925,     0.25025,     0.25125,     0.25225,     0.25325,     0.25425,     0.25526,     0.25626,     0.25726,     0.25826,     0.25926,     0.26026,     0.26126,     0.26226,     0.26326,\n",
              "           0.26426,     0.26527,     0.26627,     0.26727,     0.26827,     0.26927,     0.27027,     0.27127,     0.27227,     0.27327,     0.27427,     0.27528,     0.27628,     0.27728,     0.27828,     0.27928,     0.28028,     0.28128,     0.28228,     0.28328,     0.28428,     0.28529,     0.28629,     0.28729,\n",
              "           0.28829,     0.28929,     0.29029,     0.29129,     0.29229,     0.29329,     0.29429,      0.2953,      0.2963,      0.2973,      0.2983,      0.2993,      0.3003,      0.3013,      0.3023,      0.3033,      0.3043,     0.30531,     0.30631,     0.30731,     0.30831,     0.30931,     0.31031,     0.31131,\n",
              "           0.31231,     0.31331,     0.31431,     0.31532,     0.31632,     0.31732,     0.31832,     0.31932,     0.32032,     0.32132,     0.32232,     0.32332,     0.32432,     0.32533,     0.32633,     0.32733,     0.32833,     0.32933,     0.33033,     0.33133,     0.33233,     0.33333,     0.33433,     0.33534,\n",
              "           0.33634,     0.33734,     0.33834,     0.33934,     0.34034,     0.34134,     0.34234,     0.34334,     0.34434,     0.34535,     0.34635,     0.34735,     0.34835,     0.34935,     0.35035,     0.35135,     0.35235,     0.35335,     0.35435,     0.35536,     0.35636,     0.35736,     0.35836,     0.35936,\n",
              "           0.36036,     0.36136,     0.36236,     0.36336,     0.36436,     0.36537,     0.36637,     0.36737,     0.36837,     0.36937,     0.37037,     0.37137,     0.37237,     0.37337,     0.37437,     0.37538,     0.37638,     0.37738,     0.37838,     0.37938,     0.38038,     0.38138,     0.38238,     0.38338,\n",
              "           0.38438,     0.38539,     0.38639,     0.38739,     0.38839,     0.38939,     0.39039,     0.39139,     0.39239,     0.39339,     0.39439,      0.3954,      0.3964,      0.3974,      0.3984,      0.3994,      0.4004,      0.4014,      0.4024,      0.4034,      0.4044,     0.40541,     0.40641,     0.40741,\n",
              "           0.40841,     0.40941,     0.41041,     0.41141,     0.41241,     0.41341,     0.41441,     0.41542,     0.41642,     0.41742,     0.41842,     0.41942,     0.42042,     0.42142,     0.42242,     0.42342,     0.42442,     0.42543,     0.42643,     0.42743,     0.42843,     0.42943,     0.43043,     0.43143,\n",
              "           0.43243,     0.43343,     0.43443,     0.43544,     0.43644,     0.43744,     0.43844,     0.43944,     0.44044,     0.44144,     0.44244,     0.44344,     0.44444,     0.44545,     0.44645,     0.44745,     0.44845,     0.44945,     0.45045,     0.45145,     0.45245,     0.45345,     0.45445,     0.45546,\n",
              "           0.45646,     0.45746,     0.45846,     0.45946,     0.46046,     0.46146,     0.46246,     0.46346,     0.46446,     0.46547,     0.46647,     0.46747,     0.46847,     0.46947,     0.47047,     0.47147,     0.47247,     0.47347,     0.47447,     0.47548,     0.47648,     0.47748,     0.47848,     0.47948,\n",
              "           0.48048,     0.48148,     0.48248,     0.48348,     0.48448,     0.48549,     0.48649,     0.48749,     0.48849,     0.48949,     0.49049,     0.49149,     0.49249,     0.49349,     0.49449,      0.4955,      0.4965,      0.4975,      0.4985,      0.4995,      0.5005,      0.5015,      0.5025,      0.5035,\n",
              "            0.5045,     0.50551,     0.50651,     0.50751,     0.50851,     0.50951,     0.51051,     0.51151,     0.51251,     0.51351,     0.51451,     0.51552,     0.51652,     0.51752,     0.51852,     0.51952,     0.52052,     0.52152,     0.52252,     0.52352,     0.52452,     0.52553,     0.52653,     0.52753,\n",
              "           0.52853,     0.52953,     0.53053,     0.53153,     0.53253,     0.53353,     0.53453,     0.53554,     0.53654,     0.53754,     0.53854,     0.53954,     0.54054,     0.54154,     0.54254,     0.54354,     0.54454,     0.54555,     0.54655,     0.54755,     0.54855,     0.54955,     0.55055,     0.55155,\n",
              "           0.55255,     0.55355,     0.55455,     0.55556,     0.55656,     0.55756,     0.55856,     0.55956,     0.56056,     0.56156,     0.56256,     0.56356,     0.56456,     0.56557,     0.56657,     0.56757,     0.56857,     0.56957,     0.57057,     0.57157,     0.57257,     0.57357,     0.57457,     0.57558,\n",
              "           0.57658,     0.57758,     0.57858,     0.57958,     0.58058,     0.58158,     0.58258,     0.58358,     0.58458,     0.58559,     0.58659,     0.58759,     0.58859,     0.58959,     0.59059,     0.59159,     0.59259,     0.59359,     0.59459,      0.5956,      0.5966,      0.5976,      0.5986,      0.5996,\n",
              "            0.6006,      0.6016,      0.6026,      0.6036,      0.6046,     0.60561,     0.60661,     0.60761,     0.60861,     0.60961,     0.61061,     0.61161,     0.61261,     0.61361,     0.61461,     0.61562,     0.61662,     0.61762,     0.61862,     0.61962,     0.62062,     0.62162,     0.62262,     0.62362,\n",
              "           0.62462,     0.62563,     0.62663,     0.62763,     0.62863,     0.62963,     0.63063,     0.63163,     0.63263,     0.63363,     0.63463,     0.63564,     0.63664,     0.63764,     0.63864,     0.63964,     0.64064,     0.64164,     0.64264,     0.64364,     0.64464,     0.64565,     0.64665,     0.64765,\n",
              "           0.64865,     0.64965,     0.65065,     0.65165,     0.65265,     0.65365,     0.65465,     0.65566,     0.65666,     0.65766,     0.65866,     0.65966,     0.66066,     0.66166,     0.66266,     0.66366,     0.66466,     0.66567,     0.66667,     0.66767,     0.66867,     0.66967,     0.67067,     0.67167,\n",
              "           0.67267,     0.67367,     0.67467,     0.67568,     0.67668,     0.67768,     0.67868,     0.67968,     0.68068,     0.68168,     0.68268,     0.68368,     0.68468,     0.68569,     0.68669,     0.68769,     0.68869,     0.68969,     0.69069,     0.69169,     0.69269,     0.69369,     0.69469,      0.6957,\n",
              "            0.6967,      0.6977,      0.6987,      0.6997,      0.7007,      0.7017,      0.7027,      0.7037,      0.7047,     0.70571,     0.70671,     0.70771,     0.70871,     0.70971,     0.71071,     0.71171,     0.71271,     0.71371,     0.71471,     0.71572,     0.71672,     0.71772,     0.71872,     0.71972,\n",
              "           0.72072,     0.72172,     0.72272,     0.72372,     0.72472,     0.72573,     0.72673,     0.72773,     0.72873,     0.72973,     0.73073,     0.73173,     0.73273,     0.73373,     0.73473,     0.73574,     0.73674,     0.73774,     0.73874,     0.73974,     0.74074,     0.74174,     0.74274,     0.74374,\n",
              "           0.74474,     0.74575,     0.74675,     0.74775,     0.74875,     0.74975,     0.75075,     0.75175,     0.75275,     0.75375,     0.75475,     0.75576,     0.75676,     0.75776,     0.75876,     0.75976,     0.76076,     0.76176,     0.76276,     0.76376,     0.76476,     0.76577,     0.76677,     0.76777,\n",
              "           0.76877,     0.76977,     0.77077,     0.77177,     0.77277,     0.77377,     0.77477,     0.77578,     0.77678,     0.77778,     0.77878,     0.77978,     0.78078,     0.78178,     0.78278,     0.78378,     0.78478,     0.78579,     0.78679,     0.78779,     0.78879,     0.78979,     0.79079,     0.79179,\n",
              "           0.79279,     0.79379,     0.79479,      0.7958,      0.7968,      0.7978,      0.7988,      0.7998,      0.8008,      0.8018,      0.8028,      0.8038,      0.8048,     0.80581,     0.80681,     0.80781,     0.80881,     0.80981,     0.81081,     0.81181,     0.81281,     0.81381,     0.81481,     0.81582,\n",
              "           0.81682,     0.81782,     0.81882,     0.81982,     0.82082,     0.82182,     0.82282,     0.82382,     0.82482,     0.82583,     0.82683,     0.82783,     0.82883,     0.82983,     0.83083,     0.83183,     0.83283,     0.83383,     0.83483,     0.83584,     0.83684,     0.83784,     0.83884,     0.83984,\n",
              "           0.84084,     0.84184,     0.84284,     0.84384,     0.84484,     0.84585,     0.84685,     0.84785,     0.84885,     0.84985,     0.85085,     0.85185,     0.85285,     0.85385,     0.85485,     0.85586,     0.85686,     0.85786,     0.85886,     0.85986,     0.86086,     0.86186,     0.86286,     0.86386,\n",
              "           0.86486,     0.86587,     0.86687,     0.86787,     0.86887,     0.86987,     0.87087,     0.87187,     0.87287,     0.87387,     0.87487,     0.87588,     0.87688,     0.87788,     0.87888,     0.87988,     0.88088,     0.88188,     0.88288,     0.88388,     0.88488,     0.88589,     0.88689,     0.88789,\n",
              "           0.88889,     0.88989,     0.89089,     0.89189,     0.89289,     0.89389,     0.89489,      0.8959,      0.8969,      0.8979,      0.8989,      0.8999,      0.9009,      0.9019,      0.9029,      0.9039,      0.9049,     0.90591,     0.90691,     0.90791,     0.90891,     0.90991,     0.91091,     0.91191,\n",
              "           0.91291,     0.91391,     0.91491,     0.91592,     0.91692,     0.91792,     0.91892,     0.91992,     0.92092,     0.92192,     0.92292,     0.92392,     0.92492,     0.92593,     0.92693,     0.92793,     0.92893,     0.92993,     0.93093,     0.93193,     0.93293,     0.93393,     0.93493,     0.93594,\n",
              "           0.93694,     0.93794,     0.93894,     0.93994,     0.94094,     0.94194,     0.94294,     0.94394,     0.94494,     0.94595,     0.94695,     0.94795,     0.94895,     0.94995,     0.95095,     0.95195,     0.95295,     0.95395,     0.95495,     0.95596,     0.95696,     0.95796,     0.95896,     0.95996,\n",
              "           0.96096,     0.96196,     0.96296,     0.96396,     0.96496,     0.96597,     0.96697,     0.96797,     0.96897,     0.96997,     0.97097,     0.97197,     0.97297,     0.97397,     0.97497,     0.97598,     0.97698,     0.97798,     0.97898,     0.97998,     0.98098,     0.98198,     0.98298,     0.98398,\n",
              "           0.98498,     0.98599,     0.98699,     0.98799,     0.98899,     0.98999,     0.99099,     0.99199,     0.99299,     0.99399,     0.99499,       0.996,       0.997,       0.998,       0.999,           1]), array([[     0.4067,     0.40672,     0.50951,     0.56646,     0.60634,     0.63352,     0.65186,     0.66685,     0.68097,     0.69151,     0.70239,      0.7102,     0.71816,       0.725,       0.732,     0.73674,     0.74066,      0.7455,     0.74967,     0.75335,     0.75578,      0.7599,     0.76369,\n",
              "            0.76762,      0.7712,     0.77517,     0.77707,     0.77966,      0.7831,     0.78672,      0.7882,     0.79186,       0.794,     0.79637,     0.79914,     0.80101,     0.80217,     0.80251,     0.80375,     0.80549,     0.80705,     0.80873,     0.81106,      0.8131,     0.81662,     0.81938,\n",
              "            0.82022,      0.8218,     0.82305,     0.82409,     0.82472,     0.82509,     0.82758,     0.82811,     0.82889,     0.82984,     0.83034,     0.83134,     0.83174,     0.83307,     0.83425,     0.83453,     0.83636,     0.83699,     0.83764,     0.84031,     0.84105,     0.84164,     0.84198,\n",
              "            0.84222,     0.84339,     0.84366,     0.84401,     0.84425,     0.84445,      0.8457,     0.84715,      0.8485,     0.84952,     0.85056,     0.85166,      0.8522,     0.85309,     0.85338,     0.85389,     0.85422,       0.855,     0.85536,     0.85621,     0.85672,       0.857,     0.85723,\n",
              "             0.8581,     0.85873,     0.86024,     0.86045,     0.86106,     0.86189,     0.86262,     0.86289,     0.86339,     0.86465,      0.8654,     0.86644,     0.86678,      0.8668,     0.86715,     0.86774,     0.86799,     0.86817,     0.86852,     0.86942,     0.86996,     0.87073,     0.87099,\n",
              "            0.87118,     0.87179,     0.87207,     0.87321,     0.87327,      0.8734,     0.87353,     0.87375,     0.87443,     0.87467,       0.875,     0.87537,     0.87592,     0.87642,     0.87718,     0.87732,     0.87746,     0.87781,     0.87867,     0.87955,     0.88067,     0.88065,     0.88064,\n",
              "            0.88058,     0.88155,     0.88219,      0.8831,     0.88365,     0.88438,     0.88469,     0.88485,     0.88512,      0.8855,     0.88561,     0.88572,     0.88599,     0.88614,     0.88644,     0.88751,     0.88787,     0.88898,     0.88947,     0.88981,     0.89011,     0.89076,     0.89098,\n",
              "            0.89209,     0.89311,     0.89317,     0.89323,     0.89329,     0.89335,     0.89341,     0.89348,     0.89378,     0.89402,     0.89415,     0.89427,     0.89471,     0.89554,     0.89637,     0.89684,      0.8968,     0.89717,     0.89772,     0.89786,     0.89799,     0.89852,     0.89866,\n",
              "             0.8988,     0.89885,     0.89885,     0.89908,     0.89948,     0.89978,     0.89999,     0.90119,     0.90233,     0.90292,     0.90341,     0.90336,      0.9047,     0.90494,     0.90551,     0.90548,     0.90551,     0.90579,     0.90582,     0.90584,     0.90592,       0.906,     0.90607,\n",
              "            0.90615,     0.90623,     0.90675,     0.90708,     0.90707,     0.90731,     0.90791,     0.90788,      0.9084,     0.90857,     0.90873,     0.90933,     0.90951,     0.91006,     0.91031,     0.91101,     0.91232,     0.91274,     0.91311,     0.91318,     0.91324,     0.91331,     0.91337,\n",
              "            0.91344,      0.9135,     0.91356,     0.91361,     0.91367,     0.91372,     0.91377,     0.91383,     0.91388,     0.91393,     0.91399,     0.91425,     0.91451,     0.91474,      0.9149,     0.91498,     0.91507,     0.91515,     0.91523,     0.91536,     0.91623,     0.91659,     0.91709,\n",
              "             0.9174,     0.91798,     0.91809,     0.91819,     0.91829,     0.91839,     0.91858,     0.91878,     0.91883,     0.91882,     0.91881,      0.9188,     0.91885,     0.91891,     0.91897,     0.91904,      0.9191,     0.91916,     0.91922,     0.91932,     0.91945,     0.91959,     0.91967,\n",
              "            0.92028,      0.9206,     0.92099,     0.92098,     0.92097,     0.92097,     0.92096,     0.92095,     0.92139,     0.92158,     0.92176,     0.92221,      0.9228,     0.92289,     0.92297,     0.92306,     0.92314,     0.92346,     0.92409,     0.92405,     0.92404,     0.92403,     0.92402,\n",
              "            0.92408,     0.92417,     0.92425,     0.92434,     0.92443,     0.92522,      0.9254,     0.92544,     0.92547,     0.92551,     0.92555,     0.92559,     0.92563,     0.92567,     0.92571,     0.92575,     0.92579,     0.92581,     0.92621,     0.92623,     0.92622,     0.92621,     0.92621,\n",
              "             0.9262,     0.92669,     0.92679,      0.9269,       0.927,      0.9271,     0.92743,     0.92796,     0.92794,     0.92793,     0.92792,     0.92792,     0.92791,     0.92836,     0.92835,     0.92834,     0.92833,     0.92922,     0.92922,     0.93019,      0.9307,     0.93098,     0.93132,\n",
              "            0.93154,     0.93163,     0.93172,     0.93181,     0.93191,     0.93218,     0.93251,     0.93271,     0.93333,     0.93331,     0.93329,     0.93328,     0.93324,     0.93321,      0.9332,     0.93319,     0.93319,     0.93318,     0.93318,     0.93317,     0.93316,     0.93315,     0.93314,\n",
              "            0.93313,     0.93312,     0.93311,     0.93356,      0.9337,     0.93383,     0.93396,     0.93442,     0.93471,     0.93494,     0.93544,     0.93567,      0.9359,     0.93621,      0.9365,     0.93676,     0.93732,     0.93738,     0.93744,      0.9375,     0.93757,     0.93763,     0.93769,\n",
              "            0.93775,     0.93773,     0.93778,      0.9379,     0.93803,     0.93816,     0.93865,     0.93864,     0.93863,     0.93863,     0.93861,      0.9386,     0.93859,     0.93858,     0.93857,     0.93864,     0.93871,     0.93879,     0.93886,     0.93894,     0.93901,     0.93901,     0.93921,\n",
              "            0.93947,     0.93946,     0.93945,     0.93947,     0.93956,     0.93965,     0.93974,     0.93984,     0.93991,      0.9399,     0.93989,     0.93988,     0.93987,     0.93987,     0.93986,     0.93986,     0.93985,     0.93985,     0.93985,     0.93984,     0.93984,     0.93984,     0.93984,\n",
              "            0.93983,     0.93983,     0.93983,     0.93983,     0.93982,     0.93982,     0.93979,     0.93977,     0.93976,     0.93975,     0.93975,     0.93974,     0.93973,     0.93971,     0.93977,     0.93989,        0.94,     0.94012,     0.94039,     0.94064,     0.94062,     0.94061,     0.94061,\n",
              "             0.9406,      0.9406,     0.94059,     0.94059,     0.94056,     0.94055,     0.94053,     0.94052,     0.94049,     0.94049,     0.94049,     0.94049,     0.94049,     0.94048,     0.94048,     0.94048,     0.94048,     0.94047,     0.94047,     0.94047,     0.94047,     0.94047,      0.9406,\n",
              "            0.94087,     0.94128,     0.94141,      0.9414,      0.9414,     0.94139,     0.94139,     0.94138,     0.94137,     0.94136,     0.94134,     0.94139,     0.94151,     0.94163,     0.94175,      0.9418,     0.94179,     0.94179,     0.94178,     0.94178,     0.94177,     0.94178,     0.94184,\n",
              "            0.94189,     0.94195,       0.942,     0.94206,     0.94211,     0.94217,     0.94223,     0.94242,     0.94262,     0.94269,     0.94267,     0.94267,     0.94273,     0.94279,     0.94285,     0.94291,     0.94297,     0.94303,     0.94309,     0.94312,     0.94311,     0.94311,      0.9431,\n",
              "             0.9431,     0.94309,     0.94313,     0.94318,     0.94322,     0.94327,     0.94332,     0.94337,     0.94341,     0.94346,     0.94351,     0.94356,     0.94355,     0.94353,     0.94349,     0.94359,     0.94383,     0.94399,     0.94405,     0.94412,     0.94418,     0.94424,      0.9443,\n",
              "            0.94437,     0.94443,     0.94443,     0.94441,     0.94439,     0.94442,     0.94446,      0.9445,     0.94454,     0.94458,     0.94462,     0.94466,      0.9447,     0.94474,     0.94478,     0.94482,     0.94486,     0.94502,     0.94522,     0.94539,      0.9455,      0.9456,     0.94571,\n",
              "            0.94581,      0.9458,     0.94578,     0.94577,     0.94576,     0.94585,     0.94613,     0.94623,     0.94623,     0.94637,     0.94651,     0.94665,     0.94668,     0.94667,     0.94674,     0.94684,     0.94694,     0.94704,     0.94714,     0.94735,     0.94756,     0.94793,     0.94814,\n",
              "            0.94858,     0.94857,     0.94856,     0.94855,     0.94854,     0.94853,     0.94853,     0.94852,     0.94851,     0.94867,     0.94899,     0.94899,     0.94899,     0.94898,     0.94898,     0.94897,     0.94902,     0.94915,     0.94928,     0.94942,     0.94944,      0.9494,      0.9494,\n",
              "            0.94939,     0.94938,     0.94954,     0.94987,     0.94986,     0.94985,     0.95029,     0.95026,     0.95024,     0.95025,     0.95033,     0.95041,     0.95048,     0.95056,     0.95064,     0.95071,      0.9513,     0.95152,     0.95171,     0.95173,     0.95218,     0.95216,     0.95215,\n",
              "            0.95214,     0.95212,     0.95231,     0.95252,     0.95259,     0.95258,     0.95257,     0.95256,     0.95305,     0.95304,     0.95304,     0.95303,     0.95301,     0.95299,     0.95323,     0.95347,     0.95345,     0.95353,     0.95375,     0.95392,     0.95392,     0.95391,     0.95437,\n",
              "            0.95454,     0.95504,     0.95535,     0.95534,     0.95591,     0.95605,     0.95618,     0.95632,     0.95632,     0.95643,     0.95664,     0.95692,     0.95737,     0.95754,     0.95771,     0.95781,      0.9578,     0.95779,     0.95778,     0.95783,     0.95843,     0.95876,     0.95875,\n",
              "            0.95874,     0.95871,     0.95867,     0.95865,     0.95862,      0.9586,     0.95883,      0.9591,     0.95908,     0.95906,     0.95905,     0.95926,      0.9595,     0.95949,     0.95999,      0.9602,      0.9604,     0.96062,     0.96088,       0.961,     0.96099,     0.96098,     0.96099,\n",
              "            0.96137,     0.96146,     0.96197,     0.96212,     0.96257,     0.96277,     0.96298,     0.96295,     0.96293,     0.96291,     0.96328,     0.96339,     0.96368,     0.96452,     0.96477,     0.96492,     0.96489,     0.96501,     0.96516,      0.9653,      0.9654,     0.96538,     0.96537,\n",
              "            0.96535,     0.96534,     0.96533,     0.96576,     0.96656,     0.96704,     0.96739,     0.96738,     0.96788,     0.96786,     0.96782,     0.96778,     0.96829,     0.96839,      0.9686,     0.96881,     0.96897,     0.96913,      0.9693,     0.96951,     0.96973,     0.96984,     0.96984,\n",
              "            0.96983,     0.96982,     0.96982,     0.97007,     0.97032,     0.97057,     0.97082,     0.97101,     0.97123,     0.97134,     0.97132,     0.97128,     0.97125,     0.97157,     0.97177,     0.97173,     0.97226,     0.97281,     0.97314,     0.97384,      0.9738,     0.97433,     0.97484,\n",
              "            0.97535,      0.9759,     0.97586,     0.97584,     0.97634,     0.97687,      0.9774,     0.97735,     0.97749,     0.97783,      0.9778,     0.97776,     0.97798,     0.97824,     0.97819,     0.97814,     0.97809,     0.97806,     0.97799,     0.97789,     0.97788,     0.97782,     0.97832,\n",
              "            0.97826,     0.97905,     0.97987,     0.97979,     0.98083,     0.98134,     0.98132,     0.98122,     0.98116,     0.98106,     0.98095,     0.98089,      0.9808,     0.98067,     0.98055,      0.9805,     0.98041,     0.98151,     0.98156,     0.98143,     0.98198,     0.98191,     0.98176,\n",
              "            0.98159,     0.98142,     0.98126,     0.98112,     0.98165,     0.98149,      0.9813,     0.98111,     0.98086,     0.98069,     0.98118,     0.98154,     0.98132,     0.98105,     0.98086,     0.98066,     0.98042,      0.9801,      0.9799,     0.97964,     0.97933,     0.97904,     0.97875,\n",
              "            0.97909,     0.97853,     0.97821,     0.97788,     0.97737,     0.97696,     0.97757,     0.97717,     0.97665,     0.97609,      0.9767,      0.9762,     0.97542,      0.9745,      0.9736,     0.97428,     0.97368,     0.97313,     0.97306,     0.97202,     0.97086,     0.96985,     0.96878,\n",
              "            0.96898,     0.97099,     0.96972,     0.97001,     0.96838,     0.96734,     0.96609,     0.96737,     0.97362,      0.9725,     0.97119,     0.96873,     0.96561,     0.96658,      0.9651,     0.96303,     0.96551,     0.96319,     0.96059,     0.96203,     0.95915,      0.9563,     0.95558,\n",
              "            0.95978,     0.96195,     0.96134,     0.95937,     0.95609,     0.95446,     0.95178,     0.94893,     0.95638,     0.97175,     0.97048,     0.96864,     0.96627,     0.96383,     0.96181,     0.95958,     0.97089,     0.96892,     0.96688,     0.96453,     0.95911,     0.95819,      0.9554,\n",
              "            0.95456,     0.94891,     0.97139,     0.96921,     0.96478,     0.96095,     0.95774,     0.98529,           1,           1,           1,           1,           1,           1,           1,           1,           1,           1,           1,           1,           1,           1,           1,\n",
              "                  1,           1,           1,           1,           1,           1,           1,           1,           1,           1,           1,           1,           1,           1,           1,           1,           1,           1,           1,           1,           1,           1,           1,\n",
              "                  1,           1,           1,           1,           1,           1,           1,           1,           1,           1,           1,           1,           1,           1,           1,           1,           1,           1,           1,           1,           1,           1,           1,\n",
              "                  1,           1,           1,           1,           1,           1,           1,           1,           1,           1,           1]]), 'Confidence', 'Precision'], [array([          0,    0.001001,    0.002002,    0.003003,    0.004004,    0.005005,    0.006006,    0.007007,    0.008008,    0.009009,     0.01001,    0.011011,    0.012012,    0.013013,    0.014014,    0.015015,    0.016016,    0.017017,    0.018018,    0.019019,     0.02002,    0.021021,    0.022022,    0.023023,\n",
              "          0.024024,    0.025025,    0.026026,    0.027027,    0.028028,    0.029029,     0.03003,    0.031031,    0.032032,    0.033033,    0.034034,    0.035035,    0.036036,    0.037037,    0.038038,    0.039039,     0.04004,    0.041041,    0.042042,    0.043043,    0.044044,    0.045045,    0.046046,    0.047047,\n",
              "          0.048048,    0.049049,     0.05005,    0.051051,    0.052052,    0.053053,    0.054054,    0.055055,    0.056056,    0.057057,    0.058058,    0.059059,     0.06006,    0.061061,    0.062062,    0.063063,    0.064064,    0.065065,    0.066066,    0.067067,    0.068068,    0.069069,     0.07007,    0.071071,\n",
              "          0.072072,    0.073073,    0.074074,    0.075075,    0.076076,    0.077077,    0.078078,    0.079079,     0.08008,    0.081081,    0.082082,    0.083083,    0.084084,    0.085085,    0.086086,    0.087087,    0.088088,    0.089089,     0.09009,    0.091091,    0.092092,    0.093093,    0.094094,    0.095095,\n",
              "          0.096096,    0.097097,    0.098098,    0.099099,      0.1001,      0.1011,      0.1021,      0.1031,      0.1041,     0.10511,     0.10611,     0.10711,     0.10811,     0.10911,     0.11011,     0.11111,     0.11211,     0.11311,     0.11411,     0.11512,     0.11612,     0.11712,     0.11812,     0.11912,\n",
              "           0.12012,     0.12112,     0.12212,     0.12312,     0.12412,     0.12513,     0.12613,     0.12713,     0.12813,     0.12913,     0.13013,     0.13113,     0.13213,     0.13313,     0.13413,     0.13514,     0.13614,     0.13714,     0.13814,     0.13914,     0.14014,     0.14114,     0.14214,     0.14314,\n",
              "           0.14414,     0.14515,     0.14615,     0.14715,     0.14815,     0.14915,     0.15015,     0.15115,     0.15215,     0.15315,     0.15415,     0.15516,     0.15616,     0.15716,     0.15816,     0.15916,     0.16016,     0.16116,     0.16216,     0.16316,     0.16416,     0.16517,     0.16617,     0.16717,\n",
              "           0.16817,     0.16917,     0.17017,     0.17117,     0.17217,     0.17317,     0.17417,     0.17518,     0.17618,     0.17718,     0.17818,     0.17918,     0.18018,     0.18118,     0.18218,     0.18318,     0.18418,     0.18519,     0.18619,     0.18719,     0.18819,     0.18919,     0.19019,     0.19119,\n",
              "           0.19219,     0.19319,     0.19419,      0.1952,      0.1962,      0.1972,      0.1982,      0.1992,      0.2002,      0.2012,      0.2022,      0.2032,      0.2042,     0.20521,     0.20621,     0.20721,     0.20821,     0.20921,     0.21021,     0.21121,     0.21221,     0.21321,     0.21421,     0.21522,\n",
              "           0.21622,     0.21722,     0.21822,     0.21922,     0.22022,     0.22122,     0.22222,     0.22322,     0.22422,     0.22523,     0.22623,     0.22723,     0.22823,     0.22923,     0.23023,     0.23123,     0.23223,     0.23323,     0.23423,     0.23524,     0.23624,     0.23724,     0.23824,     0.23924,\n",
              "           0.24024,     0.24124,     0.24224,     0.24324,     0.24424,     0.24525,     0.24625,     0.24725,     0.24825,     0.24925,     0.25025,     0.25125,     0.25225,     0.25325,     0.25425,     0.25526,     0.25626,     0.25726,     0.25826,     0.25926,     0.26026,     0.26126,     0.26226,     0.26326,\n",
              "           0.26426,     0.26527,     0.26627,     0.26727,     0.26827,     0.26927,     0.27027,     0.27127,     0.27227,     0.27327,     0.27427,     0.27528,     0.27628,     0.27728,     0.27828,     0.27928,     0.28028,     0.28128,     0.28228,     0.28328,     0.28428,     0.28529,     0.28629,     0.28729,\n",
              "           0.28829,     0.28929,     0.29029,     0.29129,     0.29229,     0.29329,     0.29429,      0.2953,      0.2963,      0.2973,      0.2983,      0.2993,      0.3003,      0.3013,      0.3023,      0.3033,      0.3043,     0.30531,     0.30631,     0.30731,     0.30831,     0.30931,     0.31031,     0.31131,\n",
              "           0.31231,     0.31331,     0.31431,     0.31532,     0.31632,     0.31732,     0.31832,     0.31932,     0.32032,     0.32132,     0.32232,     0.32332,     0.32432,     0.32533,     0.32633,     0.32733,     0.32833,     0.32933,     0.33033,     0.33133,     0.33233,     0.33333,     0.33433,     0.33534,\n",
              "           0.33634,     0.33734,     0.33834,     0.33934,     0.34034,     0.34134,     0.34234,     0.34334,     0.34434,     0.34535,     0.34635,     0.34735,     0.34835,     0.34935,     0.35035,     0.35135,     0.35235,     0.35335,     0.35435,     0.35536,     0.35636,     0.35736,     0.35836,     0.35936,\n",
              "           0.36036,     0.36136,     0.36236,     0.36336,     0.36436,     0.36537,     0.36637,     0.36737,     0.36837,     0.36937,     0.37037,     0.37137,     0.37237,     0.37337,     0.37437,     0.37538,     0.37638,     0.37738,     0.37838,     0.37938,     0.38038,     0.38138,     0.38238,     0.38338,\n",
              "           0.38438,     0.38539,     0.38639,     0.38739,     0.38839,     0.38939,     0.39039,     0.39139,     0.39239,     0.39339,     0.39439,      0.3954,      0.3964,      0.3974,      0.3984,      0.3994,      0.4004,      0.4014,      0.4024,      0.4034,      0.4044,     0.40541,     0.40641,     0.40741,\n",
              "           0.40841,     0.40941,     0.41041,     0.41141,     0.41241,     0.41341,     0.41441,     0.41542,     0.41642,     0.41742,     0.41842,     0.41942,     0.42042,     0.42142,     0.42242,     0.42342,     0.42442,     0.42543,     0.42643,     0.42743,     0.42843,     0.42943,     0.43043,     0.43143,\n",
              "           0.43243,     0.43343,     0.43443,     0.43544,     0.43644,     0.43744,     0.43844,     0.43944,     0.44044,     0.44144,     0.44244,     0.44344,     0.44444,     0.44545,     0.44645,     0.44745,     0.44845,     0.44945,     0.45045,     0.45145,     0.45245,     0.45345,     0.45445,     0.45546,\n",
              "           0.45646,     0.45746,     0.45846,     0.45946,     0.46046,     0.46146,     0.46246,     0.46346,     0.46446,     0.46547,     0.46647,     0.46747,     0.46847,     0.46947,     0.47047,     0.47147,     0.47247,     0.47347,     0.47447,     0.47548,     0.47648,     0.47748,     0.47848,     0.47948,\n",
              "           0.48048,     0.48148,     0.48248,     0.48348,     0.48448,     0.48549,     0.48649,     0.48749,     0.48849,     0.48949,     0.49049,     0.49149,     0.49249,     0.49349,     0.49449,      0.4955,      0.4965,      0.4975,      0.4985,      0.4995,      0.5005,      0.5015,      0.5025,      0.5035,\n",
              "            0.5045,     0.50551,     0.50651,     0.50751,     0.50851,     0.50951,     0.51051,     0.51151,     0.51251,     0.51351,     0.51451,     0.51552,     0.51652,     0.51752,     0.51852,     0.51952,     0.52052,     0.52152,     0.52252,     0.52352,     0.52452,     0.52553,     0.52653,     0.52753,\n",
              "           0.52853,     0.52953,     0.53053,     0.53153,     0.53253,     0.53353,     0.53453,     0.53554,     0.53654,     0.53754,     0.53854,     0.53954,     0.54054,     0.54154,     0.54254,     0.54354,     0.54454,     0.54555,     0.54655,     0.54755,     0.54855,     0.54955,     0.55055,     0.55155,\n",
              "           0.55255,     0.55355,     0.55455,     0.55556,     0.55656,     0.55756,     0.55856,     0.55956,     0.56056,     0.56156,     0.56256,     0.56356,     0.56456,     0.56557,     0.56657,     0.56757,     0.56857,     0.56957,     0.57057,     0.57157,     0.57257,     0.57357,     0.57457,     0.57558,\n",
              "           0.57658,     0.57758,     0.57858,     0.57958,     0.58058,     0.58158,     0.58258,     0.58358,     0.58458,     0.58559,     0.58659,     0.58759,     0.58859,     0.58959,     0.59059,     0.59159,     0.59259,     0.59359,     0.59459,      0.5956,      0.5966,      0.5976,      0.5986,      0.5996,\n",
              "            0.6006,      0.6016,      0.6026,      0.6036,      0.6046,     0.60561,     0.60661,     0.60761,     0.60861,     0.60961,     0.61061,     0.61161,     0.61261,     0.61361,     0.61461,     0.61562,     0.61662,     0.61762,     0.61862,     0.61962,     0.62062,     0.62162,     0.62262,     0.62362,\n",
              "           0.62462,     0.62563,     0.62663,     0.62763,     0.62863,     0.62963,     0.63063,     0.63163,     0.63263,     0.63363,     0.63463,     0.63564,     0.63664,     0.63764,     0.63864,     0.63964,     0.64064,     0.64164,     0.64264,     0.64364,     0.64464,     0.64565,     0.64665,     0.64765,\n",
              "           0.64865,     0.64965,     0.65065,     0.65165,     0.65265,     0.65365,     0.65465,     0.65566,     0.65666,     0.65766,     0.65866,     0.65966,     0.66066,     0.66166,     0.66266,     0.66366,     0.66466,     0.66567,     0.66667,     0.66767,     0.66867,     0.66967,     0.67067,     0.67167,\n",
              "           0.67267,     0.67367,     0.67467,     0.67568,     0.67668,     0.67768,     0.67868,     0.67968,     0.68068,     0.68168,     0.68268,     0.68368,     0.68468,     0.68569,     0.68669,     0.68769,     0.68869,     0.68969,     0.69069,     0.69169,     0.69269,     0.69369,     0.69469,      0.6957,\n",
              "            0.6967,      0.6977,      0.6987,      0.6997,      0.7007,      0.7017,      0.7027,      0.7037,      0.7047,     0.70571,     0.70671,     0.70771,     0.70871,     0.70971,     0.71071,     0.71171,     0.71271,     0.71371,     0.71471,     0.71572,     0.71672,     0.71772,     0.71872,     0.71972,\n",
              "           0.72072,     0.72172,     0.72272,     0.72372,     0.72472,     0.72573,     0.72673,     0.72773,     0.72873,     0.72973,     0.73073,     0.73173,     0.73273,     0.73373,     0.73473,     0.73574,     0.73674,     0.73774,     0.73874,     0.73974,     0.74074,     0.74174,     0.74274,     0.74374,\n",
              "           0.74474,     0.74575,     0.74675,     0.74775,     0.74875,     0.74975,     0.75075,     0.75175,     0.75275,     0.75375,     0.75475,     0.75576,     0.75676,     0.75776,     0.75876,     0.75976,     0.76076,     0.76176,     0.76276,     0.76376,     0.76476,     0.76577,     0.76677,     0.76777,\n",
              "           0.76877,     0.76977,     0.77077,     0.77177,     0.77277,     0.77377,     0.77477,     0.77578,     0.77678,     0.77778,     0.77878,     0.77978,     0.78078,     0.78178,     0.78278,     0.78378,     0.78478,     0.78579,     0.78679,     0.78779,     0.78879,     0.78979,     0.79079,     0.79179,\n",
              "           0.79279,     0.79379,     0.79479,      0.7958,      0.7968,      0.7978,      0.7988,      0.7998,      0.8008,      0.8018,      0.8028,      0.8038,      0.8048,     0.80581,     0.80681,     0.80781,     0.80881,     0.80981,     0.81081,     0.81181,     0.81281,     0.81381,     0.81481,     0.81582,\n",
              "           0.81682,     0.81782,     0.81882,     0.81982,     0.82082,     0.82182,     0.82282,     0.82382,     0.82482,     0.82583,     0.82683,     0.82783,     0.82883,     0.82983,     0.83083,     0.83183,     0.83283,     0.83383,     0.83483,     0.83584,     0.83684,     0.83784,     0.83884,     0.83984,\n",
              "           0.84084,     0.84184,     0.84284,     0.84384,     0.84484,     0.84585,     0.84685,     0.84785,     0.84885,     0.84985,     0.85085,     0.85185,     0.85285,     0.85385,     0.85485,     0.85586,     0.85686,     0.85786,     0.85886,     0.85986,     0.86086,     0.86186,     0.86286,     0.86386,\n",
              "           0.86486,     0.86587,     0.86687,     0.86787,     0.86887,     0.86987,     0.87087,     0.87187,     0.87287,     0.87387,     0.87487,     0.87588,     0.87688,     0.87788,     0.87888,     0.87988,     0.88088,     0.88188,     0.88288,     0.88388,     0.88488,     0.88589,     0.88689,     0.88789,\n",
              "           0.88889,     0.88989,     0.89089,     0.89189,     0.89289,     0.89389,     0.89489,      0.8959,      0.8969,      0.8979,      0.8989,      0.8999,      0.9009,      0.9019,      0.9029,      0.9039,      0.9049,     0.90591,     0.90691,     0.90791,     0.90891,     0.90991,     0.91091,     0.91191,\n",
              "           0.91291,     0.91391,     0.91491,     0.91592,     0.91692,     0.91792,     0.91892,     0.91992,     0.92092,     0.92192,     0.92292,     0.92392,     0.92492,     0.92593,     0.92693,     0.92793,     0.92893,     0.92993,     0.93093,     0.93193,     0.93293,     0.93393,     0.93493,     0.93594,\n",
              "           0.93694,     0.93794,     0.93894,     0.93994,     0.94094,     0.94194,     0.94294,     0.94394,     0.94494,     0.94595,     0.94695,     0.94795,     0.94895,     0.94995,     0.95095,     0.95195,     0.95295,     0.95395,     0.95495,     0.95596,     0.95696,     0.95796,     0.95896,     0.95996,\n",
              "           0.96096,     0.96196,     0.96296,     0.96396,     0.96496,     0.96597,     0.96697,     0.96797,     0.96897,     0.96997,     0.97097,     0.97197,     0.97297,     0.97397,     0.97497,     0.97598,     0.97698,     0.97798,     0.97898,     0.97998,     0.98098,     0.98198,     0.98298,     0.98398,\n",
              "           0.98498,     0.98599,     0.98699,     0.98799,     0.98899,     0.98999,     0.99099,     0.99199,     0.99299,     0.99399,     0.99499,       0.996,       0.997,       0.998,       0.999,           1]), array([[    0.98116,     0.98116,     0.97819,     0.97521,     0.97439,     0.97422,     0.97288,     0.97273,     0.97273,     0.97075,     0.96877,     0.96877,     0.96827,     0.96777,     0.96728,     0.96728,     0.96728,     0.96678,     0.96678,     0.96678,     0.96678,     0.96629,     0.96629,\n",
              "            0.96629,     0.96629,     0.96629,     0.96629,     0.96629,     0.96579,     0.96559,     0.96529,     0.96529,      0.9643,      0.9643,      0.9643,     0.96381,     0.96381,     0.96303,     0.96282,     0.96282,     0.96282,     0.96282,     0.96232,     0.96182,     0.96182,     0.96133,\n",
              "            0.96083,     0.96083,     0.96083,     0.96083,     0.96083,     0.96083,     0.96083,     0.96083,     0.96066,     0.96034,     0.96034,     0.96034,     0.96034,     0.96034,     0.96034,     0.96034,     0.95984,     0.95973,     0.95935,     0.95935,     0.95935,     0.95885,     0.95835,\n",
              "            0.95835,     0.95835,     0.95835,     0.95835,     0.95835,     0.95835,     0.95835,     0.95835,     0.95835,     0.95786,     0.95786,     0.95786,     0.95786,     0.95786,     0.95736,     0.95687,     0.95687,     0.95687,     0.95687,     0.95648,     0.95637,     0.95637,     0.95637,\n",
              "            0.95636,     0.95538,     0.95488,     0.95488,     0.95488,     0.95488,     0.95488,     0.95488,     0.95488,     0.95488,     0.95488,     0.95488,      0.9548,     0.95439,     0.95439,     0.95439,     0.95439,     0.95439,     0.95439,     0.95439,     0.95439,     0.95439,     0.95396,\n",
              "            0.95389,     0.95389,     0.95389,     0.95389,      0.9529,      0.9529,      0.9529,      0.9529,     0.95287,      0.9524,      0.9524,      0.9524,     0.95191,     0.95191,     0.95191,     0.95191,     0.95191,     0.95191,     0.95191,     0.95141,     0.95135,     0.95119,     0.95103,\n",
              "            0.95042,     0.95042,     0.94993,     0.94993,     0.94993,     0.94993,     0.94993,     0.94993,     0.94993,     0.94993,     0.94993,     0.94993,     0.94993,      0.9492,     0.94844,     0.94844,     0.94844,     0.94844,     0.94844,     0.94844,     0.94844,     0.94844,     0.94844,\n",
              "            0.94844,     0.94844,     0.94844,     0.94844,     0.94844,     0.94844,     0.94844,     0.94844,     0.94844,     0.94844,     0.94844,     0.94844,     0.94844,     0.94844,     0.94844,     0.94822,     0.94745,     0.94745,     0.94745,     0.94745,     0.94745,     0.94745,     0.94745,\n",
              "            0.94745,     0.94721,     0.94646,     0.94646,     0.94646,     0.94646,     0.94646,     0.94646,     0.94596,     0.94596,     0.94596,     0.94547,     0.94546,     0.94546,     0.94543,     0.94514,     0.94447,     0.94447,     0.94418,     0.94398,     0.94398,     0.94398,     0.94398,\n",
              "            0.94398,     0.94398,     0.94398,     0.94398,     0.94366,     0.94348,     0.94333,       0.943,     0.94298,     0.94298,     0.94298,     0.94298,     0.94298,     0.94298,     0.94298,     0.94298,     0.94298,     0.94298,     0.94298,     0.94298,     0.94298,     0.94298,     0.94298,\n",
              "            0.94298,     0.94298,     0.94298,     0.94298,     0.94298,     0.94298,     0.94298,     0.94298,     0.94298,     0.94298,     0.94298,     0.94298,     0.94298,     0.94298,     0.94298,     0.94298,     0.94298,     0.94298,     0.94298,     0.94298,     0.94298,     0.94298,     0.94298,\n",
              "            0.94298,     0.94298,     0.94298,     0.94298,     0.94298,     0.94298,     0.94298,     0.94298,      0.9429,     0.94277,     0.94264,     0.94251,     0.94249,     0.94249,     0.94249,     0.94249,     0.94249,     0.94249,     0.94249,     0.94249,     0.94249,     0.94249,     0.94221,\n",
              "            0.94199,     0.94199,     0.94198,     0.94189,      0.9418,     0.94171,     0.94162,     0.94153,      0.9415,      0.9415,      0.9415,      0.9415,      0.9415,      0.9415,      0.9415,      0.9415,      0.9415,      0.9415,     0.94147,     0.94095,     0.94081,     0.94067,     0.94053,\n",
              "            0.94051,     0.94051,     0.94051,     0.94051,     0.94051,     0.94051,     0.94051,     0.94051,     0.94051,     0.94051,     0.94051,     0.94051,     0.94051,     0.94051,     0.94051,     0.94051,     0.94051,     0.94001,     0.94001,     0.93992,     0.93983,     0.93973,     0.93964,\n",
              "            0.93955,     0.93951,     0.93951,     0.93951,     0.93951,     0.93951,     0.93951,     0.93902,     0.93845,     0.93836,     0.93827,     0.93818,     0.93809,     0.93802,     0.93786,     0.93771,     0.93755,     0.93753,     0.93724,     0.93704,     0.93704,     0.93704,     0.93704,\n",
              "            0.93704,     0.93704,     0.93704,     0.93704,     0.93704,     0.93704,     0.93704,     0.93704,       0.937,     0.93662,     0.93638,     0.93618,     0.93559,     0.93518,       0.935,     0.93491,     0.93483,     0.93475,     0.93466,     0.93458,     0.93444,     0.93427,     0.93411,\n",
              "            0.93396,      0.9338,     0.93365,     0.93356,     0.93356,     0.93356,     0.93356,     0.93356,     0.93356,     0.93356,     0.93356,     0.93356,     0.93356,     0.93356,     0.93356,     0.93356,     0.93356,     0.93356,     0.93356,     0.93356,     0.93356,     0.93356,     0.93356,\n",
              "            0.93356,     0.93324,     0.93307,     0.93307,     0.93307,     0.93307,     0.93301,     0.93288,     0.93274,     0.93261,     0.93244,     0.93224,     0.93204,      0.9318,     0.93158,     0.93158,     0.93158,     0.93158,     0.93158,     0.93158,     0.93158,     0.93125,     0.93109,\n",
              "            0.93106,     0.93089,     0.93071,     0.93059,     0.93059,     0.93059,     0.93059,     0.93059,     0.93055,     0.93037,     0.93019,     0.93006,     0.92998,      0.9299,     0.92982,     0.92975,     0.92967,     0.92959,     0.92955,     0.92951,     0.92947,     0.92942,     0.92938,\n",
              "            0.92934,      0.9293,     0.92925,     0.92921,     0.92917,     0.92913,     0.92855,     0.92835,     0.92816,     0.92802,     0.92789,     0.92777,     0.92764,     0.92727,     0.92712,     0.92712,     0.92712,     0.92712,     0.92712,     0.92701,     0.92674,     0.92657,     0.92649,\n",
              "             0.9264,     0.92632,     0.92623,     0.92614,     0.92575,     0.92549,      0.9253,     0.92506,     0.92463,      0.9246,     0.92456,     0.92453,     0.92449,     0.92445,     0.92442,     0.92438,     0.92434,     0.92431,     0.92427,     0.92424,      0.9242,     0.92416,     0.92414,\n",
              "            0.92414,     0.92414,     0.92407,     0.92397,     0.92387,     0.92377,     0.92367,     0.92354,      0.9234,     0.92326,     0.92298,     0.92266,     0.92266,     0.92266,     0.92266,      0.9226,     0.92252,     0.92243,     0.92234,     0.92226,     0.92217,     0.92167,     0.92167,\n",
              "            0.92167,     0.92167,     0.92167,     0.92167,     0.92167,     0.92167,     0.92167,     0.92167,     0.92167,     0.92148,     0.92118,     0.92067,     0.92067,     0.92067,     0.92067,     0.92067,     0.92067,     0.92067,     0.92067,     0.92063,     0.92055,     0.92046,     0.92037,\n",
              "            0.92028,     0.92019,     0.92018,     0.92018,     0.92018,     0.92018,     0.92018,     0.92018,     0.92018,     0.92018,     0.92018,     0.92018,     0.91993,     0.91943,      0.9189,     0.91869,     0.91869,     0.91869,     0.91869,     0.91869,     0.91869,     0.91869,     0.91869,\n",
              "            0.91869,     0.91869,     0.91841,     0.91805,     0.91772,      0.9177,      0.9177,      0.9177,      0.9177,      0.9177,      0.9177,      0.9177,      0.9177,      0.9177,      0.9177,      0.9177,      0.9177,      0.9177,      0.9177,      0.9177,      0.9177,      0.9177,      0.9177,\n",
              "             0.9177,     0.91699,     0.91665,     0.91649,     0.91632,     0.91621,     0.91621,     0.91601,     0.91572,     0.91572,     0.91572,     0.91572,     0.91554,     0.91529,     0.91522,     0.91522,     0.91522,     0.91522,     0.91522,     0.91522,     0.91522,     0.91522,     0.91472,\n",
              "            0.91472,     0.91451,      0.9143,     0.91411,     0.91393,     0.91376,     0.91361,     0.91347,     0.91333,     0.91324,     0.91321,     0.91313,     0.91304,     0.91296,     0.91288,     0.91279,     0.91274,     0.91274,     0.91274,     0.91274,     0.91246,     0.91172,     0.91159,\n",
              "            0.91147,     0.91134,     0.91125,      0.9112,     0.91099,     0.91078,     0.90996,     0.90926,     0.90898,     0.90878,     0.90878,     0.90878,     0.90878,     0.90878,     0.90878,     0.90878,     0.90878,     0.90878,     0.90873,     0.90828,     0.90818,     0.90773,     0.90758,\n",
              "            0.90742,     0.90693,     0.90679,     0.90679,     0.90653,     0.90622,     0.90607,     0.90591,     0.90577,     0.90564,     0.90551,     0.90538,     0.90504,     0.90431,     0.90431,     0.90431,     0.90372,     0.90332,     0.90332,     0.90328,     0.90308,     0.90289,      0.9022,\n",
              "            0.90183,     0.90183,     0.90176,     0.90143,     0.90134,     0.90134,     0.90134,     0.90134,     0.90101,     0.90084,     0.90084,     0.90084,     0.90084,     0.90084,     0.90084,     0.90054,     0.90019,         0.9,     0.89976,     0.89936,     0.89936,     0.89912,     0.89873,\n",
              "             0.8985,     0.89785,     0.89705,     0.89653,     0.89587,     0.89553,     0.89539,     0.89524,     0.89467,     0.89422,     0.89397,     0.89291,     0.89268,     0.89242,     0.89241,     0.89241,     0.89241,     0.89241,     0.89241,     0.89186,     0.89161,     0.89132,     0.89093,\n",
              "            0.89093,     0.89063,     0.89031,     0.88994,     0.88994,     0.88994,     0.88994,     0.88914,     0.88866,     0.88801,     0.88795,     0.88719,     0.88647,     0.88647,     0.88647,     0.88631,      0.8857,     0.88547,     0.88547,     0.88547,     0.88525,     0.88479,      0.8845,\n",
              "            0.88407,     0.88378,     0.88352,     0.88299,     0.88299,      0.8825,     0.88237,     0.88207,     0.88132,     0.88089,     0.87976,     0.87868,     0.87794,     0.87754,     0.87754,     0.87754,     0.87754,     0.87754,     0.87754,     0.87754,     0.87754,     0.87699,     0.87674,\n",
              "             0.8765,     0.87624,     0.87556,     0.87556,     0.87556,     0.87457,      0.8742,     0.87407,     0.87407,      0.8737,     0.87327,     0.87176,      0.8706,      0.8706,     0.87043,     0.86913,     0.86898,     0.86812,     0.86812,     0.86812,     0.86619,     0.86465,      0.8644,\n",
              "            0.86415,     0.86313,     0.86196,     0.86123,      0.8587,     0.85844,     0.85768,     0.85575,     0.85424,     0.85288,     0.85175,     0.85003,     0.84829,     0.84677,     0.84508,       0.843,     0.84106,     0.83991,     0.83724,     0.83337,     0.83303,     0.83046,     0.82774,\n",
              "            0.82549,       0.823,     0.82045,     0.81705,      0.8116,     0.80811,      0.8072,     0.80316,     0.80031,       0.796,     0.79126,     0.78901,     0.78516,     0.77989,     0.77463,     0.77276,     0.76899,     0.76698,     0.76536,     0.75998,     0.75636,     0.75343,     0.74731,\n",
              "            0.74012,     0.73327,     0.72702,     0.72143,     0.71629,     0.70995,     0.70235,     0.69507,     0.68608,     0.67985,     0.67206,     0.65892,     0.65098,     0.64165,     0.63503,     0.62845,     0.62071,     0.61047,     0.60415,     0.59649,     0.58735,     0.57903,     0.57081,\n",
              "            0.55702,     0.54225,     0.53425,     0.52611,     0.51395,     0.50457,     0.49689,      0.4881,     0.47695,     0.46542,     0.45719,     0.44745,     0.43283,     0.41675,     0.40218,     0.39432,     0.38514,     0.37712,     0.35812,     0.34445,     0.33038,     0.31895,     0.30772,\n",
              "            0.29423,     0.28206,     0.26993,     0.25661,     0.24297,     0.23498,     0.22599,     0.21567,     0.20131,     0.19285,     0.18382,     0.16897,     0.15313,      0.1434,     0.13711,     0.12915,     0.12491,     0.11677,     0.10876,     0.10048,    0.093129,    0.086797,    0.085315,\n",
              "           0.082828,    0.079326,    0.073963,    0.070243,    0.064779,    0.062342,    0.058713,    0.055278,    0.054351,     0.05117,    0.048901,    0.045936,    0.042611,    0.039634,     0.03746,    0.035307,    0.033076,    0.030916,     0.02895,    0.026968,     0.02326,    0.022723,    0.021243,\n",
              "           0.020831,    0.018419,    0.016832,    0.015611,    0.013583,    0.012204,    0.011241,   0.0094199,   0.0082771,   0.0080167,   0.0070226,   0.0064807,   0.0053809,   0.0051391,   0.0045974,   0.0039502,   0.0037691,   0.0035881,   0.0029543,   0.0027573,   0.0025604,   0.0018857,   0.0015914,\n",
              "          0.0012735,  0.00097037,  0.00082709,  0.00068382,  0.00054055,           0,           0,           0,           0,           0,           0,           0,           0,           0,           0,           0,           0,           0,           0,           0,           0,           0,           0,\n",
              "                  0,           0,           0,           0,           0,           0,           0,           0,           0,           0,           0,           0,           0,           0,           0,           0,           0,           0,           0,           0,           0,           0,           0,\n",
              "                  0,           0,           0,           0,           0,           0,           0,           0,           0,           0,           0]]), 'Confidence', 'Recall']]\n",
              "fitness: np.float64(0.7793593510670418)\n",
              "keys: ['metrics/precision(B)', 'metrics/recall(B)', 'metrics/mAP50(B)', 'metrics/mAP50-95(B)']\n",
              "maps: array([    0.75971,     0.75971])\n",
              "names: {0: 'Pallet', 1: 'pallet'}\n",
              "plot: True\n",
              "results_dict: {'metrics/precision(B)': np.float64(0.9379035541161236), 'metrics/recall(B)': np.float64(0.933068914229053), 'metrics/mAP50(B)': np.float64(0.9561993770119861), 'metrics/mAP50-95(B)': np.float64(0.7597104592953813), 'fitness': np.float64(0.7793593510670418)}\n",
              "save_dir: PosixPath('runs/detect/train42')\n",
              "speed: {'preprocess': 8.163297829258493, 'inference': 12.112585829283223, 'loss': 0.0008071951148250685, 'postprocess': 4.588466317084278}\n",
              "task: 'detect'"
            ]
          },
          "metadata": {},
          "execution_count": 10
        }
      ]
    },
    {
      "cell_type": "code",
      "source": [],
      "metadata": {
        "id": "qtYddnAT7rnX"
      },
      "execution_count": null,
      "outputs": []
    }
  ]
}